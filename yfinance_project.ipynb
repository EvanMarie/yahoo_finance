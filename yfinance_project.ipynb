{
 "cells": [
  {
   "cell_type": "markdown",
   "id": "57bdb6aa-8471-4217-8055-e98b468ca5ca",
   "metadata": {
    "jp-MarkdownHeadingCollapsed": true,
    "tags": []
   },
   "source": [
    "<a name=\"top\"></a>\n",
    "\n",
    "---\n",
    "\n",
    "**Sections:**  ●  [Top](#top)  ●  [Download & Import](#downloading_importing)  ●  [Historical Data](#historical_data)  ●  [Setting Date Range](#date_range)  ●  [High Frenquency](#high_frequency)   ●  [Splits & Dividends](#splits_dividends)   ●  [Exporting](#exporting)   ●  [Multiple Stocks](#multiple_stocks)   ●  [Importing Indexes](#importing_indexes)   ●  [Currency Exchange](#currency_exchange)   ●  [Cryptocurrencies](#cryptocurrencies)   ●  [Mutual & Exchange Traded Funds](#mututal_funds)   ●  [Treasury Yields](#treasury_yields)   ●  [Ticker Object & Docs](#ticker_object)   ●  [Stock Fundamentals](#stock_fundamentals)   ●  [Importing Financials](#importing_financials)   ●  [Importing Put & Call](#put_call)   ●  [Streaming Real-Time](#streaming_real_time)   ●\n",
    "\n",
    "---\n",
    "<img src = \"http://www.evanmarie.com/content/files/notebook_images/yahoo_finance_banner_notebook.png\" width=900>\n",
    "\n",
    "<center><font size=4>⚬ Evan Marie Carr - <a href=\"https://www.evanmarie.com\">www.EvanMarie.com</a> ⚬</font></center>\n",
    "\n",
    "<br>\n",
    "\n",
    "\n",
    "|<font size = 6>Contents:</font>|   |   |   |   |   |\n",
    "|---|---|---|---| --- | --- |\n",
    "|<font size = 4>\n",
    "|[Downloading & Importing](#downloading_importing) |  |  [Multiple Stocks](#multiple_stocks)   |   |  [Ticker Object & Docs](#ticker_object) |   |\n",
    "|[Historical Data](#historical_data)  |  |  [Importing Indexes](#importing_indexes)  |   | [Stock Fundamentals](#stock_fundamentals)  |   |\n",
    "|[Date Range](#date_range) |  |  [Currency Exchange](#currency_exchange)  |   |  [Importing Financials](#importing_financials) |   |\n",
    "|[High Frenquency](#high_frequency) |  |  [Cryptocurrencies](#cryptocurrencies)  |   |  [Importing Put & Call](#put_call) |   |\n",
    "|[Splits & Dividends](#splits_dividends)  |  |  [Mutual & Exchange Traded Funds](#mututal_funds)  |   | [Streaming Real-Time](#streaming_real_time)  |   |\n",
    "|[Exporting](#exporting)  |  |  [Treasury Yields](#treasury_yields)  |   |   |   |\n",
    "\t\n",
    "<br>\n",
    "\n",
    "<center>Special thanks to Alexander Hagmann for his thorough instruction.</center>\n",
    "\t\n",
    "<br>\n",
    "\t\n",
    "<font size=4>To view the [helpers.py](https://github.com/EvanMarie/helpers/blob/main/helpers.py) file that I use in this project, [please click here for GitHub](https://github.com/EvanMarie/helpers/blob/main/helpers.py)."
   ]
  },
  {
   "cell_type": "code",
   "execution_count": 1,
   "id": "81b6255e-5c37-4bf9-8f9f-bba387bd5596",
   "metadata": {},
   "outputs": [],
   "source": [
    "from urllib.request import urlretrieve\n",
    "helpers=\"https://raw.githubusercontent.com/EvanMarie/helpers/main/helpers.py\"\n",
    "urlretrieve(helpers, \"helpers.py\")\n",
    "from helpers import *\n",
    "# imports pandas, numpy, matplotlib, yfinance, et al.\n",
    "import_all(); import ipywidgets as widgets "
   ]
  },
  {
   "cell_type": "markdown",
   "id": "46885025-4e04-4828-b030-092d385e0f49",
   "metadata": {},
   "source": [
    "<a name = \"downloading_importing\"></a>\n",
    "\n",
    "---\n",
    "\n",
    "**Sections:**  ●  [Top](#top)  ●  [Download & Import](#downloading_importing)  ●  [Historical Data](#historical_data)  ●  [Setting Date Range](#date_range)  ●  [High Frenquency](#high_frequency)   ●  [Splits & Dividends](#splits_dividends)   ●  [Exporting](#exporting)   ●  [Multiple Stocks](#multiple_stocks)   ●  [Importing Indexes](#importing_indexes)   ●  [Currency Exchange](#currency_exchange)   ●  [Cryptocurrencies](#cryptocurrencies)   ●  [Mutual & Exchange Traded Funds](#mututal_funds)   ●  [Treasury Yields](#treasury_yields)   ●  [Ticker Object & Docs](#ticker_object)   ●  [Stock Fundamentals](#stock_fundamentals)   ●  [Importing Financials](#importing_financials)   ●  [Importing Put & Call](#put_call)   ●  [Streaming Real-Time](#streaming_real_time)   ●\n",
    "\n",
    "---\n",
    "<span style = 'background-color: purple; font-weight: bold; padding: 5px 5px 3px 5px; line-height: 1.5; color:white;border-radius: 3px;'><font size = 4>▻ Downloading and Importing Data from Yahoo Finance </font></span><br><font size = 4> <[Yahoo Finance Site](https://finance.yahoo.com/)>"
   ]
  },
  {
   "cell_type": "code",
   "execution_count": 2,
   "id": "dc53971f-222a-4b16-87ff-325ce219b2d7",
   "metadata": {},
   "outputs": [],
   "source": [
    "import_all()"
   ]
  },
  {
   "cell_type": "code",
   "execution_count": 3,
   "id": "627c8607-f944-4bdc-97a7-a1f824edf12f",
   "metadata": {},
   "outputs": [],
   "source": [
    "microsoft = pd.read_csv('./data/MSFT.csv', \n",
    "\t\t\t\t\t\tindex_col = \"Date\", \n",
    "\t\t\t\t\t\tparse_dates=['Date'], \n",
    "\t\t\t\t\t\tusecols = [\"Date\", \"Close\"] )"
   ]
  },
  {
   "cell_type": "code",
   "execution_count": 4,
   "id": "b389545b-3f41-491b-9d9e-dfafd376508a",
   "metadata": {},
   "outputs": [
    {
     "data": {
      "text/html": [
       "<span style = 'display: block; width: 230.0px; \t\t\t\t\t\tline-height: 2; background: #333333;\t\t\t\t\t\tmargin-left: auto; margin-right: auto;\t\t\t\t\t\tborder: 1px solid text_color;\t\t\t\t\t\tborder-radius: 3px; text-align: center;\t\t\t\t\t\tpadding: 3px 8px 3px 8px;'>\t\t\t\t\t\t<b><font size=4><text style=color:white>Microsoft: Last 5 Years\t\t\t\t\t\t</text></font></b></style>"
      ],
      "text/plain": [
       "<IPython.core.display.HTML object>"
      ]
     },
     "metadata": {},
     "output_type": "display_data"
    },
    {
     "data": {
      "text/html": [
       "<center><style type=\"text/css\">\n",
       "#T_e9113 caption {\n",
       "  background: #333333;\n",
       "  border-radius: 3px;\n",
       "  padding: 5px;\n",
       "  color: white;\n",
       "  font-size: 12px;\n",
       "  font-weight: bold;\n",
       "}\n",
       "</style>\n",
       "<table id=\"T_e9113\" style='display:inline-block'>\n",
       "  <caption>head(5)</caption>\n",
       "  <thead>\n",
       "    <tr>\n",
       "      <th class=\"blank level0\" >&nbsp;</th>\n",
       "      <th id=\"T_e9113_level0_col0\" class=\"col_heading level0 col0\" >Close</th>\n",
       "    </tr>\n",
       "    <tr>\n",
       "      <th class=\"index_name level0\" >Date</th>\n",
       "      <th class=\"blank col0\" >&nbsp;</th>\n",
       "    </tr>\n",
       "  </thead>\n",
       "  <tbody>\n",
       "    <tr>\n",
       "      <th id=\"T_e9113_level0_row0\" class=\"row_heading level0 row0\" >2022-01-13</th>\n",
       "      <td id=\"T_e9113_row0_col0\" class=\"data row0 col0\" >304.80</td>\n",
       "    </tr>\n",
       "    <tr>\n",
       "      <th id=\"T_e9113_level0_row1\" class=\"row_heading level0 row1\" >2022-01-14</th>\n",
       "      <td id=\"T_e9113_row1_col0\" class=\"data row1 col0\" >310.20</td>\n",
       "    </tr>\n",
       "    <tr>\n",
       "      <th id=\"T_e9113_level0_row2\" class=\"row_heading level0 row2\" >2022-01-18</th>\n",
       "      <td id=\"T_e9113_row2_col0\" class=\"data row2 col0\" >302.65</td>\n",
       "    </tr>\n",
       "    <tr>\n",
       "      <th id=\"T_e9113_level0_row3\" class=\"row_heading level0 row3\" >2022-01-19</th>\n",
       "      <td id=\"T_e9113_row3_col0\" class=\"data row3 col0\" >303.33</td>\n",
       "    </tr>\n",
       "    <tr>\n",
       "      <th id=\"T_e9113_level0_row4\" class=\"row_heading level0 row4\" >2022-01-20</th>\n",
       "      <td id=\"T_e9113_row4_col0\" class=\"data row4 col0\" >301.60</td>\n",
       "    </tr>\n",
       "  </tbody>\n",
       "</table>\n",
       "&nbsp;&nbsp;&nbsp;<style type=\"text/css\">\n",
       "#T_75be3 caption {\n",
       "  background: #333333;\n",
       "  border-radius: 3px;\n",
       "  padding: 5px;\n",
       "  color: white;\n",
       "  font-size: 12px;\n",
       "  font-weight: bold;\n",
       "}\n",
       "</style>\n",
       "<table id=\"T_75be3\" style='display:inline-block'>\n",
       "  <caption>tail(5)</caption>\n",
       "  <thead>\n",
       "    <tr>\n",
       "      <th class=\"blank level0\" >&nbsp;</th>\n",
       "      <th id=\"T_75be3_level0_col0\" class=\"col_heading level0 col0\" >Close</th>\n",
       "    </tr>\n",
       "    <tr>\n",
       "      <th class=\"index_name level0\" >Date</th>\n",
       "      <th class=\"blank col0\" >&nbsp;</th>\n",
       "    </tr>\n",
       "  </thead>\n",
       "  <tbody>\n",
       "    <tr>\n",
       "      <th id=\"T_75be3_level0_row0\" class=\"row_heading level0 row0\" >2023-01-06</th>\n",
       "      <td id=\"T_75be3_row0_col0\" class=\"data row0 col0\" >224.93</td>\n",
       "    </tr>\n",
       "    <tr>\n",
       "      <th id=\"T_75be3_level0_row1\" class=\"row_heading level0 row1\" >2023-01-09</th>\n",
       "      <td id=\"T_75be3_row1_col0\" class=\"data row1 col0\" >227.12</td>\n",
       "    </tr>\n",
       "    <tr>\n",
       "      <th id=\"T_75be3_level0_row2\" class=\"row_heading level0 row2\" >2023-01-10</th>\n",
       "      <td id=\"T_75be3_row2_col0\" class=\"data row2 col0\" >228.85</td>\n",
       "    </tr>\n",
       "    <tr>\n",
       "      <th id=\"T_75be3_level0_row3\" class=\"row_heading level0 row3\" >2023-01-11</th>\n",
       "      <td id=\"T_75be3_row3_col0\" class=\"data row3 col0\" >235.77</td>\n",
       "    </tr>\n",
       "    <tr>\n",
       "      <th id=\"T_75be3_level0_row4\" class=\"row_heading level0 row4\" >2023-01-12</th>\n",
       "      <td id=\"T_75be3_row4_col0\" class=\"data row4 col0\" >238.51</td>\n",
       "    </tr>\n",
       "  </tbody>\n",
       "</table>\n",
       "&nbsp;&nbsp;&nbsp;"
      ]
     },
     "metadata": {},
     "output_type": "display_data"
    },
    {
     "name": "stdout",
     "output_type": "stream",
     "text": [
      "\n"
     ]
    }
   ],
   "source": [
    "head_tail_horz(microsoft, 5, \"Microsoft: Last 5 Years\")"
   ]
  },
  {
   "cell_type": "code",
   "execution_count": 5,
   "id": "d665bb3f-df53-40f2-8ce6-f27092363264",
   "metadata": {},
   "outputs": [
    {
     "name": "stdout",
     "output_type": "stream",
     "text": [
      "<class 'pandas.core.frame.DataFrame'>\n",
      "DatetimeIndex: 251 entries, 2022-01-13 to 2023-01-12\n",
      "Data columns (total 1 columns):\n",
      " #   Column  Non-Null Count  Dtype  \n",
      "---  ------  --------------  -----  \n",
      " 0   Close   251 non-null    float64\n",
      "dtypes: float64(1)\n",
      "memory usage: 3.9 KB\n"
     ]
    }
   ],
   "source": [
    "microsoft.info()"
   ]
  },
  {
   "cell_type": "code",
   "execution_count": 6,
   "id": "cdcaa923-c365-4b5c-86ec-8f48ec2014c1",
   "metadata": {},
   "outputs": [
    {
     "data": {
      "text/html": [
       "<span style = 'display: block; width: 200.0px; \t\t\t\t\t\tline-height: 2; background: #333333;\t\t\t\t\t\tmargin-left: auto; margin-right: auto;\t\t\t\t\t\tborder: 1px solid text_color;\t\t\t\t\t\tborder-radius: 3px; text-align: center;\t\t\t\t\t\tpadding: 3px 8px 3px 8px;'>\t\t\t\t\t\t<b><font size=4><text style=color:white>microsoft.describe()\t\t\t\t\t\t</text></font></b></style>"
      ],
      "text/plain": [
       "<IPython.core.display.HTML object>"
      ]
     },
     "metadata": {},
     "output_type": "display_data"
    },
    {
     "data": {
      "text/html": [
       "<center><table border=\"1\" class=\"dataframe\">\n",
       "  <thead>\n",
       "    <tr style=\"text-align: right;\">\n",
       "      <th></th>\n",
       "      <th>Close</th>\n",
       "    </tr>\n",
       "  </thead>\n",
       "  <tbody>\n",
       "    <tr>\n",
       "      <th>count</th>\n",
       "      <td>251.00</td>\n",
       "    </tr>\n",
       "    <tr>\n",
       "      <th>mean</th>\n",
       "      <td>266.09</td>\n",
       "    </tr>\n",
       "    <tr>\n",
       "      <th>std</th>\n",
       "      <td>24.90</td>\n",
       "    </tr>\n",
       "    <tr>\n",
       "      <th>min</th>\n",
       "      <td>214.25</td>\n",
       "    </tr>\n",
       "    <tr>\n",
       "      <th>25%</th>\n",
       "      <td>244.72</td>\n",
       "    </tr>\n",
       "    <tr>\n",
       "      <th>50%</th>\n",
       "      <td>262.97</td>\n",
       "    </tr>\n",
       "    <tr>\n",
       "      <th>75%</th>\n",
       "      <td>287.08</td>\n",
       "    </tr>\n",
       "    <tr>\n",
       "      <th>max</th>\n",
       "      <td>315.41</td>\n",
       "    </tr>\n",
       "  </tbody>\n",
       "</table>"
      ],
      "text/plain": [
       "<IPython.core.display.HTML object>"
      ]
     },
     "metadata": {},
     "output_type": "display_data"
    },
    {
     "name": "stdout",
     "output_type": "stream",
     "text": [
      "\n"
     ]
    }
   ],
   "source": [
    "see(microsoft.describe(), 'microsoft.describe()')"
   ]
  },
  {
   "cell_type": "markdown",
   "id": "ea04cdb1-9043-4f33-b339-dc3ec810858e",
   "metadata": {},
   "source": [
    "<a name = 'historical_data'></a>\n",
    "\n",
    "---\n",
    "\n",
    "**Sections:**  ●  [Top](#top)  ●  [Download & Import](#downloading_importing)  ●  [Historical Data](#historical_data)  ●  [Setting Date Range](#date_range)  ●  [High Frenquency](#high_frequency)   ●  [Splits & Dividends](#splits_dividends)   ●  [Exporting](#exporting)   ●  [Multiple Stocks](#multiple_stocks)   ●  [Importing Indexes](#importing_indexes)   ●  [Currency Exchange](#currency_exchange)   ●  [Cryptocurrencies](#cryptocurrencies)   ●  [Mutual & Exchange Traded Funds](#mututal_funds)   ●  [Treasury Yields](#treasury_yields)   ●  [Ticker Object & Docs](#ticker_object)   ●  [Stock Fundamentals](#stock_fundamentals)   ●  [Importing Financials](#importing_financials)   ●  [Importing Put & Call](#put_call)   ●  [Streaming Real-Time](#streaming_real_time)   ●\n",
    "\n",
    "---\n",
    "\n",
    "<span style = 'background-color: purple; font-weight: bold; padding: 5px 5px 3px 5px; line-height: 1.5; color:white;border-radius: 3px;'><font size = 4>▻ Historical Price and Volume Data from One Stock</font></span>\n"
   ]
  },
  {
   "cell_type": "markdown",
   "id": "519bd7ba-f239-43c7-a696-9e2c714365d4",
   "metadata": {},
   "source": [
    "<font size = 4><span style = 'background-color: #ddddff; padding: 5px 5px 3px 5px; line-height: 1.5; color:black;border-radius: 3px;'>⊛ Importing the data for General Electric:\n",
    "* `yf.download` takes either a string for a ticker or a list of tickers"
   ]
  },
  {
   "cell_type": "code",
   "execution_count": 7,
   "id": "acba78d9-8eaa-4bb5-84e9-5e1ecfa59550",
   "metadata": {},
   "outputs": [],
   "source": [
    "import_all(); import yfinance as yf"
   ]
  },
  {
   "cell_type": "markdown",
   "id": "916bc026-33ce-43c5-a077-4194d498b7ed",
   "metadata": {},
   "source": [
    "<font size = 4><span style = 'background-color: #ddddff; padding: 5px 5px 3px 5px; line-height: 1.5; color:black;border-radius: 3px;'>⊛ GE Head and Tail"
   ]
  },
  {
   "cell_type": "code",
   "execution_count": 8,
   "id": "49884894-059c-423f-961a-06623d97fbcb",
   "metadata": {},
   "outputs": [
    {
     "name": "stdout",
     "output_type": "stream",
     "text": [
      "[*********************100%***********************]  1 of 1 completed\n"
     ]
    },
    {
     "data": {
      "text/html": [
       "<span style = 'display: block; width: 160.0px; \t\t\t\t\t\tline-height: 2; background: #333333;\t\t\t\t\t\tmargin-left: auto; margin-right: auto;\t\t\t\t\t\tborder: 1px solid text_color;\t\t\t\t\t\tborder-radius: 3px; text-align: center;\t\t\t\t\t\tpadding: 3px 8px 3px 8px;'>\t\t\t\t\t\t<b><font size=4><text style=color:white>General Electric\t\t\t\t\t\t</text></font></b></style>"
      ],
      "text/plain": [
       "<IPython.core.display.HTML object>"
      ]
     },
     "metadata": {},
     "output_type": "display_data"
    },
    {
     "data": {
      "text/html": [
       "<center><style type=\"text/css\">\n",
       "#T_ca82e caption {\n",
       "  background: #333333;\n",
       "  border-radius: 3px;\n",
       "  padding: 5px;\n",
       "  color: white;\n",
       "  font-size: 12px;\n",
       "  font-weight: bold;\n",
       "}\n",
       "</style>\n",
       "<table id=\"T_ca82e\" style='display:inline-block'>\n",
       "  <caption>head(5)</caption>\n",
       "  <thead>\n",
       "    <tr>\n",
       "      <th class=\"blank level0\" >&nbsp;</th>\n",
       "      <th id=\"T_ca82e_level0_col0\" class=\"col_heading level0 col0\" >Open</th>\n",
       "      <th id=\"T_ca82e_level0_col1\" class=\"col_heading level0 col1\" >High</th>\n",
       "      <th id=\"T_ca82e_level0_col2\" class=\"col_heading level0 col2\" >Low</th>\n",
       "      <th id=\"T_ca82e_level0_col3\" class=\"col_heading level0 col3\" >Close</th>\n",
       "      <th id=\"T_ca82e_level0_col4\" class=\"col_heading level0 col4\" >Adj Close</th>\n",
       "      <th id=\"T_ca82e_level0_col5\" class=\"col_heading level0 col5\" >Volume</th>\n",
       "    </tr>\n",
       "    <tr>\n",
       "      <th class=\"index_name level0\" >Date</th>\n",
       "      <th class=\"blank col0\" >&nbsp;</th>\n",
       "      <th class=\"blank col1\" >&nbsp;</th>\n",
       "      <th class=\"blank col2\" >&nbsp;</th>\n",
       "      <th class=\"blank col3\" >&nbsp;</th>\n",
       "      <th class=\"blank col4\" >&nbsp;</th>\n",
       "      <th class=\"blank col5\" >&nbsp;</th>\n",
       "    </tr>\n",
       "  </thead>\n",
       "  <tbody>\n",
       "    <tr>\n",
       "      <th id=\"T_ca82e_level0_row0\" class=\"row_heading level0 row0\" >1962-01-02</th>\n",
       "      <td id=\"T_ca82e_row0_col0\" class=\"data row0 col0\" >4.69</td>\n",
       "      <td id=\"T_ca82e_row0_col1\" class=\"data row0 col1\" >4.77</td>\n",
       "      <td id=\"T_ca82e_row0_col2\" class=\"data row0 col2\" >4.64</td>\n",
       "      <td id=\"T_ca82e_row0_col3\" class=\"data row0 col3\" >4.68</td>\n",
       "      <td id=\"T_ca82e_row0_col4\" class=\"data row0 col4\" >0.79</td>\n",
       "      <td id=\"T_ca82e_row0_col5\" class=\"data row0 col5\" >345,317</td>\n",
       "    </tr>\n",
       "    <tr>\n",
       "      <th id=\"T_ca82e_level0_row1\" class=\"row_heading level0 row1\" >1962-01-03</th>\n",
       "      <td id=\"T_ca82e_row1_col0\" class=\"data row1 col0\" >4.65</td>\n",
       "      <td id=\"T_ca82e_row1_col1\" class=\"data row1 col1\" >4.65</td>\n",
       "      <td id=\"T_ca82e_row1_col2\" class=\"data row1 col2\" >4.61</td>\n",
       "      <td id=\"T_ca82e_row1_col3\" class=\"data row1 col3\" >4.63</td>\n",
       "      <td id=\"T_ca82e_row1_col4\" class=\"data row1 col4\" >0.78</td>\n",
       "      <td id=\"T_ca82e_row1_col5\" class=\"data row1 col5\" >236,606</td>\n",
       "    </tr>\n",
       "    <tr>\n",
       "      <th id=\"T_ca82e_level0_row2\" class=\"row_heading level0 row2\" >1962-01-04</th>\n",
       "      <td id=\"T_ca82e_row2_col0\" class=\"data row2 col0\" >4.63</td>\n",
       "      <td id=\"T_ca82e_row2_col1\" class=\"data row2 col1\" >4.67</td>\n",
       "      <td id=\"T_ca82e_row2_col2\" class=\"data row2 col2\" >4.53</td>\n",
       "      <td id=\"T_ca82e_row2_col3\" class=\"data row2 col3\" >4.57</td>\n",
       "      <td id=\"T_ca82e_row2_col4\" class=\"data row2 col4\" >0.77</td>\n",
       "      <td id=\"T_ca82e_row2_col5\" class=\"data row2 col5\" >294,159</td>\n",
       "    </tr>\n",
       "    <tr>\n",
       "      <th id=\"T_ca82e_level0_row3\" class=\"row_heading level0 row3\" >1962-01-05</th>\n",
       "      <td id=\"T_ca82e_row3_col0\" class=\"data row3 col0\" >4.57</td>\n",
       "      <td id=\"T_ca82e_row3_col1\" class=\"data row3 col1\" >4.58</td>\n",
       "      <td id=\"T_ca82e_row3_col2\" class=\"data row3 col2\" >4.38</td>\n",
       "      <td id=\"T_ca82e_row3_col3\" class=\"data row3 col3\" >4.46</td>\n",
       "      <td id=\"T_ca82e_row3_col4\" class=\"data row3 col4\" >0.75</td>\n",
       "      <td id=\"T_ca82e_row3_col5\" class=\"data row3 col5\" >436,442</td>\n",
       "    </tr>\n",
       "    <tr>\n",
       "      <th id=\"T_ca82e_level0_row4\" class=\"row_heading level0 row4\" >1962-01-08</th>\n",
       "      <td id=\"T_ca82e_row4_col0\" class=\"data row4 col0\" >4.46</td>\n",
       "      <td id=\"T_ca82e_row4_col1\" class=\"data row4 col1\" >4.46</td>\n",
       "      <td id=\"T_ca82e_row4_col2\" class=\"data row4 col2\" >4.32</td>\n",
       "      <td id=\"T_ca82e_row4_col3\" class=\"data row4 col3\" >4.45</td>\n",
       "      <td id=\"T_ca82e_row4_col4\" class=\"data row4 col4\" >0.75</td>\n",
       "      <td id=\"T_ca82e_row4_col5\" class=\"data row4 col5\" >495,593</td>\n",
       "    </tr>\n",
       "  </tbody>\n",
       "</table>\n",
       "&nbsp;&nbsp;&nbsp;<style type=\"text/css\">\n",
       "#T_2b9a0 caption {\n",
       "  background: #333333;\n",
       "  border-radius: 3px;\n",
       "  padding: 5px;\n",
       "  color: white;\n",
       "  font-size: 12px;\n",
       "  font-weight: bold;\n",
       "}\n",
       "</style>\n",
       "<table id=\"T_2b9a0\" style='display:inline-block'>\n",
       "  <caption>tail(5)</caption>\n",
       "  <thead>\n",
       "    <tr>\n",
       "      <th class=\"blank level0\" >&nbsp;</th>\n",
       "      <th id=\"T_2b9a0_level0_col0\" class=\"col_heading level0 col0\" >Open</th>\n",
       "      <th id=\"T_2b9a0_level0_col1\" class=\"col_heading level0 col1\" >High</th>\n",
       "      <th id=\"T_2b9a0_level0_col2\" class=\"col_heading level0 col2\" >Low</th>\n",
       "      <th id=\"T_2b9a0_level0_col3\" class=\"col_heading level0 col3\" >Close</th>\n",
       "      <th id=\"T_2b9a0_level0_col4\" class=\"col_heading level0 col4\" >Adj Close</th>\n",
       "      <th id=\"T_2b9a0_level0_col5\" class=\"col_heading level0 col5\" >Volume</th>\n",
       "    </tr>\n",
       "    <tr>\n",
       "      <th class=\"index_name level0\" >Date</th>\n",
       "      <th class=\"blank col0\" >&nbsp;</th>\n",
       "      <th class=\"blank col1\" >&nbsp;</th>\n",
       "      <th class=\"blank col2\" >&nbsp;</th>\n",
       "      <th class=\"blank col3\" >&nbsp;</th>\n",
       "      <th class=\"blank col4\" >&nbsp;</th>\n",
       "      <th class=\"blank col5\" >&nbsp;</th>\n",
       "    </tr>\n",
       "  </thead>\n",
       "  <tbody>\n",
       "    <tr>\n",
       "      <th id=\"T_2b9a0_level0_row0\" class=\"row_heading level0 row0\" >2023-01-10</th>\n",
       "      <td id=\"T_2b9a0_row0_col0\" class=\"data row0 col0\" >72.20</td>\n",
       "      <td id=\"T_2b9a0_row0_col1\" class=\"data row0 col1\" >75.37</td>\n",
       "      <td id=\"T_2b9a0_row0_col2\" class=\"data row0 col2\" >72.20</td>\n",
       "      <td id=\"T_2b9a0_row0_col3\" class=\"data row0 col3\" >75.27</td>\n",
       "      <td id=\"T_2b9a0_row0_col4\" class=\"data row0 col4\" >75.27</td>\n",
       "      <td id=\"T_2b9a0_row0_col5\" class=\"data row0 col5\" >9,255,500</td>\n",
       "    </tr>\n",
       "    <tr>\n",
       "      <th id=\"T_2b9a0_level0_row1\" class=\"row_heading level0 row1\" >2023-01-11</th>\n",
       "      <td id=\"T_2b9a0_row1_col0\" class=\"data row1 col0\" >75.82</td>\n",
       "      <td id=\"T_2b9a0_row1_col1\" class=\"data row1 col1\" >77.70</td>\n",
       "      <td id=\"T_2b9a0_row1_col2\" class=\"data row1 col2\" >75.51</td>\n",
       "      <td id=\"T_2b9a0_row1_col3\" class=\"data row1 col3\" >77.69</td>\n",
       "      <td id=\"T_2b9a0_row1_col4\" class=\"data row1 col4\" >77.69</td>\n",
       "      <td id=\"T_2b9a0_row1_col5\" class=\"data row1 col5\" >10,159,300</td>\n",
       "    </tr>\n",
       "    <tr>\n",
       "      <th id=\"T_2b9a0_level0_row2\" class=\"row_heading level0 row2\" >2023-01-12</th>\n",
       "      <td id=\"T_2b9a0_row2_col0\" class=\"data row2 col0\" >77.88</td>\n",
       "      <td id=\"T_2b9a0_row2_col1\" class=\"data row2 col1\" >79.21</td>\n",
       "      <td id=\"T_2b9a0_row2_col2\" class=\"data row2 col2\" >77.29</td>\n",
       "      <td id=\"T_2b9a0_row2_col3\" class=\"data row2 col3\" >78.86</td>\n",
       "      <td id=\"T_2b9a0_row2_col4\" class=\"data row2 col4\" >78.86</td>\n",
       "      <td id=\"T_2b9a0_row2_col5\" class=\"data row2 col5\" >11,498,700</td>\n",
       "    </tr>\n",
       "    <tr>\n",
       "      <th id=\"T_2b9a0_level0_row3\" class=\"row_heading level0 row3\" >2023-01-13</th>\n",
       "      <td id=\"T_2b9a0_row3_col0\" class=\"data row3 col0\" >78.78</td>\n",
       "      <td id=\"T_2b9a0_row3_col1\" class=\"data row3 col1\" >80.60</td>\n",
       "      <td id=\"T_2b9a0_row3_col2\" class=\"data row3 col2\" >78.50</td>\n",
       "      <td id=\"T_2b9a0_row3_col3\" class=\"data row3 col3\" >80.20</td>\n",
       "      <td id=\"T_2b9a0_row3_col4\" class=\"data row3 col4\" >80.20</td>\n",
       "      <td id=\"T_2b9a0_row3_col5\" class=\"data row3 col5\" >11,044,800</td>\n",
       "    </tr>\n",
       "    <tr>\n",
       "      <th id=\"T_2b9a0_level0_row4\" class=\"row_heading level0 row4\" >2023-01-17</th>\n",
       "      <td id=\"T_2b9a0_row4_col0\" class=\"data row4 col0\" >79.92</td>\n",
       "      <td id=\"T_2b9a0_row4_col1\" class=\"data row4 col1\" >80.66</td>\n",
       "      <td id=\"T_2b9a0_row4_col2\" class=\"data row4 col2\" >79.76</td>\n",
       "      <td id=\"T_2b9a0_row4_col3\" class=\"data row4 col3\" >80.49</td>\n",
       "      <td id=\"T_2b9a0_row4_col4\" class=\"data row4 col4\" >80.49</td>\n",
       "      <td id=\"T_2b9a0_row4_col5\" class=\"data row4 col5\" >7,000,695</td>\n",
       "    </tr>\n",
       "  </tbody>\n",
       "</table>\n",
       "&nbsp;&nbsp;&nbsp;"
      ]
     },
     "metadata": {},
     "output_type": "display_data"
    },
    {
     "name": "stdout",
     "output_type": "stream",
     "text": [
      "\n"
     ]
    }
   ],
   "source": [
    "ticker = \"GE\"\n",
    "ge = yf.download(ticker)\n",
    "\n",
    "head_tail_horz(ge, 5, title=\"General Electric\")"
   ]
  },
  {
   "cell_type": "markdown",
   "id": "4fb7a70a-1a17-4d25-99e2-7404da98c615",
   "metadata": {},
   "source": [
    "<font size = 4><span style = 'background-color: #ddddff; padding: 5px 5px 3px 5px; line-height: 1.5; color:black;border-radius: 3px;'>⊛ Plot of GE Data"
   ]
  },
  {
   "cell_type": "code",
   "execution_count": 9,
   "id": "2dfd3ebc-d3ae-498c-bb7e-7f61302ec4f4",
   "metadata": {},
   "outputs": [
    {
     "data": {
      "image/png": "[encoded data removed]",
      "text/plain": [
       "<Figure size 936x504 with 2 Axes>"
      ]
     },
     "metadata": {},
     "output_type": "display_data"
    }
   ],
   "source": [
    "fancy_plot(ge.Close.to_frame(), kind = \"line\",\n",
    "\t\t\tcmap='spring', title=\"61 Years of GE Data\",\n",
    "\t\t\tylabel = \"Price\", xlabel = \"Years\")"
   ]
  },
  {
   "cell_type": "markdown",
   "id": "199efc4d-bf77-43ab-80c9-486a80d57dad",
   "metadata": {},
   "source": [
    "<a name = \"date_range\"></a>\n",
    "\n",
    "---\n",
    "\n",
    "**Sections:**  ●  [Top](#top)  ●  [Download & Import](#downloading_importing)  ●  [Historical Data](#historical_data)  ●  [Setting Date Range](#date_range)  ●  [High Frenquency](#high_frequency)   ●  [Splits & Dividends](#splits_dividends)   ●  [Exporting](#exporting)   ●  [Multiple Stocks](#multiple_stocks)   ●  [Importing Indexes](#importing_indexes)   ●  [Currency Exchange](#currency_exchange)   ●  [Cryptocurrencies](#cryptocurrencies)   ●  [Mutual & Exchange Traded Funds](#mututal_funds)   ●  [Treasury Yields](#treasury_yields)   ●  [Ticker Object & Docs](#ticker_object)   ●  [Stock Fundamentals](#stock_fundamentals)   ●  [Importing Financials](#importing_financials)   ●  [Importing Put & Call](#put_call)   ●  [Streaming Real-Time](#streaming_real_time)   ●\n",
    "\n",
    "---\n",
    "<span style = 'background-color: purple; font-weight: bold; padding: 5px 5px 3px 5px; line-height: 1.5; color:white;border-radius: 3px;'><font size = 4>▻ Setting Date Range</font></span>\n",
    "\n",
    "<br>\n",
    "\n",
    "<font size = 4><span style = 'background-color: #ddddff; padding: 5px 5px 3px 5px; line-height: 1.5; color:black;border-radius: 3px;'><b>`yf.download()` & Date Range\n",
    "* This can be passed as the `start` and `end`\n",
    "* `yf.download()` - has a `period` parameter for specifying date range\n",
    "* passing `ytd` gets the data for the current year to the current day\n",
    "\n",
    "> - `period : str` <br>\n",
    "> `Valid periods: 1d,5d,1mo,3mo,6mo,1y,2y,5y,10y,ytd,max`<br>\n",
    "> `Either Use period parameter or use start and end`\n",
    "\n",
    "<font size = 4><span style = 'background-color: #ddddff; padding: 5px 5px 3px 5px; line-height: 1.5; color:black;border-radius: 3px;'>For **lower frequency periods**, i.e. longer periods than 1 day, it is best to download the daily data from YFinance and condense the data manually within Pandas."
   ]
  },
  {
   "cell_type": "code",
   "execution_count": 10,
   "id": "02fc200b-4121-4901-8dbe-d5b23eef72fc",
   "metadata": {},
   "outputs": [],
   "source": [
    "import_all()"
   ]
  },
  {
   "cell_type": "code",
   "execution_count": 11,
   "id": "360fad06-2b44-4815-b522-c8b63791cc20",
   "metadata": {},
   "outputs": [
    {
     "name": "stdout",
     "output_type": "stream",
     "text": [
      "[*********************100%***********************]  1 of 1 completed\n"
     ]
    },
    {
     "data": {
      "text/html": [
       "<span style = 'display: block; width: 350.0px; \t\t\t\t\t\tline-height: 2; background: #333333;\t\t\t\t\t\tmargin-left: auto; margin-right: auto;\t\t\t\t\t\tborder: 1px solid text_color;\t\t\t\t\t\tborder-radius: 3px; text-align: center;\t\t\t\t\t\tpadding: 3px 8px 3px 8px;'>\t\t\t\t\t\t<b><font size=4><text style=color:white>yf.download(ticker, period = \"ytd\")\t\t\t\t\t\t</text></font></b></style>"
      ],
      "text/plain": [
       "<IPython.core.display.HTML object>"
      ]
     },
     "metadata": {},
     "output_type": "display_data"
    },
    {
     "data": {
      "text/html": [
       "<center><table border=\"1\" class=\"dataframe\">\n",
       "  <thead>\n",
       "    <tr style=\"text-align: right;\">\n",
       "      <th></th>\n",
       "      <th>Open</th>\n",
       "      <th>High</th>\n",
       "      <th>Low</th>\n",
       "      <th>Close</th>\n",
       "      <th>Adj Close</th>\n",
       "      <th>Volume</th>\n",
       "    </tr>\n",
       "    <tr>\n",
       "      <th>Date</th>\n",
       "      <th></th>\n",
       "      <th></th>\n",
       "      <th></th>\n",
       "      <th></th>\n",
       "      <th></th>\n",
       "      <th></th>\n",
       "    </tr>\n",
       "  </thead>\n",
       "  <tbody>\n",
       "    <tr>\n",
       "      <th>2023-01-03</th>\n",
       "      <td>65.61</td>\n",
       "      <td>66.42</td>\n",
       "      <td>65.21</td>\n",
       "      <td>66.34</td>\n",
       "      <td>66.34</td>\n",
       "      <td>8204933</td>\n",
       "    </tr>\n",
       "    <tr>\n",
       "      <th>2023-01-04</th>\n",
       "      <td>68.41</td>\n",
       "      <td>70.20</td>\n",
       "      <td>66.75</td>\n",
       "      <td>70.20</td>\n",
       "      <td>70.20</td>\n",
       "      <td>16784600</td>\n",
       "    </tr>\n",
       "    <tr>\n",
       "      <th>2023-01-05</th>\n",
       "      <td>69.90</td>\n",
       "      <td>71.55</td>\n",
       "      <td>69.00</td>\n",
       "      <td>71.29</td>\n",
       "      <td>71.29</td>\n",
       "      <td>12770200</td>\n",
       "    </tr>\n",
       "    <tr>\n",
       "      <th>2023-01-06</th>\n",
       "      <td>72.01</td>\n",
       "      <td>72.33</td>\n",
       "      <td>70.75</td>\n",
       "      <td>71.94</td>\n",
       "      <td>71.94</td>\n",
       "      <td>10389000</td>\n",
       "    </tr>\n",
       "    <tr>\n",
       "      <th>2023-01-09</th>\n",
       "      <td>72.00</td>\n",
       "      <td>73.91</td>\n",
       "      <td>71.96</td>\n",
       "      <td>72.67</td>\n",
       "      <td>72.67</td>\n",
       "      <td>7572900</td>\n",
       "    </tr>\n",
       "    <tr>\n",
       "      <th>2023-01-10</th>\n",
       "      <td>72.20</td>\n",
       "      <td>75.37</td>\n",
       "      <td>72.20</td>\n",
       "      <td>75.27</td>\n",
       "      <td>75.27</td>\n",
       "      <td>9255500</td>\n",
       "    </tr>\n",
       "    <tr>\n",
       "      <th>2023-01-11</th>\n",
       "      <td>75.82</td>\n",
       "      <td>77.70</td>\n",
       "      <td>75.51</td>\n",
       "      <td>77.69</td>\n",
       "      <td>77.69</td>\n",
       "      <td>10159300</td>\n",
       "    </tr>\n",
       "    <tr>\n",
       "      <th>2023-01-12</th>\n",
       "      <td>77.88</td>\n",
       "      <td>79.21</td>\n",
       "      <td>77.29</td>\n",
       "      <td>78.86</td>\n",
       "      <td>78.86</td>\n",
       "      <td>11498700</td>\n",
       "    </tr>\n",
       "    <tr>\n",
       "      <th>2023-01-13</th>\n",
       "      <td>78.78</td>\n",
       "      <td>80.60</td>\n",
       "      <td>78.50</td>\n",
       "      <td>80.20</td>\n",
       "      <td>80.20</td>\n",
       "      <td>11044800</td>\n",
       "    </tr>\n",
       "    <tr>\n",
       "      <th>2023-01-17</th>\n",
       "      <td>79.92</td>\n",
       "      <td>80.66</td>\n",
       "      <td>79.76</td>\n",
       "      <td>80.49</td>\n",
       "      <td>80.49</td>\n",
       "      <td>7000695</td>\n",
       "    </tr>\n",
       "  </tbody>\n",
       "</table>"
      ],
      "text/plain": [
       "<IPython.core.display.HTML object>"
      ]
     },
     "metadata": {},
     "output_type": "display_data"
    },
    {
     "name": "stdout",
     "output_type": "stream",
     "text": [
      "\n"
     ]
    }
   ],
   "source": [
    "see(yf.download(ticker, period = 'ytd'), 'yf.download(ticker, period = \"ytd\")')"
   ]
  },
  {
   "cell_type": "code",
   "execution_count": 12,
   "id": "1625ae03-61c8-431f-947e-f7bf709a439c",
   "metadata": {},
   "outputs": [
    {
     "name": "stdout",
     "output_type": "stream",
     "text": [
      "[*********************100%***********************]  1 of 1 completed\n"
     ]
    },
    {
     "data": {
      "text/html": [
       "<span style = 'display: block; width: 350.0px; \t\t\t\t\t\tline-height: 2; background: #333333;\t\t\t\t\t\tmargin-left: auto; margin-right: auto;\t\t\t\t\t\tborder: 1px solid text_color;\t\t\t\t\t\tborder-radius: 3px; text-align: center;\t\t\t\t\t\tpadding: 3px 8px 3px 8px;'>\t\t\t\t\t\t<b><font size=4><text style=color:white>yf.download(ticker, period = \"1mo\")\t\t\t\t\t\t</text></font></b></style>"
      ],
      "text/plain": [
       "<IPython.core.display.HTML object>"
      ]
     },
     "metadata": {},
     "output_type": "display_data"
    },
    {
     "data": {
      "text/html": [
       "<center><table border=\"1\" class=\"dataframe\">\n",
       "  <thead>\n",
       "    <tr style=\"text-align: right;\">\n",
       "      <th></th>\n",
       "      <th>Open</th>\n",
       "      <th>High</th>\n",
       "      <th>Low</th>\n",
       "      <th>Close</th>\n",
       "      <th>Adj Close</th>\n",
       "      <th>Volume</th>\n",
       "    </tr>\n",
       "    <tr>\n",
       "      <th>Date</th>\n",
       "      <th></th>\n",
       "      <th></th>\n",
       "      <th></th>\n",
       "      <th></th>\n",
       "      <th></th>\n",
       "      <th></th>\n",
       "    </tr>\n",
       "  </thead>\n",
       "  <tbody>\n",
       "    <tr>\n",
       "      <th>2023-01-03</th>\n",
       "      <td>65.61</td>\n",
       "      <td>66.42</td>\n",
       "      <td>65.21</td>\n",
       "      <td>66.34</td>\n",
       "      <td>66.34</td>\n",
       "      <td>8204933</td>\n",
       "    </tr>\n",
       "    <tr>\n",
       "      <th>2023-01-04</th>\n",
       "      <td>68.41</td>\n",
       "      <td>70.20</td>\n",
       "      <td>66.75</td>\n",
       "      <td>70.20</td>\n",
       "      <td>70.20</td>\n",
       "      <td>16784600</td>\n",
       "    </tr>\n",
       "    <tr>\n",
       "      <th>2023-01-05</th>\n",
       "      <td>69.90</td>\n",
       "      <td>71.55</td>\n",
       "      <td>69.00</td>\n",
       "      <td>71.29</td>\n",
       "      <td>71.29</td>\n",
       "      <td>12770200</td>\n",
       "    </tr>\n",
       "    <tr>\n",
       "      <th>2023-01-06</th>\n",
       "      <td>72.01</td>\n",
       "      <td>72.33</td>\n",
       "      <td>70.75</td>\n",
       "      <td>71.94</td>\n",
       "      <td>71.94</td>\n",
       "      <td>10389000</td>\n",
       "    </tr>\n",
       "    <tr>\n",
       "      <th>2023-01-09</th>\n",
       "      <td>72.00</td>\n",
       "      <td>73.91</td>\n",
       "      <td>71.96</td>\n",
       "      <td>72.67</td>\n",
       "      <td>72.67</td>\n",
       "      <td>7572900</td>\n",
       "    </tr>\n",
       "    <tr>\n",
       "      <th>2023-01-10</th>\n",
       "      <td>72.20</td>\n",
       "      <td>75.37</td>\n",
       "      <td>72.20</td>\n",
       "      <td>75.27</td>\n",
       "      <td>75.27</td>\n",
       "      <td>9255500</td>\n",
       "    </tr>\n",
       "    <tr>\n",
       "      <th>2023-01-11</th>\n",
       "      <td>75.82</td>\n",
       "      <td>77.70</td>\n",
       "      <td>75.51</td>\n",
       "      <td>77.69</td>\n",
       "      <td>77.69</td>\n",
       "      <td>10159300</td>\n",
       "    </tr>\n",
       "    <tr>\n",
       "      <th>2023-01-12</th>\n",
       "      <td>77.88</td>\n",
       "      <td>79.21</td>\n",
       "      <td>77.29</td>\n",
       "      <td>78.86</td>\n",
       "      <td>78.86</td>\n",
       "      <td>11498700</td>\n",
       "    </tr>\n",
       "    <tr>\n",
       "      <th>2023-01-13</th>\n",
       "      <td>78.78</td>\n",
       "      <td>80.60</td>\n",
       "      <td>78.50</td>\n",
       "      <td>80.20</td>\n",
       "      <td>80.20</td>\n",
       "      <td>11044800</td>\n",
       "    </tr>\n",
       "    <tr>\n",
       "      <th>2023-01-17</th>\n",
       "      <td>79.92</td>\n",
       "      <td>80.66</td>\n",
       "      <td>79.76</td>\n",
       "      <td>80.49</td>\n",
       "      <td>80.49</td>\n",
       "      <td>7000695</td>\n",
       "    </tr>\n",
       "  </tbody>\n",
       "</table>"
      ],
      "text/plain": [
       "<IPython.core.display.HTML object>"
      ]
     },
     "metadata": {},
     "output_type": "display_data"
    },
    {
     "name": "stdout",
     "output_type": "stream",
     "text": [
      "\n"
     ]
    }
   ],
   "source": [
    "see(yf.download(ticker, period = 'ytd'), 'yf.download(ticker, period = \"1mo\")')"
   ]
  },
  {
   "cell_type": "code",
   "execution_count": 13,
   "id": "26b9ecb3-5b19-4665-bd76-49d8df4df39d",
   "metadata": {},
   "outputs": [
    {
     "name": "stdout",
     "output_type": "stream",
     "text": [
      "[*********************100%***********************]  1 of 1 completed\n"
     ]
    },
    {
     "data": {
      "text/html": [
       "<span style = 'display: block; width: 350.0px; \t\t\t\t\t\tline-height: 2; background: #333333;\t\t\t\t\t\tmargin-left: auto; margin-right: auto;\t\t\t\t\t\tborder: 1px solid text_color;\t\t\t\t\t\tborder-radius: 3px; text-align: center;\t\t\t\t\t\tpadding: 3px 8px 3px 8px;'>\t\t\t\t\t\t<b><font size=4><text style=color:white>yf.download(ticker, period = \"1yr\")\t\t\t\t\t\t</text></font></b></style>"
      ],
      "text/plain": [
       "<IPython.core.display.HTML object>"
      ]
     },
     "metadata": {},
     "output_type": "display_data"
    },
    {
     "data": {
      "text/html": [
       "<center><table border=\"1\" class=\"dataframe\">\n",
       "  <thead>\n",
       "    <tr style=\"text-align: right;\">\n",
       "      <th></th>\n",
       "      <th>Open</th>\n",
       "      <th>High</th>\n",
       "      <th>Low</th>\n",
       "      <th>Close</th>\n",
       "      <th>Adj Close</th>\n",
       "      <th>Volume</th>\n",
       "    </tr>\n",
       "    <tr>\n",
       "      <th>Date</th>\n",
       "      <th></th>\n",
       "      <th></th>\n",
       "      <th></th>\n",
       "      <th></th>\n",
       "      <th></th>\n",
       "      <th></th>\n",
       "    </tr>\n",
       "  </thead>\n",
       "  <tbody>\n",
       "    <tr>\n",
       "      <th>2023-01-17</th>\n",
       "      <td>79.92</td>\n",
       "      <td>80.66</td>\n",
       "      <td>79.76</td>\n",
       "      <td>80.49</td>\n",
       "      <td>80.49</td>\n",
       "      <td>7000695</td>\n",
       "    </tr>\n",
       "  </tbody>\n",
       "</table>"
      ],
      "text/plain": [
       "<IPython.core.display.HTML object>"
      ]
     },
     "metadata": {},
     "output_type": "display_data"
    },
    {
     "name": "stdout",
     "output_type": "stream",
     "text": [
      "\n"
     ]
    }
   ],
   "source": [
    "see(yf.download(ticker, period = 'yr'), 'yf.download(ticker, period = \"1yr\")')"
   ]
  },
  {
   "cell_type": "markdown",
   "id": "47906533-21e0-4c51-8b3c-91df468cc1a7",
   "metadata": {},
   "source": [
    "<font size = 4><span style = 'background-color: #ddddff; padding: 5px 5px 3px 5px; line-height: 1.5; color:black;border-radius: 3px;'>\n",
    "The **time range** will be from the beginning of 2014 to the end of 2022.\n",
    "\n",
    "> - `start: str`<br>\n",
    "> `Download start date string (YYYY-MM-DD) or _datetime.`<br>\n",
    "> `Default is 1900-01-01`<br>\n",
    "> - `end: str`<br>\n",
    "> `Download end date string (YYYY-MM-DD) or _datetime.`<br>\n",
    "> `Default is now`<br>"
   ]
  },
  {
   "cell_type": "code",
   "execution_count": 14,
   "id": "f3a192d9-c1b3-4258-a32c-081074a71b5c",
   "metadata": {},
   "outputs": [
    {
     "name": "stdout",
     "output_type": "stream",
     "text": [
      "[*********************100%***********************]  1 of 1 completed\n"
     ]
    }
   ],
   "source": [
    "GE = yf.download(ticker, start = \"2014-01-01\", end = \"2022-12-31\")"
   ]
  },
  {
   "cell_type": "markdown",
   "id": "6789b02d-9d03-4555-8e40-84fa3834d82d",
   "metadata": {},
   "source": [
    "<font size = 4><span style = 'background-color: #ddddff; padding: 5px 5px 3px 5px; line-height: 1.5; color:black;border-radius: 3px;'><b>⊛ GE DataFrame</b>"
   ]
  },
  {
   "cell_type": "code",
   "execution_count": 15,
   "id": "df247bdf-3349-4078-9c27-d2c557d1468f",
   "metadata": {},
   "outputs": [
    {
     "name": "stdout",
     "output_type": "stream",
     "text": [
      "\n"
     ]
    },
    {
     "data": {
      "text/html": [
       "<span style = 'display: block; width: 210.0px; \t\t\t\t\t\tline-height: 2; background: #333333;\t\t\t\t\t\tmargin-left: auto; margin-right: auto;\t\t\t\t\t\tborder: 1px solid text_color;\t\t\t\t\t\tborder-radius: 3px; text-align: center;\t\t\t\t\t\tpadding: 3px 8px 3px 8px;'>\t\t\t\t\t\t<b><font size=4><text style=color:white>GE 2014-2022: head(5)\t\t\t\t\t\t</text></font></b></style>"
      ],
      "text/plain": [
       "<IPython.core.display.HTML object>"
      ]
     },
     "metadata": {},
     "output_type": "display_data"
    },
    {
     "data": {
      "text/html": [
       "<center><table border=\"1\" class=\"dataframe\">\n",
       "  <thead>\n",
       "    <tr style=\"text-align: right;\">\n",
       "      <th></th>\n",
       "      <th>Open</th>\n",
       "      <th>High</th>\n",
       "      <th>Low</th>\n",
       "      <th>Close</th>\n",
       "      <th>Adj Close</th>\n",
       "      <th>Volume</th>\n",
       "    </tr>\n",
       "    <tr>\n",
       "      <th>Date</th>\n",
       "      <th></th>\n",
       "      <th></th>\n",
       "      <th></th>\n",
       "      <th></th>\n",
       "      <th></th>\n",
       "      <th></th>\n",
       "    </tr>\n",
       "  </thead>\n",
       "  <tbody>\n",
       "    <tr>\n",
       "      <th>2014-01-02</th>\n",
       "      <td>167.30</td>\n",
       "      <td>167.78</td>\n",
       "      <td>164.59</td>\n",
       "      <td>165.14</td>\n",
       "      <td>138.33</td>\n",
       "      <td>6903285</td>\n",
       "    </tr>\n",
       "    <tr>\n",
       "      <th>2014-01-03</th>\n",
       "      <td>165.26</td>\n",
       "      <td>165.74</td>\n",
       "      <td>164.59</td>\n",
       "      <td>165.02</td>\n",
       "      <td>138.23</td>\n",
       "      <td>4591365</td>\n",
       "    </tr>\n",
       "    <tr>\n",
       "      <th>2014-01-06</th>\n",
       "      <td>166.10</td>\n",
       "      <td>166.52</td>\n",
       "      <td>163.03</td>\n",
       "      <td>163.69</td>\n",
       "      <td>137.13</td>\n",
       "      <td>4888755</td>\n",
       "    </tr>\n",
       "    <tr>\n",
       "      <th>2014-01-07</th>\n",
       "      <td>165.02</td>\n",
       "      <td>165.08</td>\n",
       "      <td>163.39</td>\n",
       "      <td>163.87</td>\n",
       "      <td>137.28</td>\n",
       "      <td>4117954</td>\n",
       "    </tr>\n",
       "    <tr>\n",
       "      <th>2014-01-08</th>\n",
       "      <td>164.23</td>\n",
       "      <td>164.29</td>\n",
       "      <td>162.85</td>\n",
       "      <td>163.39</td>\n",
       "      <td>136.88</td>\n",
       "      <td>4307948</td>\n",
       "    </tr>\n",
       "  </tbody>\n",
       "</table>"
      ],
      "text/plain": [
       "<IPython.core.display.HTML object>"
      ]
     },
     "metadata": {},
     "output_type": "display_data"
    },
    {
     "name": "stdout",
     "output_type": "stream",
     "text": [
      "\n"
     ]
    },
    {
     "data": {
      "text/html": [
       "<span style = 'display: block; width: 210.0px; \t\t\t\t\t\tline-height: 2; background: #333333;\t\t\t\t\t\tmargin-left: auto; margin-right: auto;\t\t\t\t\t\tborder: 1px solid text_color;\t\t\t\t\t\tborder-radius: 3px; text-align: center;\t\t\t\t\t\tpadding: 3px 8px 3px 8px;'>\t\t\t\t\t\t<b><font size=4><text style=color:white>GE 2014-2022: tail(5)\t\t\t\t\t\t</text></font></b></style>"
      ],
      "text/plain": [
       "<IPython.core.display.HTML object>"
      ]
     },
     "metadata": {},
     "output_type": "display_data"
    },
    {
     "data": {
      "text/html": [
       "<center><table border=\"1\" class=\"dataframe\">\n",
       "  <thead>\n",
       "    <tr style=\"text-align: right;\">\n",
       "      <th></th>\n",
       "      <th>Open</th>\n",
       "      <th>High</th>\n",
       "      <th>Low</th>\n",
       "      <th>Close</th>\n",
       "      <th>Adj Close</th>\n",
       "      <th>Volume</th>\n",
       "    </tr>\n",
       "    <tr>\n",
       "      <th>Date</th>\n",
       "      <th></th>\n",
       "      <th></th>\n",
       "      <th></th>\n",
       "      <th></th>\n",
       "      <th></th>\n",
       "      <th></th>\n",
       "    </tr>\n",
       "  </thead>\n",
       "  <tbody>\n",
       "    <tr>\n",
       "      <th>2022-12-23</th>\n",
       "      <td>63.79</td>\n",
       "      <td>64.32</td>\n",
       "      <td>63.20</td>\n",
       "      <td>63.85</td>\n",
       "      <td>63.85</td>\n",
       "      <td>4218845</td>\n",
       "    </tr>\n",
       "    <tr>\n",
       "      <th>2022-12-27</th>\n",
       "      <td>64.01</td>\n",
       "      <td>64.86</td>\n",
       "      <td>63.93</td>\n",
       "      <td>64.67</td>\n",
       "      <td>64.67</td>\n",
       "      <td>5430800</td>\n",
       "    </tr>\n",
       "    <tr>\n",
       "      <th>2022-12-28</th>\n",
       "      <td>64.79</td>\n",
       "      <td>64.93</td>\n",
       "      <td>63.47</td>\n",
       "      <td>63.99</td>\n",
       "      <td>63.99</td>\n",
       "      <td>4956830</td>\n",
       "    </tr>\n",
       "    <tr>\n",
       "      <th>2022-12-29</th>\n",
       "      <td>64.21</td>\n",
       "      <td>65.50</td>\n",
       "      <td>64.01</td>\n",
       "      <td>65.38</td>\n",
       "      <td>65.38</td>\n",
       "      <td>5657408</td>\n",
       "    </tr>\n",
       "    <tr>\n",
       "      <th>2022-12-30</th>\n",
       "      <td>64.72</td>\n",
       "      <td>65.60</td>\n",
       "      <td>64.62</td>\n",
       "      <td>65.41</td>\n",
       "      <td>65.41</td>\n",
       "      <td>5287584</td>\n",
       "    </tr>\n",
       "  </tbody>\n",
       "</table>"
      ],
      "text/plain": [
       "<IPython.core.display.HTML object>"
      ]
     },
     "metadata": {},
     "output_type": "display_data"
    },
    {
     "name": "stdout",
     "output_type": "stream",
     "text": [
      "\n"
     ]
    }
   ],
   "source": [
    "head_tail_vert(GE, 5, \"GE 2014-2022\")"
   ]
  },
  {
   "cell_type": "markdown",
   "id": "3a030803-3fb5-415b-98fe-9670d5850f1a",
   "metadata": {},
   "source": [
    "<font size = 4><span style = 'background-color: #ddddff; padding: 5px 5px 3px 5px; line-height: 1.5; color:black;border-radius: 3px;'><b>⊛ GE.info()</b>"
   ]
  },
  {
   "cell_type": "code",
   "execution_count": 16,
   "id": "45acb8a1-cbe6-4f31-a3d0-5d2c3b59d17f",
   "metadata": {},
   "outputs": [
    {
     "name": "stdout",
     "output_type": "stream",
     "text": [
      "<class 'pandas.core.frame.DataFrame'>\n",
      "DatetimeIndex: 2266 entries, 2014-01-02 00:00:00-05:00 to 2022-12-30 00:00:00-05:00\n",
      "Data columns (total 6 columns):\n",
      " #   Column     Non-Null Count  Dtype  \n",
      "---  ------     --------------  -----  \n",
      " 0   Open       2266 non-null   float64\n",
      " 1   High       2266 non-null   float64\n",
      " 2   Low        2266 non-null   float64\n",
      " 3   Close      2266 non-null   float64\n",
      " 4   Adj Close  2266 non-null   float64\n",
      " 5   Volume     2266 non-null   int64  \n",
      "dtypes: float64(5), int64(1)\n",
      "memory usage: 123.9 KB\n"
     ]
    }
   ],
   "source": [
    "GE.info()"
   ]
  },
  {
   "cell_type": "markdown",
   "id": "abac7f46-8eb0-41b6-836f-b48c8109d9a7",
   "metadata": {},
   "source": [
    "<a name = 'high_frequency'></a>\n",
    "\n",
    "---\n",
    "\n",
    "**Sections:**  ●  [Top](#top)  ●  [Download & Import](#downloading_importing)  ●  [Historical Data](#historical_data)  ●  [Setting Date Range](#date_range)  ●  [High Frenquency](#high_frequency)   ●  [Splits & Dividends](#splits_dividends)   ●  [Exporting](#exporting)   ●  [Multiple Stocks](#multiple_stocks)   ●  [Importing Indexes](#importing_indexes)   ●  [Currency Exchange](#currency_exchange)   ●  [Cryptocurrencies](#cryptocurrencies)   ●  [Mutual & Exchange Traded Funds](#mututal_funds)   ●  [Treasury Yields](#treasury_yields)   ●  [Ticker Object & Docs](#ticker_object)   ●  [Stock Fundamentals](#stock_fundamentals)   ●  [Importing Financials](#importing_financials)   ●  [Importing Put & Call](#put_call)   ●  [Streaming Real-Time](#streaming_real_time)   ●\n",
    "\n",
    "---\n",
    "\n",
    "<span style = 'background-color: purple; font-weight: bold; padding: 5px 5px 3px 5px; line-height: 1.5; color:white;border-radius: 3px;'><font size = 4>▻ Setting Higher Frequency </font></span>\n",
    "\n",
    "<br>\n",
    "\n",
    "<font size = 4><span style = 'background-color: #ddddff; padding: 5px 5px 3px 5px; line-height: 1.5; color:black;border-radius: 3px;'>\n",
    "To do this, we use the `interval` parameter for `yf.download()`. The default frequency for `interval` is 1 day.\n",
    "\t\n",
    "> - `interval : str`<br>\n",
    "> `Valid intervals: 1m,2m,5m,15m,30m,60m,90m,1h,1d,5d,1wk,1mo,3mo`<br>\n",
    "> `Intraday data cannot extend last 60 days`"
   ]
  },
  {
   "cell_type": "code",
   "execution_count": 17,
   "id": "3b42f0d7-493b-4e04-a554-71d02ae3d569",
   "metadata": {},
   "outputs": [],
   "source": [
    "import_all()"
   ]
  },
  {
   "cell_type": "markdown",
   "id": "53a244a9-3c6d-4748-b7e3-80e1f614f392",
   "metadata": {},
   "source": [
    "<font size = 4><span style = 'background-color: #ddddff; padding: 5px 5px 3px 5px; line-height: 1.5; color:black;border-radius: 3px;'>Increments of 1 hour:"
   ]
  },
  {
   "cell_type": "code",
   "execution_count": 18,
   "id": "5600cda6-12f2-44cf-a1cc-d5a3b7e41b6e",
   "metadata": {},
   "outputs": [
    {
     "name": "stdout",
     "output_type": "stream",
     "text": [
      "[*********************100%***********************]  1 of 1 completed\n"
     ]
    },
    {
     "data": {
      "text/html": [
       "<span style = 'display: block; width: 300.0px; \t\t\t\t\t\tline-height: 2; background: #333333;\t\t\t\t\t\tmargin-left: auto; margin-right: auto;\t\t\t\t\t\tborder: 1px solid text_color;\t\t\t\t\t\tborder-radius: 3px; text-align: center;\t\t\t\t\t\tpadding: 3px 8px 3px 8px;'>\t\t\t\t\t\t<b><font size=4><text style=color:white>(period = 1 mo, interval = 1h)\t\t\t\t\t\t</text></font></b></style>"
      ],
      "text/plain": [
       "<IPython.core.display.HTML object>"
      ]
     },
     "metadata": {},
     "output_type": "display_data"
    },
    {
     "data": {
      "text/html": [
       "<center><style type=\"text/css\">\n",
       "#T_1ab00 caption {\n",
       "  background: #333333;\n",
       "  border-radius: 3px;\n",
       "  padding: 5px;\n",
       "  color: white;\n",
       "  font-size: 12px;\n",
       "  font-weight: bold;\n",
       "}\n",
       "</style>\n",
       "<table id=\"T_1ab00\" style='display:inline-block'>\n",
       "  <caption>head(5)</caption>\n",
       "  <thead>\n",
       "    <tr>\n",
       "      <th class=\"blank level0\" >&nbsp;</th>\n",
       "      <th id=\"T_1ab00_level0_col0\" class=\"col_heading level0 col0\" >Open</th>\n",
       "      <th id=\"T_1ab00_level0_col1\" class=\"col_heading level0 col1\" >High</th>\n",
       "      <th id=\"T_1ab00_level0_col2\" class=\"col_heading level0 col2\" >Low</th>\n",
       "      <th id=\"T_1ab00_level0_col3\" class=\"col_heading level0 col3\" >Close</th>\n",
       "      <th id=\"T_1ab00_level0_col4\" class=\"col_heading level0 col4\" >Adj Close</th>\n",
       "      <th id=\"T_1ab00_level0_col5\" class=\"col_heading level0 col5\" >Volume</th>\n",
       "    </tr>\n",
       "    <tr>\n",
       "      <th class=\"index_name level0\" >Datetime</th>\n",
       "      <th class=\"blank col0\" >&nbsp;</th>\n",
       "      <th class=\"blank col1\" >&nbsp;</th>\n",
       "      <th class=\"blank col2\" >&nbsp;</th>\n",
       "      <th class=\"blank col3\" >&nbsp;</th>\n",
       "      <th class=\"blank col4\" >&nbsp;</th>\n",
       "      <th class=\"blank col5\" >&nbsp;</th>\n",
       "    </tr>\n",
       "  </thead>\n",
       "  <tbody>\n",
       "    <tr>\n",
       "      <th id=\"T_1ab00_level0_row0\" class=\"row_heading level0 row0\" >2022-12-19 09:30:00-05:00</th>\n",
       "      <td id=\"T_1ab00_row0_col0\" class=\"data row0 col0\" >60.30</td>\n",
       "      <td id=\"T_1ab00_row0_col1\" class=\"data row0 col1\" >61.12</td>\n",
       "      <td id=\"T_1ab00_row0_col2\" class=\"data row0 col2\" >60.27</td>\n",
       "      <td id=\"T_1ab00_row0_col3\" class=\"data row0 col3\" >61.11</td>\n",
       "      <td id=\"T_1ab00_row0_col4\" class=\"data row0 col4\" >61.11</td>\n",
       "      <td id=\"T_1ab00_row0_col5\" class=\"data row0 col5\" >769,439</td>\n",
       "    </tr>\n",
       "    <tr>\n",
       "      <th id=\"T_1ab00_level0_row1\" class=\"row_heading level0 row1\" >2022-12-19 10:30:00-05:00</th>\n",
       "      <td id=\"T_1ab00_row1_col0\" class=\"data row1 col0\" >61.10</td>\n",
       "      <td id=\"T_1ab00_row1_col1\" class=\"data row1 col1\" >61.16</td>\n",
       "      <td id=\"T_1ab00_row1_col2\" class=\"data row1 col2\" >60.77</td>\n",
       "      <td id=\"T_1ab00_row1_col3\" class=\"data row1 col3\" >61.05</td>\n",
       "      <td id=\"T_1ab00_row1_col4\" class=\"data row1 col4\" >61.05</td>\n",
       "      <td id=\"T_1ab00_row1_col5\" class=\"data row1 col5\" >494,781</td>\n",
       "    </tr>\n",
       "    <tr>\n",
       "      <th id=\"T_1ab00_level0_row2\" class=\"row_heading level0 row2\" >2022-12-19 11:30:00-05:00</th>\n",
       "      <td id=\"T_1ab00_row2_col0\" class=\"data row2 col0\" >61.05</td>\n",
       "      <td id=\"T_1ab00_row2_col1\" class=\"data row2 col1\" >61.07</td>\n",
       "      <td id=\"T_1ab00_row2_col2\" class=\"data row2 col2\" >60.58</td>\n",
       "      <td id=\"T_1ab00_row2_col3\" class=\"data row2 col3\" >60.84</td>\n",
       "      <td id=\"T_1ab00_row2_col4\" class=\"data row2 col4\" >60.84</td>\n",
       "      <td id=\"T_1ab00_row2_col5\" class=\"data row2 col5\" >390,392</td>\n",
       "    </tr>\n",
       "    <tr>\n",
       "      <th id=\"T_1ab00_level0_row3\" class=\"row_heading level0 row3\" >2022-12-19 12:30:00-05:00</th>\n",
       "      <td id=\"T_1ab00_row3_col0\" class=\"data row3 col0\" >60.83</td>\n",
       "      <td id=\"T_1ab00_row3_col1\" class=\"data row3 col1\" >61.16</td>\n",
       "      <td id=\"T_1ab00_row3_col2\" class=\"data row3 col2\" >60.73</td>\n",
       "      <td id=\"T_1ab00_row3_col3\" class=\"data row3 col3\" >61.11</td>\n",
       "      <td id=\"T_1ab00_row3_col4\" class=\"data row3 col4\" >61.11</td>\n",
       "      <td id=\"T_1ab00_row3_col5\" class=\"data row3 col5\" >393,848</td>\n",
       "    </tr>\n",
       "    <tr>\n",
       "      <th id=\"T_1ab00_level0_row4\" class=\"row_heading level0 row4\" >2022-12-19 13:30:00-05:00</th>\n",
       "      <td id=\"T_1ab00_row4_col0\" class=\"data row4 col0\" >61.11</td>\n",
       "      <td id=\"T_1ab00_row4_col1\" class=\"data row4 col1\" >61.16</td>\n",
       "      <td id=\"T_1ab00_row4_col2\" class=\"data row4 col2\" >60.77</td>\n",
       "      <td id=\"T_1ab00_row4_col3\" class=\"data row4 col3\" >60.77</td>\n",
       "      <td id=\"T_1ab00_row4_col4\" class=\"data row4 col4\" >60.77</td>\n",
       "      <td id=\"T_1ab00_row4_col5\" class=\"data row4 col5\" >535,251</td>\n",
       "    </tr>\n",
       "  </tbody>\n",
       "</table>\n",
       "&nbsp;&nbsp;&nbsp;<style type=\"text/css\">\n",
       "#T_1b614 caption {\n",
       "  background: #333333;\n",
       "  border-radius: 3px;\n",
       "  padding: 5px;\n",
       "  color: white;\n",
       "  font-size: 12px;\n",
       "  font-weight: bold;\n",
       "}\n",
       "</style>\n",
       "<table id=\"T_1b614\" style='display:inline-block'>\n",
       "  <caption>tail(5)</caption>\n",
       "  <thead>\n",
       "    <tr>\n",
       "      <th class=\"blank level0\" >&nbsp;</th>\n",
       "      <th id=\"T_1b614_level0_col0\" class=\"col_heading level0 col0\" >Open</th>\n",
       "      <th id=\"T_1b614_level0_col1\" class=\"col_heading level0 col1\" >High</th>\n",
       "      <th id=\"T_1b614_level0_col2\" class=\"col_heading level0 col2\" >Low</th>\n",
       "      <th id=\"T_1b614_level0_col3\" class=\"col_heading level0 col3\" >Close</th>\n",
       "      <th id=\"T_1b614_level0_col4\" class=\"col_heading level0 col4\" >Adj Close</th>\n",
       "      <th id=\"T_1b614_level0_col5\" class=\"col_heading level0 col5\" >Volume</th>\n",
       "    </tr>\n",
       "    <tr>\n",
       "      <th class=\"index_name level0\" >Datetime</th>\n",
       "      <th class=\"blank col0\" >&nbsp;</th>\n",
       "      <th class=\"blank col1\" >&nbsp;</th>\n",
       "      <th class=\"blank col2\" >&nbsp;</th>\n",
       "      <th class=\"blank col3\" >&nbsp;</th>\n",
       "      <th class=\"blank col4\" >&nbsp;</th>\n",
       "      <th class=\"blank col5\" >&nbsp;</th>\n",
       "    </tr>\n",
       "  </thead>\n",
       "  <tbody>\n",
       "    <tr>\n",
       "      <th id=\"T_1b614_level0_row0\" class=\"row_heading level0 row0\" >2023-01-17 11:30:00-05:00</th>\n",
       "      <td id=\"T_1b614_row0_col0\" class=\"data row0 col0\" >80.11</td>\n",
       "      <td id=\"T_1b614_row0_col1\" class=\"data row0 col1\" >80.59</td>\n",
       "      <td id=\"T_1b614_row0_col2\" class=\"data row0 col2\" >80.09</td>\n",
       "      <td id=\"T_1b614_row0_col3\" class=\"data row0 col3\" >80.25</td>\n",
       "      <td id=\"T_1b614_row0_col4\" class=\"data row0 col4\" >80.25</td>\n",
       "      <td id=\"T_1b614_row0_col5\" class=\"data row0 col5\" >532,721</td>\n",
       "    </tr>\n",
       "    <tr>\n",
       "      <th id=\"T_1b614_level0_row1\" class=\"row_heading level0 row1\" >2023-01-17 12:30:00-05:00</th>\n",
       "      <td id=\"T_1b614_row1_col0\" class=\"data row1 col0\" >80.27</td>\n",
       "      <td id=\"T_1b614_row1_col1\" class=\"data row1 col1\" >80.46</td>\n",
       "      <td id=\"T_1b614_row1_col2\" class=\"data row1 col2\" >80.24</td>\n",
       "      <td id=\"T_1b614_row1_col3\" class=\"data row1 col3\" >80.39</td>\n",
       "      <td id=\"T_1b614_row1_col4\" class=\"data row1 col4\" >80.39</td>\n",
       "      <td id=\"T_1b614_row1_col5\" class=\"data row1 col5\" >339,948</td>\n",
       "    </tr>\n",
       "    <tr>\n",
       "      <th id=\"T_1b614_level0_row2\" class=\"row_heading level0 row2\" >2023-01-17 13:30:00-05:00</th>\n",
       "      <td id=\"T_1b614_row2_col0\" class=\"data row2 col0\" >80.39</td>\n",
       "      <td id=\"T_1b614_row2_col1\" class=\"data row2 col1\" >80.54</td>\n",
       "      <td id=\"T_1b614_row2_col2\" class=\"data row2 col2\" >80.25</td>\n",
       "      <td id=\"T_1b614_row2_col3\" class=\"data row2 col3\" >80.35</td>\n",
       "      <td id=\"T_1b614_row2_col4\" class=\"data row2 col4\" >80.35</td>\n",
       "      <td id=\"T_1b614_row2_col5\" class=\"data row2 col5\" >704,213</td>\n",
       "    </tr>\n",
       "    <tr>\n",
       "      <th id=\"T_1b614_level0_row3\" class=\"row_heading level0 row3\" >2023-01-17 14:30:00-05:00</th>\n",
       "      <td id=\"T_1b614_row3_col0\" class=\"data row3 col0\" >80.36</td>\n",
       "      <td id=\"T_1b614_row3_col1\" class=\"data row3 col1\" >80.54</td>\n",
       "      <td id=\"T_1b614_row3_col2\" class=\"data row3 col2\" >80.31</td>\n",
       "      <td id=\"T_1b614_row3_col3\" class=\"data row3 col3\" >80.48</td>\n",
       "      <td id=\"T_1b614_row3_col4\" class=\"data row3 col4\" >80.48</td>\n",
       "      <td id=\"T_1b614_row3_col5\" class=\"data row3 col5\" >524,414</td>\n",
       "    </tr>\n",
       "    <tr>\n",
       "      <th id=\"T_1b614_level0_row4\" class=\"row_heading level0 row4\" >2023-01-17 15:30:00-05:00</th>\n",
       "      <td id=\"T_1b614_row4_col0\" class=\"data row4 col0\" >80.48</td>\n",
       "      <td id=\"T_1b614_row4_col1\" class=\"data row4 col1\" >80.56</td>\n",
       "      <td id=\"T_1b614_row4_col2\" class=\"data row4 col2\" >80.34</td>\n",
       "      <td id=\"T_1b614_row4_col3\" class=\"data row4 col3\" >80.49</td>\n",
       "      <td id=\"T_1b614_row4_col4\" class=\"data row4 col4\" >80.49</td>\n",
       "      <td id=\"T_1b614_row4_col5\" class=\"data row4 col5\" >1,215,875</td>\n",
       "    </tr>\n",
       "  </tbody>\n",
       "</table>\n",
       "&nbsp;&nbsp;&nbsp;"
      ]
     },
     "metadata": {},
     "output_type": "display_data"
    },
    {
     "name": "stdout",
     "output_type": "stream",
     "text": [
      "\n"
     ]
    }
   ],
   "source": [
    "head_tail_horz(yf.download(ticker, period = \"1mo\", interval = \"1h\"),\n",
    "\t\t\t 5, title = \"(period = 1 mo, interval = 1h)\", intraday=True)"
   ]
  },
  {
   "cell_type": "markdown",
   "id": "a8b87637-1779-4621-983e-5af937c17a7d",
   "metadata": {},
   "source": [
    "<font size = 4><span style = 'background-color: #ddddff; padding: 5px 5px 3px 5px; line-height: 1.5; color:black;border-radius: 3px;'>Increments of 30 minutes:\n"
   ]
  },
  {
   "cell_type": "code",
   "execution_count": 19,
   "id": "7d72bc66-fc88-43da-abbb-5e14ec8bcde9",
   "metadata": {},
   "outputs": [
    {
     "name": "stdout",
     "output_type": "stream",
     "text": [
      "[*********************100%***********************]  1 of 1 completed\n"
     ]
    },
    {
     "data": {
      "text/html": [
       "<span style = 'display: block; width: 310.0px; \t\t\t\t\t\tline-height: 2; background: #333333;\t\t\t\t\t\tmargin-left: auto; margin-right: auto;\t\t\t\t\t\tborder: 1px solid text_color;\t\t\t\t\t\tborder-radius: 3px; text-align: center;\t\t\t\t\t\tpadding: 3px 8px 3px 8px;'>\t\t\t\t\t\t<b><font size=4><text style=color:white>(period = 1 mo, interval = 30m)\t\t\t\t\t\t</text></font></b></style>"
      ],
      "text/plain": [
       "<IPython.core.display.HTML object>"
      ]
     },
     "metadata": {},
     "output_type": "display_data"
    },
    {
     "data": {
      "text/html": [
       "<center><style type=\"text/css\">\n",
       "#T_5f6c4 caption {\n",
       "  background: #333333;\n",
       "  border-radius: 3px;\n",
       "  padding: 5px;\n",
       "  color: white;\n",
       "  font-size: 12px;\n",
       "  font-weight: bold;\n",
       "}\n",
       "</style>\n",
       "<table id=\"T_5f6c4\" style='display:inline-block'>\n",
       "  <caption>head(5)</caption>\n",
       "  <thead>\n",
       "    <tr>\n",
       "      <th class=\"blank level0\" >&nbsp;</th>\n",
       "      <th id=\"T_5f6c4_level0_col0\" class=\"col_heading level0 col0\" >Open</th>\n",
       "      <th id=\"T_5f6c4_level0_col1\" class=\"col_heading level0 col1\" >High</th>\n",
       "      <th id=\"T_5f6c4_level0_col2\" class=\"col_heading level0 col2\" >Low</th>\n",
       "      <th id=\"T_5f6c4_level0_col3\" class=\"col_heading level0 col3\" >Close</th>\n",
       "      <th id=\"T_5f6c4_level0_col4\" class=\"col_heading level0 col4\" >Adj Close</th>\n",
       "      <th id=\"T_5f6c4_level0_col5\" class=\"col_heading level0 col5\" >Volume</th>\n",
       "    </tr>\n",
       "    <tr>\n",
       "      <th class=\"index_name level0\" >Datetime</th>\n",
       "      <th class=\"blank col0\" >&nbsp;</th>\n",
       "      <th class=\"blank col1\" >&nbsp;</th>\n",
       "      <th class=\"blank col2\" >&nbsp;</th>\n",
       "      <th class=\"blank col3\" >&nbsp;</th>\n",
       "      <th class=\"blank col4\" >&nbsp;</th>\n",
       "      <th class=\"blank col5\" >&nbsp;</th>\n",
       "    </tr>\n",
       "  </thead>\n",
       "  <tbody>\n",
       "    <tr>\n",
       "      <th id=\"T_5f6c4_level0_row0\" class=\"row_heading level0 row0\" >2022-12-19 09:30:00-05:00</th>\n",
       "      <td id=\"T_5f6c4_row0_col0\" class=\"data row0 col0\" >60.30</td>\n",
       "      <td id=\"T_5f6c4_row0_col1\" class=\"data row0 col1\" >61.07</td>\n",
       "      <td id=\"T_5f6c4_row0_col2\" class=\"data row0 col2\" >60.27</td>\n",
       "      <td id=\"T_5f6c4_row0_col3\" class=\"data row0 col3\" >60.68</td>\n",
       "      <td id=\"T_5f6c4_row0_col4\" class=\"data row0 col4\" >60.68</td>\n",
       "      <td id=\"T_5f6c4_row0_col5\" class=\"data row0 col5\" >453,008</td>\n",
       "    </tr>\n",
       "    <tr>\n",
       "      <th id=\"T_5f6c4_level0_row1\" class=\"row_heading level0 row1\" >2022-12-19 10:00:00-05:00</th>\n",
       "      <td id=\"T_5f6c4_row1_col0\" class=\"data row1 col0\" >60.67</td>\n",
       "      <td id=\"T_5f6c4_row1_col1\" class=\"data row1 col1\" >61.12</td>\n",
       "      <td id=\"T_5f6c4_row1_col2\" class=\"data row1 col2\" >60.55</td>\n",
       "      <td id=\"T_5f6c4_row1_col3\" class=\"data row1 col3\" >61.11</td>\n",
       "      <td id=\"T_5f6c4_row1_col4\" class=\"data row1 col4\" >61.11</td>\n",
       "      <td id=\"T_5f6c4_row1_col5\" class=\"data row1 col5\" >316,431</td>\n",
       "    </tr>\n",
       "    <tr>\n",
       "      <th id=\"T_5f6c4_level0_row2\" class=\"row_heading level0 row2\" >2022-12-19 10:30:00-05:00</th>\n",
       "      <td id=\"T_5f6c4_row2_col0\" class=\"data row2 col0\" >61.10</td>\n",
       "      <td id=\"T_5f6c4_row2_col1\" class=\"data row2 col1\" >61.11</td>\n",
       "      <td id=\"T_5f6c4_row2_col2\" class=\"data row2 col2\" >60.77</td>\n",
       "      <td id=\"T_5f6c4_row2_col3\" class=\"data row2 col3\" >60.86</td>\n",
       "      <td id=\"T_5f6c4_row2_col4\" class=\"data row2 col4\" >60.86</td>\n",
       "      <td id=\"T_5f6c4_row2_col5\" class=\"data row2 col5\" >234,476</td>\n",
       "    </tr>\n",
       "    <tr>\n",
       "      <th id=\"T_5f6c4_level0_row3\" class=\"row_heading level0 row3\" >2022-12-19 11:00:00-05:00</th>\n",
       "      <td id=\"T_5f6c4_row3_col0\" class=\"data row3 col0\" >60.87</td>\n",
       "      <td id=\"T_5f6c4_row3_col1\" class=\"data row3 col1\" >61.16</td>\n",
       "      <td id=\"T_5f6c4_row3_col2\" class=\"data row3 col2\" >60.82</td>\n",
       "      <td id=\"T_5f6c4_row3_col3\" class=\"data row3 col3\" >61.05</td>\n",
       "      <td id=\"T_5f6c4_row3_col4\" class=\"data row3 col4\" >61.05</td>\n",
       "      <td id=\"T_5f6c4_row3_col5\" class=\"data row3 col5\" >260,305</td>\n",
       "    </tr>\n",
       "    <tr>\n",
       "      <th id=\"T_5f6c4_level0_row4\" class=\"row_heading level0 row4\" >2022-12-19 11:30:00-05:00</th>\n",
       "      <td id=\"T_5f6c4_row4_col0\" class=\"data row4 col0\" >61.05</td>\n",
       "      <td id=\"T_5f6c4_row4_col1\" class=\"data row4 col1\" >61.07</td>\n",
       "      <td id=\"T_5f6c4_row4_col2\" class=\"data row4 col2\" >60.58</td>\n",
       "      <td id=\"T_5f6c4_row4_col3\" class=\"data row4 col3\" >60.64</td>\n",
       "      <td id=\"T_5f6c4_row4_col4\" class=\"data row4 col4\" >60.64</td>\n",
       "      <td id=\"T_5f6c4_row4_col5\" class=\"data row4 col5\" >260,111</td>\n",
       "    </tr>\n",
       "  </tbody>\n",
       "</table>\n",
       "&nbsp;&nbsp;&nbsp;<style type=\"text/css\">\n",
       "#T_9e6fa caption {\n",
       "  background: #333333;\n",
       "  border-radius: 3px;\n",
       "  padding: 5px;\n",
       "  color: white;\n",
       "  font-size: 12px;\n",
       "  font-weight: bold;\n",
       "}\n",
       "</style>\n",
       "<table id=\"T_9e6fa\" style='display:inline-block'>\n",
       "  <caption>tail(5)</caption>\n",
       "  <thead>\n",
       "    <tr>\n",
       "      <th class=\"blank level0\" >&nbsp;</th>\n",
       "      <th id=\"T_9e6fa_level0_col0\" class=\"col_heading level0 col0\" >Open</th>\n",
       "      <th id=\"T_9e6fa_level0_col1\" class=\"col_heading level0 col1\" >High</th>\n",
       "      <th id=\"T_9e6fa_level0_col2\" class=\"col_heading level0 col2\" >Low</th>\n",
       "      <th id=\"T_9e6fa_level0_col3\" class=\"col_heading level0 col3\" >Close</th>\n",
       "      <th id=\"T_9e6fa_level0_col4\" class=\"col_heading level0 col4\" >Adj Close</th>\n",
       "      <th id=\"T_9e6fa_level0_col5\" class=\"col_heading level0 col5\" >Volume</th>\n",
       "    </tr>\n",
       "    <tr>\n",
       "      <th class=\"index_name level0\" >Datetime</th>\n",
       "      <th class=\"blank col0\" >&nbsp;</th>\n",
       "      <th class=\"blank col1\" >&nbsp;</th>\n",
       "      <th class=\"blank col2\" >&nbsp;</th>\n",
       "      <th class=\"blank col3\" >&nbsp;</th>\n",
       "      <th class=\"blank col4\" >&nbsp;</th>\n",
       "      <th class=\"blank col5\" >&nbsp;</th>\n",
       "    </tr>\n",
       "  </thead>\n",
       "  <tbody>\n",
       "    <tr>\n",
       "      <th id=\"T_9e6fa_level0_row0\" class=\"row_heading level0 row0\" >2023-01-17 14:00:00-05:00</th>\n",
       "      <td id=\"T_9e6fa_row0_col0\" class=\"data row0 col0\" >80.43</td>\n",
       "      <td id=\"T_9e6fa_row0_col1\" class=\"data row0 col1\" >80.54</td>\n",
       "      <td id=\"T_9e6fa_row0_col2\" class=\"data row0 col2\" >80.25</td>\n",
       "      <td id=\"T_9e6fa_row0_col3\" class=\"data row0 col3\" >80.35</td>\n",
       "      <td id=\"T_9e6fa_row0_col4\" class=\"data row0 col4\" >80.35</td>\n",
       "      <td id=\"T_9e6fa_row0_col5\" class=\"data row0 col5\" >481,659</td>\n",
       "    </tr>\n",
       "    <tr>\n",
       "      <th id=\"T_9e6fa_level0_row1\" class=\"row_heading level0 row1\" >2023-01-17 14:30:00-05:00</th>\n",
       "      <td id=\"T_9e6fa_row1_col0\" class=\"data row1 col0\" >80.36</td>\n",
       "      <td id=\"T_9e6fa_row1_col1\" class=\"data row1 col1\" >80.47</td>\n",
       "      <td id=\"T_9e6fa_row1_col2\" class=\"data row1 col2\" >80.31</td>\n",
       "      <td id=\"T_9e6fa_row1_col3\" class=\"data row1 col3\" >80.38</td>\n",
       "      <td id=\"T_9e6fa_row1_col4\" class=\"data row1 col4\" >80.38</td>\n",
       "      <td id=\"T_9e6fa_row1_col5\" class=\"data row1 col5\" >227,634</td>\n",
       "    </tr>\n",
       "    <tr>\n",
       "      <th id=\"T_9e6fa_level0_row2\" class=\"row_heading level0 row2\" >2023-01-17 15:00:00-05:00</th>\n",
       "      <td id=\"T_9e6fa_row2_col0\" class=\"data row2 col0\" >80.38</td>\n",
       "      <td id=\"T_9e6fa_row2_col1\" class=\"data row2 col1\" >80.54</td>\n",
       "      <td id=\"T_9e6fa_row2_col2\" class=\"data row2 col2\" >80.33</td>\n",
       "      <td id=\"T_9e6fa_row2_col3\" class=\"data row2 col3\" >80.48</td>\n",
       "      <td id=\"T_9e6fa_row2_col4\" class=\"data row2 col4\" >80.48</td>\n",
       "      <td id=\"T_9e6fa_row2_col5\" class=\"data row2 col5\" >296,780</td>\n",
       "    </tr>\n",
       "    <tr>\n",
       "      <th id=\"T_9e6fa_level0_row3\" class=\"row_heading level0 row3\" >2023-01-17 15:30:00-05:00</th>\n",
       "      <td id=\"T_9e6fa_row3_col0\" class=\"data row3 col0\" >80.48</td>\n",
       "      <td id=\"T_9e6fa_row3_col1\" class=\"data row3 col1\" >80.56</td>\n",
       "      <td id=\"T_9e6fa_row3_col2\" class=\"data row3 col2\" >80.34</td>\n",
       "      <td id=\"T_9e6fa_row3_col3\" class=\"data row3 col3\" >80.50</td>\n",
       "      <td id=\"T_9e6fa_row3_col4\" class=\"data row3 col4\" >80.50</td>\n",
       "      <td id=\"T_9e6fa_row3_col5\" class=\"data row3 col5\" >1,215,875</td>\n",
       "    </tr>\n",
       "    <tr>\n",
       "      <th id=\"T_9e6fa_level0_row4\" class=\"row_heading level0 row4\" >2023-01-17 16:00:00-05:00</th>\n",
       "      <td id=\"T_9e6fa_row4_col0\" class=\"data row4 col0\" >80.49</td>\n",
       "      <td id=\"T_9e6fa_row4_col1\" class=\"data row4 col1\" >80.49</td>\n",
       "      <td id=\"T_9e6fa_row4_col2\" class=\"data row4 col2\" >80.49</td>\n",
       "      <td id=\"T_9e6fa_row4_col3\" class=\"data row4 col3\" >80.49</td>\n",
       "      <td id=\"T_9e6fa_row4_col4\" class=\"data row4 col4\" >80.49</td>\n",
       "      <td id=\"T_9e6fa_row4_col5\" class=\"data row4 col5\" >0</td>\n",
       "    </tr>\n",
       "  </tbody>\n",
       "</table>\n",
       "&nbsp;&nbsp;&nbsp;"
      ]
     },
     "metadata": {},
     "output_type": "display_data"
    },
    {
     "name": "stdout",
     "output_type": "stream",
     "text": [
      "\n"
     ]
    }
   ],
   "source": [
    "head_tail_horz(yf.download(ticker, period = \"1mo\", interval = \"30m\"),\n",
    "\t\t\t 5, title = \"(period = 1 mo, interval = 30m)\", intraday=True)"
   ]
  },
  {
   "cell_type": "markdown",
   "id": "b1668671-4893-4a2c-aff5-37d468309aea",
   "metadata": {},
   "source": [
    "<font size = 4><span style = 'background-color: #ddddff; padding: 5px 5px 3px 5px; line-height: 1.5; color:black;border-radius: 3px;'>Increments of 5 minutes:\n"
   ]
  },
  {
   "cell_type": "code",
   "execution_count": 20,
   "id": "69d19e64-b803-4801-880d-5af48f6bb2f0",
   "metadata": {},
   "outputs": [
    {
     "name": "stdout",
     "output_type": "stream",
     "text": [
      "[*********************100%***********************]  1 of 1 completed\n"
     ]
    },
    {
     "data": {
      "text/html": [
       "<span style = 'display: block; width: 300.0px; \t\t\t\t\t\tline-height: 2; background: #333333;\t\t\t\t\t\tmargin-left: auto; margin-right: auto;\t\t\t\t\t\tborder: 1px solid text_color;\t\t\t\t\t\tborder-radius: 3px; text-align: center;\t\t\t\t\t\tpadding: 3px 8px 3px 8px;'>\t\t\t\t\t\t<b><font size=4><text style=color:white>(period = 1 mo, interval = 5m)\t\t\t\t\t\t</text></font></b></style>"
      ],
      "text/plain": [
       "<IPython.core.display.HTML object>"
      ]
     },
     "metadata": {},
     "output_type": "display_data"
    },
    {
     "data": {
      "text/html": [
       "<center><style type=\"text/css\">\n",
       "#T_daf15 caption {\n",
       "  background: #333333;\n",
       "  border-radius: 3px;\n",
       "  padding: 5px;\n",
       "  color: white;\n",
       "  font-size: 12px;\n",
       "  font-weight: bold;\n",
       "}\n",
       "</style>\n",
       "<table id=\"T_daf15\" style='display:inline-block'>\n",
       "  <caption>head(5)</caption>\n",
       "  <thead>\n",
       "    <tr>\n",
       "      <th class=\"blank level0\" >&nbsp;</th>\n",
       "      <th id=\"T_daf15_level0_col0\" class=\"col_heading level0 col0\" >Open</th>\n",
       "      <th id=\"T_daf15_level0_col1\" class=\"col_heading level0 col1\" >High</th>\n",
       "      <th id=\"T_daf15_level0_col2\" class=\"col_heading level0 col2\" >Low</th>\n",
       "      <th id=\"T_daf15_level0_col3\" class=\"col_heading level0 col3\" >Close</th>\n",
       "      <th id=\"T_daf15_level0_col4\" class=\"col_heading level0 col4\" >Adj Close</th>\n",
       "      <th id=\"T_daf15_level0_col5\" class=\"col_heading level0 col5\" >Volume</th>\n",
       "    </tr>\n",
       "    <tr>\n",
       "      <th class=\"index_name level0\" >Datetime</th>\n",
       "      <th class=\"blank col0\" >&nbsp;</th>\n",
       "      <th class=\"blank col1\" >&nbsp;</th>\n",
       "      <th class=\"blank col2\" >&nbsp;</th>\n",
       "      <th class=\"blank col3\" >&nbsp;</th>\n",
       "      <th class=\"blank col4\" >&nbsp;</th>\n",
       "      <th class=\"blank col5\" >&nbsp;</th>\n",
       "    </tr>\n",
       "  </thead>\n",
       "  <tbody>\n",
       "    <tr>\n",
       "      <th id=\"T_daf15_level0_row0\" class=\"row_heading level0 row0\" >2022-12-19 09:30:00-05:00</th>\n",
       "      <td id=\"T_daf15_row0_col0\" class=\"data row0 col0\" >60.30</td>\n",
       "      <td id=\"T_daf15_row0_col1\" class=\"data row0 col1\" >60.78</td>\n",
       "      <td id=\"T_daf15_row0_col2\" class=\"data row0 col2\" >60.27</td>\n",
       "      <td id=\"T_daf15_row0_col3\" class=\"data row0 col3\" >60.73</td>\n",
       "      <td id=\"T_daf15_row0_col4\" class=\"data row0 col4\" >60.73</td>\n",
       "      <td id=\"T_daf15_row0_col5\" class=\"data row0 col5\" >175,101</td>\n",
       "    </tr>\n",
       "    <tr>\n",
       "      <th id=\"T_daf15_level0_row1\" class=\"row_heading level0 row1\" >2022-12-19 09:35:00-05:00</th>\n",
       "      <td id=\"T_daf15_row1_col0\" class=\"data row1 col0\" >60.76</td>\n",
       "      <td id=\"T_daf15_row1_col1\" class=\"data row1 col1\" >61.07</td>\n",
       "      <td id=\"T_daf15_row1_col2\" class=\"data row1 col2\" >60.65</td>\n",
       "      <td id=\"T_daf15_row1_col3\" class=\"data row1 col3\" >60.90</td>\n",
       "      <td id=\"T_daf15_row1_col4\" class=\"data row1 col4\" >60.90</td>\n",
       "      <td id=\"T_daf15_row1_col5\" class=\"data row1 col5\" >106,490</td>\n",
       "    </tr>\n",
       "    <tr>\n",
       "      <th id=\"T_daf15_level0_row2\" class=\"row_heading level0 row2\" >2022-12-19 09:40:00-05:00</th>\n",
       "      <td id=\"T_daf15_row2_col0\" class=\"data row2 col0\" >60.88</td>\n",
       "      <td id=\"T_daf15_row2_col1\" class=\"data row2 col1\" >60.91</td>\n",
       "      <td id=\"T_daf15_row2_col2\" class=\"data row2 col2\" >60.67</td>\n",
       "      <td id=\"T_daf15_row2_col3\" class=\"data row2 col3\" >60.70</td>\n",
       "      <td id=\"T_daf15_row2_col4\" class=\"data row2 col4\" >60.70</td>\n",
       "      <td id=\"T_daf15_row2_col5\" class=\"data row2 col5\" >35,044</td>\n",
       "    </tr>\n",
       "    <tr>\n",
       "      <th id=\"T_daf15_level0_row3\" class=\"row_heading level0 row3\" >2022-12-19 09:45:00-05:00</th>\n",
       "      <td id=\"T_daf15_row3_col0\" class=\"data row3 col0\" >60.72</td>\n",
       "      <td id=\"T_daf15_row3_col1\" class=\"data row3 col1\" >60.72</td>\n",
       "      <td id=\"T_daf15_row3_col2\" class=\"data row3 col2\" >60.39</td>\n",
       "      <td id=\"T_daf15_row3_col3\" class=\"data row3 col3\" >60.52</td>\n",
       "      <td id=\"T_daf15_row3_col4\" class=\"data row3 col4\" >60.52</td>\n",
       "      <td id=\"T_daf15_row3_col5\" class=\"data row3 col5\" >30,392</td>\n",
       "    </tr>\n",
       "    <tr>\n",
       "      <th id=\"T_daf15_level0_row4\" class=\"row_heading level0 row4\" >2022-12-19 09:50:00-05:00</th>\n",
       "      <td id=\"T_daf15_row4_col0\" class=\"data row4 col0\" >60.51</td>\n",
       "      <td id=\"T_daf15_row4_col1\" class=\"data row4 col1\" >60.67</td>\n",
       "      <td id=\"T_daf15_row4_col2\" class=\"data row4 col2\" >60.51</td>\n",
       "      <td id=\"T_daf15_row4_col3\" class=\"data row4 col3\" >60.59</td>\n",
       "      <td id=\"T_daf15_row4_col4\" class=\"data row4 col4\" >60.59</td>\n",
       "      <td id=\"T_daf15_row4_col5\" class=\"data row4 col5\" >73,081</td>\n",
       "    </tr>\n",
       "  </tbody>\n",
       "</table>\n",
       "&nbsp;&nbsp;&nbsp;<style type=\"text/css\">\n",
       "#T_26adf caption {\n",
       "  background: #333333;\n",
       "  border-radius: 3px;\n",
       "  padding: 5px;\n",
       "  color: white;\n",
       "  font-size: 12px;\n",
       "  font-weight: bold;\n",
       "}\n",
       "</style>\n",
       "<table id=\"T_26adf\" style='display:inline-block'>\n",
       "  <caption>tail(5)</caption>\n",
       "  <thead>\n",
       "    <tr>\n",
       "      <th class=\"blank level0\" >&nbsp;</th>\n",
       "      <th id=\"T_26adf_level0_col0\" class=\"col_heading level0 col0\" >Open</th>\n",
       "      <th id=\"T_26adf_level0_col1\" class=\"col_heading level0 col1\" >High</th>\n",
       "      <th id=\"T_26adf_level0_col2\" class=\"col_heading level0 col2\" >Low</th>\n",
       "      <th id=\"T_26adf_level0_col3\" class=\"col_heading level0 col3\" >Close</th>\n",
       "      <th id=\"T_26adf_level0_col4\" class=\"col_heading level0 col4\" >Adj Close</th>\n",
       "      <th id=\"T_26adf_level0_col5\" class=\"col_heading level0 col5\" >Volume</th>\n",
       "    </tr>\n",
       "    <tr>\n",
       "      <th class=\"index_name level0\" >Datetime</th>\n",
       "      <th class=\"blank col0\" >&nbsp;</th>\n",
       "      <th class=\"blank col1\" >&nbsp;</th>\n",
       "      <th class=\"blank col2\" >&nbsp;</th>\n",
       "      <th class=\"blank col3\" >&nbsp;</th>\n",
       "      <th class=\"blank col4\" >&nbsp;</th>\n",
       "      <th class=\"blank col5\" >&nbsp;</th>\n",
       "    </tr>\n",
       "  </thead>\n",
       "  <tbody>\n",
       "    <tr>\n",
       "      <th id=\"T_26adf_level0_row0\" class=\"row_heading level0 row0\" >2023-01-17 15:40:00-05:00</th>\n",
       "      <td id=\"T_26adf_row0_col0\" class=\"data row0 col0\" >80.47</td>\n",
       "      <td id=\"T_26adf_row0_col1\" class=\"data row0 col1\" >80.53</td>\n",
       "      <td id=\"T_26adf_row0_col2\" class=\"data row0 col2\" >80.46</td>\n",
       "      <td id=\"T_26adf_row0_col3\" class=\"data row0 col3\" >80.48</td>\n",
       "      <td id=\"T_26adf_row0_col4\" class=\"data row0 col4\" >80.48</td>\n",
       "      <td id=\"T_26adf_row0_col5\" class=\"data row0 col5\" >133,332</td>\n",
       "    </tr>\n",
       "    <tr>\n",
       "      <th id=\"T_26adf_level0_row1\" class=\"row_heading level0 row1\" >2023-01-17 15:45:00-05:00</th>\n",
       "      <td id=\"T_26adf_row1_col0\" class=\"data row1 col0\" >80.47</td>\n",
       "      <td id=\"T_26adf_row1_col1\" class=\"data row1 col1\" >80.51</td>\n",
       "      <td id=\"T_26adf_row1_col2\" class=\"data row1 col2\" >80.46</td>\n",
       "      <td id=\"T_26adf_row1_col3\" class=\"data row1 col3\" >80.50</td>\n",
       "      <td id=\"T_26adf_row1_col4\" class=\"data row1 col4\" >80.50</td>\n",
       "      <td id=\"T_26adf_row1_col5\" class=\"data row1 col5\" >152,468</td>\n",
       "    </tr>\n",
       "    <tr>\n",
       "      <th id=\"T_26adf_level0_row2\" class=\"row_heading level0 row2\" >2023-01-17 15:50:00-05:00</th>\n",
       "      <td id=\"T_26adf_row2_col0\" class=\"data row2 col0\" >80.51</td>\n",
       "      <td id=\"T_26adf_row2_col1\" class=\"data row2 col1\" >80.54</td>\n",
       "      <td id=\"T_26adf_row2_col2\" class=\"data row2 col2\" >80.34</td>\n",
       "      <td id=\"T_26adf_row2_col3\" class=\"data row2 col3\" >80.40</td>\n",
       "      <td id=\"T_26adf_row2_col4\" class=\"data row2 col4\" >80.40</td>\n",
       "      <td id=\"T_26adf_row2_col5\" class=\"data row2 col5\" >206,981</td>\n",
       "    </tr>\n",
       "    <tr>\n",
       "      <th id=\"T_26adf_level0_row3\" class=\"row_heading level0 row3\" >2023-01-17 15:55:00-05:00</th>\n",
       "      <td id=\"T_26adf_row3_col0\" class=\"data row3 col0\" >80.41</td>\n",
       "      <td id=\"T_26adf_row3_col1\" class=\"data row3 col1\" >80.54</td>\n",
       "      <td id=\"T_26adf_row3_col2\" class=\"data row3 col2\" >80.41</td>\n",
       "      <td id=\"T_26adf_row3_col3\" class=\"data row3 col3\" >80.50</td>\n",
       "      <td id=\"T_26adf_row3_col4\" class=\"data row3 col4\" >80.50</td>\n",
       "      <td id=\"T_26adf_row3_col5\" class=\"data row3 col5\" >535,741</td>\n",
       "    </tr>\n",
       "    <tr>\n",
       "      <th id=\"T_26adf_level0_row4\" class=\"row_heading level0 row4\" >2023-01-17 16:00:00-05:00</th>\n",
       "      <td id=\"T_26adf_row4_col0\" class=\"data row4 col0\" >80.49</td>\n",
       "      <td id=\"T_26adf_row4_col1\" class=\"data row4 col1\" >80.49</td>\n",
       "      <td id=\"T_26adf_row4_col2\" class=\"data row4 col2\" >80.49</td>\n",
       "      <td id=\"T_26adf_row4_col3\" class=\"data row4 col3\" >80.49</td>\n",
       "      <td id=\"T_26adf_row4_col4\" class=\"data row4 col4\" >80.49</td>\n",
       "      <td id=\"T_26adf_row4_col5\" class=\"data row4 col5\" >0</td>\n",
       "    </tr>\n",
       "  </tbody>\n",
       "</table>\n",
       "&nbsp;&nbsp;&nbsp;"
      ]
     },
     "metadata": {},
     "output_type": "display_data"
    },
    {
     "name": "stdout",
     "output_type": "stream",
     "text": [
      "\n"
     ]
    }
   ],
   "source": [
    "head_tail_horz(yf.download(ticker, period = \"1mo\", interval = \"5m\"),\n",
    "\t\t\t 5, title = \"(period = 1 mo, interval = 5m)\", intraday=True)"
   ]
  },
  {
   "cell_type": "markdown",
   "id": "3bb1aed1-db65-4ea9-b6ec-2d2a03aca9c9",
   "metadata": {},
   "source": [
    "<font size = 4><span style = 'background-color: #ddddff; padding: 5px 5px 3px 5px; line-height: 1.5; color:black;border-radius: 3px;'>Increments of 1 minute:\n"
   ]
  },
  {
   "cell_type": "code",
   "execution_count": 21,
   "id": "3886783a-1e05-44b4-84c7-5c03e45f64f9",
   "metadata": {},
   "outputs": [
    {
     "name": "stdout",
     "output_type": "stream",
     "text": [
      "[*********************100%***********************]  1 of 1 completed\n"
     ]
    },
    {
     "data": {
      "text/html": [
       "<span style = 'display: block; width: 280.0px; \t\t\t\t\t\tline-height: 2; background: #333333;\t\t\t\t\t\tmargin-left: auto; margin-right: auto;\t\t\t\t\t\tborder: 1px solid text_color;\t\t\t\t\t\tborder-radius: 3px; text-align: center;\t\t\t\t\t\tpadding: 3px 8px 3px 8px;'>\t\t\t\t\t\t<b><font size=4><text style=color:white>(period = 5d, interval = 1m)\t\t\t\t\t\t</text></font></b></style>"
      ],
      "text/plain": [
       "<IPython.core.display.HTML object>"
      ]
     },
     "metadata": {},
     "output_type": "display_data"
    },
    {
     "data": {
      "text/html": [
       "<center><style type=\"text/css\">\n",
       "#T_8fa92 caption {\n",
       "  background: #333333;\n",
       "  border-radius: 3px;\n",
       "  padding: 5px;\n",
       "  color: white;\n",
       "  font-size: 12px;\n",
       "  font-weight: bold;\n",
       "}\n",
       "</style>\n",
       "<table id=\"T_8fa92\" style='display:inline-block'>\n",
       "  <caption>head(5)</caption>\n",
       "  <thead>\n",
       "    <tr>\n",
       "      <th class=\"blank level0\" >&nbsp;</th>\n",
       "      <th id=\"T_8fa92_level0_col0\" class=\"col_heading level0 col0\" >Open</th>\n",
       "      <th id=\"T_8fa92_level0_col1\" class=\"col_heading level0 col1\" >High</th>\n",
       "      <th id=\"T_8fa92_level0_col2\" class=\"col_heading level0 col2\" >Low</th>\n",
       "      <th id=\"T_8fa92_level0_col3\" class=\"col_heading level0 col3\" >Close</th>\n",
       "      <th id=\"T_8fa92_level0_col4\" class=\"col_heading level0 col4\" >Adj Close</th>\n",
       "      <th id=\"T_8fa92_level0_col5\" class=\"col_heading level0 col5\" >Volume</th>\n",
       "    </tr>\n",
       "    <tr>\n",
       "      <th class=\"index_name level0\" >Datetime</th>\n",
       "      <th class=\"blank col0\" >&nbsp;</th>\n",
       "      <th class=\"blank col1\" >&nbsp;</th>\n",
       "      <th class=\"blank col2\" >&nbsp;</th>\n",
       "      <th class=\"blank col3\" >&nbsp;</th>\n",
       "      <th class=\"blank col4\" >&nbsp;</th>\n",
       "      <th class=\"blank col5\" >&nbsp;</th>\n",
       "    </tr>\n",
       "  </thead>\n",
       "  <tbody>\n",
       "    <tr>\n",
       "      <th id=\"T_8fa92_level0_row0\" class=\"row_heading level0 row0\" >2023-01-10 09:30:00-05:00</th>\n",
       "      <td id=\"T_8fa92_row0_col0\" class=\"data row0 col0\" >72.20</td>\n",
       "      <td id=\"T_8fa92_row0_col1\" class=\"data row0 col1\" >72.72</td>\n",
       "      <td id=\"T_8fa92_row0_col2\" class=\"data row0 col2\" >72.20</td>\n",
       "      <td id=\"T_8fa92_row0_col3\" class=\"data row0 col3\" >72.50</td>\n",
       "      <td id=\"T_8fa92_row0_col4\" class=\"data row0 col4\" >72.50</td>\n",
       "      <td id=\"T_8fa92_row0_col5\" class=\"data row0 col5\" >106,241</td>\n",
       "    </tr>\n",
       "    <tr>\n",
       "      <th id=\"T_8fa92_level0_row1\" class=\"row_heading level0 row1\" >2023-01-10 09:31:00-05:00</th>\n",
       "      <td id=\"T_8fa92_row1_col0\" class=\"data row1 col0\" >72.59</td>\n",
       "      <td id=\"T_8fa92_row1_col1\" class=\"data row1 col1\" >73.15</td>\n",
       "      <td id=\"T_8fa92_row1_col2\" class=\"data row1 col2\" >72.50</td>\n",
       "      <td id=\"T_8fa92_row1_col3\" class=\"data row1 col3\" >73.10</td>\n",
       "      <td id=\"T_8fa92_row1_col4\" class=\"data row1 col4\" >73.10</td>\n",
       "      <td id=\"T_8fa92_row1_col5\" class=\"data row1 col5\" >40,117</td>\n",
       "    </tr>\n",
       "    <tr>\n",
       "      <th id=\"T_8fa92_level0_row2\" class=\"row_heading level0 row2\" >2023-01-10 09:32:00-05:00</th>\n",
       "      <td id=\"T_8fa92_row2_col0\" class=\"data row2 col0\" >73.10</td>\n",
       "      <td id=\"T_8fa92_row2_col1\" class=\"data row2 col1\" >73.42</td>\n",
       "      <td id=\"T_8fa92_row2_col2\" class=\"data row2 col2\" >73.10</td>\n",
       "      <td id=\"T_8fa92_row2_col3\" class=\"data row2 col3\" >73.42</td>\n",
       "      <td id=\"T_8fa92_row2_col4\" class=\"data row2 col4\" >73.42</td>\n",
       "      <td id=\"T_8fa92_row2_col5\" class=\"data row2 col5\" >8,275</td>\n",
       "    </tr>\n",
       "    <tr>\n",
       "      <th id=\"T_8fa92_level0_row3\" class=\"row_heading level0 row3\" >2023-01-10 09:33:00-05:00</th>\n",
       "      <td id=\"T_8fa92_row3_col0\" class=\"data row3 col0\" >73.40</td>\n",
       "      <td id=\"T_8fa92_row3_col1\" class=\"data row3 col1\" >73.66</td>\n",
       "      <td id=\"T_8fa92_row3_col2\" class=\"data row3 col2\" >73.36</td>\n",
       "      <td id=\"T_8fa92_row3_col3\" class=\"data row3 col3\" >73.66</td>\n",
       "      <td id=\"T_8fa92_row3_col4\" class=\"data row3 col4\" >73.66</td>\n",
       "      <td id=\"T_8fa92_row3_col5\" class=\"data row3 col5\" >158,498</td>\n",
       "    </tr>\n",
       "    <tr>\n",
       "      <th id=\"T_8fa92_level0_row4\" class=\"row_heading level0 row4\" >2023-01-10 09:34:00-05:00</th>\n",
       "      <td id=\"T_8fa92_row4_col0\" class=\"data row4 col0\" >73.70</td>\n",
       "      <td id=\"T_8fa92_row4_col1\" class=\"data row4 col1\" >73.99</td>\n",
       "      <td id=\"T_8fa92_row4_col2\" class=\"data row4 col2\" >73.49</td>\n",
       "      <td id=\"T_8fa92_row4_col3\" class=\"data row4 col3\" >73.55</td>\n",
       "      <td id=\"T_8fa92_row4_col4\" class=\"data row4 col4\" >73.55</td>\n",
       "      <td id=\"T_8fa92_row4_col5\" class=\"data row4 col5\" >68,966</td>\n",
       "    </tr>\n",
       "  </tbody>\n",
       "</table>\n",
       "&nbsp;&nbsp;&nbsp;<style type=\"text/css\">\n",
       "#T_7c20f caption {\n",
       "  background: #333333;\n",
       "  border-radius: 3px;\n",
       "  padding: 5px;\n",
       "  color: white;\n",
       "  font-size: 12px;\n",
       "  font-weight: bold;\n",
       "}\n",
       "</style>\n",
       "<table id=\"T_7c20f\" style='display:inline-block'>\n",
       "  <caption>tail(5)</caption>\n",
       "  <thead>\n",
       "    <tr>\n",
       "      <th class=\"blank level0\" >&nbsp;</th>\n",
       "      <th id=\"T_7c20f_level0_col0\" class=\"col_heading level0 col0\" >Open</th>\n",
       "      <th id=\"T_7c20f_level0_col1\" class=\"col_heading level0 col1\" >High</th>\n",
       "      <th id=\"T_7c20f_level0_col2\" class=\"col_heading level0 col2\" >Low</th>\n",
       "      <th id=\"T_7c20f_level0_col3\" class=\"col_heading level0 col3\" >Close</th>\n",
       "      <th id=\"T_7c20f_level0_col4\" class=\"col_heading level0 col4\" >Adj Close</th>\n",
       "      <th id=\"T_7c20f_level0_col5\" class=\"col_heading level0 col5\" >Volume</th>\n",
       "    </tr>\n",
       "    <tr>\n",
       "      <th class=\"index_name level0\" >Datetime</th>\n",
       "      <th class=\"blank col0\" >&nbsp;</th>\n",
       "      <th class=\"blank col1\" >&nbsp;</th>\n",
       "      <th class=\"blank col2\" >&nbsp;</th>\n",
       "      <th class=\"blank col3\" >&nbsp;</th>\n",
       "      <th class=\"blank col4\" >&nbsp;</th>\n",
       "      <th class=\"blank col5\" >&nbsp;</th>\n",
       "    </tr>\n",
       "  </thead>\n",
       "  <tbody>\n",
       "    <tr>\n",
       "      <th id=\"T_7c20f_level0_row0\" class=\"row_heading level0 row0\" >2023-01-17 15:56:00-05:00</th>\n",
       "      <td id=\"T_7c20f_row0_col0\" class=\"data row0 col0\" >80.46</td>\n",
       "      <td id=\"T_7c20f_row0_col1\" class=\"data row0 col1\" >80.51</td>\n",
       "      <td id=\"T_7c20f_row0_col2\" class=\"data row0 col2\" >80.46</td>\n",
       "      <td id=\"T_7c20f_row0_col3\" class=\"data row0 col3\" >80.49</td>\n",
       "      <td id=\"T_7c20f_row0_col4\" class=\"data row0 col4\" >80.49</td>\n",
       "      <td id=\"T_7c20f_row0_col5\" class=\"data row0 col5\" >58,583</td>\n",
       "    </tr>\n",
       "    <tr>\n",
       "      <th id=\"T_7c20f_level0_row1\" class=\"row_heading level0 row1\" >2023-01-17 15:57:00-05:00</th>\n",
       "      <td id=\"T_7c20f_row1_col0\" class=\"data row1 col0\" >80.49</td>\n",
       "      <td id=\"T_7c20f_row1_col1\" class=\"data row1 col1\" >80.51</td>\n",
       "      <td id=\"T_7c20f_row1_col2\" class=\"data row1 col2\" >80.49</td>\n",
       "      <td id=\"T_7c20f_row1_col3\" class=\"data row1 col3\" >80.49</td>\n",
       "      <td id=\"T_7c20f_row1_col4\" class=\"data row1 col4\" >80.49</td>\n",
       "      <td id=\"T_7c20f_row1_col5\" class=\"data row1 col5\" >45,146</td>\n",
       "    </tr>\n",
       "    <tr>\n",
       "      <th id=\"T_7c20f_level0_row2\" class=\"row_heading level0 row2\" >2023-01-17 15:58:00-05:00</th>\n",
       "      <td id=\"T_7c20f_row2_col0\" class=\"data row2 col0\" >80.50</td>\n",
       "      <td id=\"T_7c20f_row2_col1\" class=\"data row2 col1\" >80.54</td>\n",
       "      <td id=\"T_7c20f_row2_col2\" class=\"data row2 col2\" >80.49</td>\n",
       "      <td id=\"T_7c20f_row2_col3\" class=\"data row2 col3\" >80.49</td>\n",
       "      <td id=\"T_7c20f_row2_col4\" class=\"data row2 col4\" >80.49</td>\n",
       "      <td id=\"T_7c20f_row2_col5\" class=\"data row2 col5\" >78,248</td>\n",
       "    </tr>\n",
       "    <tr>\n",
       "      <th id=\"T_7c20f_level0_row3\" class=\"row_heading level0 row3\" >2023-01-17 15:59:00-05:00</th>\n",
       "      <td id=\"T_7c20f_row3_col0\" class=\"data row3 col0\" >80.50</td>\n",
       "      <td id=\"T_7c20f_row3_col1\" class=\"data row3 col1\" >80.52</td>\n",
       "      <td id=\"T_7c20f_row3_col2\" class=\"data row3 col2\" >80.42</td>\n",
       "      <td id=\"T_7c20f_row3_col3\" class=\"data row3 col3\" >80.50</td>\n",
       "      <td id=\"T_7c20f_row3_col4\" class=\"data row3 col4\" >80.50</td>\n",
       "      <td id=\"T_7c20f_row3_col5\" class=\"data row3 col5\" >290,298</td>\n",
       "    </tr>\n",
       "    <tr>\n",
       "      <th id=\"T_7c20f_level0_row4\" class=\"row_heading level0 row4\" >2023-01-17 16:00:00-05:00</th>\n",
       "      <td id=\"T_7c20f_row4_col0\" class=\"data row4 col0\" >80.49</td>\n",
       "      <td id=\"T_7c20f_row4_col1\" class=\"data row4 col1\" >80.49</td>\n",
       "      <td id=\"T_7c20f_row4_col2\" class=\"data row4 col2\" >80.49</td>\n",
       "      <td id=\"T_7c20f_row4_col3\" class=\"data row4 col3\" >80.49</td>\n",
       "      <td id=\"T_7c20f_row4_col4\" class=\"data row4 col4\" >80.49</td>\n",
       "      <td id=\"T_7c20f_row4_col5\" class=\"data row4 col5\" >0</td>\n",
       "    </tr>\n",
       "  </tbody>\n",
       "</table>\n",
       "&nbsp;&nbsp;&nbsp;"
      ]
     },
     "metadata": {},
     "output_type": "display_data"
    },
    {
     "name": "stdout",
     "output_type": "stream",
     "text": [
      "\n"
     ]
    }
   ],
   "source": [
    "head_tail_horz(yf.download(ticker, period = \"5d\", interval = \"1m\"),\n",
    "\t\t\t 5, title = \"(period = 5d, interval = 1m)\", intraday=True)"
   ]
  },
  {
   "cell_type": "markdown",
   "id": "04bf5a61-497a-4320-b6a9-83ea6927d55e",
   "metadata": {},
   "source": [
    "<font size = 4><span style = 'background-color: #ddddff; padding: 5px 5px 3px 5px; line-height: 1.5; color:black;border-radius: 3px;'>**⊛ GE: 5 day period & 1 minute interval**"
   ]
  },
  {
   "cell_type": "code",
   "execution_count": 22,
   "id": "a80e67a6-95e1-4193-9e0d-89d0c40ae6dc",
   "metadata": {},
   "outputs": [
    {
     "name": "stdout",
     "output_type": "stream",
     "text": [
      "[*********************100%***********************]  1 of 1 completed\n"
     ]
    }
   ],
   "source": [
    "ge51 = yf.download(ticker, period = \"5d\", interval = \"1m\")"
   ]
  },
  {
   "cell_type": "code",
   "execution_count": 23,
   "id": "557a7af8-ab28-44b4-9fdd-296a7a5d8a7d",
   "metadata": {},
   "outputs": [
    {
     "data": {
      "text/html": [
       "<span style = 'display: block; width: 350.0px; \t\t\t\t\t\tline-height: 2; background: #333333;\t\t\t\t\t\tmargin-left: auto; margin-right: auto;\t\t\t\t\t\tborder: 1px solid text_color;\t\t\t\t\t\tborder-radius: 3px; text-align: center;\t\t\t\t\t\tpadding: 3px 8px 3px 8px;'>\t\t\t\t\t\t<b><font size=4><text style=color:white>GE: 5 day period, 1 minute interval\t\t\t\t\t\t</text></font></b></style>"
      ],
      "text/plain": [
       "<IPython.core.display.HTML object>"
      ]
     },
     "metadata": {},
     "output_type": "display_data"
    },
    {
     "data": {
      "text/html": [
       "<center><style type=\"text/css\">\n",
       "#T_5dcc8 caption {\n",
       "  background: #333333;\n",
       "  border-radius: 3px;\n",
       "  padding: 5px;\n",
       "  color: white;\n",
       "  font-size: 12px;\n",
       "  font-weight: bold;\n",
       "}\n",
       "</style>\n",
       "<table id=\"T_5dcc8\" style='display:inline-block'>\n",
       "  <caption>head(5)</caption>\n",
       "  <thead>\n",
       "    <tr>\n",
       "      <th class=\"blank level0\" >&nbsp;</th>\n",
       "      <th id=\"T_5dcc8_level0_col0\" class=\"col_heading level0 col0\" >Open</th>\n",
       "      <th id=\"T_5dcc8_level0_col1\" class=\"col_heading level0 col1\" >High</th>\n",
       "      <th id=\"T_5dcc8_level0_col2\" class=\"col_heading level0 col2\" >Low</th>\n",
       "      <th id=\"T_5dcc8_level0_col3\" class=\"col_heading level0 col3\" >Close</th>\n",
       "      <th id=\"T_5dcc8_level0_col4\" class=\"col_heading level0 col4\" >Adj Close</th>\n",
       "      <th id=\"T_5dcc8_level0_col5\" class=\"col_heading level0 col5\" >Volume</th>\n",
       "    </tr>\n",
       "    <tr>\n",
       "      <th class=\"index_name level0\" >Datetime</th>\n",
       "      <th class=\"blank col0\" >&nbsp;</th>\n",
       "      <th class=\"blank col1\" >&nbsp;</th>\n",
       "      <th class=\"blank col2\" >&nbsp;</th>\n",
       "      <th class=\"blank col3\" >&nbsp;</th>\n",
       "      <th class=\"blank col4\" >&nbsp;</th>\n",
       "      <th class=\"blank col5\" >&nbsp;</th>\n",
       "    </tr>\n",
       "  </thead>\n",
       "  <tbody>\n",
       "    <tr>\n",
       "      <th id=\"T_5dcc8_level0_row0\" class=\"row_heading level0 row0\" >2023-01-10 09:30:00-05:00</th>\n",
       "      <td id=\"T_5dcc8_row0_col0\" class=\"data row0 col0\" >72.20</td>\n",
       "      <td id=\"T_5dcc8_row0_col1\" class=\"data row0 col1\" >72.72</td>\n",
       "      <td id=\"T_5dcc8_row0_col2\" class=\"data row0 col2\" >72.20</td>\n",
       "      <td id=\"T_5dcc8_row0_col3\" class=\"data row0 col3\" >72.50</td>\n",
       "      <td id=\"T_5dcc8_row0_col4\" class=\"data row0 col4\" >72.50</td>\n",
       "      <td id=\"T_5dcc8_row0_col5\" class=\"data row0 col5\" >106,241</td>\n",
       "    </tr>\n",
       "    <tr>\n",
       "      <th id=\"T_5dcc8_level0_row1\" class=\"row_heading level0 row1\" >2023-01-10 09:31:00-05:00</th>\n",
       "      <td id=\"T_5dcc8_row1_col0\" class=\"data row1 col0\" >72.59</td>\n",
       "      <td id=\"T_5dcc8_row1_col1\" class=\"data row1 col1\" >73.15</td>\n",
       "      <td id=\"T_5dcc8_row1_col2\" class=\"data row1 col2\" >72.50</td>\n",
       "      <td id=\"T_5dcc8_row1_col3\" class=\"data row1 col3\" >73.10</td>\n",
       "      <td id=\"T_5dcc8_row1_col4\" class=\"data row1 col4\" >73.10</td>\n",
       "      <td id=\"T_5dcc8_row1_col5\" class=\"data row1 col5\" >40,117</td>\n",
       "    </tr>\n",
       "    <tr>\n",
       "      <th id=\"T_5dcc8_level0_row2\" class=\"row_heading level0 row2\" >2023-01-10 09:32:00-05:00</th>\n",
       "      <td id=\"T_5dcc8_row2_col0\" class=\"data row2 col0\" >73.10</td>\n",
       "      <td id=\"T_5dcc8_row2_col1\" class=\"data row2 col1\" >73.42</td>\n",
       "      <td id=\"T_5dcc8_row2_col2\" class=\"data row2 col2\" >73.10</td>\n",
       "      <td id=\"T_5dcc8_row2_col3\" class=\"data row2 col3\" >73.42</td>\n",
       "      <td id=\"T_5dcc8_row2_col4\" class=\"data row2 col4\" >73.42</td>\n",
       "      <td id=\"T_5dcc8_row2_col5\" class=\"data row2 col5\" >8,275</td>\n",
       "    </tr>\n",
       "    <tr>\n",
       "      <th id=\"T_5dcc8_level0_row3\" class=\"row_heading level0 row3\" >2023-01-10 09:33:00-05:00</th>\n",
       "      <td id=\"T_5dcc8_row3_col0\" class=\"data row3 col0\" >73.40</td>\n",
       "      <td id=\"T_5dcc8_row3_col1\" class=\"data row3 col1\" >73.66</td>\n",
       "      <td id=\"T_5dcc8_row3_col2\" class=\"data row3 col2\" >73.36</td>\n",
       "      <td id=\"T_5dcc8_row3_col3\" class=\"data row3 col3\" >73.66</td>\n",
       "      <td id=\"T_5dcc8_row3_col4\" class=\"data row3 col4\" >73.66</td>\n",
       "      <td id=\"T_5dcc8_row3_col5\" class=\"data row3 col5\" >158,498</td>\n",
       "    </tr>\n",
       "    <tr>\n",
       "      <th id=\"T_5dcc8_level0_row4\" class=\"row_heading level0 row4\" >2023-01-10 09:34:00-05:00</th>\n",
       "      <td id=\"T_5dcc8_row4_col0\" class=\"data row4 col0\" >73.70</td>\n",
       "      <td id=\"T_5dcc8_row4_col1\" class=\"data row4 col1\" >73.99</td>\n",
       "      <td id=\"T_5dcc8_row4_col2\" class=\"data row4 col2\" >73.49</td>\n",
       "      <td id=\"T_5dcc8_row4_col3\" class=\"data row4 col3\" >73.55</td>\n",
       "      <td id=\"T_5dcc8_row4_col4\" class=\"data row4 col4\" >73.55</td>\n",
       "      <td id=\"T_5dcc8_row4_col5\" class=\"data row4 col5\" >68,966</td>\n",
       "    </tr>\n",
       "  </tbody>\n",
       "</table>\n",
       "&nbsp;&nbsp;&nbsp;<style type=\"text/css\">\n",
       "#T_80041 caption {\n",
       "  background: #333333;\n",
       "  border-radius: 3px;\n",
       "  padding: 5px;\n",
       "  color: white;\n",
       "  font-size: 12px;\n",
       "  font-weight: bold;\n",
       "}\n",
       "</style>\n",
       "<table id=\"T_80041\" style='display:inline-block'>\n",
       "  <caption>tail(5)</caption>\n",
       "  <thead>\n",
       "    <tr>\n",
       "      <th class=\"blank level0\" >&nbsp;</th>\n",
       "      <th id=\"T_80041_level0_col0\" class=\"col_heading level0 col0\" >Open</th>\n",
       "      <th id=\"T_80041_level0_col1\" class=\"col_heading level0 col1\" >High</th>\n",
       "      <th id=\"T_80041_level0_col2\" class=\"col_heading level0 col2\" >Low</th>\n",
       "      <th id=\"T_80041_level0_col3\" class=\"col_heading level0 col3\" >Close</th>\n",
       "      <th id=\"T_80041_level0_col4\" class=\"col_heading level0 col4\" >Adj Close</th>\n",
       "      <th id=\"T_80041_level0_col5\" class=\"col_heading level0 col5\" >Volume</th>\n",
       "    </tr>\n",
       "    <tr>\n",
       "      <th class=\"index_name level0\" >Datetime</th>\n",
       "      <th class=\"blank col0\" >&nbsp;</th>\n",
       "      <th class=\"blank col1\" >&nbsp;</th>\n",
       "      <th class=\"blank col2\" >&nbsp;</th>\n",
       "      <th class=\"blank col3\" >&nbsp;</th>\n",
       "      <th class=\"blank col4\" >&nbsp;</th>\n",
       "      <th class=\"blank col5\" >&nbsp;</th>\n",
       "    </tr>\n",
       "  </thead>\n",
       "  <tbody>\n",
       "    <tr>\n",
       "      <th id=\"T_80041_level0_row0\" class=\"row_heading level0 row0\" >2023-01-17 15:56:00-05:00</th>\n",
       "      <td id=\"T_80041_row0_col0\" class=\"data row0 col0\" >80.46</td>\n",
       "      <td id=\"T_80041_row0_col1\" class=\"data row0 col1\" >80.51</td>\n",
       "      <td id=\"T_80041_row0_col2\" class=\"data row0 col2\" >80.46</td>\n",
       "      <td id=\"T_80041_row0_col3\" class=\"data row0 col3\" >80.49</td>\n",
       "      <td id=\"T_80041_row0_col4\" class=\"data row0 col4\" >80.49</td>\n",
       "      <td id=\"T_80041_row0_col5\" class=\"data row0 col5\" >58,583</td>\n",
       "    </tr>\n",
       "    <tr>\n",
       "      <th id=\"T_80041_level0_row1\" class=\"row_heading level0 row1\" >2023-01-17 15:57:00-05:00</th>\n",
       "      <td id=\"T_80041_row1_col0\" class=\"data row1 col0\" >80.49</td>\n",
       "      <td id=\"T_80041_row1_col1\" class=\"data row1 col1\" >80.51</td>\n",
       "      <td id=\"T_80041_row1_col2\" class=\"data row1 col2\" >80.49</td>\n",
       "      <td id=\"T_80041_row1_col3\" class=\"data row1 col3\" >80.49</td>\n",
       "      <td id=\"T_80041_row1_col4\" class=\"data row1 col4\" >80.49</td>\n",
       "      <td id=\"T_80041_row1_col5\" class=\"data row1 col5\" >45,146</td>\n",
       "    </tr>\n",
       "    <tr>\n",
       "      <th id=\"T_80041_level0_row2\" class=\"row_heading level0 row2\" >2023-01-17 15:58:00-05:00</th>\n",
       "      <td id=\"T_80041_row2_col0\" class=\"data row2 col0\" >80.50</td>\n",
       "      <td id=\"T_80041_row2_col1\" class=\"data row2 col1\" >80.54</td>\n",
       "      <td id=\"T_80041_row2_col2\" class=\"data row2 col2\" >80.49</td>\n",
       "      <td id=\"T_80041_row2_col3\" class=\"data row2 col3\" >80.49</td>\n",
       "      <td id=\"T_80041_row2_col4\" class=\"data row2 col4\" >80.49</td>\n",
       "      <td id=\"T_80041_row2_col5\" class=\"data row2 col5\" >78,248</td>\n",
       "    </tr>\n",
       "    <tr>\n",
       "      <th id=\"T_80041_level0_row3\" class=\"row_heading level0 row3\" >2023-01-17 15:59:00-05:00</th>\n",
       "      <td id=\"T_80041_row3_col0\" class=\"data row3 col0\" >80.50</td>\n",
       "      <td id=\"T_80041_row3_col1\" class=\"data row3 col1\" >80.52</td>\n",
       "      <td id=\"T_80041_row3_col2\" class=\"data row3 col2\" >80.42</td>\n",
       "      <td id=\"T_80041_row3_col3\" class=\"data row3 col3\" >80.50</td>\n",
       "      <td id=\"T_80041_row3_col4\" class=\"data row3 col4\" >80.50</td>\n",
       "      <td id=\"T_80041_row3_col5\" class=\"data row3 col5\" >290,298</td>\n",
       "    </tr>\n",
       "    <tr>\n",
       "      <th id=\"T_80041_level0_row4\" class=\"row_heading level0 row4\" >2023-01-17 16:00:00-05:00</th>\n",
       "      <td id=\"T_80041_row4_col0\" class=\"data row4 col0\" >80.49</td>\n",
       "      <td id=\"T_80041_row4_col1\" class=\"data row4 col1\" >80.49</td>\n",
       "      <td id=\"T_80041_row4_col2\" class=\"data row4 col2\" >80.49</td>\n",
       "      <td id=\"T_80041_row4_col3\" class=\"data row4 col3\" >80.49</td>\n",
       "      <td id=\"T_80041_row4_col4\" class=\"data row4 col4\" >80.49</td>\n",
       "      <td id=\"T_80041_row4_col5\" class=\"data row4 col5\" >0</td>\n",
       "    </tr>\n",
       "  </tbody>\n",
       "</table>\n",
       "&nbsp;&nbsp;&nbsp;"
      ]
     },
     "metadata": {},
     "output_type": "display_data"
    },
    {
     "name": "stdout",
     "output_type": "stream",
     "text": [
      "\n"
     ]
    }
   ],
   "source": [
    "head_tail_horz(ge51, 5, \"GE: 5 day period, 1 minute interval\", intraday=True)"
   ]
  },
  {
   "cell_type": "markdown",
   "id": "36920d3e-b9bc-47d5-a2c9-e60b85771caf",
   "metadata": {},
   "source": [
    "<font size = 4><span style = 'background-color: #ddddff; padding: 5px 5px 3px 5px; line-height: 1.5; color:black;border-radius: 3px;'>**⊛ ge51.describe()**"
   ]
  },
  {
   "cell_type": "code",
   "execution_count": 24,
   "id": "cbb1f28c-b5f2-4389-80b6-50b089bc7b42",
   "metadata": {},
   "outputs": [
    {
     "data": {
      "text/html": [
       "<span style = 'display: block; width: 240.0px; \t\t\t\t\t\tline-height: 2; background: #333333;\t\t\t\t\t\tmargin-left: auto; margin-right: auto;\t\t\t\t\t\tborder: 1px solid text_color;\t\t\t\t\t\tborder-radius: 3px; text-align: center;\t\t\t\t\t\tpadding: 3px 8px 3px 8px;'>\t\t\t\t\t\t<b><font size=4><text style=color:white>ge51.describe() overview\t\t\t\t\t\t</text></font></b></style>"
      ],
      "text/plain": [
       "<IPython.core.display.HTML object>"
      ]
     },
     "metadata": {},
     "output_type": "display_data"
    },
    {
     "data": {
      "text/html": [
       "<center><table border=\"1\" class=\"dataframe\">\n",
       "  <thead>\n",
       "    <tr style=\"text-align: right;\">\n",
       "      <th></th>\n",
       "      <th>Open</th>\n",
       "      <th>High</th>\n",
       "      <th>Low</th>\n",
       "      <th>Close</th>\n",
       "      <th>Adj Close</th>\n",
       "      <th>Volume</th>\n",
       "    </tr>\n",
       "  </thead>\n",
       "  <tbody>\n",
       "    <tr>\n",
       "      <th>count</th>\n",
       "      <td>1,949.00</td>\n",
       "      <td>1,949.00</td>\n",
       "      <td>1,949.00</td>\n",
       "      <td>1,949.00</td>\n",
       "      <td>1,949.00</td>\n",
       "      <td>1,949.00</td>\n",
       "    </tr>\n",
       "    <tr>\n",
       "      <th>mean</th>\n",
       "      <td>77.92</td>\n",
       "      <td>77.96</td>\n",
       "      <td>77.89</td>\n",
       "      <td>77.93</td>\n",
       "      <td>77.93</td>\n",
       "      <td>22,511.31</td>\n",
       "    </tr>\n",
       "    <tr>\n",
       "      <th>std</th>\n",
       "      <td>2.37</td>\n",
       "      <td>2.37</td>\n",
       "      <td>2.38</td>\n",
       "      <td>2.37</td>\n",
       "      <td>2.37</td>\n",
       "      <td>55,856.67</td>\n",
       "    </tr>\n",
       "    <tr>\n",
       "      <th>min</th>\n",
       "      <td>72.20</td>\n",
       "      <td>72.72</td>\n",
       "      <td>72.20</td>\n",
       "      <td>72.50</td>\n",
       "      <td>72.50</td>\n",
       "      <td>0.00</td>\n",
       "    </tr>\n",
       "    <tr>\n",
       "      <th>25%</th>\n",
       "      <td>76.47</td>\n",
       "      <td>76.53</td>\n",
       "      <td>76.43</td>\n",
       "      <td>76.49</td>\n",
       "      <td>76.49</td>\n",
       "      <td>7,173.00</td>\n",
       "    </tr>\n",
       "    <tr>\n",
       "      <th>50%</th>\n",
       "      <td>78.59</td>\n",
       "      <td>78.62</td>\n",
       "      <td>78.55</td>\n",
       "      <td>78.60</td>\n",
       "      <td>78.60</td>\n",
       "      <td>11,596.00</td>\n",
       "    </tr>\n",
       "    <tr>\n",
       "      <th>75%</th>\n",
       "      <td>80.13</td>\n",
       "      <td>80.16</td>\n",
       "      <td>80.10</td>\n",
       "      <td>80.13</td>\n",
       "      <td>80.13</td>\n",
       "      <td>21,180.00</td>\n",
       "    </tr>\n",
       "    <tr>\n",
       "      <th>max</th>\n",
       "      <td>80.56</td>\n",
       "      <td>80.66</td>\n",
       "      <td>80.54</td>\n",
       "      <td>80.56</td>\n",
       "      <td>80.56</td>\n",
       "      <td>1,831,539.00</td>\n",
       "    </tr>\n",
       "  </tbody>\n",
       "</table>"
      ],
      "text/plain": [
       "<IPython.core.display.HTML object>"
      ]
     },
     "metadata": {},
     "output_type": "display_data"
    },
    {
     "name": "stdout",
     "output_type": "stream",
     "text": [
      "\n"
     ]
    }
   ],
   "source": [
    "see(ge51.describe(), 'ge51.describe() overview')"
   ]
  },
  {
   "cell_type": "markdown",
   "id": "0fc57369-4bd7-4c60-b023-c6b7b9cd6537",
   "metadata": {},
   "source": [
    "<font size = 4><span style = 'background-color: #ddddff; padding: 5px 5px 3px 5px; line-height: 1.5; color:black;border-radius: 3px;'>Using **`prepost`** for 4:30 - 9:30am pre-market trading\n",
    "<font size = 4>\n",
    "* Default setting is False\n",
    "* There is also a post-market trading session\n",
    "\t"
   ]
  },
  {
   "cell_type": "code",
   "execution_count": 25,
   "id": "ac8304de-fd54-4ebc-bf73-b5fa29bcfb78",
   "metadata": {},
   "outputs": [
    {
     "name": "stdout",
     "output_type": "stream",
     "text": [
      "[*********************100%***********************]  1 of 1 completed\n"
     ]
    },
    {
     "data": {
      "text/html": [
       "<span style = 'display: block; width: 460.0px; \t\t\t\t\t\tline-height: 2; background: #333333;\t\t\t\t\t\tmargin-left: auto; margin-right: auto;\t\t\t\t\t\tborder: 1px solid text_color;\t\t\t\t\t\tborder-radius: 3px; text-align: center;\t\t\t\t\t\tpadding: 3px 8px 3px 8px;'>\t\t\t\t\t\t<b><font size=4><text style=color:white>(prepost=True, period = \"5d\", interval = \"1m\")\t\t\t\t\t\t</text></font></b></style>"
      ],
      "text/plain": [
       "<IPython.core.display.HTML object>"
      ]
     },
     "metadata": {},
     "output_type": "display_data"
    },
    {
     "data": {
      "text/html": [
       "<center><style type=\"text/css\">\n",
       "#T_fde18 caption {\n",
       "  background: #333333;\n",
       "  border-radius: 3px;\n",
       "  padding: 5px;\n",
       "  color: white;\n",
       "  font-size: 12px;\n",
       "  font-weight: bold;\n",
       "}\n",
       "</style>\n",
       "<table id=\"T_fde18\" style='display:inline-block'>\n",
       "  <caption>head(5)</caption>\n",
       "  <thead>\n",
       "    <tr>\n",
       "      <th class=\"blank level0\" >&nbsp;</th>\n",
       "      <th id=\"T_fde18_level0_col0\" class=\"col_heading level0 col0\" >Open</th>\n",
       "      <th id=\"T_fde18_level0_col1\" class=\"col_heading level0 col1\" >High</th>\n",
       "      <th id=\"T_fde18_level0_col2\" class=\"col_heading level0 col2\" >Low</th>\n",
       "      <th id=\"T_fde18_level0_col3\" class=\"col_heading level0 col3\" >Close</th>\n",
       "      <th id=\"T_fde18_level0_col4\" class=\"col_heading level0 col4\" >Adj Close</th>\n",
       "    </tr>\n",
       "    <tr>\n",
       "      <th class=\"index_name level0\" >Datetime</th>\n",
       "      <th class=\"blank col0\" >&nbsp;</th>\n",
       "      <th class=\"blank col1\" >&nbsp;</th>\n",
       "      <th class=\"blank col2\" >&nbsp;</th>\n",
       "      <th class=\"blank col3\" >&nbsp;</th>\n",
       "      <th class=\"blank col4\" >&nbsp;</th>\n",
       "    </tr>\n",
       "  </thead>\n",
       "  <tbody>\n",
       "    <tr>\n",
       "      <th id=\"T_fde18_level0_row0\" class=\"row_heading level0 row0\" >2023-01-10 04:00:00-05:00</th>\n",
       "      <td id=\"T_fde18_row0_col0\" class=\"data row0 col0\" >72.20</td>\n",
       "      <td id=\"T_fde18_row0_col1\" class=\"data row0 col1\" >72.20</td>\n",
       "      <td id=\"T_fde18_row0_col2\" class=\"data row0 col2\" >72.20</td>\n",
       "      <td id=\"T_fde18_row0_col3\" class=\"data row0 col3\" >72.20</td>\n",
       "      <td id=\"T_fde18_row0_col4\" class=\"data row0 col4\" >72.20</td>\n",
       "    </tr>\n",
       "    <tr>\n",
       "      <th id=\"T_fde18_level0_row1\" class=\"row_heading level0 row1\" >2023-01-10 07:00:00-05:00</th>\n",
       "      <td id=\"T_fde18_row1_col0\" class=\"data row1 col0\" >72.92</td>\n",
       "      <td id=\"T_fde18_row1_col1\" class=\"data row1 col1\" >72.92</td>\n",
       "      <td id=\"T_fde18_row1_col2\" class=\"data row1 col2\" >72.85</td>\n",
       "      <td id=\"T_fde18_row1_col3\" class=\"data row1 col3\" >72.85</td>\n",
       "      <td id=\"T_fde18_row1_col4\" class=\"data row1 col4\" >72.85</td>\n",
       "    </tr>\n",
       "    <tr>\n",
       "      <th id=\"T_fde18_level0_row2\" class=\"row_heading level0 row2\" >2023-01-10 07:05:00-05:00</th>\n",
       "      <td id=\"T_fde18_row2_col0\" class=\"data row2 col0\" >72.85</td>\n",
       "      <td id=\"T_fde18_row2_col1\" class=\"data row2 col1\" >72.85</td>\n",
       "      <td id=\"T_fde18_row2_col2\" class=\"data row2 col2\" >72.85</td>\n",
       "      <td id=\"T_fde18_row2_col3\" class=\"data row2 col3\" >72.85</td>\n",
       "      <td id=\"T_fde18_row2_col4\" class=\"data row2 col4\" >72.85</td>\n",
       "    </tr>\n",
       "    <tr>\n",
       "      <th id=\"T_fde18_level0_row3\" class=\"row_heading level0 row3\" >2023-01-10 07:08:00-05:00</th>\n",
       "      <td id=\"T_fde18_row3_col0\" class=\"data row3 col0\" >72.11</td>\n",
       "      <td id=\"T_fde18_row3_col1\" class=\"data row3 col1\" >72.21</td>\n",
       "      <td id=\"T_fde18_row3_col2\" class=\"data row3 col2\" >72.00</td>\n",
       "      <td id=\"T_fde18_row3_col3\" class=\"data row3 col3\" >72.00</td>\n",
       "      <td id=\"T_fde18_row3_col4\" class=\"data row3 col4\" >72.00</td>\n",
       "    </tr>\n",
       "    <tr>\n",
       "      <th id=\"T_fde18_level0_row4\" class=\"row_heading level0 row4\" >2023-01-10 07:19:00-05:00</th>\n",
       "      <td id=\"T_fde18_row4_col0\" class=\"data row4 col0\" >72.19</td>\n",
       "      <td id=\"T_fde18_row4_col1\" class=\"data row4 col1\" >72.20</td>\n",
       "      <td id=\"T_fde18_row4_col2\" class=\"data row4 col2\" >72.00</td>\n",
       "      <td id=\"T_fde18_row4_col3\" class=\"data row4 col3\" >72.00</td>\n",
       "      <td id=\"T_fde18_row4_col4\" class=\"data row4 col4\" >72.00</td>\n",
       "    </tr>\n",
       "  </tbody>\n",
       "</table>\n",
       "&nbsp;&nbsp;&nbsp;<style type=\"text/css\">\n",
       "#T_d1bd8 caption {\n",
       "  background: #333333;\n",
       "  border-radius: 3px;\n",
       "  padding: 5px;\n",
       "  color: white;\n",
       "  font-size: 12px;\n",
       "  font-weight: bold;\n",
       "}\n",
       "</style>\n",
       "<table id=\"T_d1bd8\" style='display:inline-block'>\n",
       "  <caption>tail(5)</caption>\n",
       "  <thead>\n",
       "    <tr>\n",
       "      <th class=\"blank level0\" >&nbsp;</th>\n",
       "      <th id=\"T_d1bd8_level0_col0\" class=\"col_heading level0 col0\" >Open</th>\n",
       "      <th id=\"T_d1bd8_level0_col1\" class=\"col_heading level0 col1\" >High</th>\n",
       "      <th id=\"T_d1bd8_level0_col2\" class=\"col_heading level0 col2\" >Low</th>\n",
       "      <th id=\"T_d1bd8_level0_col3\" class=\"col_heading level0 col3\" >Close</th>\n",
       "      <th id=\"T_d1bd8_level0_col4\" class=\"col_heading level0 col4\" >Adj Close</th>\n",
       "    </tr>\n",
       "    <tr>\n",
       "      <th class=\"index_name level0\" >Datetime</th>\n",
       "      <th class=\"blank col0\" >&nbsp;</th>\n",
       "      <th class=\"blank col1\" >&nbsp;</th>\n",
       "      <th class=\"blank col2\" >&nbsp;</th>\n",
       "      <th class=\"blank col3\" >&nbsp;</th>\n",
       "      <th class=\"blank col4\" >&nbsp;</th>\n",
       "    </tr>\n",
       "  </thead>\n",
       "  <tbody>\n",
       "    <tr>\n",
       "      <th id=\"T_d1bd8_level0_row0\" class=\"row_heading level0 row0\" >2023-01-17 18:46:00-05:00</th>\n",
       "      <td id=\"T_d1bd8_row0_col0\" class=\"data row0 col0\" >80.26</td>\n",
       "      <td id=\"T_d1bd8_row0_col1\" class=\"data row0 col1\" >80.26</td>\n",
       "      <td id=\"T_d1bd8_row0_col2\" class=\"data row0 col2\" >80.26</td>\n",
       "      <td id=\"T_d1bd8_row0_col3\" class=\"data row0 col3\" >80.26</td>\n",
       "      <td id=\"T_d1bd8_row0_col4\" class=\"data row0 col4\" >80.26</td>\n",
       "    </tr>\n",
       "    <tr>\n",
       "      <th id=\"T_d1bd8_level0_row1\" class=\"row_heading level0 row1\" >2023-01-17 18:49:00-05:00</th>\n",
       "      <td id=\"T_d1bd8_row1_col0\" class=\"data row1 col0\" >80.05</td>\n",
       "      <td id=\"T_d1bd8_row1_col1\" class=\"data row1 col1\" >80.05</td>\n",
       "      <td id=\"T_d1bd8_row1_col2\" class=\"data row1 col2\" >80.05</td>\n",
       "      <td id=\"T_d1bd8_row1_col3\" class=\"data row1 col3\" >80.05</td>\n",
       "      <td id=\"T_d1bd8_row1_col4\" class=\"data row1 col4\" >80.05</td>\n",
       "    </tr>\n",
       "    <tr>\n",
       "      <th id=\"T_d1bd8_level0_row2\" class=\"row_heading level0 row2\" >2023-01-17 18:56:00-05:00</th>\n",
       "      <td id=\"T_d1bd8_row2_col0\" class=\"data row2 col0\" >80.05</td>\n",
       "      <td id=\"T_d1bd8_row2_col1\" class=\"data row2 col1\" >80.35</td>\n",
       "      <td id=\"T_d1bd8_row2_col2\" class=\"data row2 col2\" >80.05</td>\n",
       "      <td id=\"T_d1bd8_row2_col3\" class=\"data row2 col3\" >80.35</td>\n",
       "      <td id=\"T_d1bd8_row2_col4\" class=\"data row2 col4\" >80.35</td>\n",
       "    </tr>\n",
       "    <tr>\n",
       "      <th id=\"T_d1bd8_level0_row3\" class=\"row_heading level0 row3\" >2023-01-17 19:02:00-05:00</th>\n",
       "      <td id=\"T_d1bd8_row3_col0\" class=\"data row3 col0\" >80.22</td>\n",
       "      <td id=\"T_d1bd8_row3_col1\" class=\"data row3 col1\" >80.22</td>\n",
       "      <td id=\"T_d1bd8_row3_col2\" class=\"data row3 col2\" >80.14</td>\n",
       "      <td id=\"T_d1bd8_row3_col3\" class=\"data row3 col3\" >80.14</td>\n",
       "      <td id=\"T_d1bd8_row3_col4\" class=\"data row3 col4\" >80.14</td>\n",
       "    </tr>\n",
       "    <tr>\n",
       "      <th id=\"T_d1bd8_level0_row4\" class=\"row_heading level0 row4\" >2023-01-17 19:05:00-05:00</th>\n",
       "      <td id=\"T_d1bd8_row4_col0\" class=\"data row4 col0\" >80.42</td>\n",
       "      <td id=\"T_d1bd8_row4_col1\" class=\"data row4 col1\" >80.42</td>\n",
       "      <td id=\"T_d1bd8_row4_col2\" class=\"data row4 col2\" >80.42</td>\n",
       "      <td id=\"T_d1bd8_row4_col3\" class=\"data row4 col3\" >80.42</td>\n",
       "      <td id=\"T_d1bd8_row4_col4\" class=\"data row4 col4\" >80.42</td>\n",
       "    </tr>\n",
       "  </tbody>\n",
       "</table>\n",
       "&nbsp;&nbsp;&nbsp;"
      ]
     },
     "metadata": {},
     "output_type": "display_data"
    },
    {
     "name": "stdout",
     "output_type": "stream",
     "text": [
      "\n"
     ]
    }
   ],
   "source": [
    "head_tail_horz(yf.download(ticker, prepost=True, period = \"5d\", \n",
    "\t\t\t\t\t\t   interval = \"1m\").drop(columns = [\"Volume\"]),\n",
    "\t\t\t   5, '(prepost=True, period = \"5d\", interval = \"1m\")', intraday=True)"
   ]
  },
  {
   "cell_type": "markdown",
   "id": "e3c4a698-84b2-404d-b3cc-f14effaa5097",
   "metadata": {},
   "source": [
    "<a name = 'splits_dividends'></a>\n",
    "\n",
    "---\n",
    "\n",
    "**Sections:**  ●  [Top](#top)  ●  [Download & Import](#downloading_importing)  ●  [Historical Data](#historical_data)  ●  [Setting Date Range](#date_range)  ●  [High Frenquency](#high_frequency)   ●  [Splits & Dividends](#splits_dividends)   ●  [Exporting](#exporting)   ●  [Multiple Stocks](#multiple_stocks)   ●  [Importing Indexes](#importing_indexes)   ●  [Currency Exchange](#currency_exchange)   ●  [Cryptocurrencies](#cryptocurrencies)   ●  [Mutual & Exchange Traded Funds](#mututal_funds)   ●  [Treasury Yields](#treasury_yields)   ●  [Ticker Object & Docs](#ticker_object)   ●  [Stock Fundamentals](#stock_fundamentals)   ●  [Importing Financials](#importing_financials)   ●  [Importing Put & Call](#put_call)   ●  [Streaming Real-Time](#streaming_real_time)   ●\n",
    "\n",
    "---\n",
    "\n",
    "<span style = 'background-color: purple; font-weight: bold; padding: 5px 5px 3px 5px; line-height: 1.5; color:white;border-radius: 3px;'><font size = 4>▻ Stock Splits and Dividends</font></span>\n",
    "\n",
    "<br>\n",
    "\n",
    "<font size = 4><span style = 'background-color: #ddddff; padding: 5px 5px 3px 5px; line-height: 1.5; color:black;border-radius: 3px;'>\n",
    "Also called \"corporate actions\". This is the number one source of mistakes and errors when working with stock price data. \n",
    "* in some cases, historical stock prices should be adjusted for stock splits and dividends\n",
    "* in other cases, they should not be adjusted"
   ]
  },
  {
   "cell_type": "code",
   "execution_count": 26,
   "id": "55073756-cc55-4f00-a008-d80500a068f5",
   "metadata": {},
   "outputs": [],
   "source": [
    "import_all()"
   ]
  },
  {
   "cell_type": "markdown",
   "id": "c7b9b78b-7d5b-4acf-81f7-6779c9789fcd",
   "metadata": {},
   "source": [
    "<font size = 4><span style = 'background-color: #ddddff; padding: 5px 5px 3px 5px; line-height: 1.5; color:black;border-radius: 3px;'>⊛  **Apple** stock:\n",
    "* last 10 years of data\n",
    "* `actions = True` causes the download of stock splits and dividends data as well"
   ]
  },
  {
   "cell_type": "code",
   "execution_count": 27,
   "id": "32ad4a38-e1bc-43e2-82ca-94b9af9d5ef9",
   "metadata": {},
   "outputs": [
    {
     "name": "stdout",
     "output_type": "stream",
     "text": [
      "[*********************100%***********************]  1 of 1 completed\n"
     ]
    }
   ],
   "source": [
    "ticker = 'AAPL'\n",
    "AAPL = yf.download(ticker, period = \"10y\", actions = True)"
   ]
  },
  {
   "cell_type": "markdown",
   "id": "96d625ed-e0f7-46c2-a869-c7c5e6ca5a8d",
   "metadata": {},
   "source": [
    "<font size = 4><span style = 'background-color: #ddddff; padding: 5px 5px 3px 5px; line-height: 1.5; color:black;border-radius: 3px;'>⊛ Apple stock head and tail:\n",
    "\t\n",
    "* In the most recent data, the `tail(5)` below, the adjusted close and close are identical\n",
    "* But going back in time, toward the `head(5)`, the difference between adjusted close and close increase\n",
    "* Adjusted close is always lower than close price\n",
    "* The reason for this is dividends\n",
    "* Adjusted close prices are backward adjusted for divdends"
   ]
  },
  {
   "cell_type": "code",
   "execution_count": 28,
   "id": "50ae48fd-3a76-46ad-bb8e-44724dabc9e6",
   "metadata": {},
   "outputs": [
    {
     "name": "stdout",
     "output_type": "stream",
     "text": [
      "\n"
     ]
    },
    {
     "data": {
      "text/html": [
       "<span style = 'display: block; width: 440.0px; \t\t\t\t\t\tline-height: 2; background: #333333;\t\t\t\t\t\tmargin-left: auto; margin-right: auto;\t\t\t\t\t\tborder: 1px solid text_color;\t\t\t\t\t\tborder-radius: 3px; text-align: center;\t\t\t\t\t\tpadding: 3px 8px 3px 8px;'>\t\t\t\t\t\t<b><font size=4><text style=color:white>AAPL (period = 10y, actions = True): head(5)\t\t\t\t\t\t</text></font></b></style>"
      ],
      "text/plain": [
       "<IPython.core.display.HTML object>"
      ]
     },
     "metadata": {},
     "output_type": "display_data"
    },
    {
     "data": {
      "text/html": [
       "<center><table border=\"1\" class=\"dataframe\">\n",
       "  <thead>\n",
       "    <tr style=\"text-align: right;\">\n",
       "      <th></th>\n",
       "      <th>Open</th>\n",
       "      <th>High</th>\n",
       "      <th>Low</th>\n",
       "      <th>Close</th>\n",
       "      <th>Adj Close</th>\n",
       "      <th>Volume</th>\n",
       "      <th>Dividends</th>\n",
       "      <th>Stock Splits</th>\n",
       "    </tr>\n",
       "    <tr>\n",
       "      <th>Date</th>\n",
       "      <th></th>\n",
       "      <th></th>\n",
       "      <th></th>\n",
       "      <th></th>\n",
       "      <th></th>\n",
       "      <th></th>\n",
       "      <th></th>\n",
       "      <th></th>\n",
       "    </tr>\n",
       "  </thead>\n",
       "  <tbody>\n",
       "    <tr>\n",
       "      <th>2013-01-18</th>\n",
       "      <td>17.80</td>\n",
       "      <td>17.94</td>\n",
       "      <td>17.73</td>\n",
       "      <td>17.86</td>\n",
       "      <td>15.36</td>\n",
       "      <td>472922800</td>\n",
       "      <td>0.00</td>\n",
       "      <td>0.00</td>\n",
       "    </tr>\n",
       "    <tr>\n",
       "      <th>2013-01-22</th>\n",
       "      <td>18.02</td>\n",
       "      <td>18.14</td>\n",
       "      <td>17.74</td>\n",
       "      <td>18.03</td>\n",
       "      <td>15.50</td>\n",
       "      <td>461546400</td>\n",
       "      <td>0.00</td>\n",
       "      <td>0.00</td>\n",
       "    </tr>\n",
       "    <tr>\n",
       "      <th>2013-01-23</th>\n",
       "      <td>18.17</td>\n",
       "      <td>18.39</td>\n",
       "      <td>18.03</td>\n",
       "      <td>18.36</td>\n",
       "      <td>15.79</td>\n",
       "      <td>861509600</td>\n",
       "      <td>0.00</td>\n",
       "      <td>0.00</td>\n",
       "    </tr>\n",
       "    <tr>\n",
       "      <th>2013-01-24</th>\n",
       "      <td>16.43</td>\n",
       "      <td>16.63</td>\n",
       "      <td>16.08</td>\n",
       "      <td>16.09</td>\n",
       "      <td>13.84</td>\n",
       "      <td>1460852400</td>\n",
       "      <td>0.00</td>\n",
       "      <td>0.00</td>\n",
       "    </tr>\n",
       "    <tr>\n",
       "      <th>2013-01-25</th>\n",
       "      <td>16.13</td>\n",
       "      <td>16.29</td>\n",
       "      <td>15.54</td>\n",
       "      <td>15.71</td>\n",
       "      <td>13.51</td>\n",
       "      <td>1208026400</td>\n",
       "      <td>0.00</td>\n",
       "      <td>0.00</td>\n",
       "    </tr>\n",
       "  </tbody>\n",
       "</table>"
      ],
      "text/plain": [
       "<IPython.core.display.HTML object>"
      ]
     },
     "metadata": {},
     "output_type": "display_data"
    },
    {
     "name": "stdout",
     "output_type": "stream",
     "text": [
      "\n"
     ]
    },
    {
     "data": {
      "text/html": [
       "<span style = 'display: block; width: 440.0px; \t\t\t\t\t\tline-height: 2; background: #333333;\t\t\t\t\t\tmargin-left: auto; margin-right: auto;\t\t\t\t\t\tborder: 1px solid text_color;\t\t\t\t\t\tborder-radius: 3px; text-align: center;\t\t\t\t\t\tpadding: 3px 8px 3px 8px;'>\t\t\t\t\t\t<b><font size=4><text style=color:white>AAPL (period = 10y, actions = True): tail(5)\t\t\t\t\t\t</text></font></b></style>"
      ],
      "text/plain": [
       "<IPython.core.display.HTML object>"
      ]
     },
     "metadata": {},
     "output_type": "display_data"
    },
    {
     "data": {
      "text/html": [
       "<center><table border=\"1\" class=\"dataframe\">\n",
       "  <thead>\n",
       "    <tr style=\"text-align: right;\">\n",
       "      <th></th>\n",
       "      <th>Open</th>\n",
       "      <th>High</th>\n",
       "      <th>Low</th>\n",
       "      <th>Close</th>\n",
       "      <th>Adj Close</th>\n",
       "      <th>Volume</th>\n",
       "      <th>Dividends</th>\n",
       "      <th>Stock Splits</th>\n",
       "    </tr>\n",
       "    <tr>\n",
       "      <th>Date</th>\n",
       "      <th></th>\n",
       "      <th></th>\n",
       "      <th></th>\n",
       "      <th></th>\n",
       "      <th></th>\n",
       "      <th></th>\n",
       "      <th></th>\n",
       "      <th></th>\n",
       "    </tr>\n",
       "  </thead>\n",
       "  <tbody>\n",
       "    <tr>\n",
       "      <th>2023-01-10</th>\n",
       "      <td>130.26</td>\n",
       "      <td>131.26</td>\n",
       "      <td>128.12</td>\n",
       "      <td>130.73</td>\n",
       "      <td>130.73</td>\n",
       "      <td>63896200</td>\n",
       "      <td>0.00</td>\n",
       "      <td>0.00</td>\n",
       "    </tr>\n",
       "    <tr>\n",
       "      <th>2023-01-11</th>\n",
       "      <td>131.25</td>\n",
       "      <td>133.51</td>\n",
       "      <td>130.46</td>\n",
       "      <td>133.49</td>\n",
       "      <td>133.49</td>\n",
       "      <td>69458900</td>\n",
       "      <td>0.00</td>\n",
       "      <td>0.00</td>\n",
       "    </tr>\n",
       "    <tr>\n",
       "      <th>2023-01-12</th>\n",
       "      <td>133.88</td>\n",
       "      <td>134.26</td>\n",
       "      <td>131.44</td>\n",
       "      <td>133.41</td>\n",
       "      <td>133.41</td>\n",
       "      <td>71379600</td>\n",
       "      <td>0.00</td>\n",
       "      <td>0.00</td>\n",
       "    </tr>\n",
       "    <tr>\n",
       "      <th>2023-01-13</th>\n",
       "      <td>132.03</td>\n",
       "      <td>134.92</td>\n",
       "      <td>131.66</td>\n",
       "      <td>134.76</td>\n",
       "      <td>134.76</td>\n",
       "      <td>57758000</td>\n",
       "      <td>0.00</td>\n",
       "      <td>0.00</td>\n",
       "    </tr>\n",
       "    <tr>\n",
       "      <th>2023-01-17</th>\n",
       "      <td>134.83</td>\n",
       "      <td>137.29</td>\n",
       "      <td>134.15</td>\n",
       "      <td>135.94</td>\n",
       "      <td>135.94</td>\n",
       "      <td>63453444</td>\n",
       "      <td>0.00</td>\n",
       "      <td>0.00</td>\n",
       "    </tr>\n",
       "  </tbody>\n",
       "</table>"
      ],
      "text/plain": [
       "<IPython.core.display.HTML object>"
      ]
     },
     "metadata": {},
     "output_type": "display_data"
    },
    {
     "name": "stdout",
     "output_type": "stream",
     "text": [
      "\n"
     ]
    }
   ],
   "source": [
    "head_tail_vert(AAPL, 5, \"AAPL (period = 10y, actions = True)\")"
   ]
  },
  {
   "cell_type": "markdown",
   "id": "cb40b5db-bd51-461e-b65c-925229e5f50c",
   "metadata": {},
   "source": [
    "<font size = 4><span style = 'background-color: #ddddff; padding: 5px 5px 3px 5px; line-height: 1.5; color:black;border-radius: 3px;'>⊛ Getting the rows where the value in **dividends** is greater than 0:\n",
    "* Dividends are usually paid out on a quarterly basis\n",
    "* The value represents the amount per share"
   ]
  },
  {
   "cell_type": "code",
   "execution_count": 29,
   "id": "67e60b3d-9d44-4454-8bee-2c3ad3d26894",
   "metadata": {},
   "outputs": [
    {
     "data": {
      "text/html": [
       "<span style = 'display: block; width: 450.0px; \t\t\t\t\t\tline-height: 2; background: #333333;\t\t\t\t\t\tmargin-left: auto; margin-right: auto;\t\t\t\t\t\tborder: 1px solid text_color;\t\t\t\t\t\tborder-radius: 3px; text-align: center;\t\t\t\t\t\tpadding: 3px 8px 3px 8px;'>\t\t\t\t\t\t<b><font size=4><text style=color:white>AAPL - Dates dividends were paid (quarterly):\t\t\t\t\t\t</text></font></b></style>"
      ],
      "text/plain": [
       "<IPython.core.display.HTML object>"
      ]
     },
     "metadata": {},
     "output_type": "display_data"
    },
    {
     "data": {
      "text/html": [
       "<center><table border=\"1\" class=\"dataframe\">\n",
       "  <thead>\n",
       "    <tr style=\"text-align: right;\">\n",
       "      <th></th>\n",
       "      <th>Open</th>\n",
       "      <th>High</th>\n",
       "      <th>Low</th>\n",
       "      <th>Close</th>\n",
       "      <th>Adj Close</th>\n",
       "      <th>Volume</th>\n",
       "      <th>Dividends</th>\n",
       "    </tr>\n",
       "    <tr>\n",
       "      <th>Date</th>\n",
       "      <th></th>\n",
       "      <th></th>\n",
       "      <th></th>\n",
       "      <th></th>\n",
       "      <th></th>\n",
       "      <th></th>\n",
       "      <th></th>\n",
       "    </tr>\n",
       "  </thead>\n",
       "  <tbody>\n",
       "    <tr>\n",
       "      <th>2020-08-07</th>\n",
       "      <td>113.21</td>\n",
       "      <td>113.68</td>\n",
       "      <td>110.29</td>\n",
       "      <td>111.11</td>\n",
       "      <td>109.61</td>\n",
       "      <td>198045600</td>\n",
       "      <td>0.20</td>\n",
       "    </tr>\n",
       "    <tr>\n",
       "      <th>2020-11-06</th>\n",
       "      <td>118.32</td>\n",
       "      <td>119.20</td>\n",
       "      <td>116.13</td>\n",
       "      <td>118.69</td>\n",
       "      <td>117.28</td>\n",
       "      <td>114457900</td>\n",
       "      <td>0.20</td>\n",
       "    </tr>\n",
       "    <tr>\n",
       "      <th>2021-02-05</th>\n",
       "      <td>137.35</td>\n",
       "      <td>137.42</td>\n",
       "      <td>135.86</td>\n",
       "      <td>136.76</td>\n",
       "      <td>135.34</td>\n",
       "      <td>75693800</td>\n",
       "      <td>0.20</td>\n",
       "    </tr>\n",
       "    <tr>\n",
       "      <th>2021-05-07</th>\n",
       "      <td>130.85</td>\n",
       "      <td>131.26</td>\n",
       "      <td>129.48</td>\n",
       "      <td>130.21</td>\n",
       "      <td>129.08</td>\n",
       "      <td>78973300</td>\n",
       "      <td>0.22</td>\n",
       "    </tr>\n",
       "    <tr>\n",
       "      <th>2021-08-06</th>\n",
       "      <td>146.35</td>\n",
       "      <td>147.11</td>\n",
       "      <td>145.63</td>\n",
       "      <td>146.14</td>\n",
       "      <td>145.08</td>\n",
       "      <td>54126800</td>\n",
       "      <td>0.22</td>\n",
       "    </tr>\n",
       "    <tr>\n",
       "      <th>2021-11-05</th>\n",
       "      <td>151.89</td>\n",
       "      <td>152.20</td>\n",
       "      <td>150.06</td>\n",
       "      <td>151.28</td>\n",
       "      <td>150.41</td>\n",
       "      <td>65463900</td>\n",
       "      <td>0.22</td>\n",
       "    </tr>\n",
       "    <tr>\n",
       "      <th>2022-02-04</th>\n",
       "      <td>171.68</td>\n",
       "      <td>174.10</td>\n",
       "      <td>170.68</td>\n",
       "      <td>172.39</td>\n",
       "      <td>171.61</td>\n",
       "      <td>82465400</td>\n",
       "      <td>0.22</td>\n",
       "    </tr>\n",
       "    <tr>\n",
       "      <th>2022-05-06</th>\n",
       "      <td>156.01</td>\n",
       "      <td>159.44</td>\n",
       "      <td>154.18</td>\n",
       "      <td>157.28</td>\n",
       "      <td>156.80</td>\n",
       "      <td>116124600</td>\n",
       "      <td>0.23</td>\n",
       "    </tr>\n",
       "    <tr>\n",
       "      <th>2022-08-05</th>\n",
       "      <td>163.21</td>\n",
       "      <td>165.85</td>\n",
       "      <td>163.00</td>\n",
       "      <td>165.35</td>\n",
       "      <td>165.08</td>\n",
       "      <td>56697000</td>\n",
       "      <td>0.23</td>\n",
       "    </tr>\n",
       "    <tr>\n",
       "      <th>2022-11-04</th>\n",
       "      <td>142.09</td>\n",
       "      <td>142.67</td>\n",
       "      <td>134.38</td>\n",
       "      <td>138.38</td>\n",
       "      <td>138.38</td>\n",
       "      <td>140814800</td>\n",
       "      <td>0.23</td>\n",
       "    </tr>\n",
       "  </tbody>\n",
       "</table>"
      ],
      "text/plain": [
       "<IPython.core.display.HTML object>"
      ]
     },
     "metadata": {},
     "output_type": "display_data"
    },
    {
     "name": "stdout",
     "output_type": "stream",
     "text": [
      "\n"
     ]
    }
   ],
   "source": [
    "see(AAPL[AAPL.Dividends > 0].tail(10).drop(columns = [\"Stock Splits\"]), \n",
    "\t\"AAPL - Dates dividends were paid (quarterly):\")"
   ]
  },
  {
   "cell_type": "markdown",
   "id": "897289bd-c740-4403-9ec5-c33501b170e6",
   "metadata": {},
   "source": [
    "<font size = 4><span style = 'background-color: #ddddff; padding: 5px 5px 3px 5px; line-height: 1.5; color:black;border-radius: 3px;'>Viewing dates directly surrounding the most recent dividend:\n",
    "* investigating the backward adjustment, difference between close and adjusted close, around the dates that dividends are paid\n",
    "* The drop in close on the day of dividends is not completely accurate\n",
    "* **Adjusted close** better reflects the performance of the stock\n",
    "* Important when the interest is the total return of the stock, the price change plus dividend payments, which are an essential part of the total return\n",
    "* **Dividends** are immediately reinvested into the stock, which accounts for the **backward adjustment**"
   ]
  },
  {
   "cell_type": "code",
   "execution_count": 30,
   "id": "1e3d35b5-c323-454a-abe7-b859347ec9d4",
   "metadata": {},
   "outputs": [
    {
     "data": {
      "text/html": [
       "<span style = 'display: block; width: 570.0px; \t\t\t\t\t\tline-height: 2; background: #333333;\t\t\t\t\t\tmargin-left: auto; margin-right: auto;\t\t\t\t\t\tborder: 1px solid text_color;\t\t\t\t\t\tborder-radius: 3px; text-align: center;\t\t\t\t\t\tpadding: 3px 8px 3px 8px;'>\t\t\t\t\t\t<b><font size=4><text style=color:white>Dates directly surrounding most recent dividend payments:\t\t\t\t\t\t</text></font></b></style>"
      ],
      "text/plain": [
       "<IPython.core.display.HTML object>"
      ]
     },
     "metadata": {},
     "output_type": "display_data"
    },
    {
     "data": {
      "text/html": [
       "<center><table border=\"1\" class=\"dataframe\">\n",
       "  <thead>\n",
       "    <tr style=\"text-align: right;\">\n",
       "      <th></th>\n",
       "      <th>Open</th>\n",
       "      <th>High</th>\n",
       "      <th>Low</th>\n",
       "      <th>Close</th>\n",
       "      <th>Adj Close</th>\n",
       "      <th>Volume</th>\n",
       "      <th>Dividends</th>\n",
       "      <th>Stock Splits</th>\n",
       "    </tr>\n",
       "    <tr>\n",
       "      <th>Date</th>\n",
       "      <th></th>\n",
       "      <th></th>\n",
       "      <th></th>\n",
       "      <th></th>\n",
       "      <th></th>\n",
       "      <th></th>\n",
       "      <th></th>\n",
       "      <th></th>\n",
       "    </tr>\n",
       "  </thead>\n",
       "  <tbody>\n",
       "    <tr>\n",
       "      <th>2022-11-02</th>\n",
       "      <td>148.95</td>\n",
       "      <td>152.17</td>\n",
       "      <td>145.00</td>\n",
       "      <td>145.03</td>\n",
       "      <td>144.79</td>\n",
       "      <td>93604600</td>\n",
       "      <td>0.00</td>\n",
       "      <td>0.00</td>\n",
       "    </tr>\n",
       "    <tr>\n",
       "      <th>2022-11-03</th>\n",
       "      <td>142.06</td>\n",
       "      <td>142.80</td>\n",
       "      <td>138.75</td>\n",
       "      <td>138.88</td>\n",
       "      <td>138.65</td>\n",
       "      <td>97918500</td>\n",
       "      <td>0.00</td>\n",
       "      <td>0.00</td>\n",
       "    </tr>\n",
       "    <tr>\n",
       "      <th>2022-11-04</th>\n",
       "      <td>142.09</td>\n",
       "      <td>142.67</td>\n",
       "      <td>134.38</td>\n",
       "      <td>138.38</td>\n",
       "      <td>138.38</td>\n",
       "      <td>140814800</td>\n",
       "      <td>0.23</td>\n",
       "      <td>0.00</td>\n",
       "    </tr>\n",
       "    <tr>\n",
       "      <th>2022-11-07</th>\n",
       "      <td>137.11</td>\n",
       "      <td>139.15</td>\n",
       "      <td>135.67</td>\n",
       "      <td>138.92</td>\n",
       "      <td>138.92</td>\n",
       "      <td>83374600</td>\n",
       "      <td>0.00</td>\n",
       "      <td>0.00</td>\n",
       "    </tr>\n",
       "  </tbody>\n",
       "</table>"
      ],
      "text/plain": [
       "<IPython.core.display.HTML object>"
      ]
     },
     "metadata": {},
     "output_type": "display_data"
    },
    {
     "name": "stdout",
     "output_type": "stream",
     "text": [
      "\n"
     ]
    }
   ],
   "source": [
    "see(AAPL.loc[\"2022-11-02\" : \"2022-11-07\"],\n",
    "'Dates directly surrounding most recent dividend payments:')"
   ]
  },
  {
   "cell_type": "markdown",
   "id": "10fe138d-b663-4b58-b9cf-7f9390be3219",
   "metadata": {},
   "source": [
    "<font size = 4><span style = 'background-color: #ddddff; padding: 5px 5px 3px 5px; line-height: 1.5; color:black;border-radius: 3px;'>`diff()` - calculates  difference from one timestamp to the next"
   ]
  },
  {
   "cell_type": "code",
   "execution_count": 31,
   "id": "2df49cdd-a93d-4301-9ff3-85812dc3f604",
   "metadata": {},
   "outputs": [
    {
     "data": {
      "text/html": [
       "<span style = 'display: block; width: 310.0px; \t\t\t\t\t\tline-height: 2; background: #333333;\t\t\t\t\t\tmargin-left: auto; margin-right: auto;\t\t\t\t\t\tborder: 1px solid text_color;\t\t\t\t\t\tborder-radius: 3px; text-align: center;\t\t\t\t\t\tpadding: 3px 8px 3px 8px;'>\t\t\t\t\t\t<b><font size=4><text style=color:white>diff() for 10-31-22 to 11-11-22\t\t\t\t\t\t</text></font></b></style>"
      ],
      "text/plain": [
       "<IPython.core.display.HTML object>"
      ]
     },
     "metadata": {},
     "output_type": "display_data"
    },
    {
     "data": {
      "text/html": [
       "<center><table border=\"1\" class=\"dataframe\">\n",
       "  <thead>\n",
       "    <tr style=\"text-align: right;\">\n",
       "      <th></th>\n",
       "      <th>Open</th>\n",
       "      <th>High</th>\n",
       "      <th>Low</th>\n",
       "      <th>Close</th>\n",
       "      <th>Adj Close</th>\n",
       "      <th>Volume</th>\n",
       "      <th>Dividends</th>\n",
       "      <th>Stock Splits</th>\n",
       "    </tr>\n",
       "    <tr>\n",
       "      <th>Date</th>\n",
       "      <th></th>\n",
       "      <th></th>\n",
       "      <th></th>\n",
       "      <th></th>\n",
       "      <th></th>\n",
       "      <th></th>\n",
       "      <th></th>\n",
       "      <th></th>\n",
       "    </tr>\n",
       "  </thead>\n",
       "  <tbody>\n",
       "    <tr>\n",
       "      <th>2022-10-31</th>\n",
       "      <td>NaN</td>\n",
       "      <td>NaN</td>\n",
       "      <td>NaN</td>\n",
       "      <td>NaN</td>\n",
       "      <td>NaN</td>\n",
       "      <td>NaN</td>\n",
       "      <td>NaN</td>\n",
       "      <td>NaN</td>\n",
       "    </tr>\n",
       "    <tr>\n",
       "      <th>2022-11-01</th>\n",
       "      <td>1.92</td>\n",
       "      <td>1.21</td>\n",
       "      <td>-2.79</td>\n",
       "      <td>-2.69</td>\n",
       "      <td>-2.69</td>\n",
       "      <td>-17,563,900.00</td>\n",
       "      <td>0.00</td>\n",
       "      <td>0.00</td>\n",
       "    </tr>\n",
       "    <tr>\n",
       "      <th>2022-11-02</th>\n",
       "      <td>-6.13</td>\n",
       "      <td>-3.28</td>\n",
       "      <td>-4.13</td>\n",
       "      <td>-5.62</td>\n",
       "      <td>-5.61</td>\n",
       "      <td>13,225,300.00</td>\n",
       "      <td>0.00</td>\n",
       "      <td>0.00</td>\n",
       "    </tr>\n",
       "    <tr>\n",
       "      <th>2022-11-03</th>\n",
       "      <td>-6.89</td>\n",
       "      <td>-9.37</td>\n",
       "      <td>-6.25</td>\n",
       "      <td>-6.15</td>\n",
       "      <td>-6.14</td>\n",
       "      <td>4,313,900.00</td>\n",
       "      <td>0.00</td>\n",
       "      <td>0.00</td>\n",
       "    </tr>\n",
       "    <tr>\n",
       "      <th>2022-11-04</th>\n",
       "      <td>0.03</td>\n",
       "      <td>-0.13</td>\n",
       "      <td>-4.37</td>\n",
       "      <td>-0.50</td>\n",
       "      <td>-0.27</td>\n",
       "      <td>42,896,300.00</td>\n",
       "      <td>0.23</td>\n",
       "      <td>0.00</td>\n",
       "    </tr>\n",
       "    <tr>\n",
       "      <th>2022-11-07</th>\n",
       "      <td>-4.98</td>\n",
       "      <td>-3.52</td>\n",
       "      <td>1.29</td>\n",
       "      <td>0.54</td>\n",
       "      <td>0.54</td>\n",
       "      <td>-57,440,200.00</td>\n",
       "      <td>-0.23</td>\n",
       "      <td>0.00</td>\n",
       "    </tr>\n",
       "    <tr>\n",
       "      <th>2022-11-08</th>\n",
       "      <td>3.30</td>\n",
       "      <td>2.28</td>\n",
       "      <td>1.82</td>\n",
       "      <td>0.58</td>\n",
       "      <td>0.58</td>\n",
       "      <td>6,533,900.00</td>\n",
       "      <td>0.00</td>\n",
       "      <td>0.00</td>\n",
       "    </tr>\n",
       "    <tr>\n",
       "      <th>2022-11-09</th>\n",
       "      <td>-1.91</td>\n",
       "      <td>-2.88</td>\n",
       "      <td>-2.90</td>\n",
       "      <td>-4.63</td>\n",
       "      <td>-4.63</td>\n",
       "      <td>-14,990,700.00</td>\n",
       "      <td>0.00</td>\n",
       "      <td>0.00</td>\n",
       "    </tr>\n",
       "    <tr>\n",
       "      <th>2022-11-10</th>\n",
       "      <td>2.74</td>\n",
       "      <td>8.32</td>\n",
       "      <td>4.91</td>\n",
       "      <td>12.00</td>\n",
       "      <td>12.00</td>\n",
       "      <td>43,936,200.00</td>\n",
       "      <td>0.00</td>\n",
       "      <td>0.00</td>\n",
       "    </tr>\n",
       "    <tr>\n",
       "      <th>2022-11-11</th>\n",
       "      <td>4.58</td>\n",
       "      <td>3.14</td>\n",
       "      <td>4.87</td>\n",
       "      <td>2.83</td>\n",
       "      <td>2.83</td>\n",
       "      <td>-24,874,300.00</td>\n",
       "      <td>0.00</td>\n",
       "      <td>0.00</td>\n",
       "    </tr>\n",
       "  </tbody>\n",
       "</table>"
      ],
      "text/plain": [
       "<IPython.core.display.HTML object>"
      ]
     },
     "metadata": {},
     "output_type": "display_data"
    },
    {
     "name": "stdout",
     "output_type": "stream",
     "text": [
      "\n"
     ]
    }
   ],
   "source": [
    "see(AAPL.loc[\"2022-10-31\" : \"2022-11-11\"].diff(),\n",
    "\t\"diff() for 10-31-22 to 11-11-22\")"
   ]
  },
  {
   "cell_type": "markdown",
   "id": "90d28503-0556-4769-8350-1c164b9187a5",
   "metadata": {},
   "source": [
    "<font size = 4><span style = 'background-color: #ddddff; padding: 5px 5px 3px 5px; line-height: 1.5; color:black;border-radius: 3px;'>**➣ Stock Split**:\n",
    "* corporation/company **divides existing shares into multiple shares**\n",
    "* typically done to boost the **liquidity** of the shares\n",
    "* high price stock it makes more difficult for small investors to invest"
   ]
  },
  {
   "cell_type": "code",
   "execution_count": 32,
   "id": "85f0b72f-0407-4dd3-b800-b4d66bfe85b3",
   "metadata": {},
   "outputs": [
    {
     "data": {
      "text/html": [
       "<span style = 'display: block; width: 120.0px; \t\t\t\t\t\tline-height: 2; background: #333333;\t\t\t\t\t\tmargin-left: auto; margin-right: auto;\t\t\t\t\t\tborder: 1px solid text_color;\t\t\t\t\t\tborder-radius: 3px; text-align: center;\t\t\t\t\t\tpadding: 3px 8px 3px 8px;'>\t\t\t\t\t\t<b><font size=4><text style=color:white>Stock Splits\t\t\t\t\t\t</text></font></b></style>"
      ],
      "text/plain": [
       "<IPython.core.display.HTML object>"
      ]
     },
     "metadata": {},
     "output_type": "display_data"
    },
    {
     "data": {
      "text/html": [
       "<center><table border=\"1\" class=\"dataframe\">\n",
       "  <thead>\n",
       "    <tr style=\"text-align: right;\">\n",
       "      <th></th>\n",
       "      <th>Open</th>\n",
       "      <th>High</th>\n",
       "      <th>Low</th>\n",
       "      <th>Close</th>\n",
       "      <th>Adj Close</th>\n",
       "      <th>Volume</th>\n",
       "      <th>Dividends</th>\n",
       "      <th>Stock Splits</th>\n",
       "    </tr>\n",
       "    <tr>\n",
       "      <th>Date</th>\n",
       "      <th></th>\n",
       "      <th></th>\n",
       "      <th></th>\n",
       "      <th></th>\n",
       "      <th></th>\n",
       "      <th></th>\n",
       "      <th></th>\n",
       "      <th></th>\n",
       "    </tr>\n",
       "  </thead>\n",
       "  <tbody>\n",
       "    <tr>\n",
       "      <th>2014-06-09</th>\n",
       "      <td>23.17</td>\n",
       "      <td>23.47</td>\n",
       "      <td>22.94</td>\n",
       "      <td>23.42</td>\n",
       "      <td>20.89</td>\n",
       "      <td>301660000</td>\n",
       "      <td>0.00</td>\n",
       "      <td>7.00</td>\n",
       "    </tr>\n",
       "    <tr>\n",
       "      <th>2020-08-31</th>\n",
       "      <td>127.58</td>\n",
       "      <td>131.00</td>\n",
       "      <td>126.00</td>\n",
       "      <td>129.04</td>\n",
       "      <td>127.29</td>\n",
       "      <td>225702700</td>\n",
       "      <td>0.00</td>\n",
       "      <td>4.00</td>\n",
       "    </tr>\n",
       "  </tbody>\n",
       "</table>"
      ],
      "text/plain": [
       "<IPython.core.display.HTML object>"
      ]
     },
     "metadata": {},
     "output_type": "display_data"
    },
    {
     "name": "stdout",
     "output_type": "stream",
     "text": [
      "\n"
     ]
    }
   ],
   "source": [
    "see(AAPL[AAPL['Stock Splits'] > 0],'Stock Splits')"
   ]
  },
  {
   "cell_type": "markdown",
   "id": "61d693d6-0026-49d6-ab6e-6789a27df816",
   "metadata": {},
   "source": [
    "<font size = 4><span style = 'background-color: #ddddff; padding: 5px 5px 3px 5px; line-height: 1.5; color:black;border-radius: 3px;'>Investigating dates surrounding **most recent split** - **2020-08-31**:\n",
    "* Close and adjusted close have already **been adjusted** for stock splits\n",
    "* Prices are not always backward adjusted on all APIs and sources, which can cause a great deal of confusion"
   ]
  },
  {
   "cell_type": "code",
   "execution_count": 33,
   "id": "0f032f1f-2d92-454c-be4a-d383863292e8",
   "metadata": {},
   "outputs": [
    {
     "data": {
      "text/html": [
       "<span style = 'display: block; width: 550.0px; \t\t\t\t\t\tline-height: 2; background: #333333;\t\t\t\t\t\tmargin-left: auto; margin-right: auto;\t\t\t\t\t\tborder: 1px solid text_color;\t\t\t\t\t\tborder-radius: 3px; text-align: center;\t\t\t\t\t\tpadding: 3px 8px 3px 8px;'>\t\t\t\t\t\t<b><font size=4><text style=color:white>Dates surrounding most recent stock split on 2020-08-31\t\t\t\t\t\t</text></font></b></style>"
      ],
      "text/plain": [
       "<IPython.core.display.HTML object>"
      ]
     },
     "metadata": {},
     "output_type": "display_data"
    },
    {
     "data": {
      "text/html": [
       "<center><table border=\"1\" class=\"dataframe\">\n",
       "  <thead>\n",
       "    <tr style=\"text-align: right;\">\n",
       "      <th></th>\n",
       "      <th>Open</th>\n",
       "      <th>High</th>\n",
       "      <th>Low</th>\n",
       "      <th>Close</th>\n",
       "      <th>Adj Close</th>\n",
       "      <th>Volume</th>\n",
       "      <th>Dividends</th>\n",
       "      <th>Stock Splits</th>\n",
       "    </tr>\n",
       "    <tr>\n",
       "      <th>Date</th>\n",
       "      <th></th>\n",
       "      <th></th>\n",
       "      <th></th>\n",
       "      <th></th>\n",
       "      <th></th>\n",
       "      <th></th>\n",
       "      <th></th>\n",
       "      <th></th>\n",
       "    </tr>\n",
       "  </thead>\n",
       "  <tbody>\n",
       "    <tr>\n",
       "      <th>2020-08-28</th>\n",
       "      <td>126.01</td>\n",
       "      <td>126.44</td>\n",
       "      <td>124.58</td>\n",
       "      <td>124.81</td>\n",
       "      <td>123.11</td>\n",
       "      <td>187630000</td>\n",
       "      <td>0.00</td>\n",
       "      <td>0.00</td>\n",
       "    </tr>\n",
       "    <tr>\n",
       "      <th>2020-08-31</th>\n",
       "      <td>127.58</td>\n",
       "      <td>131.00</td>\n",
       "      <td>126.00</td>\n",
       "      <td>129.04</td>\n",
       "      <td>127.29</td>\n",
       "      <td>225702700</td>\n",
       "      <td>0.00</td>\n",
       "      <td>4.00</td>\n",
       "    </tr>\n",
       "    <tr>\n",
       "      <th>2020-09-01</th>\n",
       "      <td>132.76</td>\n",
       "      <td>134.80</td>\n",
       "      <td>130.53</td>\n",
       "      <td>134.18</td>\n",
       "      <td>132.36</td>\n",
       "      <td>151948100</td>\n",
       "      <td>0.00</td>\n",
       "      <td>0.00</td>\n",
       "    </tr>\n",
       "  </tbody>\n",
       "</table>"
      ],
      "text/plain": [
       "<IPython.core.display.HTML object>"
      ]
     },
     "metadata": {},
     "output_type": "display_data"
    },
    {
     "name": "stdout",
     "output_type": "stream",
     "text": [
      "\n"
     ]
    }
   ],
   "source": [
    "see(AAPL.loc['2020-08-28' : '2020-09-01'],\n",
    "\t\"Dates surrounding most recent stock split on 2020-08-31\")"
   ]
  },
  {
   "cell_type": "markdown",
   "id": "584c0fe2-17a1-473d-af9d-73f9cb10bcca",
   "metadata": {},
   "source": [
    "<a name = 'exporting'></a>\n",
    "\n",
    "---\n",
    "\n",
    "**Sections:**  ●  [Top](#top)  ●  [Download & Import](#downloading_importing)  ●  [Historical Data](#historical_data)  ●  [Setting Date Range](#date_range)  ●  [High Frenquency](#high_frequency)   ●  [Splits & Dividends](#splits_dividends)   ●  [Exporting](#exporting)   ●  [Multiple Stocks](#multiple_stocks)   ●  [Importing Indexes](#importing_indexes)   ●  [Currency Exchange](#currency_exchange)   ●  [Cryptocurrencies](#cryptocurrencies)   ●  [Mutual & Exchange Traded Funds](#mututal_funds)   ●  [Treasury Yields](#treasury_yields)   ●  [Ticker Object & Docs](#ticker_object)   ●  [Stock Fundamentals](#stock_fundamentals)   ●  [Importing Financials](#importing_financials)   ●  [Importing Put & Call](#put_call)   ●  [Streaming Real-Time](#streaming_real_time)   ●\n",
    "\n",
    "---\n",
    "\n",
    "<span style = 'background-color: purple; font-weight: bold; padding: 5px 5px 3px 5px; line-height: 1.5; color:white;border-radius: 3px;'><font size = 4>▻ Exporting to CSV and Excel</font></span>"
   ]
  },
  {
   "cell_type": "code",
   "execution_count": 34,
   "id": "a8e83223-68b6-4c22-bfcb-9904eba5e481",
   "metadata": {},
   "outputs": [],
   "source": [
    "import_all()"
   ]
  },
  {
   "cell_type": "markdown",
   "id": "29df386d-d23a-48a5-9c84-a29c95c2dd62",
   "metadata": {},
   "source": [
    "<font size = 4><span style = 'background-color: #ddddff; padding: 5px 5px 3px 5px; line-height: 1.5; color:black;border-radius: 3px;'>Data = last 5 years of GE"
   ]
  },
  {
   "cell_type": "code",
   "execution_count": 35,
   "id": "6269bf7c-e6a4-45a8-9b96-9134de40e805",
   "metadata": {},
   "outputs": [
    {
     "name": "stdout",
     "output_type": "stream",
     "text": [
      "[*********************100%***********************]  1 of 1 completed\n"
     ]
    }
   ],
   "source": [
    "ticker = \"GE\"\n",
    "GE = yf.download(ticker, period = '5y')"
   ]
  },
  {
   "cell_type": "markdown",
   "id": "e983dfd0-1c84-4fb6-a8cf-752626870e35",
   "metadata": {},
   "source": [
    "<font size = 4><span style = 'background-color: #ddddff; padding: 5px 5px 3px 5px; line-height: 1.5; color:black;border-radius: 3px;'>GE Last 5 Years - Head and Tail"
   ]
  },
  {
   "cell_type": "code",
   "execution_count": 36,
   "id": "b1b31e6f-f7a8-4ff5-99ed-7b7dbf2cdc80",
   "metadata": {},
   "outputs": [
    {
     "data": {
      "text/html": [
       "<span style = 'display: block; width: 150.0px; \t\t\t\t\t\tline-height: 2; background: #333333;\t\t\t\t\t\tmargin-left: auto; margin-right: auto;\t\t\t\t\t\tborder: 1px solid text_color;\t\t\t\t\t\tborder-radius: 3px; text-align: center;\t\t\t\t\t\tpadding: 3px 8px 3px 8px;'>\t\t\t\t\t\t<b><font size=4><text style=color:white>GE Last 5 Years\t\t\t\t\t\t</text></font></b></style>"
      ],
      "text/plain": [
       "<IPython.core.display.HTML object>"
      ]
     },
     "metadata": {},
     "output_type": "display_data"
    },
    {
     "data": {
      "text/html": [
       "<center><style type=\"text/css\">\n",
       "#T_6c99a caption {\n",
       "  background: #333333;\n",
       "  border-radius: 3px;\n",
       "  padding: 5px;\n",
       "  color: white;\n",
       "  font-size: 12px;\n",
       "  font-weight: bold;\n",
       "}\n",
       "</style>\n",
       "<table id=\"T_6c99a\" style='display:inline-block'>\n",
       "  <caption>head(5)</caption>\n",
       "  <thead>\n",
       "    <tr>\n",
       "      <th class=\"blank level0\" >&nbsp;</th>\n",
       "      <th id=\"T_6c99a_level0_col0\" class=\"col_heading level0 col0\" >Open</th>\n",
       "      <th id=\"T_6c99a_level0_col1\" class=\"col_heading level0 col1\" >High</th>\n",
       "      <th id=\"T_6c99a_level0_col2\" class=\"col_heading level0 col2\" >Low</th>\n",
       "      <th id=\"T_6c99a_level0_col3\" class=\"col_heading level0 col3\" >Close</th>\n",
       "      <th id=\"T_6c99a_level0_col4\" class=\"col_heading level0 col4\" >Adj Close</th>\n",
       "      <th id=\"T_6c99a_level0_col5\" class=\"col_heading level0 col5\" >Volume</th>\n",
       "    </tr>\n",
       "    <tr>\n",
       "      <th class=\"index_name level0\" >Date</th>\n",
       "      <th class=\"blank col0\" >&nbsp;</th>\n",
       "      <th class=\"blank col1\" >&nbsp;</th>\n",
       "      <th class=\"blank col2\" >&nbsp;</th>\n",
       "      <th class=\"blank col3\" >&nbsp;</th>\n",
       "      <th class=\"blank col4\" >&nbsp;</th>\n",
       "      <th class=\"blank col5\" >&nbsp;</th>\n",
       "    </tr>\n",
       "  </thead>\n",
       "  <tbody>\n",
       "    <tr>\n",
       "      <th id=\"T_6c99a_level0_row0\" class=\"row_heading level0 row0\" >2018-01-18</th>\n",
       "      <td id=\"T_6c99a_row0_col0\" class=\"data row0 col0\" >104.49</td>\n",
       "      <td id=\"T_6c99a_row0_col1\" class=\"data row0 col1\" >104.97</td>\n",
       "      <td id=\"T_6c99a_row0_col2\" class=\"data row0 col2\" >100.64</td>\n",
       "      <td id=\"T_6c99a_row0_col3\" class=\"data row0 col3\" >100.70</td>\n",
       "      <td id=\"T_6c99a_row0_col4\" class=\"data row0 col4\" >96.32</td>\n",
       "      <td id=\"T_6c99a_row0_col5\" class=\"data row0 col5\" >28,687,024</td>\n",
       "    </tr>\n",
       "    <tr>\n",
       "      <th id=\"T_6c99a_level0_row1\" class=\"row_heading level0 row1\" >2018-01-19</th>\n",
       "      <td id=\"T_6c99a_row1_col0\" class=\"data row1 col0\" >99.98</td>\n",
       "      <td id=\"T_6c99a_row1_col1\" class=\"data row1 col1\" >100.46</td>\n",
       "      <td id=\"T_6c99a_row1_col2\" class=\"data row1 col2\" >96.20</td>\n",
       "      <td id=\"T_6c99a_row1_col3\" class=\"data row1 col3\" >97.64</td>\n",
       "      <td id=\"T_6c99a_row1_col4\" class=\"data row1 col4\" >93.39</td>\n",
       "      <td id=\"T_6c99a_row1_col5\" class=\"data row1 col5\" >35,795,157</td>\n",
       "    </tr>\n",
       "    <tr>\n",
       "      <th id=\"T_6c99a_level0_row2\" class=\"row_heading level0 row2\" >2018-01-22</th>\n",
       "      <td id=\"T_6c99a_row2_col0\" class=\"data row2 col0\" >95.48</td>\n",
       "      <td id=\"T_6c99a_row2_col1\" class=\"data row2 col1\" >98.06</td>\n",
       "      <td id=\"T_6c99a_row2_col2\" class=\"data row2 col2\" >94.88</td>\n",
       "      <td id=\"T_6c99a_row2_col3\" class=\"data row2 col3\" >97.10</td>\n",
       "      <td id=\"T_6c99a_row2_col4\" class=\"data row2 col4\" >92.88</td>\n",
       "      <td id=\"T_6c99a_row2_col5\" class=\"data row2 col5\" >22,350,374</td>\n",
       "    </tr>\n",
       "    <tr>\n",
       "      <th id=\"T_6c99a_level0_row3\" class=\"row_heading level0 row3\" >2018-01-23</th>\n",
       "      <td id=\"T_6c99a_row3_col0\" class=\"data row3 col0\" >97.88</td>\n",
       "      <td id=\"T_6c99a_row3_col1\" class=\"data row3 col1\" >102.26</td>\n",
       "      <td id=\"T_6c99a_row3_col2\" class=\"data row3 col2\" >97.70</td>\n",
       "      <td id=\"T_6c99a_row3_col3\" class=\"data row3 col3\" >101.42</td>\n",
       "      <td id=\"T_6c99a_row3_col4\" class=\"data row3 col4\" >97.01</td>\n",
       "      <td id=\"T_6c99a_row3_col5\" class=\"data row3 col5\" >20,522,574</td>\n",
       "    </tr>\n",
       "    <tr>\n",
       "      <th id=\"T_6c99a_level0_row4\" class=\"row_heading level0 row4\" >2018-01-24</th>\n",
       "      <td id=\"T_6c99a_row4_col0\" class=\"data row4 col0\" >102.08</td>\n",
       "      <td id=\"T_6c99a_row4_col1\" class=\"data row4 col1\" >104.25</td>\n",
       "      <td id=\"T_6c99a_row4_col2\" class=\"data row4 col2\" >97.58</td>\n",
       "      <td id=\"T_6c99a_row4_col3\" class=\"data row4 col3\" >98.72</td>\n",
       "      <td id=\"T_6c99a_row4_col4\" class=\"data row4 col4\" >94.43</td>\n",
       "      <td id=\"T_6c99a_row4_col5\" class=\"data row4 col5\" >27,813,458</td>\n",
       "    </tr>\n",
       "  </tbody>\n",
       "</table>\n",
       "&nbsp;&nbsp;&nbsp;<style type=\"text/css\">\n",
       "#T_a8e42 caption {\n",
       "  background: #333333;\n",
       "  border-radius: 3px;\n",
       "  padding: 5px;\n",
       "  color: white;\n",
       "  font-size: 12px;\n",
       "  font-weight: bold;\n",
       "}\n",
       "</style>\n",
       "<table id=\"T_a8e42\" style='display:inline-block'>\n",
       "  <caption>tail(5)</caption>\n",
       "  <thead>\n",
       "    <tr>\n",
       "      <th class=\"blank level0\" >&nbsp;</th>\n",
       "      <th id=\"T_a8e42_level0_col0\" class=\"col_heading level0 col0\" >Open</th>\n",
       "      <th id=\"T_a8e42_level0_col1\" class=\"col_heading level0 col1\" >High</th>\n",
       "      <th id=\"T_a8e42_level0_col2\" class=\"col_heading level0 col2\" >Low</th>\n",
       "      <th id=\"T_a8e42_level0_col3\" class=\"col_heading level0 col3\" >Close</th>\n",
       "      <th id=\"T_a8e42_level0_col4\" class=\"col_heading level0 col4\" >Adj Close</th>\n",
       "      <th id=\"T_a8e42_level0_col5\" class=\"col_heading level0 col5\" >Volume</th>\n",
       "    </tr>\n",
       "    <tr>\n",
       "      <th class=\"index_name level0\" >Date</th>\n",
       "      <th class=\"blank col0\" >&nbsp;</th>\n",
       "      <th class=\"blank col1\" >&nbsp;</th>\n",
       "      <th class=\"blank col2\" >&nbsp;</th>\n",
       "      <th class=\"blank col3\" >&nbsp;</th>\n",
       "      <th class=\"blank col4\" >&nbsp;</th>\n",
       "      <th class=\"blank col5\" >&nbsp;</th>\n",
       "    </tr>\n",
       "  </thead>\n",
       "  <tbody>\n",
       "    <tr>\n",
       "      <th id=\"T_a8e42_level0_row0\" class=\"row_heading level0 row0\" >2023-01-10</th>\n",
       "      <td id=\"T_a8e42_row0_col0\" class=\"data row0 col0\" >72.20</td>\n",
       "      <td id=\"T_a8e42_row0_col1\" class=\"data row0 col1\" >75.37</td>\n",
       "      <td id=\"T_a8e42_row0_col2\" class=\"data row0 col2\" >72.20</td>\n",
       "      <td id=\"T_a8e42_row0_col3\" class=\"data row0 col3\" >75.27</td>\n",
       "      <td id=\"T_a8e42_row0_col4\" class=\"data row0 col4\" >75.27</td>\n",
       "      <td id=\"T_a8e42_row0_col5\" class=\"data row0 col5\" >9,255,500</td>\n",
       "    </tr>\n",
       "    <tr>\n",
       "      <th id=\"T_a8e42_level0_row1\" class=\"row_heading level0 row1\" >2023-01-11</th>\n",
       "      <td id=\"T_a8e42_row1_col0\" class=\"data row1 col0\" >75.82</td>\n",
       "      <td id=\"T_a8e42_row1_col1\" class=\"data row1 col1\" >77.70</td>\n",
       "      <td id=\"T_a8e42_row1_col2\" class=\"data row1 col2\" >75.51</td>\n",
       "      <td id=\"T_a8e42_row1_col3\" class=\"data row1 col3\" >77.69</td>\n",
       "      <td id=\"T_a8e42_row1_col4\" class=\"data row1 col4\" >77.69</td>\n",
       "      <td id=\"T_a8e42_row1_col5\" class=\"data row1 col5\" >10,159,300</td>\n",
       "    </tr>\n",
       "    <tr>\n",
       "      <th id=\"T_a8e42_level0_row2\" class=\"row_heading level0 row2\" >2023-01-12</th>\n",
       "      <td id=\"T_a8e42_row2_col0\" class=\"data row2 col0\" >77.88</td>\n",
       "      <td id=\"T_a8e42_row2_col1\" class=\"data row2 col1\" >79.21</td>\n",
       "      <td id=\"T_a8e42_row2_col2\" class=\"data row2 col2\" >77.29</td>\n",
       "      <td id=\"T_a8e42_row2_col3\" class=\"data row2 col3\" >78.86</td>\n",
       "      <td id=\"T_a8e42_row2_col4\" class=\"data row2 col4\" >78.86</td>\n",
       "      <td id=\"T_a8e42_row2_col5\" class=\"data row2 col5\" >11,498,700</td>\n",
       "    </tr>\n",
       "    <tr>\n",
       "      <th id=\"T_a8e42_level0_row3\" class=\"row_heading level0 row3\" >2023-01-13</th>\n",
       "      <td id=\"T_a8e42_row3_col0\" class=\"data row3 col0\" >78.78</td>\n",
       "      <td id=\"T_a8e42_row3_col1\" class=\"data row3 col1\" >80.60</td>\n",
       "      <td id=\"T_a8e42_row3_col2\" class=\"data row3 col2\" >78.50</td>\n",
       "      <td id=\"T_a8e42_row3_col3\" class=\"data row3 col3\" >80.20</td>\n",
       "      <td id=\"T_a8e42_row3_col4\" class=\"data row3 col4\" >80.20</td>\n",
       "      <td id=\"T_a8e42_row3_col5\" class=\"data row3 col5\" >11,044,800</td>\n",
       "    </tr>\n",
       "    <tr>\n",
       "      <th id=\"T_a8e42_level0_row4\" class=\"row_heading level0 row4\" >2023-01-17</th>\n",
       "      <td id=\"T_a8e42_row4_col0\" class=\"data row4 col0\" >79.92</td>\n",
       "      <td id=\"T_a8e42_row4_col1\" class=\"data row4 col1\" >80.66</td>\n",
       "      <td id=\"T_a8e42_row4_col2\" class=\"data row4 col2\" >79.76</td>\n",
       "      <td id=\"T_a8e42_row4_col3\" class=\"data row4 col3\" >80.49</td>\n",
       "      <td id=\"T_a8e42_row4_col4\" class=\"data row4 col4\" >80.49</td>\n",
       "      <td id=\"T_a8e42_row4_col5\" class=\"data row4 col5\" >7,000,695</td>\n",
       "    </tr>\n",
       "  </tbody>\n",
       "</table>\n",
       "&nbsp;&nbsp;&nbsp;"
      ]
     },
     "metadata": {},
     "output_type": "display_data"
    },
    {
     "name": "stdout",
     "output_type": "stream",
     "text": [
      "\n"
     ]
    }
   ],
   "source": [
    "head_tail_horz(GE, 5, \"GE Last 5 Years\")"
   ]
  },
  {
   "cell_type": "markdown",
   "id": "bdc64529-f7aa-473b-8a38-860fe8906bfb",
   "metadata": {},
   "source": [
    "<font size = 4><span style = 'background-color: #ddddff; padding: 5px 5px 3px 5px; line-height: 1.5; color:black;border-radius: 3px;'>**⊛ to_csv()**\n",
    "* exporting the last 5 years of GE data to CSV"
   ]
  },
  {
   "cell_type": "code",
   "execution_count": 37,
   "id": "03d9256d-50a2-4bd1-bb13-b9573ef3b802",
   "metadata": {},
   "outputs": [],
   "source": [
    "GE.to_csv(\"ge_last_5_years.csv\")"
   ]
  },
  {
   "cell_type": "markdown",
   "id": "f5642c75-9c32-4967-b6d3-ace71ff95932",
   "metadata": {},
   "source": [
    "<font size = 4><span style = 'background-color: #ddddff; padding: 5px 5px 3px 5px; line-height: 1.5; color:black;border-radius: 3px;'>**⊛ read_csv()**\n",
    "* creating a datetime index column by parsing dates and setting index"
   ]
  },
  {
   "cell_type": "code",
   "execution_count": 38,
   "id": "7a292b10-4bd9-46a0-aefd-9ffeda5041dc",
   "metadata": {},
   "outputs": [],
   "source": [
    "GE = pd.read_csv('ge_last_5_years.csv', \n",
    "\t\t\t\t parse_dates = [\"Date\"],\n",
    "\t\t\t\t index_col = 'Date')"
   ]
  },
  {
   "cell_type": "markdown",
   "id": "b795f37a-dd92-4f83-81d9-0dd4b2792f6e",
   "metadata": {},
   "source": [
    "<font size = 4><span style = 'background-color: #ddddff; padding: 5px 5px 3px 5px; line-height: 1.5; color:black;border-radius: 3px;'>**⊛ to_excel()**"
   ]
  },
  {
   "cell_type": "code",
   "execution_count": 39,
   "id": "16d6b6d8-edbc-493e-8f31-02d76243d137",
   "metadata": {},
   "outputs": [],
   "source": [
    "# GE.to_excel(\"ge_last_5_years.xlsx\")"
   ]
  },
  {
   "cell_type": "markdown",
   "id": "883aca41-1eb7-4dad-9d6d-eb9998907c60",
   "metadata": {},
   "source": [
    "<font size = 4><span style = 'background-color: #ddddff; padding: 5px 5px 3px 5px; line-height: 1.5; color:black;border-radius: 3px;'>**⊛ read_excel()**"
   ]
  },
  {
   "cell_type": "code",
   "execution_count": 40,
   "id": "52d7f692-8527-4a7d-8dc8-5ea2eccc86bc",
   "metadata": {},
   "outputs": [],
   "source": [
    "# see(pd.read_excel(\"ge_last_5_years.xlsx\", \n",
    "# \t\t\t\t  parse_dates = ['Date'], \n",
    "# \t\t\t\t  index_col = \"Date\")\n",
    "# \t\t\t\t .head(5), \"read_excel()\")"
   ]
  },
  {
   "cell_type": "markdown",
   "id": "e83fadd2-7a5a-4e05-b960-a2153981058b",
   "metadata": {},
   "source": [
    "<a name = 'multiple_stocks'></a>\n",
    "\n",
    "---\n",
    "\n",
    "**Sections:**  ●  [Top](#top)  ●  [Download & Import](#downloading_importing)  ●  [Historical Data](#historical_data)  ●  [Setting Date Range](#date_range)  ●  [High Frenquency](#high_frequency)   ●  [Splits & Dividends](#splits_dividends)   ●  [Exporting](#exporting)   ●  [Multiple Stocks](#multiple_stocks)   ●  [Importing Indexes](#importing_indexes)   ●  [Currency Exchange](#currency_exchange)   ●  [Cryptocurrencies](#cryptocurrencies)   ●  [Mutual & Exchange Traded Funds](#mututal_funds)   ●  [Treasury Yields](#treasury_yields)   ●  [Ticker Object & Docs](#ticker_object)   ●  [Stock Fundamentals](#stock_fundamentals)   ●  [Importing Financials](#importing_financials)   ●  [Importing Put & Call](#put_call)   ●  [Streaming Real-Time](#streaming_real_time)   ●\n",
    "\n",
    "---\n",
    "\n",
    "<span style = 'background-color: purple; font-weight: bold; padding: 5px 5px 3px 5px; line-height: 1.5; color:white;border-radius: 3px;'><font size = 4>▻ Importing Multiple Stocks</font></span>\n"
   ]
  },
  {
   "cell_type": "code",
   "execution_count": 41,
   "id": "5e80dbd0-f5e9-4783-9cb1-02d45e816691",
   "metadata": {},
   "outputs": [],
   "source": [
    "import_all()\n",
    "%matplotlib inline"
   ]
  },
  {
   "cell_type": "markdown",
   "id": "f04f5904-465c-415b-807f-02f9d6d567e9",
   "metadata": {},
   "source": [
    "<font size = 4><span style = 'background-color: #ddddff; padding: 5px 5px 3px 5px; line-height: 1.5; color:black;border-radius: 3px;'>Working with 3 separate tickers: GE, AAPL, and META"
   ]
  },
  {
   "cell_type": "code",
   "execution_count": 42,
   "id": "68019880-29e7-4e56-91e2-be225a962d2a",
   "metadata": {},
   "outputs": [],
   "source": [
    "tickers = [\"GE\", \"AAPL\", \"META\"]"
   ]
  },
  {
   "cell_type": "markdown",
   "id": "db2bfdb7-958a-4834-8688-7f9cf08d1479",
   "metadata": {},
   "source": [
    "<font size = 4><span style = 'background-color: #ddddff; padding: 5px 5px 3px 5px; line-height: 1.5; color:black;border-radius: 3px;'>**⊛ GE, AAPL, and META: last 5 years of data**"
   ]
  },
  {
   "cell_type": "code",
   "execution_count": 43,
   "id": "9ed52ba5-cfad-46ab-82cb-fe1bbfe108aa",
   "metadata": {},
   "outputs": [
    {
     "name": "stdout",
     "output_type": "stream",
     "text": [
      "[*********************100%***********************]  3 of 3 completed\n"
     ]
    }
   ],
   "source": [
    "stocks_3_5y = yf.download(tickers, period = \"5y\")"
   ]
  },
  {
   "cell_type": "markdown",
   "id": "e367141c-9323-4ccc-9574-cf6ecdf5aba6",
   "metadata": {},
   "source": [
    "<font size = 4><span style = 'background-color: #ddddff; padding: 5px 5px 3px 5px; line-height: 1.5; color:black;border-radius: 3px;'>**⊛ Mutli-Indexed Data**: outer index = Adj Close, Close, High, Low, Open, & Volume. On the inner index level are the stock tickers."
   ]
  },
  {
   "cell_type": "code",
   "execution_count": 44,
   "id": "62ee1efe-a3f1-4f15-a78b-26234c06c1eb",
   "metadata": {},
   "outputs": [
    {
     "name": "stdout",
     "output_type": "stream",
     "text": [
      "\n"
     ]
    },
    {
     "data": {
      "text/html": [
       "<span style = 'display: block; width: 330.0px; \t\t\t\t\t\tline-height: 2; background: #333333;\t\t\t\t\t\tmargin-left: auto; margin-right: auto;\t\t\t\t\t\tborder: 1px solid text_color;\t\t\t\t\t\tborder-radius: 3px; text-align: center;\t\t\t\t\t\tpadding: 3px 8px 3px 8px;'>\t\t\t\t\t\t<b><font size=4><text style=color:white>GE, AAPL, META 2018-2023: head(5)\t\t\t\t\t\t</text></font></b></style>"
      ],
      "text/plain": [
       "<IPython.core.display.HTML object>"
      ]
     },
     "metadata": {},
     "output_type": "display_data"
    },
    {
     "data": {
      "text/html": [
       "<center><table border=\"1\" class=\"dataframe\">\n",
       "  <thead>\n",
       "    <tr>\n",
       "      <th></th>\n",
       "      <th colspan=\"3\" halign=\"left\">Adj Close</th>\n",
       "      <th colspan=\"3\" halign=\"left\">Close</th>\n",
       "      <th colspan=\"3\" halign=\"left\">High</th>\n",
       "      <th colspan=\"3\" halign=\"left\">Low</th>\n",
       "      <th colspan=\"3\" halign=\"left\">Open</th>\n",
       "      <th colspan=\"3\" halign=\"left\">Volume</th>\n",
       "    </tr>\n",
       "    <tr>\n",
       "      <th></th>\n",
       "      <th>AAPL</th>\n",
       "      <th>GE</th>\n",
       "      <th>META</th>\n",
       "      <th>AAPL</th>\n",
       "      <th>GE</th>\n",
       "      <th>META</th>\n",
       "      <th>AAPL</th>\n",
       "      <th>GE</th>\n",
       "      <th>META</th>\n",
       "      <th>AAPL</th>\n",
       "      <th>GE</th>\n",
       "      <th>META</th>\n",
       "      <th>AAPL</th>\n",
       "      <th>GE</th>\n",
       "      <th>META</th>\n",
       "      <th>AAPL</th>\n",
       "      <th>GE</th>\n",
       "      <th>META</th>\n",
       "    </tr>\n",
       "    <tr>\n",
       "      <th>Date</th>\n",
       "      <th></th>\n",
       "      <th></th>\n",
       "      <th></th>\n",
       "      <th></th>\n",
       "      <th></th>\n",
       "      <th></th>\n",
       "      <th></th>\n",
       "      <th></th>\n",
       "      <th></th>\n",
       "      <th></th>\n",
       "      <th></th>\n",
       "      <th></th>\n",
       "      <th></th>\n",
       "      <th></th>\n",
       "      <th></th>\n",
       "      <th></th>\n",
       "      <th></th>\n",
       "      <th></th>\n",
       "    </tr>\n",
       "  </thead>\n",
       "  <tbody>\n",
       "    <tr>\n",
       "      <th>2018-01-18</th>\n",
       "      <td>42.61</td>\n",
       "      <td>96.32</td>\n",
       "      <td>179.80</td>\n",
       "      <td>44.81</td>\n",
       "      <td>100.70</td>\n",
       "      <td>179.80</td>\n",
       "      <td>45.03</td>\n",
       "      <td>104.97</td>\n",
       "      <td>180.98</td>\n",
       "      <td>44.56</td>\n",
       "      <td>100.64</td>\n",
       "      <td>177.08</td>\n",
       "      <td>44.84</td>\n",
       "      <td>104.49</td>\n",
       "      <td>178.13</td>\n",
       "      <td>124773600</td>\n",
       "      <td>28687024</td>\n",
       "      <td>23304900</td>\n",
       "    </tr>\n",
       "    <tr>\n",
       "      <th>2018-01-19</th>\n",
       "      <td>42.42</td>\n",
       "      <td>93.39</td>\n",
       "      <td>181.29</td>\n",
       "      <td>44.62</td>\n",
       "      <td>97.64</td>\n",
       "      <td>181.29</td>\n",
       "      <td>44.90</td>\n",
       "      <td>100.46</td>\n",
       "      <td>182.37</td>\n",
       "      <td>44.35</td>\n",
       "      <td>96.20</td>\n",
       "      <td>180.17</td>\n",
       "      <td>44.65</td>\n",
       "      <td>99.98</td>\n",
       "      <td>180.85</td>\n",
       "      <td>129700400</td>\n",
       "      <td>35795157</td>\n",
       "      <td>26826500</td>\n",
       "    </tr>\n",
       "    <tr>\n",
       "      <th>2018-01-22</th>\n",
       "      <td>42.08</td>\n",
       "      <td>92.88</td>\n",
       "      <td>185.37</td>\n",
       "      <td>44.25</td>\n",
       "      <td>97.10</td>\n",
       "      <td>185.37</td>\n",
       "      <td>44.44</td>\n",
       "      <td>98.06</td>\n",
       "      <td>185.39</td>\n",
       "      <td>44.15</td>\n",
       "      <td>94.88</td>\n",
       "      <td>180.41</td>\n",
       "      <td>44.33</td>\n",
       "      <td>95.48</td>\n",
       "      <td>180.80</td>\n",
       "      <td>108434400</td>\n",
       "      <td>22350374</td>\n",
       "      <td>21059500</td>\n",
       "    </tr>\n",
       "    <tr>\n",
       "      <th>2018-01-23</th>\n",
       "      <td>42.09</td>\n",
       "      <td>97.01</td>\n",
       "      <td>189.35</td>\n",
       "      <td>44.26</td>\n",
       "      <td>101.42</td>\n",
       "      <td>189.35</td>\n",
       "      <td>44.86</td>\n",
       "      <td>102.26</td>\n",
       "      <td>189.55</td>\n",
       "      <td>44.21</td>\n",
       "      <td>97.70</td>\n",
       "      <td>185.55</td>\n",
       "      <td>44.33</td>\n",
       "      <td>97.88</td>\n",
       "      <td>186.05</td>\n",
       "      <td>130756400</td>\n",
       "      <td>20522574</td>\n",
       "      <td>25678800</td>\n",
       "    </tr>\n",
       "    <tr>\n",
       "      <th>2018-01-24</th>\n",
       "      <td>41.42</td>\n",
       "      <td>94.43</td>\n",
       "      <td>186.55</td>\n",
       "      <td>43.56</td>\n",
       "      <td>98.72</td>\n",
       "      <td>186.55</td>\n",
       "      <td>44.33</td>\n",
       "      <td>104.25</td>\n",
       "      <td>190.66</td>\n",
       "      <td>43.30</td>\n",
       "      <td>97.58</td>\n",
       "      <td>186.52</td>\n",
       "      <td>44.31</td>\n",
       "      <td>102.08</td>\n",
       "      <td>189.89</td>\n",
       "      <td>204420400</td>\n",
       "      <td>27813458</td>\n",
       "      <td>24334500</td>\n",
       "    </tr>\n",
       "  </tbody>\n",
       "</table>"
      ],
      "text/plain": [
       "<IPython.core.display.HTML object>"
      ]
     },
     "metadata": {},
     "output_type": "display_data"
    },
    {
     "name": "stdout",
     "output_type": "stream",
     "text": [
      "\n"
     ]
    },
    {
     "data": {
      "text/html": [
       "<span style = 'display: block; width: 330.0px; \t\t\t\t\t\tline-height: 2; background: #333333;\t\t\t\t\t\tmargin-left: auto; margin-right: auto;\t\t\t\t\t\tborder: 1px solid text_color;\t\t\t\t\t\tborder-radius: 3px; text-align: center;\t\t\t\t\t\tpadding: 3px 8px 3px 8px;'>\t\t\t\t\t\t<b><font size=4><text style=color:white>GE, AAPL, META 2018-2023: tail(5)\t\t\t\t\t\t</text></font></b></style>"
      ],
      "text/plain": [
       "<IPython.core.display.HTML object>"
      ]
     },
     "metadata": {},
     "output_type": "display_data"
    },
    {
     "data": {
      "text/html": [
       "<center><table border=\"1\" class=\"dataframe\">\n",
       "  <thead>\n",
       "    <tr>\n",
       "      <th></th>\n",
       "      <th colspan=\"3\" halign=\"left\">Adj Close</th>\n",
       "      <th colspan=\"3\" halign=\"left\">Close</th>\n",
       "      <th colspan=\"3\" halign=\"left\">High</th>\n",
       "      <th colspan=\"3\" halign=\"left\">Low</th>\n",
       "      <th colspan=\"3\" halign=\"left\">Open</th>\n",
       "      <th colspan=\"3\" halign=\"left\">Volume</th>\n",
       "    </tr>\n",
       "    <tr>\n",
       "      <th></th>\n",
       "      <th>AAPL</th>\n",
       "      <th>GE</th>\n",
       "      <th>META</th>\n",
       "      <th>AAPL</th>\n",
       "      <th>GE</th>\n",
       "      <th>META</th>\n",
       "      <th>AAPL</th>\n",
       "      <th>GE</th>\n",
       "      <th>META</th>\n",
       "      <th>AAPL</th>\n",
       "      <th>GE</th>\n",
       "      <th>META</th>\n",
       "      <th>AAPL</th>\n",
       "      <th>GE</th>\n",
       "      <th>META</th>\n",
       "      <th>AAPL</th>\n",
       "      <th>GE</th>\n",
       "      <th>META</th>\n",
       "    </tr>\n",
       "    <tr>\n",
       "      <th>Date</th>\n",
       "      <th></th>\n",
       "      <th></th>\n",
       "      <th></th>\n",
       "      <th></th>\n",
       "      <th></th>\n",
       "      <th></th>\n",
       "      <th></th>\n",
       "      <th></th>\n",
       "      <th></th>\n",
       "      <th></th>\n",
       "      <th></th>\n",
       "      <th></th>\n",
       "      <th></th>\n",
       "      <th></th>\n",
       "      <th></th>\n",
       "      <th></th>\n",
       "      <th></th>\n",
       "      <th></th>\n",
       "    </tr>\n",
       "  </thead>\n",
       "  <tbody>\n",
       "    <tr>\n",
       "      <th>2023-01-10</th>\n",
       "      <td>130.73</td>\n",
       "      <td>75.27</td>\n",
       "      <td>132.99</td>\n",
       "      <td>130.73</td>\n",
       "      <td>75.27</td>\n",
       "      <td>132.99</td>\n",
       "      <td>131.26</td>\n",
       "      <td>75.37</td>\n",
       "      <td>133.44</td>\n",
       "      <td>128.12</td>\n",
       "      <td>72.20</td>\n",
       "      <td>127.15</td>\n",
       "      <td>130.26</td>\n",
       "      <td>72.20</td>\n",
       "      <td>127.27</td>\n",
       "      <td>63896200</td>\n",
       "      <td>9255500</td>\n",
       "      <td>28684400</td>\n",
       "    </tr>\n",
       "    <tr>\n",
       "      <th>2023-01-11</th>\n",
       "      <td>133.49</td>\n",
       "      <td>77.69</td>\n",
       "      <td>132.89</td>\n",
       "      <td>133.49</td>\n",
       "      <td>77.69</td>\n",
       "      <td>132.89</td>\n",
       "      <td>133.51</td>\n",
       "      <td>77.70</td>\n",
       "      <td>133.85</td>\n",
       "      <td>130.46</td>\n",
       "      <td>75.51</td>\n",
       "      <td>130.34</td>\n",
       "      <td>131.25</td>\n",
       "      <td>75.82</td>\n",
       "      <td>130.96</td>\n",
       "      <td>69458900</td>\n",
       "      <td>10159300</td>\n",
       "      <td>25423000</td>\n",
       "    </tr>\n",
       "    <tr>\n",
       "      <th>2023-01-12</th>\n",
       "      <td>133.41</td>\n",
       "      <td>78.86</td>\n",
       "      <td>136.71</td>\n",
       "      <td>133.41</td>\n",
       "      <td>78.86</td>\n",
       "      <td>136.71</td>\n",
       "      <td>134.26</td>\n",
       "      <td>79.21</td>\n",
       "      <td>137.68</td>\n",
       "      <td>131.44</td>\n",
       "      <td>77.29</td>\n",
       "      <td>131.76</td>\n",
       "      <td>133.88</td>\n",
       "      <td>77.88</td>\n",
       "      <td>133.44</td>\n",
       "      <td>71379600</td>\n",
       "      <td>11498700</td>\n",
       "      <td>30757700</td>\n",
       "    </tr>\n",
       "    <tr>\n",
       "      <th>2023-01-13</th>\n",
       "      <td>134.76</td>\n",
       "      <td>80.20</td>\n",
       "      <td>136.98</td>\n",
       "      <td>134.76</td>\n",
       "      <td>80.20</td>\n",
       "      <td>136.98</td>\n",
       "      <td>134.92</td>\n",
       "      <td>80.60</td>\n",
       "      <td>137.39</td>\n",
       "      <td>131.66</td>\n",
       "      <td>78.50</td>\n",
       "      <td>134.84</td>\n",
       "      <td>132.03</td>\n",
       "      <td>78.78</td>\n",
       "      <td>134.97</td>\n",
       "      <td>57758000</td>\n",
       "      <td>11044800</td>\n",
       "      <td>22410700</td>\n",
       "    </tr>\n",
       "    <tr>\n",
       "      <th>2023-01-17</th>\n",
       "      <td>135.94</td>\n",
       "      <td>80.49</td>\n",
       "      <td>135.36</td>\n",
       "      <td>135.94</td>\n",
       "      <td>80.49</td>\n",
       "      <td>135.36</td>\n",
       "      <td>137.29</td>\n",
       "      <td>80.66</td>\n",
       "      <td>136.75</td>\n",
       "      <td>134.15</td>\n",
       "      <td>79.76</td>\n",
       "      <td>134.32</td>\n",
       "      <td>134.83</td>\n",
       "      <td>79.92</td>\n",
       "      <td>136.18</td>\n",
       "      <td>63453444</td>\n",
       "      <td>7000695</td>\n",
       "      <td>21048191</td>\n",
       "    </tr>\n",
       "  </tbody>\n",
       "</table>"
      ],
      "text/plain": [
       "<IPython.core.display.HTML object>"
      ]
     },
     "metadata": {},
     "output_type": "display_data"
    },
    {
     "name": "stdout",
     "output_type": "stream",
     "text": [
      "\n"
     ]
    }
   ],
   "source": [
    "head_tail_vert(stocks_3_5y, 5, title=\"GE, AAPL, META 2018-2023\")"
   ]
  },
  {
   "cell_type": "markdown",
   "id": "2d93d93f-b3d7-44b0-a242-b8b8a20d2bd2",
   "metadata": {},
   "source": [
    "<font size = 4><span style = 'background-color: #ddddff; padding: 5px 5px 3px 5px; line-height: 1.5; color:black;border-radius: 3px;'>**GE, AAPL, and META: last 5 years of data grouped by ticker**"
   ]
  },
  {
   "cell_type": "code",
   "execution_count": 45,
   "id": "1612d9ba-cf72-4099-be0b-fe06bca7c4f4",
   "metadata": {},
   "outputs": [
    {
     "name": "stdout",
     "output_type": "stream",
     "text": [
      "[*********************100%***********************]  3 of 3 completed\n"
     ]
    }
   ],
   "source": [
    "stocks_3_5y_ticker = yf.download(tickers, period = \"5y\", group_by = \"Ticker\")"
   ]
  },
  {
   "cell_type": "markdown",
   "id": "033bc106-9f4f-416b-bab1-8fdf2ea2fd22",
   "metadata": {},
   "source": [
    "<font size = 4><span style = 'background-color: #ddddff; padding: 5px 5px 3px 5px; line-height: 1.5; color:black;border-radius: 3px;'>**⊛ Mutli-Index Switched**: grouping by tickers cause the indices, outer and inner, to be switched. `group_by` is by default set to `columns`."
   ]
  },
  {
   "cell_type": "code",
   "execution_count": 46,
   "id": "b74523db-9dc7-40c5-9e2c-a4b412079008",
   "metadata": {},
   "outputs": [
    {
     "name": "stdout",
     "output_type": "stream",
     "text": [
      "\n"
     ]
    },
    {
     "data": {
      "text/html": [
       "<span style = 'display: block; width: 510.0px; \t\t\t\t\t\tline-height: 2; background: #333333;\t\t\t\t\t\tmargin-left: auto; margin-right: auto;\t\t\t\t\t\tborder: 1px solid text_color;\t\t\t\t\t\tborder-radius: 3px; text-align: center;\t\t\t\t\t\tpadding: 3px 8px 3px 8px;'>\t\t\t\t\t\t<b><font size=4><text style=color:white>GE, AAPL, META 2018-2023 grouped by ticker: head(5)\t\t\t\t\t\t</text></font></b></style>"
      ],
      "text/plain": [
       "<IPython.core.display.HTML object>"
      ]
     },
     "metadata": {},
     "output_type": "display_data"
    },
    {
     "data": {
      "text/html": [
       "<center><table border=\"1\" class=\"dataframe\">\n",
       "  <thead>\n",
       "    <tr>\n",
       "      <th></th>\n",
       "      <th colspan=\"6\" halign=\"left\">META</th>\n",
       "      <th colspan=\"6\" halign=\"left\">AAPL</th>\n",
       "      <th colspan=\"6\" halign=\"left\">GE</th>\n",
       "    </tr>\n",
       "    <tr>\n",
       "      <th></th>\n",
       "      <th>Open</th>\n",
       "      <th>High</th>\n",
       "      <th>Low</th>\n",
       "      <th>Close</th>\n",
       "      <th>Adj Close</th>\n",
       "      <th>Volume</th>\n",
       "      <th>Open</th>\n",
       "      <th>High</th>\n",
       "      <th>Low</th>\n",
       "      <th>Close</th>\n",
       "      <th>Adj Close</th>\n",
       "      <th>Volume</th>\n",
       "      <th>Open</th>\n",
       "      <th>High</th>\n",
       "      <th>Low</th>\n",
       "      <th>Close</th>\n",
       "      <th>Adj Close</th>\n",
       "      <th>Volume</th>\n",
       "    </tr>\n",
       "    <tr>\n",
       "      <th>Date</th>\n",
       "      <th></th>\n",
       "      <th></th>\n",
       "      <th></th>\n",
       "      <th></th>\n",
       "      <th></th>\n",
       "      <th></th>\n",
       "      <th></th>\n",
       "      <th></th>\n",
       "      <th></th>\n",
       "      <th></th>\n",
       "      <th></th>\n",
       "      <th></th>\n",
       "      <th></th>\n",
       "      <th></th>\n",
       "      <th></th>\n",
       "      <th></th>\n",
       "      <th></th>\n",
       "      <th></th>\n",
       "    </tr>\n",
       "  </thead>\n",
       "  <tbody>\n",
       "    <tr>\n",
       "      <th>2018-01-18</th>\n",
       "      <td>178.13</td>\n",
       "      <td>180.98</td>\n",
       "      <td>177.08</td>\n",
       "      <td>179.80</td>\n",
       "      <td>179.80</td>\n",
       "      <td>23304900</td>\n",
       "      <td>44.84</td>\n",
       "      <td>45.03</td>\n",
       "      <td>44.56</td>\n",
       "      <td>44.81</td>\n",
       "      <td>42.61</td>\n",
       "      <td>124773600</td>\n",
       "      <td>104.49</td>\n",
       "      <td>104.97</td>\n",
       "      <td>100.64</td>\n",
       "      <td>100.70</td>\n",
       "      <td>96.32</td>\n",
       "      <td>28687024</td>\n",
       "    </tr>\n",
       "    <tr>\n",
       "      <th>2018-01-19</th>\n",
       "      <td>180.85</td>\n",
       "      <td>182.37</td>\n",
       "      <td>180.17</td>\n",
       "      <td>181.29</td>\n",
       "      <td>181.29</td>\n",
       "      <td>26826500</td>\n",
       "      <td>44.65</td>\n",
       "      <td>44.90</td>\n",
       "      <td>44.35</td>\n",
       "      <td>44.62</td>\n",
       "      <td>42.42</td>\n",
       "      <td>129700400</td>\n",
       "      <td>99.98</td>\n",
       "      <td>100.46</td>\n",
       "      <td>96.20</td>\n",
       "      <td>97.64</td>\n",
       "      <td>93.39</td>\n",
       "      <td>35795157</td>\n",
       "    </tr>\n",
       "    <tr>\n",
       "      <th>2018-01-22</th>\n",
       "      <td>180.80</td>\n",
       "      <td>185.39</td>\n",
       "      <td>180.41</td>\n",
       "      <td>185.37</td>\n",
       "      <td>185.37</td>\n",
       "      <td>21059500</td>\n",
       "      <td>44.33</td>\n",
       "      <td>44.44</td>\n",
       "      <td>44.15</td>\n",
       "      <td>44.25</td>\n",
       "      <td>42.08</td>\n",
       "      <td>108434400</td>\n",
       "      <td>95.48</td>\n",
       "      <td>98.06</td>\n",
       "      <td>94.88</td>\n",
       "      <td>97.10</td>\n",
       "      <td>92.88</td>\n",
       "      <td>22350374</td>\n",
       "    </tr>\n",
       "    <tr>\n",
       "      <th>2018-01-23</th>\n",
       "      <td>186.05</td>\n",
       "      <td>189.55</td>\n",
       "      <td>185.55</td>\n",
       "      <td>189.35</td>\n",
       "      <td>189.35</td>\n",
       "      <td>25678800</td>\n",
       "      <td>44.33</td>\n",
       "      <td>44.86</td>\n",
       "      <td>44.21</td>\n",
       "      <td>44.26</td>\n",
       "      <td>42.09</td>\n",
       "      <td>130756400</td>\n",
       "      <td>97.88</td>\n",
       "      <td>102.26</td>\n",
       "      <td>97.70</td>\n",
       "      <td>101.42</td>\n",
       "      <td>97.01</td>\n",
       "      <td>20522574</td>\n",
       "    </tr>\n",
       "    <tr>\n",
       "      <th>2018-01-24</th>\n",
       "      <td>189.89</td>\n",
       "      <td>190.66</td>\n",
       "      <td>186.52</td>\n",
       "      <td>186.55</td>\n",
       "      <td>186.55</td>\n",
       "      <td>24334500</td>\n",
       "      <td>44.31</td>\n",
       "      <td>44.33</td>\n",
       "      <td>43.30</td>\n",
       "      <td>43.56</td>\n",
       "      <td>41.42</td>\n",
       "      <td>204420400</td>\n",
       "      <td>102.08</td>\n",
       "      <td>104.25</td>\n",
       "      <td>97.58</td>\n",
       "      <td>98.72</td>\n",
       "      <td>94.43</td>\n",
       "      <td>27813458</td>\n",
       "    </tr>\n",
       "  </tbody>\n",
       "</table>"
      ],
      "text/plain": [
       "<IPython.core.display.HTML object>"
      ]
     },
     "metadata": {},
     "output_type": "display_data"
    },
    {
     "name": "stdout",
     "output_type": "stream",
     "text": [
      "\n"
     ]
    },
    {
     "data": {
      "text/html": [
       "<span style = 'display: block; width: 510.0px; \t\t\t\t\t\tline-height: 2; background: #333333;\t\t\t\t\t\tmargin-left: auto; margin-right: auto;\t\t\t\t\t\tborder: 1px solid text_color;\t\t\t\t\t\tborder-radius: 3px; text-align: center;\t\t\t\t\t\tpadding: 3px 8px 3px 8px;'>\t\t\t\t\t\t<b><font size=4><text style=color:white>GE, AAPL, META 2018-2023 grouped by ticker: tail(5)\t\t\t\t\t\t</text></font></b></style>"
      ],
      "text/plain": [
       "<IPython.core.display.HTML object>"
      ]
     },
     "metadata": {},
     "output_type": "display_data"
    },
    {
     "data": {
      "text/html": [
       "<center><table border=\"1\" class=\"dataframe\">\n",
       "  <thead>\n",
       "    <tr>\n",
       "      <th></th>\n",
       "      <th colspan=\"6\" halign=\"left\">META</th>\n",
       "      <th colspan=\"6\" halign=\"left\">AAPL</th>\n",
       "      <th colspan=\"6\" halign=\"left\">GE</th>\n",
       "    </tr>\n",
       "    <tr>\n",
       "      <th></th>\n",
       "      <th>Open</th>\n",
       "      <th>High</th>\n",
       "      <th>Low</th>\n",
       "      <th>Close</th>\n",
       "      <th>Adj Close</th>\n",
       "      <th>Volume</th>\n",
       "      <th>Open</th>\n",
       "      <th>High</th>\n",
       "      <th>Low</th>\n",
       "      <th>Close</th>\n",
       "      <th>Adj Close</th>\n",
       "      <th>Volume</th>\n",
       "      <th>Open</th>\n",
       "      <th>High</th>\n",
       "      <th>Low</th>\n",
       "      <th>Close</th>\n",
       "      <th>Adj Close</th>\n",
       "      <th>Volume</th>\n",
       "    </tr>\n",
       "    <tr>\n",
       "      <th>Date</th>\n",
       "      <th></th>\n",
       "      <th></th>\n",
       "      <th></th>\n",
       "      <th></th>\n",
       "      <th></th>\n",
       "      <th></th>\n",
       "      <th></th>\n",
       "      <th></th>\n",
       "      <th></th>\n",
       "      <th></th>\n",
       "      <th></th>\n",
       "      <th></th>\n",
       "      <th></th>\n",
       "      <th></th>\n",
       "      <th></th>\n",
       "      <th></th>\n",
       "      <th></th>\n",
       "      <th></th>\n",
       "    </tr>\n",
       "  </thead>\n",
       "  <tbody>\n",
       "    <tr>\n",
       "      <th>2023-01-10</th>\n",
       "      <td>127.27</td>\n",
       "      <td>133.44</td>\n",
       "      <td>127.15</td>\n",
       "      <td>132.99</td>\n",
       "      <td>132.99</td>\n",
       "      <td>28684400</td>\n",
       "      <td>130.26</td>\n",
       "      <td>131.26</td>\n",
       "      <td>128.12</td>\n",
       "      <td>130.73</td>\n",
       "      <td>130.73</td>\n",
       "      <td>63896200</td>\n",
       "      <td>72.20</td>\n",
       "      <td>75.37</td>\n",
       "      <td>72.20</td>\n",
       "      <td>75.27</td>\n",
       "      <td>75.27</td>\n",
       "      <td>9255500</td>\n",
       "    </tr>\n",
       "    <tr>\n",
       "      <th>2023-01-11</th>\n",
       "      <td>130.96</td>\n",
       "      <td>133.85</td>\n",
       "      <td>130.34</td>\n",
       "      <td>132.89</td>\n",
       "      <td>132.89</td>\n",
       "      <td>25423000</td>\n",
       "      <td>131.25</td>\n",
       "      <td>133.51</td>\n",
       "      <td>130.46</td>\n",
       "      <td>133.49</td>\n",
       "      <td>133.49</td>\n",
       "      <td>69458900</td>\n",
       "      <td>75.82</td>\n",
       "      <td>77.70</td>\n",
       "      <td>75.51</td>\n",
       "      <td>77.69</td>\n",
       "      <td>77.69</td>\n",
       "      <td>10159300</td>\n",
       "    </tr>\n",
       "    <tr>\n",
       "      <th>2023-01-12</th>\n",
       "      <td>133.44</td>\n",
       "      <td>137.68</td>\n",
       "      <td>131.76</td>\n",
       "      <td>136.71</td>\n",
       "      <td>136.71</td>\n",
       "      <td>30757700</td>\n",
       "      <td>133.88</td>\n",
       "      <td>134.26</td>\n",
       "      <td>131.44</td>\n",
       "      <td>133.41</td>\n",
       "      <td>133.41</td>\n",
       "      <td>71379600</td>\n",
       "      <td>77.88</td>\n",
       "      <td>79.21</td>\n",
       "      <td>77.29</td>\n",
       "      <td>78.86</td>\n",
       "      <td>78.86</td>\n",
       "      <td>11498700</td>\n",
       "    </tr>\n",
       "    <tr>\n",
       "      <th>2023-01-13</th>\n",
       "      <td>134.97</td>\n",
       "      <td>137.39</td>\n",
       "      <td>134.84</td>\n",
       "      <td>136.98</td>\n",
       "      <td>136.98</td>\n",
       "      <td>22410700</td>\n",
       "      <td>132.03</td>\n",
       "      <td>134.92</td>\n",
       "      <td>131.66</td>\n",
       "      <td>134.76</td>\n",
       "      <td>134.76</td>\n",
       "      <td>57758000</td>\n",
       "      <td>78.78</td>\n",
       "      <td>80.60</td>\n",
       "      <td>78.50</td>\n",
       "      <td>80.20</td>\n",
       "      <td>80.20</td>\n",
       "      <td>11044800</td>\n",
       "    </tr>\n",
       "    <tr>\n",
       "      <th>2023-01-17</th>\n",
       "      <td>136.18</td>\n",
       "      <td>136.75</td>\n",
       "      <td>134.32</td>\n",
       "      <td>135.36</td>\n",
       "      <td>135.36</td>\n",
       "      <td>21048191</td>\n",
       "      <td>134.83</td>\n",
       "      <td>137.29</td>\n",
       "      <td>134.15</td>\n",
       "      <td>135.94</td>\n",
       "      <td>135.94</td>\n",
       "      <td>63453444</td>\n",
       "      <td>79.92</td>\n",
       "      <td>80.66</td>\n",
       "      <td>79.76</td>\n",
       "      <td>80.49</td>\n",
       "      <td>80.49</td>\n",
       "      <td>7000695</td>\n",
       "    </tr>\n",
       "  </tbody>\n",
       "</table>"
      ],
      "text/plain": [
       "<IPython.core.display.HTML object>"
      ]
     },
     "metadata": {},
     "output_type": "display_data"
    },
    {
     "name": "stdout",
     "output_type": "stream",
     "text": [
      "\n"
     ]
    }
   ],
   "source": [
    "head_tail_vert(stocks_3_5y_ticker, 5, \n",
    "\t\t   title=\"GE, AAPL, META 2018-2023 grouped by ticker\")"
   ]
  },
  {
   "cell_type": "markdown",
   "id": "ceb9839f-3a07-4f5e-a9c3-2df1c3ca6264",
   "metadata": {},
   "source": [
    "<font size = 4><span style = 'background-color: #ddddff; padding: 5px 5px 3px 5px; line-height: 1.5; color:black;border-radius: 3px;'>Retaining the Close data only, therefor not grouping by ticker"
   ]
  },
  {
   "cell_type": "code",
   "execution_count": 47,
   "id": "d01932ee-66fa-4c2d-ba25-247ea07323fd",
   "metadata": {},
   "outputs": [
    {
     "name": "stdout",
     "output_type": "stream",
     "text": [
      "[*********************100%***********************]  3 of 3 completed\n"
     ]
    },
    {
     "data": {
      "text/html": [
       "<span style = 'display: block; width: 570.0px; \t\t\t\t\t\tline-height: 2; background: #333333;\t\t\t\t\t\tmargin-left: auto; margin-right: auto;\t\t\t\t\t\tborder: 1px solid text_color;\t\t\t\t\t\tborder-radius: 3px; text-align: center;\t\t\t\t\t\tpadding: 3px 8px 3px 8px;'>\t\t\t\t\t\t<b><font size=4><text style=color:white>GE, AAPL, META - Last 5 Years (12 samples & overall plot)\t\t\t\t\t\t</text></font></b></style>"
      ],
      "text/plain": [
       "<IPython.core.display.HTML object>"
      ]
     },
     "metadata": {},
     "output_type": "display_data"
    },
    {
     "data": {
      "application/vnd.jupyter.widget-view+json": {
       "model_id": "d5e09ef80d544fe2bd6f965e4fc65931",
       "version_major": 2,
       "version_minor": 0
      },
      "text/plain": [
       "GridspecLayout(children=(Output(layout=Layout(border='1px solid black', grid_area='widget001')), Output(layout…"
      ]
     },
     "metadata": {},
     "output_type": "display_data"
    }
   ],
   "source": [
    "stocks = yf.download(tickers, period = \"5y\").Close\n",
    "\n",
    "plot_by_df(stocks, sort_param=\"Date\",\n",
    "\t\t   cmap=\"cool\", title=\"GE, AAPL, META - Last 5 Years\",\n",
    "\t\t  ylabel = 'prices', xlabel = 'years')"
   ]
  },
  {
   "cell_type": "markdown",
   "id": "ccee00d6-c66f-407f-8e64-c1499f95e6e3",
   "metadata": {},
   "source": [
    "<a name = 'importing_indexes'></a>\n",
    "\n",
    "---\n",
    "\n",
    "**Sections:**  ●  [Top](#top)  ●  [Download & Import](#downloading_importing)  ●  [Historical Data](#historical_data)  ●  [Setting Date Range](#date_range)  ●  [High Frenquency](#high_frequency)   ●  [Splits & Dividends](#splits_dividends)   ●  [Exporting](#exporting)   ●  [Multiple Stocks](#multiple_stocks)   ●  [Importing Indexes](#importing_indexes)   ●  [Currency Exchange](#currency_exchange)   ●  [Cryptocurrencies](#cryptocurrencies)   ●  [Mutual & Exchange Traded Funds](#mututal_funds)   ●  [Treasury Yields](#treasury_yields)   ●  [Ticker Object & Docs](#ticker_object)   ●  [Stock Fundamentals](#stock_fundamentals)   ●  [Importing Financials](#importing_financials)   ●  [Importing Put & Call](#put_call)   ●  [Streaming Real-Time](#streaming_real_time)   ●\n",
    "\n",
    "---\n",
    "\n",
    "<span style = 'background-color: purple; font-weight: bold; padding: 5px 5px 3px 5px; line-height: 1.5; color:white;border-radius: 3px;'><font size = 4>▻ Importing Financial Indexes</font></span>"
   ]
  },
  {
   "cell_type": "code",
   "execution_count": 48,
   "id": "ffdebf16-d3b5-458a-9fc1-afc8d7072ac8",
   "metadata": {},
   "outputs": [],
   "source": [
    "import_all()"
   ]
  },
  {
   "cell_type": "markdown",
   "id": "223f5dc5-f515-41e3-9dbe-5db61d9a1f20",
   "metadata": {},
   "source": [
    "<font size = 4><span style = 'background-color: #ddddff; padding: 5px 5px 3px 5px; line-height: 1.5; color:black;border-radius: 3px;'>Historical data import: tickers are the **Dow Jones Industrial Average Index** with thirty different US company stocks and the **S&P500**, which aggregates 500 large US companies."
   ]
  },
  {
   "cell_type": "code",
   "execution_count": 49,
   "id": "e2f44c6c-fb43-4a7f-aedc-443f5cca0d00",
   "metadata": {},
   "outputs": [],
   "source": [
    "index_tickers = [\"^DJI\", \"^GSPC\"]"
   ]
  },
  {
   "cell_type": "markdown",
   "id": "6ea1cec1-4a3a-439c-89ad-ba1d5b53c7a4",
   "metadata": {},
   "source": [
    "<font size = 4><span style = 'background-color: #ddddff; padding: 5px 5px 3px 5px; line-height: 1.5; color:black;border-radius: 3px;'>A look at the last five years worth of data for the two indexes"
   ]
  },
  {
   "cell_type": "code",
   "execution_count": 50,
   "id": "9b596b76-1eaa-48e3-a411-d6128b126ea9",
   "metadata": {},
   "outputs": [
    {
     "name": "stdout",
     "output_type": "stream",
     "text": [
      "[*********************100%***********************]  2 of 2 completed\n",
      "\n"
     ]
    },
    {
     "data": {
      "text/html": [
       "<span style = 'display: block; width: 320.0px; \t\t\t\t\t\tline-height: 2; background: #333333;\t\t\t\t\t\tmargin-left: auto; margin-right: auto;\t\t\t\t\t\tborder: 1px solid text_color;\t\t\t\t\t\tborder-radius: 3px; text-align: center;\t\t\t\t\t\tpadding: 3px 8px 3px 8px;'>\t\t\t\t\t\t<b><font size=4><text style=color:white>DJI & GSPC last 5 years: head(5)\t\t\t\t\t\t</text></font></b></style>"
      ],
      "text/plain": [
       "<IPython.core.display.HTML object>"
      ]
     },
     "metadata": {},
     "output_type": "display_data"
    },
    {
     "data": {
      "text/html": [
       "<center><table border=\"1\" class=\"dataframe\">\n",
       "  <thead>\n",
       "    <tr>\n",
       "      <th></th>\n",
       "      <th colspan=\"2\" halign=\"left\">Adj Close</th>\n",
       "      <th colspan=\"2\" halign=\"left\">Close</th>\n",
       "      <th colspan=\"2\" halign=\"left\">High</th>\n",
       "      <th colspan=\"2\" halign=\"left\">Low</th>\n",
       "      <th colspan=\"2\" halign=\"left\">Open</th>\n",
       "      <th colspan=\"2\" halign=\"left\">Volume</th>\n",
       "    </tr>\n",
       "    <tr>\n",
       "      <th></th>\n",
       "      <th>^DJI</th>\n",
       "      <th>^GSPC</th>\n",
       "      <th>^DJI</th>\n",
       "      <th>^GSPC</th>\n",
       "      <th>^DJI</th>\n",
       "      <th>^GSPC</th>\n",
       "      <th>^DJI</th>\n",
       "      <th>^GSPC</th>\n",
       "      <th>^DJI</th>\n",
       "      <th>^GSPC</th>\n",
       "      <th>^DJI</th>\n",
       "      <th>^GSPC</th>\n",
       "    </tr>\n",
       "    <tr>\n",
       "      <th>Date</th>\n",
       "      <th></th>\n",
       "      <th></th>\n",
       "      <th></th>\n",
       "      <th></th>\n",
       "      <th></th>\n",
       "      <th></th>\n",
       "      <th></th>\n",
       "      <th></th>\n",
       "      <th></th>\n",
       "      <th></th>\n",
       "      <th></th>\n",
       "      <th></th>\n",
       "    </tr>\n",
       "  </thead>\n",
       "  <tbody>\n",
       "    <tr>\n",
       "      <th>2018-01-18</th>\n",
       "      <td>26,017.81</td>\n",
       "      <td>2,798.03</td>\n",
       "      <td>26,017.81</td>\n",
       "      <td>2,798.03</td>\n",
       "      <td>26,153.42</td>\n",
       "      <td>2,805.83</td>\n",
       "      <td>25,947.32</td>\n",
       "      <td>2,792.56</td>\n",
       "      <td>26,149.55</td>\n",
       "      <td>2,802.40</td>\n",
       "      <td>492780000</td>\n",
       "      <td>3703300000</td>\n",
       "    </tr>\n",
       "    <tr>\n",
       "      <th>2018-01-19</th>\n",
       "      <td>26,071.72</td>\n",
       "      <td>2,810.30</td>\n",
       "      <td>26,071.72</td>\n",
       "      <td>2,810.30</td>\n",
       "      <td>26,071.72</td>\n",
       "      <td>2,810.33</td>\n",
       "      <td>25,942.83</td>\n",
       "      <td>2,798.08</td>\n",
       "      <td>25,987.35</td>\n",
       "      <td>2,802.60</td>\n",
       "      <td>585000000</td>\n",
       "      <td>3724230000</td>\n",
       "    </tr>\n",
       "    <tr>\n",
       "      <th>2018-01-22</th>\n",
       "      <td>26,214.60</td>\n",
       "      <td>2,832.97</td>\n",
       "      <td>26,214.60</td>\n",
       "      <td>2,832.97</td>\n",
       "      <td>26,215.23</td>\n",
       "      <td>2,833.03</td>\n",
       "      <td>25,974.65</td>\n",
       "      <td>2,808.12</td>\n",
       "      <td>26,025.32</td>\n",
       "      <td>2,809.16</td>\n",
       "      <td>431200000</td>\n",
       "      <td>3489480000</td>\n",
       "    </tr>\n",
       "    <tr>\n",
       "      <th>2018-01-23</th>\n",
       "      <td>26,210.81</td>\n",
       "      <td>2,839.13</td>\n",
       "      <td>26,210.81</td>\n",
       "      <td>2,839.13</td>\n",
       "      <td>26,246.19</td>\n",
       "      <td>2,842.24</td>\n",
       "      <td>26,143.90</td>\n",
       "      <td>2,830.59</td>\n",
       "      <td>26,214.87</td>\n",
       "      <td>2,835.05</td>\n",
       "      <td>433490000</td>\n",
       "      <td>3541140000</td>\n",
       "    </tr>\n",
       "    <tr>\n",
       "      <th>2018-01-24</th>\n",
       "      <td>26,252.12</td>\n",
       "      <td>2,837.54</td>\n",
       "      <td>26,252.12</td>\n",
       "      <td>2,837.54</td>\n",
       "      <td>26,392.80</td>\n",
       "      <td>2,852.97</td>\n",
       "      <td>26,106.94</td>\n",
       "      <td>2,824.81</td>\n",
       "      <td>26,282.07</td>\n",
       "      <td>2,845.42</td>\n",
       "      <td>518790000</td>\n",
       "      <td>4079270000</td>\n",
       "    </tr>\n",
       "  </tbody>\n",
       "</table>"
      ],
      "text/plain": [
       "<IPython.core.display.HTML object>"
      ]
     },
     "metadata": {},
     "output_type": "display_data"
    },
    {
     "name": "stdout",
     "output_type": "stream",
     "text": [
      "\n"
     ]
    },
    {
     "data": {
      "text/html": [
       "<span style = 'display: block; width: 320.0px; \t\t\t\t\t\tline-height: 2; background: #333333;\t\t\t\t\t\tmargin-left: auto; margin-right: auto;\t\t\t\t\t\tborder: 1px solid text_color;\t\t\t\t\t\tborder-radius: 3px; text-align: center;\t\t\t\t\t\tpadding: 3px 8px 3px 8px;'>\t\t\t\t\t\t<b><font size=4><text style=color:white>DJI & GSPC last 5 years: tail(5)\t\t\t\t\t\t</text></font></b></style>"
      ],
      "text/plain": [
       "<IPython.core.display.HTML object>"
      ]
     },
     "metadata": {},
     "output_type": "display_data"
    },
    {
     "data": {
      "text/html": [
       "<center><table border=\"1\" class=\"dataframe\">\n",
       "  <thead>\n",
       "    <tr>\n",
       "      <th></th>\n",
       "      <th colspan=\"2\" halign=\"left\">Adj Close</th>\n",
       "      <th colspan=\"2\" halign=\"left\">Close</th>\n",
       "      <th colspan=\"2\" halign=\"left\">High</th>\n",
       "      <th colspan=\"2\" halign=\"left\">Low</th>\n",
       "      <th colspan=\"2\" halign=\"left\">Open</th>\n",
       "      <th colspan=\"2\" halign=\"left\">Volume</th>\n",
       "    </tr>\n",
       "    <tr>\n",
       "      <th></th>\n",
       "      <th>^DJI</th>\n",
       "      <th>^GSPC</th>\n",
       "      <th>^DJI</th>\n",
       "      <th>^GSPC</th>\n",
       "      <th>^DJI</th>\n",
       "      <th>^GSPC</th>\n",
       "      <th>^DJI</th>\n",
       "      <th>^GSPC</th>\n",
       "      <th>^DJI</th>\n",
       "      <th>^GSPC</th>\n",
       "      <th>^DJI</th>\n",
       "      <th>^GSPC</th>\n",
       "    </tr>\n",
       "    <tr>\n",
       "      <th>Date</th>\n",
       "      <th></th>\n",
       "      <th></th>\n",
       "      <th></th>\n",
       "      <th></th>\n",
       "      <th></th>\n",
       "      <th></th>\n",
       "      <th></th>\n",
       "      <th></th>\n",
       "      <th></th>\n",
       "      <th></th>\n",
       "      <th></th>\n",
       "      <th></th>\n",
       "    </tr>\n",
       "  </thead>\n",
       "  <tbody>\n",
       "    <tr>\n",
       "      <th>2023-01-10</th>\n",
       "      <td>33,704.10</td>\n",
       "      <td>3,919.25</td>\n",
       "      <td>33,704.10</td>\n",
       "      <td>3,919.25</td>\n",
       "      <td>33,726.54</td>\n",
       "      <td>3,919.83</td>\n",
       "      <td>33,421.80</td>\n",
       "      <td>3,877.29</td>\n",
       "      <td>33,516.43</td>\n",
       "      <td>3,888.57</td>\n",
       "      <td>268260000</td>\n",
       "      <td>3851030000</td>\n",
       "    </tr>\n",
       "    <tr>\n",
       "      <th>2023-01-11</th>\n",
       "      <td>33,973.01</td>\n",
       "      <td>3,969.61</td>\n",
       "      <td>33,973.01</td>\n",
       "      <td>3,969.61</td>\n",
       "      <td>33,974.69</td>\n",
       "      <td>3,970.07</td>\n",
       "      <td>33,711.04</td>\n",
       "      <td>3,928.54</td>\n",
       "      <td>33,754.03</td>\n",
       "      <td>3,932.35</td>\n",
       "      <td>301650000</td>\n",
       "      <td>4303360000</td>\n",
       "    </tr>\n",
       "    <tr>\n",
       "      <th>2023-01-12</th>\n",
       "      <td>34,189.97</td>\n",
       "      <td>3,983.17</td>\n",
       "      <td>34,189.97</td>\n",
       "      <td>3,983.17</td>\n",
       "      <td>34,292.67</td>\n",
       "      <td>3,997.76</td>\n",
       "      <td>33,792.10</td>\n",
       "      <td>3,937.56</td>\n",
       "      <td>34,047.86</td>\n",
       "      <td>3,977.57</td>\n",
       "      <td>308190000</td>\n",
       "      <td>4440260000</td>\n",
       "    </tr>\n",
       "    <tr>\n",
       "      <th>2023-01-13</th>\n",
       "      <td>34,302.61</td>\n",
       "      <td>3,999.09</td>\n",
       "      <td>34,302.61</td>\n",
       "      <td>3,999.09</td>\n",
       "      <td>34,342.32</td>\n",
       "      <td>4,003.95</td>\n",
       "      <td>33,915.49</td>\n",
       "      <td>3,947.67</td>\n",
       "      <td>34,075.31</td>\n",
       "      <td>3,960.60</td>\n",
       "      <td>274110000</td>\n",
       "      <td>3939700000</td>\n",
       "    </tr>\n",
       "    <tr>\n",
       "      <th>2023-01-17</th>\n",
       "      <td>33,910.85</td>\n",
       "      <td>3,990.97</td>\n",
       "      <td>33,910.85</td>\n",
       "      <td>3,990.97</td>\n",
       "      <td>34,269.97</td>\n",
       "      <td>4,015.39</td>\n",
       "      <td>33,860.67</td>\n",
       "      <td>3,984.57</td>\n",
       "      <td>34,222.32</td>\n",
       "      <td>3,999.28</td>\n",
       "      <td>355390701</td>\n",
       "      <td>2498747000</td>\n",
       "    </tr>\n",
       "  </tbody>\n",
       "</table>"
      ],
      "text/plain": [
       "<IPython.core.display.HTML object>"
      ]
     },
     "metadata": {},
     "output_type": "display_data"
    },
    {
     "name": "stdout",
     "output_type": "stream",
     "text": [
      "\n"
     ]
    }
   ],
   "source": [
    "head_tail_vert(yf.download(index_tickers, period = \"5y\"), 5, \n",
    "\t\t   \"DJI & GSPC last 5 years\")"
   ]
  },
  {
   "cell_type": "markdown",
   "id": "b5c1bd17-c88f-49ea-a28d-5fecdcd178e1",
   "metadata": {},
   "source": [
    "<font size = 4><span style = 'background-color: #ddddff; padding: 5px 5px 3px 5px; line-height: 1.5; color:black;border-radius: 3px;'>**⊛ `indexes`** will hold the closing data for the last 5 years for both indexes"
   ]
  },
  {
   "cell_type": "code",
   "execution_count": 51,
   "id": "02cc1e40-b0c4-425e-8e50-31e80d12b9bb",
   "metadata": {},
   "outputs": [
    {
     "name": "stdout",
     "output_type": "stream",
     "text": [
      "[*********************100%***********************]  2 of 2 completed\n"
     ]
    }
   ],
   "source": [
    "indexes = yf.download(index_tickers, period=\"5y\").Close"
   ]
  },
  {
   "cell_type": "code",
   "execution_count": 52,
   "id": "c3b08304-8758-4ce5-a54b-c9aecf05b43a",
   "metadata": {},
   "outputs": [
    {
     "data": {
      "text/html": [
       "<span style = 'display: block; width: 230.0px; \t\t\t\t\t\tline-height: 2; background: #333333;\t\t\t\t\t\tmargin-left: auto; margin-right: auto;\t\t\t\t\t\tborder: 1px solid text_color;\t\t\t\t\t\tborder-radius: 3px; text-align: center;\t\t\t\t\t\tpadding: 3px 8px 3px 8px;'>\t\t\t\t\t\t<b><font size=4><text style=color:white>DJI & GSPC Closing Data\t\t\t\t\t\t</text></font></b></style>"
      ],
      "text/plain": [
       "<IPython.core.display.HTML object>"
      ]
     },
     "metadata": {},
     "output_type": "display_data"
    },
    {
     "data": {
      "text/html": [
       "<center><style type=\"text/css\">\n",
       "#T_b210d caption {\n",
       "  background: #333333;\n",
       "  border-radius: 3px;\n",
       "  padding: 5px;\n",
       "  color: white;\n",
       "  font-size: 12px;\n",
       "  font-weight: bold;\n",
       "}\n",
       "</style>\n",
       "<table id=\"T_b210d\" style='display:inline-block'>\n",
       "  <caption>head(5)</caption>\n",
       "  <thead>\n",
       "    <tr>\n",
       "      <th class=\"blank level0\" >&nbsp;</th>\n",
       "      <th id=\"T_b210d_level0_col0\" class=\"col_heading level0 col0\" >^DJI</th>\n",
       "      <th id=\"T_b210d_level0_col1\" class=\"col_heading level0 col1\" >^GSPC</th>\n",
       "    </tr>\n",
       "    <tr>\n",
       "      <th class=\"index_name level0\" >Date</th>\n",
       "      <th class=\"blank col0\" >&nbsp;</th>\n",
       "      <th class=\"blank col1\" >&nbsp;</th>\n",
       "    </tr>\n",
       "  </thead>\n",
       "  <tbody>\n",
       "    <tr>\n",
       "      <th id=\"T_b210d_level0_row0\" class=\"row_heading level0 row0\" >2018-01-18</th>\n",
       "      <td id=\"T_b210d_row0_col0\" class=\"data row0 col0\" >26,017.81</td>\n",
       "      <td id=\"T_b210d_row0_col1\" class=\"data row0 col1\" >2,798.03</td>\n",
       "    </tr>\n",
       "    <tr>\n",
       "      <th id=\"T_b210d_level0_row1\" class=\"row_heading level0 row1\" >2018-01-19</th>\n",
       "      <td id=\"T_b210d_row1_col0\" class=\"data row1 col0\" >26,071.72</td>\n",
       "      <td id=\"T_b210d_row1_col1\" class=\"data row1 col1\" >2,810.30</td>\n",
       "    </tr>\n",
       "    <tr>\n",
       "      <th id=\"T_b210d_level0_row2\" class=\"row_heading level0 row2\" >2018-01-22</th>\n",
       "      <td id=\"T_b210d_row2_col0\" class=\"data row2 col0\" >26,214.60</td>\n",
       "      <td id=\"T_b210d_row2_col1\" class=\"data row2 col1\" >2,832.97</td>\n",
       "    </tr>\n",
       "    <tr>\n",
       "      <th id=\"T_b210d_level0_row3\" class=\"row_heading level0 row3\" >2018-01-23</th>\n",
       "      <td id=\"T_b210d_row3_col0\" class=\"data row3 col0\" >26,210.81</td>\n",
       "      <td id=\"T_b210d_row3_col1\" class=\"data row3 col1\" >2,839.13</td>\n",
       "    </tr>\n",
       "    <tr>\n",
       "      <th id=\"T_b210d_level0_row4\" class=\"row_heading level0 row4\" >2018-01-24</th>\n",
       "      <td id=\"T_b210d_row4_col0\" class=\"data row4 col0\" >26,252.12</td>\n",
       "      <td id=\"T_b210d_row4_col1\" class=\"data row4 col1\" >2,837.54</td>\n",
       "    </tr>\n",
       "  </tbody>\n",
       "</table>\n",
       "&nbsp;&nbsp;&nbsp;<style type=\"text/css\">\n",
       "#T_4fe94 caption {\n",
       "  background: #333333;\n",
       "  border-radius: 3px;\n",
       "  padding: 5px;\n",
       "  color: white;\n",
       "  font-size: 12px;\n",
       "  font-weight: bold;\n",
       "}\n",
       "</style>\n",
       "<table id=\"T_4fe94\" style='display:inline-block'>\n",
       "  <caption>tail(5)</caption>\n",
       "  <thead>\n",
       "    <tr>\n",
       "      <th class=\"blank level0\" >&nbsp;</th>\n",
       "      <th id=\"T_4fe94_level0_col0\" class=\"col_heading level0 col0\" >^DJI</th>\n",
       "      <th id=\"T_4fe94_level0_col1\" class=\"col_heading level0 col1\" >^GSPC</th>\n",
       "    </tr>\n",
       "    <tr>\n",
       "      <th class=\"index_name level0\" >Date</th>\n",
       "      <th class=\"blank col0\" >&nbsp;</th>\n",
       "      <th class=\"blank col1\" >&nbsp;</th>\n",
       "    </tr>\n",
       "  </thead>\n",
       "  <tbody>\n",
       "    <tr>\n",
       "      <th id=\"T_4fe94_level0_row0\" class=\"row_heading level0 row0\" >2023-01-10</th>\n",
       "      <td id=\"T_4fe94_row0_col0\" class=\"data row0 col0\" >33,704.10</td>\n",
       "      <td id=\"T_4fe94_row0_col1\" class=\"data row0 col1\" >3,919.25</td>\n",
       "    </tr>\n",
       "    <tr>\n",
       "      <th id=\"T_4fe94_level0_row1\" class=\"row_heading level0 row1\" >2023-01-11</th>\n",
       "      <td id=\"T_4fe94_row1_col0\" class=\"data row1 col0\" >33,973.01</td>\n",
       "      <td id=\"T_4fe94_row1_col1\" class=\"data row1 col1\" >3,969.61</td>\n",
       "    </tr>\n",
       "    <tr>\n",
       "      <th id=\"T_4fe94_level0_row2\" class=\"row_heading level0 row2\" >2023-01-12</th>\n",
       "      <td id=\"T_4fe94_row2_col0\" class=\"data row2 col0\" >34,189.97</td>\n",
       "      <td id=\"T_4fe94_row2_col1\" class=\"data row2 col1\" >3,983.17</td>\n",
       "    </tr>\n",
       "    <tr>\n",
       "      <th id=\"T_4fe94_level0_row3\" class=\"row_heading level0 row3\" >2023-01-13</th>\n",
       "      <td id=\"T_4fe94_row3_col0\" class=\"data row3 col0\" >34,302.61</td>\n",
       "      <td id=\"T_4fe94_row3_col1\" class=\"data row3 col1\" >3,999.09</td>\n",
       "    </tr>\n",
       "    <tr>\n",
       "      <th id=\"T_4fe94_level0_row4\" class=\"row_heading level0 row4\" >2023-01-17</th>\n",
       "      <td id=\"T_4fe94_row4_col0\" class=\"data row4 col0\" >33,910.85</td>\n",
       "      <td id=\"T_4fe94_row4_col1\" class=\"data row4 col1\" >3,990.97</td>\n",
       "    </tr>\n",
       "  </tbody>\n",
       "</table>\n",
       "&nbsp;&nbsp;&nbsp;"
      ]
     },
     "metadata": {},
     "output_type": "display_data"
    },
    {
     "name": "stdout",
     "output_type": "stream",
     "text": [
      "\n"
     ]
    }
   ],
   "source": [
    "head_tail_horz(indexes, 5, 'DJI & GSPC Closing Data')"
   ]
  },
  {
   "cell_type": "markdown",
   "id": "a956a752-ffc7-4f36-9f5d-f1524c799511",
   "metadata": {},
   "source": [
    "<font size = 4><span style = 'background-color: #ddddff; padding: 5px 5px 3px 5px; line-height: 1.5; color:black;border-radius: 3px;'><b>⊛ Normalizing</b> the indexes dataframe and saving as `norm_indexes`."
   ]
  },
  {
   "cell_type": "code",
   "execution_count": 53,
   "id": "28b90356-daf7-4b2f-b8bc-e5c493164313",
   "metadata": {},
   "outputs": [
    {
     "data": {
      "text/html": [
       "<span style = 'display: block; width: 340.0px; \t\t\t\t\t\tline-height: 2; background: #333333;\t\t\t\t\t\tmargin-left: auto; margin-right: auto;\t\t\t\t\t\tborder: 1px solid text_color;\t\t\t\t\t\tborder-radius: 3px; text-align: center;\t\t\t\t\t\tpadding: 3px 8px 3px 8px;'>\t\t\t\t\t\t<b><font size=4><text style=color:white>DJI & GSPC Closing Data Normalized\t\t\t\t\t\t</text></font></b></style>"
      ],
      "text/plain": [
       "<IPython.core.display.HTML object>"
      ]
     },
     "metadata": {},
     "output_type": "display_data"
    },
    {
     "data": {
      "text/html": [
       "<center><style type=\"text/css\">\n",
       "#T_f5143 caption {\n",
       "  background: #333333;\n",
       "  border-radius: 3px;\n",
       "  padding: 5px;\n",
       "  color: white;\n",
       "  font-size: 12px;\n",
       "  font-weight: bold;\n",
       "}\n",
       "</style>\n",
       "<table id=\"T_f5143\" style='display:inline-block'>\n",
       "  <caption>head(5)</caption>\n",
       "  <thead>\n",
       "    <tr>\n",
       "      <th class=\"blank level0\" >&nbsp;</th>\n",
       "      <th id=\"T_f5143_level0_col0\" class=\"col_heading level0 col0\" >^DJI</th>\n",
       "      <th id=\"T_f5143_level0_col1\" class=\"col_heading level0 col1\" >^GSPC</th>\n",
       "    </tr>\n",
       "    <tr>\n",
       "      <th class=\"index_name level0\" >Date</th>\n",
       "      <th class=\"blank col0\" >&nbsp;</th>\n",
       "      <th class=\"blank col1\" >&nbsp;</th>\n",
       "    </tr>\n",
       "  </thead>\n",
       "  <tbody>\n",
       "    <tr>\n",
       "      <th id=\"T_f5143_level0_row0\" class=\"row_heading level0 row0\" >2018-01-18</th>\n",
       "      <td id=\"T_f5143_row0_col0\" class=\"data row0 col0\" >100.00</td>\n",
       "      <td id=\"T_f5143_row0_col1\" class=\"data row0 col1\" >100.00</td>\n",
       "    </tr>\n",
       "    <tr>\n",
       "      <th id=\"T_f5143_level0_row1\" class=\"row_heading level0 row1\" >2018-01-19</th>\n",
       "      <td id=\"T_f5143_row1_col0\" class=\"data row1 col0\" >100.21</td>\n",
       "      <td id=\"T_f5143_row1_col1\" class=\"data row1 col1\" >100.44</td>\n",
       "    </tr>\n",
       "    <tr>\n",
       "      <th id=\"T_f5143_level0_row2\" class=\"row_heading level0 row2\" >2018-01-22</th>\n",
       "      <td id=\"T_f5143_row2_col0\" class=\"data row2 col0\" >100.76</td>\n",
       "      <td id=\"T_f5143_row2_col1\" class=\"data row2 col1\" >101.25</td>\n",
       "    </tr>\n",
       "    <tr>\n",
       "      <th id=\"T_f5143_level0_row3\" class=\"row_heading level0 row3\" >2018-01-23</th>\n",
       "      <td id=\"T_f5143_row3_col0\" class=\"data row3 col0\" >100.74</td>\n",
       "      <td id=\"T_f5143_row3_col1\" class=\"data row3 col1\" >101.47</td>\n",
       "    </tr>\n",
       "    <tr>\n",
       "      <th id=\"T_f5143_level0_row4\" class=\"row_heading level0 row4\" >2018-01-24</th>\n",
       "      <td id=\"T_f5143_row4_col0\" class=\"data row4 col0\" >100.90</td>\n",
       "      <td id=\"T_f5143_row4_col1\" class=\"data row4 col1\" >101.41</td>\n",
       "    </tr>\n",
       "  </tbody>\n",
       "</table>\n",
       "&nbsp;&nbsp;&nbsp;<style type=\"text/css\">\n",
       "#T_02a7e caption {\n",
       "  background: #333333;\n",
       "  border-radius: 3px;\n",
       "  padding: 5px;\n",
       "  color: white;\n",
       "  font-size: 12px;\n",
       "  font-weight: bold;\n",
       "}\n",
       "</style>\n",
       "<table id=\"T_02a7e\" style='display:inline-block'>\n",
       "  <caption>tail(5)</caption>\n",
       "  <thead>\n",
       "    <tr>\n",
       "      <th class=\"blank level0\" >&nbsp;</th>\n",
       "      <th id=\"T_02a7e_level0_col0\" class=\"col_heading level0 col0\" >^DJI</th>\n",
       "      <th id=\"T_02a7e_level0_col1\" class=\"col_heading level0 col1\" >^GSPC</th>\n",
       "    </tr>\n",
       "    <tr>\n",
       "      <th class=\"index_name level0\" >Date</th>\n",
       "      <th class=\"blank col0\" >&nbsp;</th>\n",
       "      <th class=\"blank col1\" >&nbsp;</th>\n",
       "    </tr>\n",
       "  </thead>\n",
       "  <tbody>\n",
       "    <tr>\n",
       "      <th id=\"T_02a7e_level0_row0\" class=\"row_heading level0 row0\" >2023-01-10</th>\n",
       "      <td id=\"T_02a7e_row0_col0\" class=\"data row0 col0\" >129.54</td>\n",
       "      <td id=\"T_02a7e_row0_col1\" class=\"data row0 col1\" >140.07</td>\n",
       "    </tr>\n",
       "    <tr>\n",
       "      <th id=\"T_02a7e_level0_row1\" class=\"row_heading level0 row1\" >2023-01-11</th>\n",
       "      <td id=\"T_02a7e_row1_col0\" class=\"data row1 col0\" >130.58</td>\n",
       "      <td id=\"T_02a7e_row1_col1\" class=\"data row1 col1\" >141.87</td>\n",
       "    </tr>\n",
       "    <tr>\n",
       "      <th id=\"T_02a7e_level0_row2\" class=\"row_heading level0 row2\" >2023-01-12</th>\n",
       "      <td id=\"T_02a7e_row2_col0\" class=\"data row2 col0\" >131.41</td>\n",
       "      <td id=\"T_02a7e_row2_col1\" class=\"data row2 col1\" >142.36</td>\n",
       "    </tr>\n",
       "    <tr>\n",
       "      <th id=\"T_02a7e_level0_row3\" class=\"row_heading level0 row3\" >2023-01-13</th>\n",
       "      <td id=\"T_02a7e_row3_col0\" class=\"data row3 col0\" >131.84</td>\n",
       "      <td id=\"T_02a7e_row3_col1\" class=\"data row3 col1\" >142.93</td>\n",
       "    </tr>\n",
       "    <tr>\n",
       "      <th id=\"T_02a7e_level0_row4\" class=\"row_heading level0 row4\" >2023-01-17</th>\n",
       "      <td id=\"T_02a7e_row4_col0\" class=\"data row4 col0\" >130.34</td>\n",
       "      <td id=\"T_02a7e_row4_col1\" class=\"data row4 col1\" >142.63</td>\n",
       "    </tr>\n",
       "  </tbody>\n",
       "</table>\n",
       "&nbsp;&nbsp;&nbsp;"
      ]
     },
     "metadata": {},
     "output_type": "display_data"
    },
    {
     "name": "stdout",
     "output_type": "stream",
     "text": [
      "\n"
     ]
    }
   ],
   "source": [
    "norm_indexes = indexes.div(indexes.iloc[0]).mul(100)\n",
    "\n",
    "head_tail_horz(norm_indexes, 5, 'DJI & GSPC Closing Data Normalized')"
   ]
  },
  {
   "cell_type": "markdown",
   "id": "8102f947-34b7-4f07-891e-4f2c35c39e39",
   "metadata": {},
   "source": [
    "<font size = 4><span style = 'background-color: #ddddff; padding: 5px 5px 3px 5px; line-height: 1.5; color:black;border-radius: 3px;'>For indexes, it is always important to include whether the prices reflect only price return or the total return, including dividends of the constituents. Here, <b>our data only reflects prices changes with no modifications for dividends</b>."
   ]
  },
  {
   "cell_type": "code",
   "execution_count": 180,
   "id": "11f2d9d5-f7b3-43b5-ae14-300b5b2dd1bb",
   "metadata": {},
   "outputs": [
    {
     "data": {
      "text/html": [
       "<span style = 'display: block; width: 710.0px; \t\t\t\t\t\tline-height: 2; background: #333333;\t\t\t\t\t\tmargin-left: auto; margin-right: auto;\t\t\t\t\t\tborder: 1px solid text_color;\t\t\t\t\t\tborder-radius: 3px; text-align: center;\t\t\t\t\t\tpadding: 3px 8px 3px 8px;'>\t\t\t\t\t\t<b><font size=4><text style=color:white>Normalized: DJI vs GSPC (price return only) (13 samples & overall plot)\t\t\t\t\t\t</text></font></b></style>"
      ],
      "text/plain": [
       "<IPython.core.display.HTML object>"
      ]
     },
     "metadata": {},
     "output_type": "display_data"
    },
    {
     "data": {
      "application/vnd.jupyter.widget-view+json": {
       "model_id": "5f9a610f0c9a48a7a7375c9b106940df",
       "version_major": 2,
       "version_minor": 0
      },
      "text/plain": [
       "GridspecLayout(children=(Output(layout=Layout(border='1px solid black', grid_area='widget001')), Output(layout…"
      ]
     },
     "metadata": {},
     "output_type": "display_data"
    }
   ],
   "source": [
    "plot_by_df(norm_indexes, sort_param=\"Date\", cmap='cool', num_records=13,\n",
    "\t\t   title=\"Normalized: DJI vs GSPC (price return only)\",\n",
    "\t\t   xlabel = \"years\", ylabel=\"normalized prices\")"
   ]
  },
  {
   "cell_type": "markdown",
   "id": "0845336d-0b09-4459-a16c-3d4ec5e75a46",
   "metadata": {},
   "source": [
    "<font size = 4><span style = 'background-color: #ddddff; padding: 5px 5px 3px 5px; line-height: 1.5; color:black;border-radius: 3px;'>**⊛ Total Return Data**: getting tickers for the two indexes that include total return"
   ]
  },
  {
   "cell_type": "code",
   "execution_count": 55,
   "id": "26dc395d-a8cf-4f14-b9ad-b2fdfaf8375c",
   "metadata": {},
   "outputs": [
    {
     "name": "stdout",
     "output_type": "stream",
     "text": [
      "[*********************100%***********************]  2 of 2 completed\n"
     ]
    }
   ],
   "source": [
    "index_tickers_tr = ['^DJITR', '^SP500TR']\n",
    "indexes_tr = yf.download(index_tickers_tr, period = '5y').Close"
   ]
  },
  {
   "cell_type": "markdown",
   "id": "a21dc1e9-0c86-46b0-8b24-de214b73695e",
   "metadata": {},
   "source": [
    "<font size = 4><span style = 'background-color: #ddddff; padding: 5px 5px 3px 5px; line-height: 1.5; color:black;border-radius: 3px;'>It looks like Yahoo Finance is not the place to get the data on DJI total returns."
   ]
  },
  {
   "cell_type": "code",
   "execution_count": 56,
   "id": "4f85aa3c-6f93-42b1-aa64-f50fa0029d38",
   "metadata": {},
   "outputs": [
    {
     "data": {
      "text/html": [
       "<span style = 'display: block; width: 300.0px; \t\t\t\t\t\tline-height: 2; background: #333333;\t\t\t\t\t\tmargin-left: auto; margin-right: auto;\t\t\t\t\t\tborder: 1px solid text_color;\t\t\t\t\t\tborder-radius: 3px; text-align: center;\t\t\t\t\t\tpadding: 3px 8px 3px 8px;'>\t\t\t\t\t\t<b><font size=4><text style=color:white>Indexes with Total Return Data\t\t\t\t\t\t</text></font></b></style>"
      ],
      "text/plain": [
       "<IPython.core.display.HTML object>"
      ]
     },
     "metadata": {},
     "output_type": "display_data"
    },
    {
     "data": {
      "text/html": [
       "<center><style type=\"text/css\">\n",
       "#T_ff779 caption {\n",
       "  background: #333333;\n",
       "  border-radius: 3px;\n",
       "  padding: 5px;\n",
       "  color: white;\n",
       "  font-size: 12px;\n",
       "  font-weight: bold;\n",
       "}\n",
       "</style>\n",
       "<table id=\"T_ff779\" style='display:inline-block'>\n",
       "  <caption>head(5)</caption>\n",
       "  <thead>\n",
       "    <tr>\n",
       "      <th class=\"blank level0\" >&nbsp;</th>\n",
       "      <th id=\"T_ff779_level0_col0\" class=\"col_heading level0 col0\" >^DJITR</th>\n",
       "      <th id=\"T_ff779_level0_col1\" class=\"col_heading level0 col1\" >^SP500TR</th>\n",
       "    </tr>\n",
       "    <tr>\n",
       "      <th class=\"index_name level0\" >Date</th>\n",
       "      <th class=\"blank col0\" >&nbsp;</th>\n",
       "      <th class=\"blank col1\" >&nbsp;</th>\n",
       "    </tr>\n",
       "  </thead>\n",
       "  <tbody>\n",
       "    <tr>\n",
       "      <th id=\"T_ff779_level0_row0\" class=\"row_heading level0 row0\" >2018-01-18</th>\n",
       "      <td id=\"T_ff779_row0_col0\" class=\"data row0 col0\" >nan</td>\n",
       "      <td id=\"T_ff779_row0_col1\" class=\"data row0 col1\" >5,459.50</td>\n",
       "    </tr>\n",
       "    <tr>\n",
       "      <th id=\"T_ff779_level0_row1\" class=\"row_heading level0 row1\" >2018-01-19</th>\n",
       "      <td id=\"T_ff779_row1_col0\" class=\"data row1 col0\" >nan</td>\n",
       "      <td id=\"T_ff779_row1_col1\" class=\"data row1 col1\" >5,483.57</td>\n",
       "    </tr>\n",
       "    <tr>\n",
       "      <th id=\"T_ff779_level0_row2\" class=\"row_heading level0 row2\" >2018-01-22</th>\n",
       "      <td id=\"T_ff779_row2_col0\" class=\"data row2 col0\" >nan</td>\n",
       "      <td id=\"T_ff779_row2_col1\" class=\"data row2 col1\" >5,527.89</td>\n",
       "    </tr>\n",
       "    <tr>\n",
       "      <th id=\"T_ff779_level0_row3\" class=\"row_heading level0 row3\" >2018-01-23</th>\n",
       "      <td id=\"T_ff779_row3_col0\" class=\"data row3 col0\" >nan</td>\n",
       "      <td id=\"T_ff779_row3_col1\" class=\"data row3 col1\" >5,540.13</td>\n",
       "    </tr>\n",
       "    <tr>\n",
       "      <th id=\"T_ff779_level0_row4\" class=\"row_heading level0 row4\" >2018-01-24</th>\n",
       "      <td id=\"T_ff779_row4_col0\" class=\"data row4 col0\" >nan</td>\n",
       "      <td id=\"T_ff779_row4_col1\" class=\"data row4 col1\" >5,537.03</td>\n",
       "    </tr>\n",
       "  </tbody>\n",
       "</table>\n",
       "&nbsp;&nbsp;&nbsp;<style type=\"text/css\">\n",
       "#T_e9387 caption {\n",
       "  background: #333333;\n",
       "  border-radius: 3px;\n",
       "  padding: 5px;\n",
       "  color: white;\n",
       "  font-size: 12px;\n",
       "  font-weight: bold;\n",
       "}\n",
       "</style>\n",
       "<table id=\"T_e9387\" style='display:inline-block'>\n",
       "  <caption>tail(5)</caption>\n",
       "  <thead>\n",
       "    <tr>\n",
       "      <th class=\"blank level0\" >&nbsp;</th>\n",
       "      <th id=\"T_e9387_level0_col0\" class=\"col_heading level0 col0\" >^DJITR</th>\n",
       "      <th id=\"T_e9387_level0_col1\" class=\"col_heading level0 col1\" >^SP500TR</th>\n",
       "    </tr>\n",
       "    <tr>\n",
       "      <th class=\"index_name level0\" >Date</th>\n",
       "      <th class=\"blank col0\" >&nbsp;</th>\n",
       "      <th class=\"blank col1\" >&nbsp;</th>\n",
       "    </tr>\n",
       "  </thead>\n",
       "  <tbody>\n",
       "    <tr>\n",
       "      <th id=\"T_e9387_level0_row0\" class=\"row_heading level0 row0\" >2023-01-10</th>\n",
       "      <td id=\"T_e9387_row0_col0\" class=\"data row0 col0\" >nan</td>\n",
       "      <td id=\"T_e9387_row0_col1\" class=\"data row0 col1\" >8,351.68</td>\n",
       "    </tr>\n",
       "    <tr>\n",
       "      <th id=\"T_e9387_level0_row1\" class=\"row_heading level0 row1\" >2023-01-11</th>\n",
       "      <td id=\"T_e9387_row1_col0\" class=\"data row1 col0\" >nan</td>\n",
       "      <td id=\"T_e9387_row1_col1\" class=\"data row1 col1\" >8,459.18</td>\n",
       "    </tr>\n",
       "    <tr>\n",
       "      <th id=\"T_e9387_level0_row2\" class=\"row_heading level0 row2\" >2023-01-12</th>\n",
       "      <td id=\"T_e9387_row2_col0\" class=\"data row2 col0\" >nan</td>\n",
       "      <td id=\"T_e9387_row2_col1\" class=\"data row2 col1\" >8,489.08</td>\n",
       "    </tr>\n",
       "    <tr>\n",
       "      <th id=\"T_e9387_level0_row3\" class=\"row_heading level0 row3\" >2023-01-13</th>\n",
       "      <td id=\"T_e9387_row3_col0\" class=\"data row3 col0\" >nan</td>\n",
       "      <td id=\"T_e9387_row3_col1\" class=\"data row3 col1\" >8,523.32</td>\n",
       "    </tr>\n",
       "    <tr>\n",
       "      <th id=\"T_e9387_level0_row4\" class=\"row_heading level0 row4\" >2023-01-17</th>\n",
       "      <td id=\"T_e9387_row4_col0\" class=\"data row4 col0\" >81,606.59</td>\n",
       "      <td id=\"T_e9387_row4_col1\" class=\"data row4 col1\" >8,506.03</td>\n",
       "    </tr>\n",
       "  </tbody>\n",
       "</table>\n",
       "&nbsp;&nbsp;&nbsp;"
      ]
     },
     "metadata": {},
     "output_type": "display_data"
    },
    {
     "name": "stdout",
     "output_type": "stream",
     "text": [
      "\n"
     ]
    }
   ],
   "source": [
    "head_tail_horz(indexes_tr, 5, 'Indexes with Total Return Data')"
   ]
  },
  {
   "cell_type": "markdown",
   "id": "233a3c28-e4cc-41ca-b314-3bcf4d898153",
   "metadata": {},
   "source": [
    "<a name = 'currency_exchange'></a>\n",
    "\n",
    "---\n",
    "\n",
    "**Sections:**  ●  [Top](#top)  ●  [Download & Import](#downloading_importing)  ●  [Historical Data](#historical_data)  ●  [Setting Date Range](#date_range)  ●  [High Frenquency](#high_frequency)   ●  [Splits & Dividends](#splits_dividends)   ●  [Exporting](#exporting)   ●  [Multiple Stocks](#multiple_stocks)   ●  [Importing Indexes](#importing_indexes)   ●  [Currency Exchange](#currency_exchange)   ●  [Cryptocurrencies](#cryptocurrencies)   ●  [Mutual & Exchange Traded Funds](#mututal_funds)   ●  [Treasury Yields](#treasury_yields)   ●  [Ticker Object & Docs](#ticker_object)   ●  [Stock Fundamentals](#stock_fundamentals)   ●  [Importing Financials](#importing_financials)   ●  [Importing Put & Call](#put_call)   ●  [Streaming Real-Time](#streaming_real_time)   ●\n",
    "\n",
    "---\n",
    "\n",
    "<span style = 'background-color: purple; font-weight: bold; padding: 5px 5px 3px 5px; line-height: 1.5; color:white;border-radius: 3px;'><font size = 4>▻ Importing Currency Exchange Rates</font></span>"
   ]
  },
  {
   "cell_type": "code",
   "execution_count": 57,
   "id": "4e1a57ba-14f4-43eb-82dc-6f2140fa96b2",
   "metadata": {},
   "outputs": [],
   "source": [
    "import_all()"
   ]
  },
  {
   "cell_type": "markdown",
   "id": "d48cfb40-0e20-4285-875b-359bb545b3cc",
   "metadata": {},
   "source": [
    "<font size = 4><span style = 'background-color: #ddddff; padding: 5px 5px 3px 5px; line-height: 1.5; color:black;border-radius: 3px;'>⊛ Currencies are **Euros** and **US Dollars**:\n",
    "* Two tickers: Euro -> USD and USD -> Euro\n",
    "* `currency=x` is the Yahoo Finance method of exchange rate tickers"
   ]
  },
  {
   "cell_type": "code",
   "execution_count": 58,
   "id": "ae61984f-b95e-46d9-ab6c-1f69e9b44559",
   "metadata": {},
   "outputs": [],
   "source": [
    "euro_ticker = 'EURUSD=x'\n",
    "dollar_ticker = 'USDEUR=x'"
   ]
  },
  {
   "cell_type": "markdown",
   "id": "ac4ef688-dcb2-4ed2-a53c-540374687d3d",
   "metadata": {},
   "source": [
    "<font size = 4><span style = 'background-color: #ddddff; padding: 5px 5px 3px 5px; line-height: 1.5; color:black;border-radius: 3px;'>**Head** and **Tail** for each currency"
   ]
  },
  {
   "cell_type": "code",
   "execution_count": 59,
   "id": "449a18b0-c71b-4133-8d03-e74b864aa256",
   "metadata": {},
   "outputs": [
    {
     "name": "stdout",
     "output_type": "stream",
     "text": [
      "[*********************100%***********************]  1 of 1 completed\n",
      "[*********************100%***********************]  1 of 1 completed\n"
     ]
    }
   ],
   "source": [
    "euro_dollar = yf.download(euro_ticker, period = \"5y\")\n",
    "dollar_euro = yf.download(dollar_ticker, period = \"5y\")"
   ]
  },
  {
   "cell_type": "code",
   "execution_count": 60,
   "id": "666398b6-b567-4d9f-a8c9-484d41b462de",
   "metadata": {},
   "outputs": [
    {
     "data": {
      "text/html": [
       "<span style = 'display: block; width: 280.0px; \t\t\t\t\t\tline-height: 2; background: #333333;\t\t\t\t\t\tmargin-left: auto; margin-right: auto;\t\t\t\t\t\tborder: 1px solid text_color;\t\t\t\t\t\tborder-radius: 3px; text-align: center;\t\t\t\t\t\tpadding: 3px 8px 3px 8px;'>\t\t\t\t\t\t<b><font size=4><text style=color:white>Euro to Dollar Exchange Data\t\t\t\t\t\t</text></font></b></style>"
      ],
      "text/plain": [
       "<IPython.core.display.HTML object>"
      ]
     },
     "metadata": {},
     "output_type": "display_data"
    },
    {
     "data": {
      "text/html": [
       "<center><style type=\"text/css\">\n",
       "#T_fa721 caption {\n",
       "  background: #333333;\n",
       "  border-radius: 3px;\n",
       "  padding: 5px;\n",
       "  color: white;\n",
       "  font-size: 12px;\n",
       "  font-weight: bold;\n",
       "}\n",
       "</style>\n",
       "<table id=\"T_fa721\" style='display:inline-block'>\n",
       "  <caption>head(5)</caption>\n",
       "  <thead>\n",
       "    <tr>\n",
       "      <th class=\"blank level0\" >&nbsp;</th>\n",
       "      <th id=\"T_fa721_level0_col0\" class=\"col_heading level0 col0\" >Open</th>\n",
       "      <th id=\"T_fa721_level0_col1\" class=\"col_heading level0 col1\" >High</th>\n",
       "      <th id=\"T_fa721_level0_col2\" class=\"col_heading level0 col2\" >Low</th>\n",
       "      <th id=\"T_fa721_level0_col3\" class=\"col_heading level0 col3\" >Close</th>\n",
       "      <th id=\"T_fa721_level0_col4\" class=\"col_heading level0 col4\" >Adj Close</th>\n",
       "      <th id=\"T_fa721_level0_col5\" class=\"col_heading level0 col5\" >Volume</th>\n",
       "    </tr>\n",
       "    <tr>\n",
       "      <th class=\"index_name level0\" >Date</th>\n",
       "      <th class=\"blank col0\" >&nbsp;</th>\n",
       "      <th class=\"blank col1\" >&nbsp;</th>\n",
       "      <th class=\"blank col2\" >&nbsp;</th>\n",
       "      <th class=\"blank col3\" >&nbsp;</th>\n",
       "      <th class=\"blank col4\" >&nbsp;</th>\n",
       "      <th class=\"blank col5\" >&nbsp;</th>\n",
       "    </tr>\n",
       "  </thead>\n",
       "  <tbody>\n",
       "    <tr>\n",
       "      <th id=\"T_fa721_level0_row0\" class=\"row_heading level0 row0\" >2018-01-18</th>\n",
       "      <td id=\"T_fa721_row0_col0\" class=\"data row0 col0\" >1.22</td>\n",
       "      <td id=\"T_fa721_row0_col1\" class=\"data row0 col1\" >1.23</td>\n",
       "      <td id=\"T_fa721_row0_col2\" class=\"data row0 col2\" >1.22</td>\n",
       "      <td id=\"T_fa721_row0_col3\" class=\"data row0 col3\" >1.22</td>\n",
       "      <td id=\"T_fa721_row0_col4\" class=\"data row0 col4\" >1.22</td>\n",
       "      <td id=\"T_fa721_row0_col5\" class=\"data row0 col5\" >0</td>\n",
       "    </tr>\n",
       "    <tr>\n",
       "      <th id=\"T_fa721_level0_row1\" class=\"row_heading level0 row1\" >2018-01-19</th>\n",
       "      <td id=\"T_fa721_row1_col0\" class=\"data row1 col0\" >1.22</td>\n",
       "      <td id=\"T_fa721_row1_col1\" class=\"data row1 col1\" >1.23</td>\n",
       "      <td id=\"T_fa721_row1_col2\" class=\"data row1 col2\" >1.22</td>\n",
       "      <td id=\"T_fa721_row1_col3\" class=\"data row1 col3\" >1.22</td>\n",
       "      <td id=\"T_fa721_row1_col4\" class=\"data row1 col4\" >1.22</td>\n",
       "      <td id=\"T_fa721_row1_col5\" class=\"data row1 col5\" >0</td>\n",
       "    </tr>\n",
       "    <tr>\n",
       "      <th id=\"T_fa721_level0_row2\" class=\"row_heading level0 row2\" >2018-01-22</th>\n",
       "      <td id=\"T_fa721_row2_col0\" class=\"data row2 col0\" >1.23</td>\n",
       "      <td id=\"T_fa721_row2_col1\" class=\"data row2 col1\" >1.23</td>\n",
       "      <td id=\"T_fa721_row2_col2\" class=\"data row2 col2\" >1.22</td>\n",
       "      <td id=\"T_fa721_row2_col3\" class=\"data row2 col3\" >1.23</td>\n",
       "      <td id=\"T_fa721_row2_col4\" class=\"data row2 col4\" >1.23</td>\n",
       "      <td id=\"T_fa721_row2_col5\" class=\"data row2 col5\" >0</td>\n",
       "    </tr>\n",
       "    <tr>\n",
       "      <th id=\"T_fa721_level0_row3\" class=\"row_heading level0 row3\" >2018-01-23</th>\n",
       "      <td id=\"T_fa721_row3_col0\" class=\"data row3 col0\" >1.23</td>\n",
       "      <td id=\"T_fa721_row3_col1\" class=\"data row3 col1\" >1.23</td>\n",
       "      <td id=\"T_fa721_row3_col2\" class=\"data row3 col2\" >1.22</td>\n",
       "      <td id=\"T_fa721_row3_col3\" class=\"data row3 col3\" >1.23</td>\n",
       "      <td id=\"T_fa721_row3_col4\" class=\"data row3 col4\" >1.23</td>\n",
       "      <td id=\"T_fa721_row3_col5\" class=\"data row3 col5\" >0</td>\n",
       "    </tr>\n",
       "    <tr>\n",
       "      <th id=\"T_fa721_level0_row4\" class=\"row_heading level0 row4\" >2018-01-24</th>\n",
       "      <td id=\"T_fa721_row4_col0\" class=\"data row4 col0\" >1.23</td>\n",
       "      <td id=\"T_fa721_row4_col1\" class=\"data row4 col1\" >1.24</td>\n",
       "      <td id=\"T_fa721_row4_col2\" class=\"data row4 col2\" >1.23</td>\n",
       "      <td id=\"T_fa721_row4_col3\" class=\"data row4 col3\" >1.23</td>\n",
       "      <td id=\"T_fa721_row4_col4\" class=\"data row4 col4\" >1.23</td>\n",
       "      <td id=\"T_fa721_row4_col5\" class=\"data row4 col5\" >0</td>\n",
       "    </tr>\n",
       "  </tbody>\n",
       "</table>\n",
       "&nbsp;&nbsp;&nbsp;<style type=\"text/css\">\n",
       "#T_7a236 caption {\n",
       "  background: #333333;\n",
       "  border-radius: 3px;\n",
       "  padding: 5px;\n",
       "  color: white;\n",
       "  font-size: 12px;\n",
       "  font-weight: bold;\n",
       "}\n",
       "</style>\n",
       "<table id=\"T_7a236\" style='display:inline-block'>\n",
       "  <caption>tail(5)</caption>\n",
       "  <thead>\n",
       "    <tr>\n",
       "      <th class=\"blank level0\" >&nbsp;</th>\n",
       "      <th id=\"T_7a236_level0_col0\" class=\"col_heading level0 col0\" >Open</th>\n",
       "      <th id=\"T_7a236_level0_col1\" class=\"col_heading level0 col1\" >High</th>\n",
       "      <th id=\"T_7a236_level0_col2\" class=\"col_heading level0 col2\" >Low</th>\n",
       "      <th id=\"T_7a236_level0_col3\" class=\"col_heading level0 col3\" >Close</th>\n",
       "      <th id=\"T_7a236_level0_col4\" class=\"col_heading level0 col4\" >Adj Close</th>\n",
       "      <th id=\"T_7a236_level0_col5\" class=\"col_heading level0 col5\" >Volume</th>\n",
       "    </tr>\n",
       "    <tr>\n",
       "      <th class=\"index_name level0\" >Date</th>\n",
       "      <th class=\"blank col0\" >&nbsp;</th>\n",
       "      <th class=\"blank col1\" >&nbsp;</th>\n",
       "      <th class=\"blank col2\" >&nbsp;</th>\n",
       "      <th class=\"blank col3\" >&nbsp;</th>\n",
       "      <th class=\"blank col4\" >&nbsp;</th>\n",
       "      <th class=\"blank col5\" >&nbsp;</th>\n",
       "    </tr>\n",
       "  </thead>\n",
       "  <tbody>\n",
       "    <tr>\n",
       "      <th id=\"T_7a236_level0_row0\" class=\"row_heading level0 row0\" >2023-01-12</th>\n",
       "      <td id=\"T_7a236_row0_col0\" class=\"data row0 col0\" >1.08</td>\n",
       "      <td id=\"T_7a236_row0_col1\" class=\"data row0 col1\" >1.08</td>\n",
       "      <td id=\"T_7a236_row0_col2\" class=\"data row0 col2\" >1.07</td>\n",
       "      <td id=\"T_7a236_row0_col3\" class=\"data row0 col3\" >1.08</td>\n",
       "      <td id=\"T_7a236_row0_col4\" class=\"data row0 col4\" >1.08</td>\n",
       "      <td id=\"T_7a236_row0_col5\" class=\"data row0 col5\" >0</td>\n",
       "    </tr>\n",
       "    <tr>\n",
       "      <th id=\"T_7a236_level0_row1\" class=\"row_heading level0 row1\" >2023-01-13</th>\n",
       "      <td id=\"T_7a236_row1_col0\" class=\"data row1 col0\" >1.09</td>\n",
       "      <td id=\"T_7a236_row1_col1\" class=\"data row1 col1\" >1.09</td>\n",
       "      <td id=\"T_7a236_row1_col2\" class=\"data row1 col2\" >1.08</td>\n",
       "      <td id=\"T_7a236_row1_col3\" class=\"data row1 col3\" >1.09</td>\n",
       "      <td id=\"T_7a236_row1_col4\" class=\"data row1 col4\" >1.09</td>\n",
       "      <td id=\"T_7a236_row1_col5\" class=\"data row1 col5\" >0</td>\n",
       "    </tr>\n",
       "    <tr>\n",
       "      <th id=\"T_7a236_level0_row2\" class=\"row_heading level0 row2\" >2023-01-16</th>\n",
       "      <td id=\"T_7a236_row2_col0\" class=\"data row2 col0\" >1.08</td>\n",
       "      <td id=\"T_7a236_row2_col1\" class=\"data row2 col1\" >1.09</td>\n",
       "      <td id=\"T_7a236_row2_col2\" class=\"data row2 col2\" >1.08</td>\n",
       "      <td id=\"T_7a236_row2_col3\" class=\"data row2 col3\" >1.08</td>\n",
       "      <td id=\"T_7a236_row2_col4\" class=\"data row2 col4\" >1.08</td>\n",
       "      <td id=\"T_7a236_row2_col5\" class=\"data row2 col5\" >0</td>\n",
       "    </tr>\n",
       "    <tr>\n",
       "      <th id=\"T_7a236_level0_row3\" class=\"row_heading level0 row3\" >2023-01-17</th>\n",
       "      <td id=\"T_7a236_row3_col0\" class=\"data row3 col0\" >1.08</td>\n",
       "      <td id=\"T_7a236_row3_col1\" class=\"data row3 col1\" >1.09</td>\n",
       "      <td id=\"T_7a236_row3_col2\" class=\"data row3 col2\" >1.08</td>\n",
       "      <td id=\"T_7a236_row3_col3\" class=\"data row3 col3\" >1.08</td>\n",
       "      <td id=\"T_7a236_row3_col4\" class=\"data row3 col4\" >1.08</td>\n",
       "      <td id=\"T_7a236_row3_col5\" class=\"data row3 col5\" >0</td>\n",
       "    </tr>\n",
       "    <tr>\n",
       "      <th id=\"T_7a236_level0_row4\" class=\"row_heading level0 row4\" >2023-01-18</th>\n",
       "      <td id=\"T_7a236_row4_col0\" class=\"data row4 col0\" >1.08</td>\n",
       "      <td id=\"T_7a236_row4_col1\" class=\"data row4 col1\" >1.08</td>\n",
       "      <td id=\"T_7a236_row4_col2\" class=\"data row4 col2\" >1.08</td>\n",
       "      <td id=\"T_7a236_row4_col3\" class=\"data row4 col3\" >1.08</td>\n",
       "      <td id=\"T_7a236_row4_col4\" class=\"data row4 col4\" >1.08</td>\n",
       "      <td id=\"T_7a236_row4_col5\" class=\"data row4 col5\" >0</td>\n",
       "    </tr>\n",
       "  </tbody>\n",
       "</table>\n",
       "&nbsp;&nbsp;&nbsp;"
      ]
     },
     "metadata": {},
     "output_type": "display_data"
    },
    {
     "name": "stdout",
     "output_type": "stream",
     "text": [
      "\n"
     ]
    },
    {
     "data": {
      "text/html": [
       "<span style = 'display: block; width: 280.0px; \t\t\t\t\t\tline-height: 2; background: #333333;\t\t\t\t\t\tmargin-left: auto; margin-right: auto;\t\t\t\t\t\tborder: 1px solid text_color;\t\t\t\t\t\tborder-radius: 3px; text-align: center;\t\t\t\t\t\tpadding: 3px 8px 3px 8px;'>\t\t\t\t\t\t<b><font size=4><text style=color:white>Dollar to Euro Exchange Data\t\t\t\t\t\t</text></font></b></style>"
      ],
      "text/plain": [
       "<IPython.core.display.HTML object>"
      ]
     },
     "metadata": {},
     "output_type": "display_data"
    },
    {
     "data": {
      "text/html": [
       "<center><style type=\"text/css\">\n",
       "#T_712ad caption {\n",
       "  background: #333333;\n",
       "  border-radius: 3px;\n",
       "  padding: 5px;\n",
       "  color: white;\n",
       "  font-size: 12px;\n",
       "  font-weight: bold;\n",
       "}\n",
       "</style>\n",
       "<table id=\"T_712ad\" style='display:inline-block'>\n",
       "  <caption>head(5)</caption>\n",
       "  <thead>\n",
       "    <tr>\n",
       "      <th class=\"blank level0\" >&nbsp;</th>\n",
       "      <th id=\"T_712ad_level0_col0\" class=\"col_heading level0 col0\" >Open</th>\n",
       "      <th id=\"T_712ad_level0_col1\" class=\"col_heading level0 col1\" >High</th>\n",
       "      <th id=\"T_712ad_level0_col2\" class=\"col_heading level0 col2\" >Low</th>\n",
       "      <th id=\"T_712ad_level0_col3\" class=\"col_heading level0 col3\" >Close</th>\n",
       "      <th id=\"T_712ad_level0_col4\" class=\"col_heading level0 col4\" >Adj Close</th>\n",
       "      <th id=\"T_712ad_level0_col5\" class=\"col_heading level0 col5\" >Volume</th>\n",
       "    </tr>\n",
       "    <tr>\n",
       "      <th class=\"index_name level0\" >Date</th>\n",
       "      <th class=\"blank col0\" >&nbsp;</th>\n",
       "      <th class=\"blank col1\" >&nbsp;</th>\n",
       "      <th class=\"blank col2\" >&nbsp;</th>\n",
       "      <th class=\"blank col3\" >&nbsp;</th>\n",
       "      <th class=\"blank col4\" >&nbsp;</th>\n",
       "      <th class=\"blank col5\" >&nbsp;</th>\n",
       "    </tr>\n",
       "  </thead>\n",
       "  <tbody>\n",
       "    <tr>\n",
       "      <th id=\"T_712ad_level0_row0\" class=\"row_heading level0 row0\" >2018-01-18</th>\n",
       "      <td id=\"T_712ad_row0_col0\" class=\"data row0 col0\" >0.82</td>\n",
       "      <td id=\"T_712ad_row0_col1\" class=\"data row0 col1\" >0.82</td>\n",
       "      <td id=\"T_712ad_row0_col2\" class=\"data row0 col2\" >0.82</td>\n",
       "      <td id=\"T_712ad_row0_col3\" class=\"data row0 col3\" >0.82</td>\n",
       "      <td id=\"T_712ad_row0_col4\" class=\"data row0 col4\" >0.82</td>\n",
       "      <td id=\"T_712ad_row0_col5\" class=\"data row0 col5\" >0</td>\n",
       "    </tr>\n",
       "    <tr>\n",
       "      <th id=\"T_712ad_level0_row1\" class=\"row_heading level0 row1\" >2018-01-19</th>\n",
       "      <td id=\"T_712ad_row1_col0\" class=\"data row1 col0\" >0.82</td>\n",
       "      <td id=\"T_712ad_row1_col1\" class=\"data row1 col1\" >0.82</td>\n",
       "      <td id=\"T_712ad_row1_col2\" class=\"data row1 col2\" >0.81</td>\n",
       "      <td id=\"T_712ad_row1_col3\" class=\"data row1 col3\" >0.82</td>\n",
       "      <td id=\"T_712ad_row1_col4\" class=\"data row1 col4\" >0.82</td>\n",
       "      <td id=\"T_712ad_row1_col5\" class=\"data row1 col5\" >0</td>\n",
       "    </tr>\n",
       "    <tr>\n",
       "      <th id=\"T_712ad_level0_row2\" class=\"row_heading level0 row2\" >2018-01-22</th>\n",
       "      <td id=\"T_712ad_row2_col0\" class=\"data row2 col0\" >0.82</td>\n",
       "      <td id=\"T_712ad_row2_col1\" class=\"data row2 col1\" >0.82</td>\n",
       "      <td id=\"T_712ad_row2_col2\" class=\"data row2 col2\" >0.82</td>\n",
       "      <td id=\"T_712ad_row2_col3\" class=\"data row2 col3\" >0.82</td>\n",
       "      <td id=\"T_712ad_row2_col4\" class=\"data row2 col4\" >0.82</td>\n",
       "      <td id=\"T_712ad_row2_col5\" class=\"data row2 col5\" >0</td>\n",
       "    </tr>\n",
       "    <tr>\n",
       "      <th id=\"T_712ad_level0_row3\" class=\"row_heading level0 row3\" >2018-01-23</th>\n",
       "      <td id=\"T_712ad_row3_col0\" class=\"data row3 col0\" >0.82</td>\n",
       "      <td id=\"T_712ad_row3_col1\" class=\"data row3 col1\" >0.82</td>\n",
       "      <td id=\"T_712ad_row3_col2\" class=\"data row3 col2\" >0.81</td>\n",
       "      <td id=\"T_712ad_row3_col3\" class=\"data row3 col3\" >0.82</td>\n",
       "      <td id=\"T_712ad_row3_col4\" class=\"data row3 col4\" >0.82</td>\n",
       "      <td id=\"T_712ad_row3_col5\" class=\"data row3 col5\" >0</td>\n",
       "    </tr>\n",
       "    <tr>\n",
       "      <th id=\"T_712ad_level0_row4\" class=\"row_heading level0 row4\" >2018-01-24</th>\n",
       "      <td id=\"T_712ad_row4_col0\" class=\"data row4 col0\" >0.81</td>\n",
       "      <td id=\"T_712ad_row4_col1\" class=\"data row4 col1\" >0.81</td>\n",
       "      <td id=\"T_712ad_row4_col2\" class=\"data row4 col2\" >0.81</td>\n",
       "      <td id=\"T_712ad_row4_col3\" class=\"data row4 col3\" >0.81</td>\n",
       "      <td id=\"T_712ad_row4_col4\" class=\"data row4 col4\" >0.81</td>\n",
       "      <td id=\"T_712ad_row4_col5\" class=\"data row4 col5\" >0</td>\n",
       "    </tr>\n",
       "  </tbody>\n",
       "</table>\n",
       "&nbsp;&nbsp;&nbsp;<style type=\"text/css\">\n",
       "#T_1000a caption {\n",
       "  background: #333333;\n",
       "  border-radius: 3px;\n",
       "  padding: 5px;\n",
       "  color: white;\n",
       "  font-size: 12px;\n",
       "  font-weight: bold;\n",
       "}\n",
       "</style>\n",
       "<table id=\"T_1000a\" style='display:inline-block'>\n",
       "  <caption>tail(5)</caption>\n",
       "  <thead>\n",
       "    <tr>\n",
       "      <th class=\"blank level0\" >&nbsp;</th>\n",
       "      <th id=\"T_1000a_level0_col0\" class=\"col_heading level0 col0\" >Open</th>\n",
       "      <th id=\"T_1000a_level0_col1\" class=\"col_heading level0 col1\" >High</th>\n",
       "      <th id=\"T_1000a_level0_col2\" class=\"col_heading level0 col2\" >Low</th>\n",
       "      <th id=\"T_1000a_level0_col3\" class=\"col_heading level0 col3\" >Close</th>\n",
       "      <th id=\"T_1000a_level0_col4\" class=\"col_heading level0 col4\" >Adj Close</th>\n",
       "      <th id=\"T_1000a_level0_col5\" class=\"col_heading level0 col5\" >Volume</th>\n",
       "    </tr>\n",
       "    <tr>\n",
       "      <th class=\"index_name level0\" >Date</th>\n",
       "      <th class=\"blank col0\" >&nbsp;</th>\n",
       "      <th class=\"blank col1\" >&nbsp;</th>\n",
       "      <th class=\"blank col2\" >&nbsp;</th>\n",
       "      <th class=\"blank col3\" >&nbsp;</th>\n",
       "      <th class=\"blank col4\" >&nbsp;</th>\n",
       "      <th class=\"blank col5\" >&nbsp;</th>\n",
       "    </tr>\n",
       "  </thead>\n",
       "  <tbody>\n",
       "    <tr>\n",
       "      <th id=\"T_1000a_level0_row0\" class=\"row_heading level0 row0\" >2023-01-12</th>\n",
       "      <td id=\"T_1000a_row0_col0\" class=\"data row0 col0\" >0.93</td>\n",
       "      <td id=\"T_1000a_row0_col1\" class=\"data row0 col1\" >0.93</td>\n",
       "      <td id=\"T_1000a_row0_col2\" class=\"data row0 col2\" >0.92</td>\n",
       "      <td id=\"T_1000a_row0_col3\" class=\"data row0 col3\" >0.93</td>\n",
       "      <td id=\"T_1000a_row0_col4\" class=\"data row0 col4\" >0.93</td>\n",
       "      <td id=\"T_1000a_row0_col5\" class=\"data row0 col5\" >0</td>\n",
       "    </tr>\n",
       "    <tr>\n",
       "      <th id=\"T_1000a_level0_row1\" class=\"row_heading level0 row1\" >2023-01-13</th>\n",
       "      <td id=\"T_1000a_row1_col0\" class=\"data row1 col0\" >0.92</td>\n",
       "      <td id=\"T_1000a_row1_col1\" class=\"data row1 col1\" >0.93</td>\n",
       "      <td id=\"T_1000a_row1_col2\" class=\"data row1 col2\" >0.92</td>\n",
       "      <td id=\"T_1000a_row1_col3\" class=\"data row1 col3\" >0.92</td>\n",
       "      <td id=\"T_1000a_row1_col4\" class=\"data row1 col4\" >0.92</td>\n",
       "      <td id=\"T_1000a_row1_col5\" class=\"data row1 col5\" >0</td>\n",
       "    </tr>\n",
       "    <tr>\n",
       "      <th id=\"T_1000a_level0_row2\" class=\"row_heading level0 row2\" >2023-01-16</th>\n",
       "      <td id=\"T_1000a_row2_col0\" class=\"data row2 col0\" >0.92</td>\n",
       "      <td id=\"T_1000a_row2_col1\" class=\"data row2 col1\" >0.93</td>\n",
       "      <td id=\"T_1000a_row2_col2\" class=\"data row2 col2\" >0.92</td>\n",
       "      <td id=\"T_1000a_row2_col3\" class=\"data row2 col3\" >0.92</td>\n",
       "      <td id=\"T_1000a_row2_col4\" class=\"data row2 col4\" >0.92</td>\n",
       "      <td id=\"T_1000a_row2_col5\" class=\"data row2 col5\" >0</td>\n",
       "    </tr>\n",
       "    <tr>\n",
       "      <th id=\"T_1000a_level0_row3\" class=\"row_heading level0 row3\" >2023-01-17</th>\n",
       "      <td id=\"T_1000a_row3_col0\" class=\"data row3 col0\" >0.92</td>\n",
       "      <td id=\"T_1000a_row3_col1\" class=\"data row3 col1\" >0.93</td>\n",
       "      <td id=\"T_1000a_row3_col2\" class=\"data row3 col2\" >0.92</td>\n",
       "      <td id=\"T_1000a_row3_col3\" class=\"data row3 col3\" >0.92</td>\n",
       "      <td id=\"T_1000a_row3_col4\" class=\"data row3 col4\" >0.92</td>\n",
       "      <td id=\"T_1000a_row3_col5\" class=\"data row3 col5\" >0</td>\n",
       "    </tr>\n",
       "    <tr>\n",
       "      <th id=\"T_1000a_level0_row4\" class=\"row_heading level0 row4\" >2023-01-18</th>\n",
       "      <td id=\"T_1000a_row4_col0\" class=\"data row4 col0\" >0.93</td>\n",
       "      <td id=\"T_1000a_row4_col1\" class=\"data row4 col1\" >0.93</td>\n",
       "      <td id=\"T_1000a_row4_col2\" class=\"data row4 col2\" >0.93</td>\n",
       "      <td id=\"T_1000a_row4_col3\" class=\"data row4 col3\" >0.93</td>\n",
       "      <td id=\"T_1000a_row4_col4\" class=\"data row4 col4\" >0.93</td>\n",
       "      <td id=\"T_1000a_row4_col5\" class=\"data row4 col5\" >0</td>\n",
       "    </tr>\n",
       "  </tbody>\n",
       "</table>\n",
       "&nbsp;&nbsp;&nbsp;"
      ]
     },
     "metadata": {},
     "output_type": "display_data"
    },
    {
     "name": "stdout",
     "output_type": "stream",
     "text": [
      "\n"
     ]
    }
   ],
   "source": [
    "head_tail_horz(euro_dollar, 5, 'Euro to Dollar Exchange Data')\n",
    "head_tail_horz(dollar_euro, 5, 'Dollar to Euro Exchange Data')"
   ]
  },
  {
   "cell_type": "markdown",
   "id": "79a3b612-3fd0-4540-ad7f-832520542a3a",
   "metadata": {},
   "source": [
    "<font size = 4><span style = 'background-color: #ddddff; padding: 5px 5px 3px 5px; line-height: 1.5; color:black;border-radius: 3px;'>**⊛ US Dollar** to **GB Pound**"
   ]
  },
  {
   "cell_type": "code",
   "execution_count": 61,
   "id": "f871b6a3-20dd-4561-a2a8-6048730aec98",
   "metadata": {},
   "outputs": [
    {
     "name": "stdout",
     "output_type": "stream",
     "text": [
      "[*********************100%***********************]  1 of 1 completed\n"
     ]
    }
   ],
   "source": [
    "usd_gbp_ticker = \"USDGBP=x\"\n",
    "usd_gbp = yf.download(usd_gbp_ticker, period = '5y')"
   ]
  },
  {
   "cell_type": "code",
   "execution_count": 62,
   "id": "73e4a64f-15d5-45bb-8543-74441a75be57",
   "metadata": {},
   "outputs": [
    {
     "data": {
      "text/html": [
       "<span style = 'display: block; width: 230.0px; \t\t\t\t\t\tline-height: 2; background: #333333;\t\t\t\t\t\tmargin-left: auto; margin-right: auto;\t\t\t\t\t\tborder: 1px solid text_color;\t\t\t\t\t\tborder-radius: 3px; text-align: center;\t\t\t\t\t\tpadding: 3px 8px 3px 8px;'>\t\t\t\t\t\t<b><font size=4><text style=color:white>US Dollars to GB Pounds\t\t\t\t\t\t</text></font></b></style>"
      ],
      "text/plain": [
       "<IPython.core.display.HTML object>"
      ]
     },
     "metadata": {},
     "output_type": "display_data"
    },
    {
     "data": {
      "text/html": [
       "<center><style type=\"text/css\">\n",
       "#T_145ce caption {\n",
       "  background: #333333;\n",
       "  border-radius: 3px;\n",
       "  padding: 5px;\n",
       "  color: white;\n",
       "  font-size: 12px;\n",
       "  font-weight: bold;\n",
       "}\n",
       "</style>\n",
       "<table id=\"T_145ce\" style='display:inline-block'>\n",
       "  <caption>head(5)</caption>\n",
       "  <thead>\n",
       "    <tr>\n",
       "      <th class=\"blank level0\" >&nbsp;</th>\n",
       "      <th id=\"T_145ce_level0_col0\" class=\"col_heading level0 col0\" >Open</th>\n",
       "      <th id=\"T_145ce_level0_col1\" class=\"col_heading level0 col1\" >High</th>\n",
       "      <th id=\"T_145ce_level0_col2\" class=\"col_heading level0 col2\" >Low</th>\n",
       "      <th id=\"T_145ce_level0_col3\" class=\"col_heading level0 col3\" >Close</th>\n",
       "      <th id=\"T_145ce_level0_col4\" class=\"col_heading level0 col4\" >Adj Close</th>\n",
       "      <th id=\"T_145ce_level0_col5\" class=\"col_heading level0 col5\" >Volume</th>\n",
       "    </tr>\n",
       "    <tr>\n",
       "      <th class=\"index_name level0\" >Date</th>\n",
       "      <th class=\"blank col0\" >&nbsp;</th>\n",
       "      <th class=\"blank col1\" >&nbsp;</th>\n",
       "      <th class=\"blank col2\" >&nbsp;</th>\n",
       "      <th class=\"blank col3\" >&nbsp;</th>\n",
       "      <th class=\"blank col4\" >&nbsp;</th>\n",
       "      <th class=\"blank col5\" >&nbsp;</th>\n",
       "    </tr>\n",
       "  </thead>\n",
       "  <tbody>\n",
       "    <tr>\n",
       "      <th id=\"T_145ce_level0_row0\" class=\"row_heading level0 row0\" >2018-01-18</th>\n",
       "      <td id=\"T_145ce_row0_col0\" class=\"data row0 col0\" >0.72</td>\n",
       "      <td id=\"T_145ce_row0_col1\" class=\"data row0 col1\" >0.72</td>\n",
       "      <td id=\"T_145ce_row0_col2\" class=\"data row0 col2\" >0.72</td>\n",
       "      <td id=\"T_145ce_row0_col3\" class=\"data row0 col3\" >0.72</td>\n",
       "      <td id=\"T_145ce_row0_col4\" class=\"data row0 col4\" >0.72</td>\n",
       "      <td id=\"T_145ce_row0_col5\" class=\"data row0 col5\" >0</td>\n",
       "    </tr>\n",
       "    <tr>\n",
       "      <th id=\"T_145ce_level0_row1\" class=\"row_heading level0 row1\" >2018-01-19</th>\n",
       "      <td id=\"T_145ce_row1_col0\" class=\"data row1 col0\" >0.72</td>\n",
       "      <td id=\"T_145ce_row1_col1\" class=\"data row1 col1\" >0.72</td>\n",
       "      <td id=\"T_145ce_row1_col2\" class=\"data row1 col2\" >0.72</td>\n",
       "      <td id=\"T_145ce_row1_col3\" class=\"data row1 col3\" >0.72</td>\n",
       "      <td id=\"T_145ce_row1_col4\" class=\"data row1 col4\" >0.72</td>\n",
       "      <td id=\"T_145ce_row1_col5\" class=\"data row1 col5\" >0</td>\n",
       "    </tr>\n",
       "    <tr>\n",
       "      <th id=\"T_145ce_level0_row2\" class=\"row_heading level0 row2\" >2018-01-22</th>\n",
       "      <td id=\"T_145ce_row2_col0\" class=\"data row2 col0\" >0.72</td>\n",
       "      <td id=\"T_145ce_row2_col1\" class=\"data row2 col1\" >0.72</td>\n",
       "      <td id=\"T_145ce_row2_col2\" class=\"data row2 col2\" >0.72</td>\n",
       "      <td id=\"T_145ce_row2_col3\" class=\"data row2 col3\" >0.72</td>\n",
       "      <td id=\"T_145ce_row2_col4\" class=\"data row2 col4\" >0.72</td>\n",
       "      <td id=\"T_145ce_row2_col5\" class=\"data row2 col5\" >0</td>\n",
       "    </tr>\n",
       "    <tr>\n",
       "      <th id=\"T_145ce_level0_row3\" class=\"row_heading level0 row3\" >2018-01-23</th>\n",
       "      <td id=\"T_145ce_row3_col0\" class=\"data row3 col0\" >0.72</td>\n",
       "      <td id=\"T_145ce_row3_col1\" class=\"data row3 col1\" >0.72</td>\n",
       "      <td id=\"T_145ce_row3_col2\" class=\"data row3 col2\" >0.71</td>\n",
       "      <td id=\"T_145ce_row3_col3\" class=\"data row3 col3\" >0.72</td>\n",
       "      <td id=\"T_145ce_row3_col4\" class=\"data row3 col4\" >0.72</td>\n",
       "      <td id=\"T_145ce_row3_col5\" class=\"data row3 col5\" >0</td>\n",
       "    </tr>\n",
       "    <tr>\n",
       "      <th id=\"T_145ce_level0_row4\" class=\"row_heading level0 row4\" >2018-01-24</th>\n",
       "      <td id=\"T_145ce_row4_col0\" class=\"data row4 col0\" >0.71</td>\n",
       "      <td id=\"T_145ce_row4_col1\" class=\"data row4 col1\" >0.71</td>\n",
       "      <td id=\"T_145ce_row4_col2\" class=\"data row4 col2\" >0.70</td>\n",
       "      <td id=\"T_145ce_row4_col3\" class=\"data row4 col3\" >0.71</td>\n",
       "      <td id=\"T_145ce_row4_col4\" class=\"data row4 col4\" >0.71</td>\n",
       "      <td id=\"T_145ce_row4_col5\" class=\"data row4 col5\" >0</td>\n",
       "    </tr>\n",
       "  </tbody>\n",
       "</table>\n",
       "&nbsp;&nbsp;&nbsp;<style type=\"text/css\">\n",
       "#T_54a3a caption {\n",
       "  background: #333333;\n",
       "  border-radius: 3px;\n",
       "  padding: 5px;\n",
       "  color: white;\n",
       "  font-size: 12px;\n",
       "  font-weight: bold;\n",
       "}\n",
       "</style>\n",
       "<table id=\"T_54a3a\" style='display:inline-block'>\n",
       "  <caption>tail(5)</caption>\n",
       "  <thead>\n",
       "    <tr>\n",
       "      <th class=\"blank level0\" >&nbsp;</th>\n",
       "      <th id=\"T_54a3a_level0_col0\" class=\"col_heading level0 col0\" >Open</th>\n",
       "      <th id=\"T_54a3a_level0_col1\" class=\"col_heading level0 col1\" >High</th>\n",
       "      <th id=\"T_54a3a_level0_col2\" class=\"col_heading level0 col2\" >Low</th>\n",
       "      <th id=\"T_54a3a_level0_col3\" class=\"col_heading level0 col3\" >Close</th>\n",
       "      <th id=\"T_54a3a_level0_col4\" class=\"col_heading level0 col4\" >Adj Close</th>\n",
       "      <th id=\"T_54a3a_level0_col5\" class=\"col_heading level0 col5\" >Volume</th>\n",
       "    </tr>\n",
       "    <tr>\n",
       "      <th class=\"index_name level0\" >Date</th>\n",
       "      <th class=\"blank col0\" >&nbsp;</th>\n",
       "      <th class=\"blank col1\" >&nbsp;</th>\n",
       "      <th class=\"blank col2\" >&nbsp;</th>\n",
       "      <th class=\"blank col3\" >&nbsp;</th>\n",
       "      <th class=\"blank col4\" >&nbsp;</th>\n",
       "      <th class=\"blank col5\" >&nbsp;</th>\n",
       "    </tr>\n",
       "  </thead>\n",
       "  <tbody>\n",
       "    <tr>\n",
       "      <th id=\"T_54a3a_level0_row0\" class=\"row_heading level0 row0\" >2023-01-12</th>\n",
       "      <td id=\"T_54a3a_row0_col0\" class=\"data row0 col0\" >0.82</td>\n",
       "      <td id=\"T_54a3a_row0_col1\" class=\"data row0 col1\" >0.83</td>\n",
       "      <td id=\"T_54a3a_row0_col2\" class=\"data row0 col2\" >0.82</td>\n",
       "      <td id=\"T_54a3a_row0_col3\" class=\"data row0 col3\" >0.82</td>\n",
       "      <td id=\"T_54a3a_row0_col4\" class=\"data row0 col4\" >0.82</td>\n",
       "      <td id=\"T_54a3a_row0_col5\" class=\"data row0 col5\" >0</td>\n",
       "    </tr>\n",
       "    <tr>\n",
       "      <th id=\"T_54a3a_level0_row1\" class=\"row_heading level0 row1\" >2023-01-13</th>\n",
       "      <td id=\"T_54a3a_row1_col0\" class=\"data row1 col0\" >0.82</td>\n",
       "      <td id=\"T_54a3a_row1_col1\" class=\"data row1 col1\" >0.82</td>\n",
       "      <td id=\"T_54a3a_row1_col2\" class=\"data row1 col2\" >0.82</td>\n",
       "      <td id=\"T_54a3a_row1_col3\" class=\"data row1 col3\" >0.82</td>\n",
       "      <td id=\"T_54a3a_row1_col4\" class=\"data row1 col4\" >0.82</td>\n",
       "      <td id=\"T_54a3a_row1_col5\" class=\"data row1 col5\" >0</td>\n",
       "    </tr>\n",
       "    <tr>\n",
       "      <th id=\"T_54a3a_level0_row2\" class=\"row_heading level0 row2\" >2023-01-16</th>\n",
       "      <td id=\"T_54a3a_row2_col0\" class=\"data row2 col0\" >0.82</td>\n",
       "      <td id=\"T_54a3a_row2_col1\" class=\"data row2 col1\" >0.82</td>\n",
       "      <td id=\"T_54a3a_row2_col2\" class=\"data row2 col2\" >0.81</td>\n",
       "      <td id=\"T_54a3a_row2_col3\" class=\"data row2 col3\" >0.82</td>\n",
       "      <td id=\"T_54a3a_row2_col4\" class=\"data row2 col4\" >0.82</td>\n",
       "      <td id=\"T_54a3a_row2_col5\" class=\"data row2 col5\" >0</td>\n",
       "    </tr>\n",
       "    <tr>\n",
       "      <th id=\"T_54a3a_level0_row3\" class=\"row_heading level0 row3\" >2023-01-17</th>\n",
       "      <td id=\"T_54a3a_row3_col0\" class=\"data row3 col0\" >0.82</td>\n",
       "      <td id=\"T_54a3a_row3_col1\" class=\"data row3 col1\" >0.82</td>\n",
       "      <td id=\"T_54a3a_row3_col2\" class=\"data row3 col2\" >0.81</td>\n",
       "      <td id=\"T_54a3a_row3_col3\" class=\"data row3 col3\" >0.82</td>\n",
       "      <td id=\"T_54a3a_row3_col4\" class=\"data row3 col4\" >0.82</td>\n",
       "      <td id=\"T_54a3a_row3_col5\" class=\"data row3 col5\" >0</td>\n",
       "    </tr>\n",
       "    <tr>\n",
       "      <th id=\"T_54a3a_level0_row4\" class=\"row_heading level0 row4\" >2023-01-18</th>\n",
       "      <td id=\"T_54a3a_row4_col0\" class=\"data row4 col0\" >0.81</td>\n",
       "      <td id=\"T_54a3a_row4_col1\" class=\"data row4 col1\" >0.81</td>\n",
       "      <td id=\"T_54a3a_row4_col2\" class=\"data row4 col2\" >0.81</td>\n",
       "      <td id=\"T_54a3a_row4_col3\" class=\"data row4 col3\" >0.81</td>\n",
       "      <td id=\"T_54a3a_row4_col4\" class=\"data row4 col4\" >0.81</td>\n",
       "      <td id=\"T_54a3a_row4_col5\" class=\"data row4 col5\" >0</td>\n",
       "    </tr>\n",
       "  </tbody>\n",
       "</table>\n",
       "&nbsp;&nbsp;&nbsp;"
      ]
     },
     "metadata": {},
     "output_type": "display_data"
    },
    {
     "name": "stdout",
     "output_type": "stream",
     "text": [
      "\n"
     ]
    }
   ],
   "source": [
    "head_tail_horz(usd_gbp, 5, 'US Dollars to GB Pounds')"
   ]
  },
  {
   "cell_type": "markdown",
   "id": "4fc4cc55-76cd-49c8-9cbe-01eddac7a2c7",
   "metadata": {},
   "source": [
    "<a name = 'cryptocurrencies'></a>\n",
    "\n",
    "---\n",
    "\n",
    "**Sections:**  ●  [Top](#top)  ●  [Download & Import](#downloading_importing)  ●  [Historical Data](#historical_data)  ●  [Setting Date Range](#date_range)  ●  [High Frenquency](#high_frequency)   ●  [Splits & Dividends](#splits_dividends)   ●  [Exporting](#exporting)   ●  [Multiple Stocks](#multiple_stocks)   ●  [Importing Indexes](#importing_indexes)   ●  [Currency Exchange](#currency_exchange)   ●  [Cryptocurrencies](#cryptocurrencies)   ●  [Mutual & Exchange Traded Funds](#mututal_funds)   ●  [Treasury Yields](#treasury_yields)   ●  [Ticker Object & Docs](#ticker_object)   ●  [Stock Fundamentals](#stock_fundamentals)   ●  [Importing Financials](#importing_financials)   ●  [Importing Put & Call](#put_call)   ●  [Streaming Real-Time](#streaming_real_time)   ●\n",
    "\n",
    "---\n",
    "\n",
    "<span style = 'background-color: purple; font-weight: bold; padding: 5px 5px 3px 5px; line-height: 1.5; color:white;border-radius: 3px;'><font size = 4>▻ Importing Cryptocurrencies</font></span>"
   ]
  },
  {
   "cell_type": "code",
   "execution_count": 63,
   "id": "c350ec98-1146-4623-a04f-a71d52c8ef76",
   "metadata": {},
   "outputs": [],
   "source": [
    "import_all()"
   ]
  },
  {
   "cell_type": "markdown",
   "id": "41045389-4a1f-4f3c-b000-63953ba2383c",
   "metadata": {},
   "source": [
    "<font size = 4><span style = 'background-color: #ddddff; padding: 5px 5px 3px 5px; line-height: 1.5; color:black;border-radius: 3px;'>⊛ Working with **Bitcoin** and **Ethereum**"
   ]
  },
  {
   "cell_type": "code",
   "execution_count": 64,
   "id": "faed7a3f-c745-4cc6-9c7c-73db2dc6e55c",
   "metadata": {},
   "outputs": [
    {
     "name": "stdout",
     "output_type": "stream",
     "text": [
      "[*********************100%***********************]  2 of 2 completed\n",
      "\n"
     ]
    },
    {
     "data": {
      "text/html": [
       "<span style = 'display: block; width: 310.0px; \t\t\t\t\t\tline-height: 2; background: #333333;\t\t\t\t\t\tmargin-left: auto; margin-right: auto;\t\t\t\t\t\tborder: 1px solid text_color;\t\t\t\t\t\tborder-radius: 3px; text-align: center;\t\t\t\t\t\tpadding: 3px 8px 3px 8px;'>\t\t\t\t\t\t<b><font size=4><text style=color:white>Crypto Historical Data: head(5)\t\t\t\t\t\t</text></font></b></style>"
      ],
      "text/plain": [
       "<IPython.core.display.HTML object>"
      ]
     },
     "metadata": {},
     "output_type": "display_data"
    },
    {
     "data": {
      "text/html": [
       "<center><table border=\"1\" class=\"dataframe\">\n",
       "  <thead>\n",
       "    <tr>\n",
       "      <th></th>\n",
       "      <th colspan=\"2\" halign=\"left\">Adj Close</th>\n",
       "      <th colspan=\"2\" halign=\"left\">Close</th>\n",
       "      <th colspan=\"2\" halign=\"left\">High</th>\n",
       "      <th colspan=\"2\" halign=\"left\">Low</th>\n",
       "      <th colspan=\"2\" halign=\"left\">Open</th>\n",
       "      <th colspan=\"2\" halign=\"left\">Volume</th>\n",
       "    </tr>\n",
       "    <tr>\n",
       "      <th></th>\n",
       "      <th>BTC-USD</th>\n",
       "      <th>ETH-USD</th>\n",
       "      <th>BTC-USD</th>\n",
       "      <th>ETH-USD</th>\n",
       "      <th>BTC-USD</th>\n",
       "      <th>ETH-USD</th>\n",
       "      <th>BTC-USD</th>\n",
       "      <th>ETH-USD</th>\n",
       "      <th>BTC-USD</th>\n",
       "      <th>ETH-USD</th>\n",
       "      <th>BTC-USD</th>\n",
       "      <th>ETH-USD</th>\n",
       "    </tr>\n",
       "    <tr>\n",
       "      <th>Date</th>\n",
       "      <th></th>\n",
       "      <th></th>\n",
       "      <th></th>\n",
       "      <th></th>\n",
       "      <th></th>\n",
       "      <th></th>\n",
       "      <th></th>\n",
       "      <th></th>\n",
       "      <th></th>\n",
       "      <th></th>\n",
       "      <th></th>\n",
       "      <th></th>\n",
       "    </tr>\n",
       "  </thead>\n",
       "  <tbody>\n",
       "    <tr>\n",
       "      <th>2018-01-18</th>\n",
       "      <td>11,474.90</td>\n",
       "      <td>1,036.28</td>\n",
       "      <td>11,474.90</td>\n",
       "      <td>1,036.28</td>\n",
       "      <td>12,107.30</td>\n",
       "      <td>1,100.31</td>\n",
       "      <td>10,942.50</td>\n",
       "      <td>967.76</td>\n",
       "      <td>11,198.80</td>\n",
       "      <td>1,016.44</td>\n",
       "      <td>15020399616</td>\n",
       "      <td>5938319872</td>\n",
       "    </tr>\n",
       "    <tr>\n",
       "      <th>2018-01-19</th>\n",
       "      <td>11,607.40</td>\n",
       "      <td>1,039.10</td>\n",
       "      <td>11,607.40</td>\n",
       "      <td>1,039.10</td>\n",
       "      <td>11,992.80</td>\n",
       "      <td>1,093.22</td>\n",
       "      <td>11,172.10</td>\n",
       "      <td>1,003.71</td>\n",
       "      <td>11,429.80</td>\n",
       "      <td>1,028.82</td>\n",
       "      <td>10740400128</td>\n",
       "      <td>4084450048</td>\n",
       "    </tr>\n",
       "    <tr>\n",
       "      <th>2018-01-20</th>\n",
       "      <td>12,899.20</td>\n",
       "      <td>1,155.15</td>\n",
       "      <td>12,899.20</td>\n",
       "      <td>1,155.15</td>\n",
       "      <td>13,103.00</td>\n",
       "      <td>1,167.11</td>\n",
       "      <td>11,656.20</td>\n",
       "      <td>1,044.95</td>\n",
       "      <td>11,656.20</td>\n",
       "      <td>1,044.95</td>\n",
       "      <td>11801700352</td>\n",
       "      <td>3975190016</td>\n",
       "    </tr>\n",
       "    <tr>\n",
       "      <th>2018-01-21</th>\n",
       "      <td>11,600.10</td>\n",
       "      <td>1,049.58</td>\n",
       "      <td>11,600.10</td>\n",
       "      <td>1,049.58</td>\n",
       "      <td>12,895.90</td>\n",
       "      <td>1,155.68</td>\n",
       "      <td>11,288.20</td>\n",
       "      <td>1,021.50</td>\n",
       "      <td>12,889.20</td>\n",
       "      <td>1,155.68</td>\n",
       "      <td>9935179776</td>\n",
       "      <td>3378089984</td>\n",
       "    </tr>\n",
       "    <tr>\n",
       "      <th>2018-01-22</th>\n",
       "      <td>10,931.40</td>\n",
       "      <td>1,003.26</td>\n",
       "      <td>10,931.40</td>\n",
       "      <td>1,003.26</td>\n",
       "      <td>11,966.40</td>\n",
       "      <td>1,089.10</td>\n",
       "      <td>10,240.20</td>\n",
       "      <td>930.74</td>\n",
       "      <td>11,633.10</td>\n",
       "      <td>1,055.35</td>\n",
       "      <td>10537400320</td>\n",
       "      <td>3810099968</td>\n",
       "    </tr>\n",
       "  </tbody>\n",
       "</table>"
      ],
      "text/plain": [
       "<IPython.core.display.HTML object>"
      ]
     },
     "metadata": {},
     "output_type": "display_data"
    },
    {
     "name": "stdout",
     "output_type": "stream",
     "text": [
      "\n"
     ]
    },
    {
     "data": {
      "text/html": [
       "<span style = 'display: block; width: 310.0px; \t\t\t\t\t\tline-height: 2; background: #333333;\t\t\t\t\t\tmargin-left: auto; margin-right: auto;\t\t\t\t\t\tborder: 1px solid text_color;\t\t\t\t\t\tborder-radius: 3px; text-align: center;\t\t\t\t\t\tpadding: 3px 8px 3px 8px;'>\t\t\t\t\t\t<b><font size=4><text style=color:white>Crypto Historical Data: tail(5)\t\t\t\t\t\t</text></font></b></style>"
      ],
      "text/plain": [
       "<IPython.core.display.HTML object>"
      ]
     },
     "metadata": {},
     "output_type": "display_data"
    },
    {
     "data": {
      "text/html": [
       "<center><table border=\"1\" class=\"dataframe\">\n",
       "  <thead>\n",
       "    <tr>\n",
       "      <th></th>\n",
       "      <th colspan=\"2\" halign=\"left\">Adj Close</th>\n",
       "      <th colspan=\"2\" halign=\"left\">Close</th>\n",
       "      <th colspan=\"2\" halign=\"left\">High</th>\n",
       "      <th colspan=\"2\" halign=\"left\">Low</th>\n",
       "      <th colspan=\"2\" halign=\"left\">Open</th>\n",
       "      <th colspan=\"2\" halign=\"left\">Volume</th>\n",
       "    </tr>\n",
       "    <tr>\n",
       "      <th></th>\n",
       "      <th>BTC-USD</th>\n",
       "      <th>ETH-USD</th>\n",
       "      <th>BTC-USD</th>\n",
       "      <th>ETH-USD</th>\n",
       "      <th>BTC-USD</th>\n",
       "      <th>ETH-USD</th>\n",
       "      <th>BTC-USD</th>\n",
       "      <th>ETH-USD</th>\n",
       "      <th>BTC-USD</th>\n",
       "      <th>ETH-USD</th>\n",
       "      <th>BTC-USD</th>\n",
       "      <th>ETH-USD</th>\n",
       "    </tr>\n",
       "    <tr>\n",
       "      <th>Date</th>\n",
       "      <th></th>\n",
       "      <th></th>\n",
       "      <th></th>\n",
       "      <th></th>\n",
       "      <th></th>\n",
       "      <th></th>\n",
       "      <th></th>\n",
       "      <th></th>\n",
       "      <th></th>\n",
       "      <th></th>\n",
       "      <th></th>\n",
       "      <th></th>\n",
       "    </tr>\n",
       "  </thead>\n",
       "  <tbody>\n",
       "    <tr>\n",
       "      <th>2023-01-13</th>\n",
       "      <td>19,909.57</td>\n",
       "      <td>1,451.61</td>\n",
       "      <td>19,909.57</td>\n",
       "      <td>1,451.61</td>\n",
       "      <td>19,964.32</td>\n",
       "      <td>1,461.67</td>\n",
       "      <td>18,753.16</td>\n",
       "      <td>1,404.02</td>\n",
       "      <td>18,868.91</td>\n",
       "      <td>1,417.95</td>\n",
       "      <td>29225029694</td>\n",
       "      <td>7684148212</td>\n",
       "    </tr>\n",
       "    <tr>\n",
       "      <th>2023-01-14</th>\n",
       "      <td>20,976.30</td>\n",
       "      <td>1,550.71</td>\n",
       "      <td>20,976.30</td>\n",
       "      <td>1,550.71</td>\n",
       "      <td>21,075.14</td>\n",
       "      <td>1,563.74</td>\n",
       "      <td>19,907.83</td>\n",
       "      <td>1,450.99</td>\n",
       "      <td>19,910.54</td>\n",
       "      <td>1,451.43</td>\n",
       "      <td>38967784639</td>\n",
       "      <td>15444626014</td>\n",
       "    </tr>\n",
       "    <tr>\n",
       "      <th>2023-01-15</th>\n",
       "      <td>20,880.80</td>\n",
       "      <td>1,552.48</td>\n",
       "      <td>20,880.80</td>\n",
       "      <td>1,552.48</td>\n",
       "      <td>20,993.75</td>\n",
       "      <td>1,556.95</td>\n",
       "      <td>20,606.99</td>\n",
       "      <td>1,520.89</td>\n",
       "      <td>20,977.48</td>\n",
       "      <td>1,550.73</td>\n",
       "      <td>19298407543</td>\n",
       "      <td>6774614499</td>\n",
       "    </tr>\n",
       "    <tr>\n",
       "      <th>2023-01-16</th>\n",
       "      <td>21,169.63</td>\n",
       "      <td>1,576.83</td>\n",
       "      <td>21,169.63</td>\n",
       "      <td>1,576.83</td>\n",
       "      <td>21,360.88</td>\n",
       "      <td>1,594.04</td>\n",
       "      <td>20,715.75</td>\n",
       "      <td>1,529.57</td>\n",
       "      <td>20,882.22</td>\n",
       "      <td>1,552.52</td>\n",
       "      <td>26792494050</td>\n",
       "      <td>8454485431</td>\n",
       "    </tr>\n",
       "    <tr>\n",
       "      <th>2023-01-18</th>\n",
       "      <td>21,177.68</td>\n",
       "      <td>1,569.51</td>\n",
       "      <td>21,177.68</td>\n",
       "      <td>1,569.51</td>\n",
       "      <td>21,194.80</td>\n",
       "      <td>1,570.62</td>\n",
       "      <td>21,173.10</td>\n",
       "      <td>1,568.97</td>\n",
       "      <td>21,179.90</td>\n",
       "      <td>1,568.97</td>\n",
       "      <td>24729194496</td>\n",
       "      <td>7374709248</td>\n",
       "    </tr>\n",
       "  </tbody>\n",
       "</table>"
      ],
      "text/plain": [
       "<IPython.core.display.HTML object>"
      ]
     },
     "metadata": {},
     "output_type": "display_data"
    },
    {
     "name": "stdout",
     "output_type": "stream",
     "text": [
      "\n"
     ]
    }
   ],
   "source": [
    "crypto_tickers = ['BTC-USD', 'ETH-USD']\n",
    "head_tail_vert(yf.download(crypto_tickers, period = '5y'),\n",
    "\t\t\t  5, 'Crypto Historical Data')"
   ]
  },
  {
   "cell_type": "markdown",
   "id": "45e99f68-03da-4996-a295-ffe1b5d6d038",
   "metadata": {},
   "source": [
    "<font size = 4><span style = 'background-color: #ddddff; padding: 5px 5px 3px 5px; line-height: 1.5; color:black;border-radius: 3px;'>**⊛ Closing data** for **Bitcoin** and **Ethereum**"
   ]
  },
  {
   "cell_type": "code",
   "execution_count": 65,
   "id": "6b3e6258-8171-4bf1-8ee1-85461117f630",
   "metadata": {},
   "outputs": [
    {
     "name": "stdout",
     "output_type": "stream",
     "text": [
      "[*********************100%***********************]  2 of 2 completed\n"
     ]
    },
    {
     "data": {
      "text/html": [
       "<span style = 'display: block; width: 170.0px; \t\t\t\t\t\tline-height: 2; background: #333333;\t\t\t\t\t\tmargin-left: auto; margin-right: auto;\t\t\t\t\t\tborder: 1px solid text_color;\t\t\t\t\t\tborder-radius: 3px; text-align: center;\t\t\t\t\t\tpadding: 3px 8px 3px 8px;'>\t\t\t\t\t\t<b><font size=4><text style=color:white>Crypto Close Data\t\t\t\t\t\t</text></font></b></style>"
      ],
      "text/plain": [
       "<IPython.core.display.HTML object>"
      ]
     },
     "metadata": {},
     "output_type": "display_data"
    },
    {
     "data": {
      "text/html": [
       "<center><style type=\"text/css\">\n",
       "#T_33052 caption {\n",
       "  background: #333333;\n",
       "  border-radius: 3px;\n",
       "  padding: 5px;\n",
       "  color: white;\n",
       "  font-size: 12px;\n",
       "  font-weight: bold;\n",
       "}\n",
       "</style>\n",
       "<table id=\"T_33052\" style='display:inline-block'>\n",
       "  <caption>head(5)</caption>\n",
       "  <thead>\n",
       "    <tr>\n",
       "      <th class=\"blank level0\" >&nbsp;</th>\n",
       "      <th id=\"T_33052_level0_col0\" class=\"col_heading level0 col0\" >BTC-USD</th>\n",
       "      <th id=\"T_33052_level0_col1\" class=\"col_heading level0 col1\" >ETH-USD</th>\n",
       "    </tr>\n",
       "    <tr>\n",
       "      <th class=\"index_name level0\" >Date</th>\n",
       "      <th class=\"blank col0\" >&nbsp;</th>\n",
       "      <th class=\"blank col1\" >&nbsp;</th>\n",
       "    </tr>\n",
       "  </thead>\n",
       "  <tbody>\n",
       "    <tr>\n",
       "      <th id=\"T_33052_level0_row0\" class=\"row_heading level0 row0\" >2018-01-18</th>\n",
       "      <td id=\"T_33052_row0_col0\" class=\"data row0 col0\" >11,474.90</td>\n",
       "      <td id=\"T_33052_row0_col1\" class=\"data row0 col1\" >1,036.28</td>\n",
       "    </tr>\n",
       "    <tr>\n",
       "      <th id=\"T_33052_level0_row1\" class=\"row_heading level0 row1\" >2018-01-19</th>\n",
       "      <td id=\"T_33052_row1_col0\" class=\"data row1 col0\" >11,607.40</td>\n",
       "      <td id=\"T_33052_row1_col1\" class=\"data row1 col1\" >1,039.10</td>\n",
       "    </tr>\n",
       "    <tr>\n",
       "      <th id=\"T_33052_level0_row2\" class=\"row_heading level0 row2\" >2018-01-20</th>\n",
       "      <td id=\"T_33052_row2_col0\" class=\"data row2 col0\" >12,899.20</td>\n",
       "      <td id=\"T_33052_row2_col1\" class=\"data row2 col1\" >1,155.15</td>\n",
       "    </tr>\n",
       "    <tr>\n",
       "      <th id=\"T_33052_level0_row3\" class=\"row_heading level0 row3\" >2018-01-21</th>\n",
       "      <td id=\"T_33052_row3_col0\" class=\"data row3 col0\" >11,600.10</td>\n",
       "      <td id=\"T_33052_row3_col1\" class=\"data row3 col1\" >1,049.58</td>\n",
       "    </tr>\n",
       "    <tr>\n",
       "      <th id=\"T_33052_level0_row4\" class=\"row_heading level0 row4\" >2018-01-22</th>\n",
       "      <td id=\"T_33052_row4_col0\" class=\"data row4 col0\" >10,931.40</td>\n",
       "      <td id=\"T_33052_row4_col1\" class=\"data row4 col1\" >1,003.26</td>\n",
       "    </tr>\n",
       "  </tbody>\n",
       "</table>\n",
       "&nbsp;&nbsp;&nbsp;<style type=\"text/css\">\n",
       "#T_6e773 caption {\n",
       "  background: #333333;\n",
       "  border-radius: 3px;\n",
       "  padding: 5px;\n",
       "  color: white;\n",
       "  font-size: 12px;\n",
       "  font-weight: bold;\n",
       "}\n",
       "</style>\n",
       "<table id=\"T_6e773\" style='display:inline-block'>\n",
       "  <caption>tail(5)</caption>\n",
       "  <thead>\n",
       "    <tr>\n",
       "      <th class=\"blank level0\" >&nbsp;</th>\n",
       "      <th id=\"T_6e773_level0_col0\" class=\"col_heading level0 col0\" >BTC-USD</th>\n",
       "      <th id=\"T_6e773_level0_col1\" class=\"col_heading level0 col1\" >ETH-USD</th>\n",
       "    </tr>\n",
       "    <tr>\n",
       "      <th class=\"index_name level0\" >Date</th>\n",
       "      <th class=\"blank col0\" >&nbsp;</th>\n",
       "      <th class=\"blank col1\" >&nbsp;</th>\n",
       "    </tr>\n",
       "  </thead>\n",
       "  <tbody>\n",
       "    <tr>\n",
       "      <th id=\"T_6e773_level0_row0\" class=\"row_heading level0 row0\" >2023-01-13</th>\n",
       "      <td id=\"T_6e773_row0_col0\" class=\"data row0 col0\" >19,909.57</td>\n",
       "      <td id=\"T_6e773_row0_col1\" class=\"data row0 col1\" >1,451.61</td>\n",
       "    </tr>\n",
       "    <tr>\n",
       "      <th id=\"T_6e773_level0_row1\" class=\"row_heading level0 row1\" >2023-01-14</th>\n",
       "      <td id=\"T_6e773_row1_col0\" class=\"data row1 col0\" >20,976.30</td>\n",
       "      <td id=\"T_6e773_row1_col1\" class=\"data row1 col1\" >1,550.71</td>\n",
       "    </tr>\n",
       "    <tr>\n",
       "      <th id=\"T_6e773_level0_row2\" class=\"row_heading level0 row2\" >2023-01-15</th>\n",
       "      <td id=\"T_6e773_row2_col0\" class=\"data row2 col0\" >20,880.80</td>\n",
       "      <td id=\"T_6e773_row2_col1\" class=\"data row2 col1\" >1,552.48</td>\n",
       "    </tr>\n",
       "    <tr>\n",
       "      <th id=\"T_6e773_level0_row3\" class=\"row_heading level0 row3\" >2023-01-16</th>\n",
       "      <td id=\"T_6e773_row3_col0\" class=\"data row3 col0\" >21,169.63</td>\n",
       "      <td id=\"T_6e773_row3_col1\" class=\"data row3 col1\" >1,576.83</td>\n",
       "    </tr>\n",
       "    <tr>\n",
       "      <th id=\"T_6e773_level0_row4\" class=\"row_heading level0 row4\" >2023-01-18</th>\n",
       "      <td id=\"T_6e773_row4_col0\" class=\"data row4 col0\" >21,177.68</td>\n",
       "      <td id=\"T_6e773_row4_col1\" class=\"data row4 col1\" >1,569.51</td>\n",
       "    </tr>\n",
       "  </tbody>\n",
       "</table>\n",
       "&nbsp;&nbsp;&nbsp;"
      ]
     },
     "metadata": {},
     "output_type": "display_data"
    },
    {
     "name": "stdout",
     "output_type": "stream",
     "text": [
      "\n"
     ]
    }
   ],
   "source": [
    "crypto = yf.download(crypto_tickers, period = '5y').Close\n",
    "\n",
    "head_tail_horz(crypto, 5, \"Crypto Close Data\")"
   ]
  },
  {
   "cell_type": "markdown",
   "id": "4873a867-87e5-4d2a-9cf8-43c79fd422b4",
   "metadata": {},
   "source": [
    "<font size = 4><span style = 'background-color: #ddddff; padding: 5px 5px 3px 5px; line-height: 1.5; color:black;border-radius: 3px;'>Converting to other currencies"
   ]
  },
  {
   "cell_type": "code",
   "execution_count": 66,
   "id": "4ddace9b-c16d-4a87-b673-2662e9950cc0",
   "metadata": {},
   "outputs": [
    {
     "name": "stdout",
     "output_type": "stream",
     "text": [
      "[*********************100%***********************]  1 of 1 completed\n",
      "\n"
     ]
    },
    {
     "data": {
      "text/html": [
       "<span style = 'display: block; width: 240.0px; \t\t\t\t\t\tline-height: 2; background: #333333;\t\t\t\t\t\tmargin-left: auto; margin-right: auto;\t\t\t\t\t\tborder: 1px solid text_color;\t\t\t\t\t\tborder-radius: 3px; text-align: center;\t\t\t\t\t\tpadding: 3px 8px 3px 8px;'>\t\t\t\t\t\t<b><font size=4><text style=color:white>Bitcoin vs Euro: head(5)\t\t\t\t\t\t</text></font></b></style>"
      ],
      "text/plain": [
       "<IPython.core.display.HTML object>"
      ]
     },
     "metadata": {},
     "output_type": "display_data"
    },
    {
     "data": {
      "text/html": [
       "<center><table border=\"1\" class=\"dataframe\">\n",
       "  <thead>\n",
       "    <tr style=\"text-align: right;\">\n",
       "      <th></th>\n",
       "      <th>Open</th>\n",
       "      <th>High</th>\n",
       "      <th>Low</th>\n",
       "      <th>Close</th>\n",
       "      <th>Adj Close</th>\n",
       "      <th>Volume</th>\n",
       "    </tr>\n",
       "    <tr>\n",
       "      <th>Date</th>\n",
       "      <th></th>\n",
       "      <th></th>\n",
       "      <th></th>\n",
       "      <th></th>\n",
       "      <th></th>\n",
       "      <th></th>\n",
       "    </tr>\n",
       "  </thead>\n",
       "  <tbody>\n",
       "    <tr>\n",
       "      <th>2018-01-18</th>\n",
       "      <td>9,195.17</td>\n",
       "      <td>9,894.82</td>\n",
       "      <td>8,958.98</td>\n",
       "      <td>9,380.28</td>\n",
       "      <td>9,380.28</td>\n",
       "      <td>12278590383</td>\n",
       "    </tr>\n",
       "    <tr>\n",
       "      <th>2018-01-19</th>\n",
       "      <td>9,343.42</td>\n",
       "      <td>9,786.84</td>\n",
       "      <td>9,112.64</td>\n",
       "      <td>9,498.69</td>\n",
       "      <td>9,498.69</td>\n",
       "      <td>8789198141</td>\n",
       "    </tr>\n",
       "    <tr>\n",
       "      <th>2018-01-20</th>\n",
       "      <td>9,538.62</td>\n",
       "      <td>10,722.59</td>\n",
       "      <td>9,538.62</td>\n",
       "      <td>10,555.81</td>\n",
       "      <td>10,555.81</td>\n",
       "      <td>9657692596</td>\n",
       "    </tr>\n",
       "    <tr>\n",
       "      <th>2018-01-21</th>\n",
       "      <td>10,547.63</td>\n",
       "      <td>10,553.11</td>\n",
       "      <td>9,199.84</td>\n",
       "      <td>9,464.83</td>\n",
       "      <td>9,464.83</td>\n",
       "      <td>8106380366</td>\n",
       "    </tr>\n",
       "    <tr>\n",
       "      <th>2018-01-22</th>\n",
       "      <td>9,491.76</td>\n",
       "      <td>9,777.27</td>\n",
       "      <td>8,351.85</td>\n",
       "      <td>8,919.22</td>\n",
       "      <td>8,919.22</td>\n",
       "      <td>8597748303</td>\n",
       "    </tr>\n",
       "  </tbody>\n",
       "</table>"
      ],
      "text/plain": [
       "<IPython.core.display.HTML object>"
      ]
     },
     "metadata": {},
     "output_type": "display_data"
    },
    {
     "name": "stdout",
     "output_type": "stream",
     "text": [
      "\n"
     ]
    },
    {
     "data": {
      "text/html": [
       "<span style = 'display: block; width: 240.0px; \t\t\t\t\t\tline-height: 2; background: #333333;\t\t\t\t\t\tmargin-left: auto; margin-right: auto;\t\t\t\t\t\tborder: 1px solid text_color;\t\t\t\t\t\tborder-radius: 3px; text-align: center;\t\t\t\t\t\tpadding: 3px 8px 3px 8px;'>\t\t\t\t\t\t<b><font size=4><text style=color:white>Bitcoin vs Euro: tail(5)\t\t\t\t\t\t</text></font></b></style>"
      ],
      "text/plain": [
       "<IPython.core.display.HTML object>"
      ]
     },
     "metadata": {},
     "output_type": "display_data"
    },
    {
     "data": {
      "text/html": [
       "<center><table border=\"1\" class=\"dataframe\">\n",
       "  <thead>\n",
       "    <tr style=\"text-align: right;\">\n",
       "      <th></th>\n",
       "      <th>Open</th>\n",
       "      <th>High</th>\n",
       "      <th>Low</th>\n",
       "      <th>Close</th>\n",
       "      <th>Adj Close</th>\n",
       "      <th>Volume</th>\n",
       "    </tr>\n",
       "    <tr>\n",
       "      <th>Date</th>\n",
       "      <th></th>\n",
       "      <th></th>\n",
       "      <th></th>\n",
       "      <th></th>\n",
       "      <th></th>\n",
       "      <th></th>\n",
       "    </tr>\n",
       "  </thead>\n",
       "  <tbody>\n",
       "    <tr>\n",
       "      <th>2023-01-13</th>\n",
       "      <td>17,374.85</td>\n",
       "      <td>18,406.23</td>\n",
       "      <td>17,274.23</td>\n",
       "      <td>18,355.75</td>\n",
       "      <td>18,355.75</td>\n",
       "      <td>26944191476</td>\n",
       "    </tr>\n",
       "    <tr>\n",
       "      <th>2023-01-14</th>\n",
       "      <td>18,356.64</td>\n",
       "      <td>19,435.73</td>\n",
       "      <td>18,354.14</td>\n",
       "      <td>19,344.57</td>\n",
       "      <td>19,344.57</td>\n",
       "      <td>35936519640</td>\n",
       "    </tr>\n",
       "    <tr>\n",
       "      <th>2023-01-15</th>\n",
       "      <td>19,345.67</td>\n",
       "      <td>19,360.67</td>\n",
       "      <td>19,003.99</td>\n",
       "      <td>19,293.44</td>\n",
       "      <td>19,293.44</td>\n",
       "      <td>17831342602</td>\n",
       "    </tr>\n",
       "    <tr>\n",
       "      <th>2023-01-16</th>\n",
       "      <td>19,294.76</td>\n",
       "      <td>19,744.13</td>\n",
       "      <td>19,136.07</td>\n",
       "      <td>19,544.50</td>\n",
       "      <td>19,544.50</td>\n",
       "      <td>24735714659</td>\n",
       "    </tr>\n",
       "    <tr>\n",
       "      <th>2023-01-18</th>\n",
       "      <td>19,630.16</td>\n",
       "      <td>19,653.03</td>\n",
       "      <td>19,629.96</td>\n",
       "      <td>19,632.24</td>\n",
       "      <td>19,632.24</td>\n",
       "      <td>22924580864</td>\n",
       "    </tr>\n",
       "  </tbody>\n",
       "</table>"
      ],
      "text/plain": [
       "<IPython.core.display.HTML object>"
      ]
     },
     "metadata": {},
     "output_type": "display_data"
    },
    {
     "name": "stdout",
     "output_type": "stream",
     "text": [
      "\n"
     ]
    }
   ],
   "source": [
    "head_tail_vert(yf.download('BTC-EUR', period=\"5y\"), 5, \"Bitcoin vs Euro\")"
   ]
  },
  {
   "cell_type": "code",
   "execution_count": 67,
   "id": "a2afc51c-04ce-4130-899e-f65295a456c7",
   "metadata": {},
   "outputs": [
    {
     "name": "stdout",
     "output_type": "stream",
     "text": [
      "[*********************100%***********************]  1 of 1 completed\n",
      "\n"
     ]
    },
    {
     "data": {
      "text/html": [
       "<span style = 'display: block; width: 240.0px; \t\t\t\t\t\tline-height: 2; background: #333333;\t\t\t\t\t\tmargin-left: auto; margin-right: auto;\t\t\t\t\t\tborder: 1px solid text_color;\t\t\t\t\t\tborder-radius: 3px; text-align: center;\t\t\t\t\t\tpadding: 3px 8px 3px 8px;'>\t\t\t\t\t\t<b><font size=4><text style=color:white>Ethereum vs GBP: head(5)\t\t\t\t\t\t</text></font></b></style>"
      ],
      "text/plain": [
       "<IPython.core.display.HTML object>"
      ]
     },
     "metadata": {},
     "output_type": "display_data"
    },
    {
     "data": {
      "text/html": [
       "<center><table border=\"1\" class=\"dataframe\">\n",
       "  <thead>\n",
       "    <tr style=\"text-align: right;\">\n",
       "      <th></th>\n",
       "      <th>Open</th>\n",
       "      <th>High</th>\n",
       "      <th>Low</th>\n",
       "      <th>Close</th>\n",
       "      <th>Adj Close</th>\n",
       "      <th>Volume</th>\n",
       "    </tr>\n",
       "    <tr>\n",
       "      <th>Date</th>\n",
       "      <th></th>\n",
       "      <th></th>\n",
       "      <th></th>\n",
       "      <th></th>\n",
       "      <th></th>\n",
       "      <th></th>\n",
       "    </tr>\n",
       "  </thead>\n",
       "  <tbody>\n",
       "    <tr>\n",
       "      <th>2018-01-18</th>\n",
       "      <td>735.27</td>\n",
       "      <td>795.83</td>\n",
       "      <td>700.21</td>\n",
       "      <td>746.01</td>\n",
       "      <td>746.01</td>\n",
       "      <td>4274940517</td>\n",
       "    </tr>\n",
       "    <tr>\n",
       "      <th>2018-01-19</th>\n",
       "      <td>740.64</td>\n",
       "      <td>788.36</td>\n",
       "      <td>721.68</td>\n",
       "      <td>749.87</td>\n",
       "      <td>749.87</td>\n",
       "      <td>2947571659</td>\n",
       "    </tr>\n",
       "    <tr>\n",
       "      <th>2018-01-20</th>\n",
       "      <td>754.10</td>\n",
       "      <td>842.25</td>\n",
       "      <td>754.10</td>\n",
       "      <td>833.62</td>\n",
       "      <td>833.62</td>\n",
       "      <td>2868723400</td>\n",
       "    </tr>\n",
       "    <tr>\n",
       "      <th>2018-01-21</th>\n",
       "      <td>834.00</td>\n",
       "      <td>834.00</td>\n",
       "      <td>735.21</td>\n",
       "      <td>755.64</td>\n",
       "      <td>755.64</td>\n",
       "      <td>2432030226</td>\n",
       "    </tr>\n",
       "    <tr>\n",
       "      <th>2018-01-22</th>\n",
       "      <td>759.79</td>\n",
       "      <td>778.99</td>\n",
       "      <td>668.30</td>\n",
       "      <td>717.49</td>\n",
       "      <td>717.49</td>\n",
       "      <td>2724808673</td>\n",
       "    </tr>\n",
       "  </tbody>\n",
       "</table>"
      ],
      "text/plain": [
       "<IPython.core.display.HTML object>"
      ]
     },
     "metadata": {},
     "output_type": "display_data"
    },
    {
     "name": "stdout",
     "output_type": "stream",
     "text": [
      "\n"
     ]
    },
    {
     "data": {
      "text/html": [
       "<span style = 'display: block; width: 240.0px; \t\t\t\t\t\tline-height: 2; background: #333333;\t\t\t\t\t\tmargin-left: auto; margin-right: auto;\t\t\t\t\t\tborder: 1px solid text_color;\t\t\t\t\t\tborder-radius: 3px; text-align: center;\t\t\t\t\t\tpadding: 3px 8px 3px 8px;'>\t\t\t\t\t\t<b><font size=4><text style=color:white>Ethereum vs GBP: tail(5)\t\t\t\t\t\t</text></font></b></style>"
      ],
      "text/plain": [
       "<IPython.core.display.HTML object>"
      ]
     },
     "metadata": {},
     "output_type": "display_data"
    },
    {
     "data": {
      "text/html": [
       "<center><table border=\"1\" class=\"dataframe\">\n",
       "  <thead>\n",
       "    <tr style=\"text-align: right;\">\n",
       "      <th></th>\n",
       "      <th>Open</th>\n",
       "      <th>High</th>\n",
       "      <th>Low</th>\n",
       "      <th>Close</th>\n",
       "      <th>Adj Close</th>\n",
       "      <th>Volume</th>\n",
       "    </tr>\n",
       "    <tr>\n",
       "      <th>Date</th>\n",
       "      <th></th>\n",
       "      <th></th>\n",
       "      <th></th>\n",
       "      <th></th>\n",
       "      <th></th>\n",
       "      <th></th>\n",
       "    </tr>\n",
       "  </thead>\n",
       "  <tbody>\n",
       "    <tr>\n",
       "      <th>2023-01-13</th>\n",
       "      <td>1,160.63</td>\n",
       "      <td>1,195.06</td>\n",
       "      <td>1,150.27</td>\n",
       "      <td>1,186.83</td>\n",
       "      <td>1,186.83</td>\n",
       "      <td>6282521158</td>\n",
       "    </tr>\n",
       "    <tr>\n",
       "      <th>2023-01-14</th>\n",
       "      <td>1,186.68</td>\n",
       "      <td>1,278.56</td>\n",
       "      <td>1,186.32</td>\n",
       "      <td>1,267.85</td>\n",
       "      <td>1,267.85</td>\n",
       "      <td>12627449006</td>\n",
       "    </tr>\n",
       "    <tr>\n",
       "      <th>2023-01-15</th>\n",
       "      <td>1,267.87</td>\n",
       "      <td>1,272.96</td>\n",
       "      <td>1,243.48</td>\n",
       "      <td>1,270.09</td>\n",
       "      <td>1,270.09</td>\n",
       "      <td>5542332445</td>\n",
       "    </tr>\n",
       "    <tr>\n",
       "      <th>2023-01-16</th>\n",
       "      <td>1,270.12</td>\n",
       "      <td>1,306.80</td>\n",
       "      <td>1,253.89</td>\n",
       "      <td>1,291.61</td>\n",
       "      <td>1,291.61</td>\n",
       "      <td>6925195834</td>\n",
       "    </tr>\n",
       "    <tr>\n",
       "      <th>2023-01-18</th>\n",
       "      <td>1,277.29</td>\n",
       "      <td>1,279.51</td>\n",
       "      <td>1,278.13</td>\n",
       "      <td>1,278.38</td>\n",
       "      <td>1,278.38</td>\n",
       "      <td>6006767104</td>\n",
       "    </tr>\n",
       "  </tbody>\n",
       "</table>"
      ],
      "text/plain": [
       "<IPython.core.display.HTML object>"
      ]
     },
     "metadata": {},
     "output_type": "display_data"
    },
    {
     "name": "stdout",
     "output_type": "stream",
     "text": [
      "\n"
     ]
    }
   ],
   "source": [
    "head_tail_vert(yf.download('ETH-GBP', period=\"5y\"), 5, \"Ethereum vs GBP\")"
   ]
  },
  {
   "cell_type": "markdown",
   "id": "b0152ee2-94cb-45ca-94cd-e4739de522b9",
   "metadata": {},
   "source": [
    "<font size = 4><span style = 'background-color: #ddddff; padding: 5px 5px 3px 5px; line-height: 1.5; color:black;border-radius: 3px;'>Bitcoin Versus Etherum"
   ]
  },
  {
   "cell_type": "code",
   "execution_count": 68,
   "id": "1600c1ea-b033-4c20-b445-2513c99c29ee",
   "metadata": {},
   "outputs": [
    {
     "data": {
      "text/html": [
       "<span style = 'display: block; width: 610.0px; \t\t\t\t\t\tline-height: 2; background: #333333;\t\t\t\t\t\tmargin-left: auto; margin-right: auto;\t\t\t\t\t\tborder: 1px solid text_color;\t\t\t\t\t\tborder-radius: 3px; text-align: center;\t\t\t\t\t\tpadding: 3px 8px 3px 8px;'>\t\t\t\t\t\t<b><font size=4><text style=color:white>Bitcoin vs Ethereum (LogY Values) (12 samples & overall plot)\t\t\t\t\t\t</text></font></b></style>"
      ],
      "text/plain": [
       "<IPython.core.display.HTML object>"
      ]
     },
     "metadata": {},
     "output_type": "display_data"
    },
    {
     "data": {
      "application/vnd.jupyter.widget-view+json": {
       "model_id": "e6fcba689bf5449db2b45d94c24a6055",
       "version_major": 2,
       "version_minor": 0
      },
      "text/plain": [
       "GridspecLayout(children=(Output(layout=Layout(border='1px solid black', grid_area='widget001')), Output(layout…"
      ]
     },
     "metadata": {},
     "output_type": "display_data"
    }
   ],
   "source": [
    "plot_by_df(crypto, sort_param=\"Date\", cmap=\"spring\", \n",
    "\t\t   logy=True, title=\"Bitcoin vs Ethereum (LogY Values)\",\n",
    "\t\t  xlabel = \"years\", ylabel = 'log(price)')"
   ]
  },
  {
   "cell_type": "markdown",
   "id": "7f1690dc-1d17-4a68-a220-591fd18a9610",
   "metadata": {},
   "source": [
    "<a name = 'mututal_funds'></a>\n",
    "\n",
    "---\n",
    "\n",
    "**Sections:**  ●  [Top](#top)  ●  [Download & Import](#downloading_importing)  ●  [Historical Data](#historical_data)  ●  [Setting Date Range](#date_range)  ●  [High Frenquency](#high_frequency)   ●  [Splits & Dividends](#splits_dividends)   ●  [Exporting](#exporting)   ●  [Multiple Stocks](#multiple_stocks)   ●  [Importing Indexes](#importing_indexes)   ●  [Currency Exchange](#currency_exchange)   ●  [Cryptocurrencies](#cryptocurrencies)   ●  [Mutual & Exchange Traded Funds](#mututal_funds)   ●  [Treasury Yields](#treasury_yields)   ●  [Ticker Object & Docs](#ticker_object)   ●  [Stock Fundamentals](#stock_fundamentals)   ●  [Importing Financials](#importing_financials)   ●  [Importing Put & Call](#put_call)   ●  [Streaming Real-Time](#streaming_real_time)   ●\n",
    "\n",
    "---\n",
    "\n",
    "<span style = 'background-color: purple; font-weight: bold; padding: 5px 5px 3px 5px; line-height: 1.5; color:white;border-radius: 3px;'><font size = 4>▻ Importing Mutual Funds and Exchange Traded Funds</font></span>"
   ]
  },
  {
   "cell_type": "code",
   "execution_count": 69,
   "id": "087e932b-77ce-4f62-80ac-d23f3ba96a92",
   "metadata": {},
   "outputs": [],
   "source": [
    "import_all()"
   ]
  },
  {
   "cell_type": "markdown",
   "id": "285af910-9c56-45e3-8aab-13874314e7a5",
   "metadata": {},
   "source": [
    "<font size = 4><span style = 'background-color: #ddddff; padding: 5px 5px 3px 5px; line-height: 1.5; color:black;border-radius: 3px;'>**⊛ ETFs** are how you can invest with a firm that tries to track the index.\n",
    "* The first ticker below: **iShares 20+ year treasury bond ETF**\n",
    "\t* Tracks the US Treasury 20+ year bond index\n",
    "\t* 95% of assets in US Government bonds\n",
    "\t* Remaining maturity greater than or equal to 20 years\n",
    "* The second ticker below: **Vivaldi multi-strategy fund** class 1\n",
    "\t\n",
    "The existence of **Close** and **Adjusted Close** prices that are not equivalent indicates that these funds' data involve **dividends**."
   ]
  },
  {
   "cell_type": "code",
   "execution_count": 70,
   "id": "1959b86e-617d-40fb-88f6-f1ef7f8f8ea9",
   "metadata": {},
   "outputs": [],
   "source": [
    "treas_etf_ticker = \"TLT\" \n",
    "vivaldi_ticker = \"OMOIX\""
   ]
  },
  {
   "cell_type": "markdown",
   "id": "8c2d7c27-2b11-444d-9a52-3a5037bc41c7",
   "metadata": {},
   "source": [
    "<font size = 4><span style = 'background-color: #ddddff; padding: 5px 5px 3px 5px; line-height: 1.5; color:black;border-radius: 3px;'>**⊛ iShares** treasury bond ETF"
   ]
  },
  {
   "cell_type": "code",
   "execution_count": 71,
   "id": "867f0f03-3be1-4bab-ae58-7d578ffc51ab",
   "metadata": {},
   "outputs": [
    {
     "name": "stdout",
     "output_type": "stream",
     "text": [
      "[*********************100%***********************]  1 of 1 completed\n"
     ]
    }
   ],
   "source": [
    "ishares = yf.download(treas_etf_ticker, period = '5y')"
   ]
  },
  {
   "cell_type": "code",
   "execution_count": 72,
   "id": "65c4353f-c72d-4f1b-ad2b-728630a5afc5",
   "metadata": {},
   "outputs": [
    {
     "data": {
      "text/html": [
       "<span style = 'display: block; width: 270.0px; \t\t\t\t\t\tline-height: 2; background: #333333;\t\t\t\t\t\tmargin-left: auto; margin-right: auto;\t\t\t\t\t\tborder: 1px solid text_color;\t\t\t\t\t\tborder-radius: 3px; text-align: center;\t\t\t\t\t\tpadding: 3px 8px 3px 8px;'>\t\t\t\t\t\t<b><font size=4><text style=color:white>US 20+ Years Treasury Bonds\t\t\t\t\t\t</text></font></b></style>"
      ],
      "text/plain": [
       "<IPython.core.display.HTML object>"
      ]
     },
     "metadata": {},
     "output_type": "display_data"
    },
    {
     "data": {
      "text/html": [
       "<center><style type=\"text/css\">\n",
       "#T_46fc6 caption {\n",
       "  background: #333333;\n",
       "  border-radius: 3px;\n",
       "  padding: 5px;\n",
       "  color: white;\n",
       "  font-size: 12px;\n",
       "  font-weight: bold;\n",
       "}\n",
       "</style>\n",
       "<table id=\"T_46fc6\" style='display:inline-block'>\n",
       "  <caption>head(5)</caption>\n",
       "  <thead>\n",
       "    <tr>\n",
       "      <th class=\"blank level0\" >&nbsp;</th>\n",
       "      <th id=\"T_46fc6_level0_col0\" class=\"col_heading level0 col0\" >Open</th>\n",
       "      <th id=\"T_46fc6_level0_col1\" class=\"col_heading level0 col1\" >High</th>\n",
       "      <th id=\"T_46fc6_level0_col2\" class=\"col_heading level0 col2\" >Low</th>\n",
       "      <th id=\"T_46fc6_level0_col3\" class=\"col_heading level0 col3\" >Close</th>\n",
       "      <th id=\"T_46fc6_level0_col4\" class=\"col_heading level0 col4\" >Adj Close</th>\n",
       "      <th id=\"T_46fc6_level0_col5\" class=\"col_heading level0 col5\" >Volume</th>\n",
       "    </tr>\n",
       "    <tr>\n",
       "      <th class=\"index_name level0\" >Date</th>\n",
       "      <th class=\"blank col0\" >&nbsp;</th>\n",
       "      <th class=\"blank col1\" >&nbsp;</th>\n",
       "      <th class=\"blank col2\" >&nbsp;</th>\n",
       "      <th class=\"blank col3\" >&nbsp;</th>\n",
       "      <th class=\"blank col4\" >&nbsp;</th>\n",
       "      <th class=\"blank col5\" >&nbsp;</th>\n",
       "    </tr>\n",
       "  </thead>\n",
       "  <tbody>\n",
       "    <tr>\n",
       "      <th id=\"T_46fc6_level0_row0\" class=\"row_heading level0 row0\" >2018-01-18</th>\n",
       "      <td id=\"T_46fc6_row0_col0\" class=\"data row0 col0\" >123.93</td>\n",
       "      <td id=\"T_46fc6_row0_col1\" class=\"data row0 col1\" >124.27</td>\n",
       "      <td id=\"T_46fc6_row0_col2\" class=\"data row0 col2\" >123.54</td>\n",
       "      <td id=\"T_46fc6_row0_col3\" class=\"data row0 col3\" >123.71</td>\n",
       "      <td id=\"T_46fc6_row0_col4\" class=\"data row0 col4\" >111.56</td>\n",
       "      <td id=\"T_46fc6_row0_col5\" class=\"data row0 col5\" >10,843,900</td>\n",
       "    </tr>\n",
       "    <tr>\n",
       "      <th id=\"T_46fc6_level0_row1\" class=\"row_heading level0 row1\" >2018-01-19</th>\n",
       "      <td id=\"T_46fc6_row1_col0\" class=\"data row1 col0\" >123.40</td>\n",
       "      <td id=\"T_46fc6_row1_col1\" class=\"data row1 col1\" >123.56</td>\n",
       "      <td id=\"T_46fc6_row1_col2\" class=\"data row1 col2\" >122.98</td>\n",
       "      <td id=\"T_46fc6_row1_col3\" class=\"data row1 col3\" >123.06</td>\n",
       "      <td id=\"T_46fc6_row1_col4\" class=\"data row1 col4\" >110.97</td>\n",
       "      <td id=\"T_46fc6_row1_col5\" class=\"data row1 col5\" >11,374,300</td>\n",
       "    </tr>\n",
       "    <tr>\n",
       "      <th id=\"T_46fc6_level0_row2\" class=\"row_heading level0 row2\" >2018-01-22</th>\n",
       "      <td id=\"T_46fc6_row2_col0\" class=\"data row2 col0\" >123.45</td>\n",
       "      <td id=\"T_46fc6_row2_col1\" class=\"data row2 col1\" >123.71</td>\n",
       "      <td id=\"T_46fc6_row2_col2\" class=\"data row2 col2\" >122.99</td>\n",
       "      <td id=\"T_46fc6_row2_col3\" class=\"data row2 col3\" >123.18</td>\n",
       "      <td id=\"T_46fc6_row2_col4\" class=\"data row2 col4\" >111.08</td>\n",
       "      <td id=\"T_46fc6_row2_col5\" class=\"data row2 col5\" >8,984,700</td>\n",
       "    </tr>\n",
       "    <tr>\n",
       "      <th id=\"T_46fc6_level0_row3\" class=\"row_heading level0 row3\" >2018-01-23</th>\n",
       "      <td id=\"T_46fc6_row3_col0\" class=\"data row3 col0\" >123.81</td>\n",
       "      <td id=\"T_46fc6_row3_col1\" class=\"data row3 col1\" >124.20</td>\n",
       "      <td id=\"T_46fc6_row3_col2\" class=\"data row3 col2\" >123.24</td>\n",
       "      <td id=\"T_46fc6_row3_col3\" class=\"data row3 col3\" >123.71</td>\n",
       "      <td id=\"T_46fc6_row3_col4\" class=\"data row3 col4\" >111.56</td>\n",
       "      <td id=\"T_46fc6_row3_col5\" class=\"data row3 col5\" >12,325,700</td>\n",
       "    </tr>\n",
       "    <tr>\n",
       "      <th id=\"T_46fc6_level0_row4\" class=\"row_heading level0 row4\" >2018-01-24</th>\n",
       "      <td id=\"T_46fc6_row4_col0\" class=\"data row4 col0\" >122.85</td>\n",
       "      <td id=\"T_46fc6_row4_col1\" class=\"data row4 col1\" >123.13</td>\n",
       "      <td id=\"T_46fc6_row4_col2\" class=\"data row4 col2\" >122.54</td>\n",
       "      <td id=\"T_46fc6_row4_col3\" class=\"data row4 col3\" >123.04</td>\n",
       "      <td id=\"T_46fc6_row4_col4\" class=\"data row4 col4\" >110.95</td>\n",
       "      <td id=\"T_46fc6_row4_col5\" class=\"data row4 col5\" >9,038,900</td>\n",
       "    </tr>\n",
       "  </tbody>\n",
       "</table>\n",
       "&nbsp;&nbsp;&nbsp;<style type=\"text/css\">\n",
       "#T_0f84d caption {\n",
       "  background: #333333;\n",
       "  border-radius: 3px;\n",
       "  padding: 5px;\n",
       "  color: white;\n",
       "  font-size: 12px;\n",
       "  font-weight: bold;\n",
       "}\n",
       "</style>\n",
       "<table id=\"T_0f84d\" style='display:inline-block'>\n",
       "  <caption>tail(5)</caption>\n",
       "  <thead>\n",
       "    <tr>\n",
       "      <th class=\"blank level0\" >&nbsp;</th>\n",
       "      <th id=\"T_0f84d_level0_col0\" class=\"col_heading level0 col0\" >Open</th>\n",
       "      <th id=\"T_0f84d_level0_col1\" class=\"col_heading level0 col1\" >High</th>\n",
       "      <th id=\"T_0f84d_level0_col2\" class=\"col_heading level0 col2\" >Low</th>\n",
       "      <th id=\"T_0f84d_level0_col3\" class=\"col_heading level0 col3\" >Close</th>\n",
       "      <th id=\"T_0f84d_level0_col4\" class=\"col_heading level0 col4\" >Adj Close</th>\n",
       "      <th id=\"T_0f84d_level0_col5\" class=\"col_heading level0 col5\" >Volume</th>\n",
       "    </tr>\n",
       "    <tr>\n",
       "      <th class=\"index_name level0\" >Date</th>\n",
       "      <th class=\"blank col0\" >&nbsp;</th>\n",
       "      <th class=\"blank col1\" >&nbsp;</th>\n",
       "      <th class=\"blank col2\" >&nbsp;</th>\n",
       "      <th class=\"blank col3\" >&nbsp;</th>\n",
       "      <th class=\"blank col4\" >&nbsp;</th>\n",
       "      <th class=\"blank col5\" >&nbsp;</th>\n",
       "    </tr>\n",
       "  </thead>\n",
       "  <tbody>\n",
       "    <tr>\n",
       "      <th id=\"T_0f84d_level0_row0\" class=\"row_heading level0 row0\" >2023-01-10</th>\n",
       "      <td id=\"T_0f84d_row0_col0\" class=\"data row0 col0\" >104.53</td>\n",
       "      <td id=\"T_0f84d_row0_col1\" class=\"data row0 col1\" >104.82</td>\n",
       "      <td id=\"T_0f84d_row0_col2\" class=\"data row0 col2\" >103.50</td>\n",
       "      <td id=\"T_0f84d_row0_col3\" class=\"data row0 col3\" >103.99</td>\n",
       "      <td id=\"T_0f84d_row0_col4\" class=\"data row0 col4\" >103.99</td>\n",
       "      <td id=\"T_0f84d_row0_col5\" class=\"data row0 col5\" >20,545,200</td>\n",
       "    </tr>\n",
       "    <tr>\n",
       "      <th id=\"T_0f84d_level0_row1\" class=\"row_heading level0 row1\" >2023-01-11</th>\n",
       "      <td id=\"T_0f84d_row1_col0\" class=\"data row1 col0\" >104.97</td>\n",
       "      <td id=\"T_0f84d_row1_col1\" class=\"data row1 col1\" >105.72</td>\n",
       "      <td id=\"T_0f84d_row1_col2\" class=\"data row1 col2\" >104.70</td>\n",
       "      <td id=\"T_0f84d_row1_col3\" class=\"data row1 col3\" >105.68</td>\n",
       "      <td id=\"T_0f84d_row1_col4\" class=\"data row1 col4\" >105.68</td>\n",
       "      <td id=\"T_0f84d_row1_col5\" class=\"data row1 col5\" >18,794,000</td>\n",
       "    </tr>\n",
       "    <tr>\n",
       "      <th id=\"T_0f84d_level0_row2\" class=\"row_heading level0 row2\" >2023-01-12</th>\n",
       "      <td id=\"T_0f84d_row2_col0\" class=\"data row2 col0\" >105.82</td>\n",
       "      <td id=\"T_0f84d_row2_col1\" class=\"data row2 col1\" >107.81</td>\n",
       "      <td id=\"T_0f84d_row2_col2\" class=\"data row2 col2\" >104.56</td>\n",
       "      <td id=\"T_0f84d_row2_col3\" class=\"data row2 col3\" >107.76</td>\n",
       "      <td id=\"T_0f84d_row2_col4\" class=\"data row2 col4\" >107.76</td>\n",
       "      <td id=\"T_0f84d_row2_col5\" class=\"data row2 col5\" >32,029,600</td>\n",
       "    </tr>\n",
       "    <tr>\n",
       "      <th id=\"T_0f84d_level0_row3\" class=\"row_heading level0 row3\" >2023-01-13</th>\n",
       "      <td id=\"T_0f84d_row3_col0\" class=\"data row3 col0\" >107.10</td>\n",
       "      <td id=\"T_0f84d_row3_col1\" class=\"data row3 col1\" >107.80</td>\n",
       "      <td id=\"T_0f84d_row3_col2\" class=\"data row3 col2\" >106.38</td>\n",
       "      <td id=\"T_0f84d_row3_col3\" class=\"data row3 col3\" >106.75</td>\n",
       "      <td id=\"T_0f84d_row3_col4\" class=\"data row3 col4\" >106.75</td>\n",
       "      <td id=\"T_0f84d_row3_col5\" class=\"data row3 col5\" >17,744,800</td>\n",
       "    </tr>\n",
       "    <tr>\n",
       "      <th id=\"T_0f84d_level0_row4\" class=\"row_heading level0 row4\" >2023-01-17</th>\n",
       "      <td id=\"T_0f84d_row4_col0\" class=\"data row4 col0\" >105.67</td>\n",
       "      <td id=\"T_0f84d_row4_col1\" class=\"data row4 col1\" >106.66</td>\n",
       "      <td id=\"T_0f84d_row4_col2\" class=\"data row4 col2\" >105.65</td>\n",
       "      <td id=\"T_0f84d_row4_col3\" class=\"data row4 col3\" >106.06</td>\n",
       "      <td id=\"T_0f84d_row4_col4\" class=\"data row4 col4\" >106.06</td>\n",
       "      <td id=\"T_0f84d_row4_col5\" class=\"data row4 col5\" >13,748,235</td>\n",
       "    </tr>\n",
       "  </tbody>\n",
       "</table>\n",
       "&nbsp;&nbsp;&nbsp;"
      ]
     },
     "metadata": {},
     "output_type": "display_data"
    },
    {
     "name": "stdout",
     "output_type": "stream",
     "text": [
      "\n"
     ]
    }
   ],
   "source": [
    "head_tail_horz(ishares, 5, 'US 20+ Years Treasury Bonds')"
   ]
  },
  {
   "cell_type": "markdown",
   "id": "3f313070-2cc0-48ac-a9f4-5796dfc0ea82",
   "metadata": {},
   "source": [
    "<font size = 4><span style = 'background-color: #ddddff; padding: 5px 5px 3px 5px; line-height: 1.5; color:black;border-radius: 3px;'>**⊛ Vivaldi** multi-strategy fund"
   ]
  },
  {
   "cell_type": "code",
   "execution_count": 73,
   "id": "7f7f237b-3ea7-4f2c-9e97-79ea38edd7e8",
   "metadata": {},
   "outputs": [
    {
     "name": "stdout",
     "output_type": "stream",
     "text": [
      "[*********************100%***********************]  1 of 1 completed\n"
     ]
    }
   ],
   "source": [
    "vivaldi = yf.download(vivaldi_ticker, period = '5y')"
   ]
  },
  {
   "cell_type": "code",
   "execution_count": 74,
   "id": "4e18abb3-36b3-4063-9a5b-8b4eada47e5c",
   "metadata": {},
   "outputs": [
    {
     "data": {
      "text/html": [
       "<span style = 'display: block; width: 270.0px; \t\t\t\t\t\tline-height: 2; background: #333333;\t\t\t\t\t\tmargin-left: auto; margin-right: auto;\t\t\t\t\t\tborder: 1px solid text_color;\t\t\t\t\t\tborder-radius: 3px; text-align: center;\t\t\t\t\t\tpadding: 3px 8px 3px 8px;'>\t\t\t\t\t\t<b><font size=4><text style=color:white>Vivaldi Multi-Strategy Fund\t\t\t\t\t\t</text></font></b></style>"
      ],
      "text/plain": [
       "<IPython.core.display.HTML object>"
      ]
     },
     "metadata": {},
     "output_type": "display_data"
    },
    {
     "data": {
      "text/html": [
       "<center><style type=\"text/css\">\n",
       "#T_9170c caption {\n",
       "  background: #333333;\n",
       "  border-radius: 3px;\n",
       "  padding: 5px;\n",
       "  color: white;\n",
       "  font-size: 12px;\n",
       "  font-weight: bold;\n",
       "}\n",
       "</style>\n",
       "<table id=\"T_9170c\" style='display:inline-block'>\n",
       "  <caption>head(5)</caption>\n",
       "  <thead>\n",
       "    <tr>\n",
       "      <th class=\"blank level0\" >&nbsp;</th>\n",
       "      <th id=\"T_9170c_level0_col0\" class=\"col_heading level0 col0\" >Open</th>\n",
       "      <th id=\"T_9170c_level0_col1\" class=\"col_heading level0 col1\" >High</th>\n",
       "      <th id=\"T_9170c_level0_col2\" class=\"col_heading level0 col2\" >Low</th>\n",
       "      <th id=\"T_9170c_level0_col3\" class=\"col_heading level0 col3\" >Close</th>\n",
       "      <th id=\"T_9170c_level0_col4\" class=\"col_heading level0 col4\" >Adj Close</th>\n",
       "      <th id=\"T_9170c_level0_col5\" class=\"col_heading level0 col5\" >Volume</th>\n",
       "    </tr>\n",
       "    <tr>\n",
       "      <th class=\"index_name level0\" >Date</th>\n",
       "      <th class=\"blank col0\" >&nbsp;</th>\n",
       "      <th class=\"blank col1\" >&nbsp;</th>\n",
       "      <th class=\"blank col2\" >&nbsp;</th>\n",
       "      <th class=\"blank col3\" >&nbsp;</th>\n",
       "      <th class=\"blank col4\" >&nbsp;</th>\n",
       "      <th class=\"blank col5\" >&nbsp;</th>\n",
       "    </tr>\n",
       "  </thead>\n",
       "  <tbody>\n",
       "    <tr>\n",
       "      <th id=\"T_9170c_level0_row0\" class=\"row_heading level0 row0\" >2018-01-18</th>\n",
       "      <td id=\"T_9170c_row0_col0\" class=\"data row0 col0\" >26.75</td>\n",
       "      <td id=\"T_9170c_row0_col1\" class=\"data row0 col1\" >26.75</td>\n",
       "      <td id=\"T_9170c_row0_col2\" class=\"data row0 col2\" >26.75</td>\n",
       "      <td id=\"T_9170c_row0_col3\" class=\"data row0 col3\" >26.75</td>\n",
       "      <td id=\"T_9170c_row0_col4\" class=\"data row0 col4\" >21.05</td>\n",
       "      <td id=\"T_9170c_row0_col5\" class=\"data row0 col5\" >0</td>\n",
       "    </tr>\n",
       "    <tr>\n",
       "      <th id=\"T_9170c_level0_row1\" class=\"row_heading level0 row1\" >2018-01-19</th>\n",
       "      <td id=\"T_9170c_row1_col0\" class=\"data row1 col0\" >26.76</td>\n",
       "      <td id=\"T_9170c_row1_col1\" class=\"data row1 col1\" >26.76</td>\n",
       "      <td id=\"T_9170c_row1_col2\" class=\"data row1 col2\" >26.76</td>\n",
       "      <td id=\"T_9170c_row1_col3\" class=\"data row1 col3\" >26.76</td>\n",
       "      <td id=\"T_9170c_row1_col4\" class=\"data row1 col4\" >21.05</td>\n",
       "      <td id=\"T_9170c_row1_col5\" class=\"data row1 col5\" >0</td>\n",
       "    </tr>\n",
       "    <tr>\n",
       "      <th id=\"T_9170c_level0_row2\" class=\"row_heading level0 row2\" >2018-01-22</th>\n",
       "      <td id=\"T_9170c_row2_col0\" class=\"data row2 col0\" >26.79</td>\n",
       "      <td id=\"T_9170c_row2_col1\" class=\"data row2 col1\" >26.79</td>\n",
       "      <td id=\"T_9170c_row2_col2\" class=\"data row2 col2\" >26.79</td>\n",
       "      <td id=\"T_9170c_row2_col3\" class=\"data row2 col3\" >26.79</td>\n",
       "      <td id=\"T_9170c_row2_col4\" class=\"data row2 col4\" >21.08</td>\n",
       "      <td id=\"T_9170c_row2_col5\" class=\"data row2 col5\" >0</td>\n",
       "    </tr>\n",
       "    <tr>\n",
       "      <th id=\"T_9170c_level0_row3\" class=\"row_heading level0 row3\" >2018-01-23</th>\n",
       "      <td id=\"T_9170c_row3_col0\" class=\"data row3 col0\" >26.76</td>\n",
       "      <td id=\"T_9170c_row3_col1\" class=\"data row3 col1\" >26.76</td>\n",
       "      <td id=\"T_9170c_row3_col2\" class=\"data row3 col2\" >26.76</td>\n",
       "      <td id=\"T_9170c_row3_col3\" class=\"data row3 col3\" >26.76</td>\n",
       "      <td id=\"T_9170c_row3_col4\" class=\"data row3 col4\" >21.05</td>\n",
       "      <td id=\"T_9170c_row3_col5\" class=\"data row3 col5\" >0</td>\n",
       "    </tr>\n",
       "    <tr>\n",
       "      <th id=\"T_9170c_level0_row4\" class=\"row_heading level0 row4\" >2018-01-24</th>\n",
       "      <td id=\"T_9170c_row4_col0\" class=\"data row4 col0\" >26.75</td>\n",
       "      <td id=\"T_9170c_row4_col1\" class=\"data row4 col1\" >26.75</td>\n",
       "      <td id=\"T_9170c_row4_col2\" class=\"data row4 col2\" >26.75</td>\n",
       "      <td id=\"T_9170c_row4_col3\" class=\"data row4 col3\" >26.75</td>\n",
       "      <td id=\"T_9170c_row4_col4\" class=\"data row4 col4\" >21.05</td>\n",
       "      <td id=\"T_9170c_row4_col5\" class=\"data row4 col5\" >0</td>\n",
       "    </tr>\n",
       "  </tbody>\n",
       "</table>\n",
       "&nbsp;&nbsp;&nbsp;<style type=\"text/css\">\n",
       "#T_19971 caption {\n",
       "  background: #333333;\n",
       "  border-radius: 3px;\n",
       "  padding: 5px;\n",
       "  color: white;\n",
       "  font-size: 12px;\n",
       "  font-weight: bold;\n",
       "}\n",
       "</style>\n",
       "<table id=\"T_19971\" style='display:inline-block'>\n",
       "  <caption>tail(5)</caption>\n",
       "  <thead>\n",
       "    <tr>\n",
       "      <th class=\"blank level0\" >&nbsp;</th>\n",
       "      <th id=\"T_19971_level0_col0\" class=\"col_heading level0 col0\" >Open</th>\n",
       "      <th id=\"T_19971_level0_col1\" class=\"col_heading level0 col1\" >High</th>\n",
       "      <th id=\"T_19971_level0_col2\" class=\"col_heading level0 col2\" >Low</th>\n",
       "      <th id=\"T_19971_level0_col3\" class=\"col_heading level0 col3\" >Close</th>\n",
       "      <th id=\"T_19971_level0_col4\" class=\"col_heading level0 col4\" >Adj Close</th>\n",
       "      <th id=\"T_19971_level0_col5\" class=\"col_heading level0 col5\" >Volume</th>\n",
       "    </tr>\n",
       "    <tr>\n",
       "      <th class=\"index_name level0\" >Date</th>\n",
       "      <th class=\"blank col0\" >&nbsp;</th>\n",
       "      <th class=\"blank col1\" >&nbsp;</th>\n",
       "      <th class=\"blank col2\" >&nbsp;</th>\n",
       "      <th class=\"blank col3\" >&nbsp;</th>\n",
       "      <th class=\"blank col4\" >&nbsp;</th>\n",
       "      <th class=\"blank col5\" >&nbsp;</th>\n",
       "    </tr>\n",
       "  </thead>\n",
       "  <tbody>\n",
       "    <tr>\n",
       "      <th id=\"T_19971_level0_row0\" class=\"row_heading level0 row0\" >2023-01-09</th>\n",
       "      <td id=\"T_19971_row0_col0\" class=\"data row0 col0\" >23.78</td>\n",
       "      <td id=\"T_19971_row0_col1\" class=\"data row0 col1\" >23.78</td>\n",
       "      <td id=\"T_19971_row0_col2\" class=\"data row0 col2\" >23.78</td>\n",
       "      <td id=\"T_19971_row0_col3\" class=\"data row0 col3\" >23.78</td>\n",
       "      <td id=\"T_19971_row0_col4\" class=\"data row0 col4\" >23.78</td>\n",
       "      <td id=\"T_19971_row0_col5\" class=\"data row0 col5\" >0</td>\n",
       "    </tr>\n",
       "    <tr>\n",
       "      <th id=\"T_19971_level0_row1\" class=\"row_heading level0 row1\" >2023-01-10</th>\n",
       "      <td id=\"T_19971_row1_col0\" class=\"data row1 col0\" >23.85</td>\n",
       "      <td id=\"T_19971_row1_col1\" class=\"data row1 col1\" >23.85</td>\n",
       "      <td id=\"T_19971_row1_col2\" class=\"data row1 col2\" >23.85</td>\n",
       "      <td id=\"T_19971_row1_col3\" class=\"data row1 col3\" >23.85</td>\n",
       "      <td id=\"T_19971_row1_col4\" class=\"data row1 col4\" >23.85</td>\n",
       "      <td id=\"T_19971_row1_col5\" class=\"data row1 col5\" >0</td>\n",
       "    </tr>\n",
       "    <tr>\n",
       "      <th id=\"T_19971_level0_row2\" class=\"row_heading level0 row2\" >2023-01-11</th>\n",
       "      <td id=\"T_19971_row2_col0\" class=\"data row2 col0\" >23.89</td>\n",
       "      <td id=\"T_19971_row2_col1\" class=\"data row2 col1\" >23.89</td>\n",
       "      <td id=\"T_19971_row2_col2\" class=\"data row2 col2\" >23.89</td>\n",
       "      <td id=\"T_19971_row2_col3\" class=\"data row2 col3\" >23.89</td>\n",
       "      <td id=\"T_19971_row2_col4\" class=\"data row2 col4\" >23.89</td>\n",
       "      <td id=\"T_19971_row2_col5\" class=\"data row2 col5\" >0</td>\n",
       "    </tr>\n",
       "    <tr>\n",
       "      <th id=\"T_19971_level0_row3\" class=\"row_heading level0 row3\" >2023-01-12</th>\n",
       "      <td id=\"T_19971_row3_col0\" class=\"data row3 col0\" >23.94</td>\n",
       "      <td id=\"T_19971_row3_col1\" class=\"data row3 col1\" >23.94</td>\n",
       "      <td id=\"T_19971_row3_col2\" class=\"data row3 col2\" >23.94</td>\n",
       "      <td id=\"T_19971_row3_col3\" class=\"data row3 col3\" >23.94</td>\n",
       "      <td id=\"T_19971_row3_col4\" class=\"data row3 col4\" >23.94</td>\n",
       "      <td id=\"T_19971_row3_col5\" class=\"data row3 col5\" >0</td>\n",
       "    </tr>\n",
       "    <tr>\n",
       "      <th id=\"T_19971_level0_row4\" class=\"row_heading level0 row4\" >2023-01-13</th>\n",
       "      <td id=\"T_19971_row4_col0\" class=\"data row4 col0\" >23.96</td>\n",
       "      <td id=\"T_19971_row4_col1\" class=\"data row4 col1\" >23.96</td>\n",
       "      <td id=\"T_19971_row4_col2\" class=\"data row4 col2\" >23.96</td>\n",
       "      <td id=\"T_19971_row4_col3\" class=\"data row4 col3\" >23.96</td>\n",
       "      <td id=\"T_19971_row4_col4\" class=\"data row4 col4\" >23.96</td>\n",
       "      <td id=\"T_19971_row4_col5\" class=\"data row4 col5\" >0</td>\n",
       "    </tr>\n",
       "  </tbody>\n",
       "</table>\n",
       "&nbsp;&nbsp;&nbsp;"
      ]
     },
     "metadata": {},
     "output_type": "display_data"
    },
    {
     "name": "stdout",
     "output_type": "stream",
     "text": [
      "\n"
     ]
    }
   ],
   "source": [
    "head_tail_horz(vivaldi, 5, 'Vivaldi Multi-Strategy Fund')"
   ]
  },
  {
   "cell_type": "markdown",
   "id": "0233d490-b657-47ad-9871-a2f42fdc052d",
   "metadata": {},
   "source": [
    "<a name = 'treasury_yields'></a>\n",
    "\n",
    "---\n",
    "\n",
    "**Sections:**  ●  [Top](#top)  ●  [Download & Import](#downloading_importing)  ●  [Historical Data](#historical_data)  ●  [Setting Date Range](#date_range)  ●  [High Frenquency](#high_frequency)   ●  [Splits & Dividends](#splits_dividends)   ●  [Exporting](#exporting)   ●  [Multiple Stocks](#multiple_stocks)   ●  [Importing Indexes](#importing_indexes)   ●  [Currency Exchange](#currency_exchange)   ●  [Cryptocurrencies](#cryptocurrencies)   ●  [Mutual & Exchange Traded Funds](#mututal_funds)   ●  [Treasury Yields](#treasury_yields)   ●  [Ticker Object & Docs](#ticker_object)   ●  [Stock Fundamentals](#stock_fundamentals)   ●  [Importing Financials](#importing_financials)   ●  [Importing Put & Call](#put_call)   ●  [Streaming Real-Time](#streaming_real_time)   ●\n",
    "\n",
    "---\n",
    "\n",
    "<span style = 'background-color: purple; font-weight: bold; padding: 5px 5px 3px 5px; line-height: 1.5; color:white;border-radius: 3px;'><font size = 4>▻ Importing Treasury Yields</font></span>"
   ]
  },
  {
   "cell_type": "code",
   "execution_count": 75,
   "id": "8c58e948-d69f-4314-a8fa-bc5a2bda55fe",
   "metadata": {},
   "outputs": [],
   "source": [
    "import_all()"
   ]
  },
  {
   "cell_type": "markdown",
   "id": "e2b6c428-9263-40c6-96db-9880b510227b",
   "metadata": {},
   "source": [
    "<font size = 4><span style = 'background-color: #ddddff; padding: 5px 5px 3px 5px; line-height: 1.5; color:black;border-radius: 3px;'>Importing historical US Treasury yield data. \n",
    "* The US Government borrows money by issuing Treasury or Government bonds with maturities of 5 years, 10 years, and longer\n",
    "* The **Treasury Yield** indicates how much an investor can earn with the particular bond\n",
    "* This form of investment is considered to be credit risk-free\n",
    "* The is based on the likelihood of the US Government repaying its obligations\n",
    "* They are often used in finance as an approximation of the risk-free rate\n",
    "* The **risk-free rate** plays an important role in portfolio management and asset pricing\n"
   ]
  },
  {
   "cell_type": "markdown",
   "id": "732ef603-eaf5-4de5-9725-0a44fd826953",
   "metadata": {},
   "source": [
    "<font size = 4><span style = 'background-color: #ddddff; padding: 5px 5px 3px 5px; line-height: 1.5; color:black;border-radius: 3px;'>⊛ The following two tickers are for the **10 year Treasury Yield** and the **5 year Treasury Yield**"
   ]
  },
  {
   "cell_type": "code",
   "execution_count": 76,
   "id": "0d678890-8205-4886-b90f-0d6a1a2d9844",
   "metadata": {},
   "outputs": [],
   "source": [
    "ten_year_treasury = '^TNX'   # Ten year Treasury Yield\n",
    "five_year_treasury = '^FVX'   # Five year Treasury Yield\n",
    "treasury_tickers = [ten_year_treasury, five_year_treasury]"
   ]
  },
  {
   "cell_type": "code",
   "execution_count": 77,
   "id": "8af6a4ce-a142-4be8-bab4-df9d66a277d4",
   "metadata": {},
   "outputs": [
    {
     "name": "stdout",
     "output_type": "stream",
     "text": [
      "[*********************100%***********************]  2 of 2 completed\n",
      "\n"
     ]
    },
    {
     "data": {
      "text/html": [
       "<span style = 'display: block; width: 610.0px; \t\t\t\t\t\tline-height: 2; background: #333333;\t\t\t\t\t\tmargin-left: auto; margin-right: auto;\t\t\t\t\t\tborder: 1px solid text_color;\t\t\t\t\t\tborder-radius: 3px; text-align: center;\t\t\t\t\t\tpadding: 3px 8px 3px 8px;'>\t\t\t\t\t\t<b><font size=4><text style=color:white>US Treasury 5-Year & 10-Year Yields: Historical Data: head(5)\t\t\t\t\t\t</text></font></b></style>"
      ],
      "text/plain": [
       "<IPython.core.display.HTML object>"
      ]
     },
     "metadata": {},
     "output_type": "display_data"
    },
    {
     "data": {
      "text/html": [
       "<center><table border=\"1\" class=\"dataframe\">\n",
       "  <thead>\n",
       "    <tr>\n",
       "      <th></th>\n",
       "      <th colspan=\"2\" halign=\"left\">Adj Close</th>\n",
       "      <th colspan=\"2\" halign=\"left\">Close</th>\n",
       "      <th colspan=\"2\" halign=\"left\">High</th>\n",
       "      <th colspan=\"2\" halign=\"left\">Low</th>\n",
       "      <th colspan=\"2\" halign=\"left\">Open</th>\n",
       "      <th colspan=\"2\" halign=\"left\">Volume</th>\n",
       "    </tr>\n",
       "    <tr>\n",
       "      <th></th>\n",
       "      <th>^FVX</th>\n",
       "      <th>^TNX</th>\n",
       "      <th>^FVX</th>\n",
       "      <th>^TNX</th>\n",
       "      <th>^FVX</th>\n",
       "      <th>^TNX</th>\n",
       "      <th>^FVX</th>\n",
       "      <th>^TNX</th>\n",
       "      <th>^FVX</th>\n",
       "      <th>^TNX</th>\n",
       "      <th>^FVX</th>\n",
       "      <th>^TNX</th>\n",
       "    </tr>\n",
       "    <tr>\n",
       "      <th>Date</th>\n",
       "      <th></th>\n",
       "      <th></th>\n",
       "      <th></th>\n",
       "      <th></th>\n",
       "      <th></th>\n",
       "      <th></th>\n",
       "      <th></th>\n",
       "      <th></th>\n",
       "      <th></th>\n",
       "      <th></th>\n",
       "      <th></th>\n",
       "      <th></th>\n",
       "    </tr>\n",
       "  </thead>\n",
       "  <tbody>\n",
       "    <tr>\n",
       "      <th>2018-01-17</th>\n",
       "      <td>2.39</td>\n",
       "      <td>2.58</td>\n",
       "      <td>2.39</td>\n",
       "      <td>2.58</td>\n",
       "      <td>2.40</td>\n",
       "      <td>2.58</td>\n",
       "      <td>2.37</td>\n",
       "      <td>2.54</td>\n",
       "      <td>2.38</td>\n",
       "      <td>2.56</td>\n",
       "      <td>0</td>\n",
       "      <td>0</td>\n",
       "    </tr>\n",
       "    <tr>\n",
       "      <th>2018-01-18</th>\n",
       "      <td>2.41</td>\n",
       "      <td>2.61</td>\n",
       "      <td>2.41</td>\n",
       "      <td>2.61</td>\n",
       "      <td>2.42</td>\n",
       "      <td>2.62</td>\n",
       "      <td>2.40</td>\n",
       "      <td>2.60</td>\n",
       "      <td>2.42</td>\n",
       "      <td>2.61</td>\n",
       "      <td>0</td>\n",
       "      <td>0</td>\n",
       "    </tr>\n",
       "    <tr>\n",
       "      <th>2018-01-19</th>\n",
       "      <td>2.44</td>\n",
       "      <td>2.64</td>\n",
       "      <td>2.44</td>\n",
       "      <td>2.64</td>\n",
       "      <td>2.44</td>\n",
       "      <td>2.65</td>\n",
       "      <td>2.41</td>\n",
       "      <td>2.61</td>\n",
       "      <td>2.42</td>\n",
       "      <td>2.63</td>\n",
       "      <td>0</td>\n",
       "      <td>0</td>\n",
       "    </tr>\n",
       "    <tr>\n",
       "      <th>2018-01-22</th>\n",
       "      <td>2.46</td>\n",
       "      <td>2.66</td>\n",
       "      <td>2.46</td>\n",
       "      <td>2.66</td>\n",
       "      <td>2.46</td>\n",
       "      <td>2.66</td>\n",
       "      <td>2.43</td>\n",
       "      <td>2.63</td>\n",
       "      <td>2.45</td>\n",
       "      <td>2.66</td>\n",
       "      <td>0</td>\n",
       "      <td>0</td>\n",
       "    </tr>\n",
       "    <tr>\n",
       "      <th>2018-01-23</th>\n",
       "      <td>2.42</td>\n",
       "      <td>2.62</td>\n",
       "      <td>2.42</td>\n",
       "      <td>2.62</td>\n",
       "      <td>2.43</td>\n",
       "      <td>2.64</td>\n",
       "      <td>2.41</td>\n",
       "      <td>2.61</td>\n",
       "      <td>2.43</td>\n",
       "      <td>2.63</td>\n",
       "      <td>0</td>\n",
       "      <td>0</td>\n",
       "    </tr>\n",
       "  </tbody>\n",
       "</table>"
      ],
      "text/plain": [
       "<IPython.core.display.HTML object>"
      ]
     },
     "metadata": {},
     "output_type": "display_data"
    },
    {
     "name": "stdout",
     "output_type": "stream",
     "text": [
      "\n"
     ]
    },
    {
     "data": {
      "text/html": [
       "<span style = 'display: block; width: 610.0px; \t\t\t\t\t\tline-height: 2; background: #333333;\t\t\t\t\t\tmargin-left: auto; margin-right: auto;\t\t\t\t\t\tborder: 1px solid text_color;\t\t\t\t\t\tborder-radius: 3px; text-align: center;\t\t\t\t\t\tpadding: 3px 8px 3px 8px;'>\t\t\t\t\t\t<b><font size=4><text style=color:white>US Treasury 5-Year & 10-Year Yields: Historical Data: tail(5)\t\t\t\t\t\t</text></font></b></style>"
      ],
      "text/plain": [
       "<IPython.core.display.HTML object>"
      ]
     },
     "metadata": {},
     "output_type": "display_data"
    },
    {
     "data": {
      "text/html": [
       "<center><table border=\"1\" class=\"dataframe\">\n",
       "  <thead>\n",
       "    <tr>\n",
       "      <th></th>\n",
       "      <th colspan=\"2\" halign=\"left\">Adj Close</th>\n",
       "      <th colspan=\"2\" halign=\"left\">Close</th>\n",
       "      <th colspan=\"2\" halign=\"left\">High</th>\n",
       "      <th colspan=\"2\" halign=\"left\">Low</th>\n",
       "      <th colspan=\"2\" halign=\"left\">Open</th>\n",
       "      <th colspan=\"2\" halign=\"left\">Volume</th>\n",
       "    </tr>\n",
       "    <tr>\n",
       "      <th></th>\n",
       "      <th>^FVX</th>\n",
       "      <th>^TNX</th>\n",
       "      <th>^FVX</th>\n",
       "      <th>^TNX</th>\n",
       "      <th>^FVX</th>\n",
       "      <th>^TNX</th>\n",
       "      <th>^FVX</th>\n",
       "      <th>^TNX</th>\n",
       "      <th>^FVX</th>\n",
       "      <th>^TNX</th>\n",
       "      <th>^FVX</th>\n",
       "      <th>^TNX</th>\n",
       "    </tr>\n",
       "    <tr>\n",
       "      <th>Date</th>\n",
       "      <th></th>\n",
       "      <th></th>\n",
       "      <th></th>\n",
       "      <th></th>\n",
       "      <th></th>\n",
       "      <th></th>\n",
       "      <th></th>\n",
       "      <th></th>\n",
       "      <th></th>\n",
       "      <th></th>\n",
       "      <th></th>\n",
       "      <th></th>\n",
       "    </tr>\n",
       "  </thead>\n",
       "  <tbody>\n",
       "    <tr>\n",
       "      <th>2023-01-10</th>\n",
       "      <td>3.73</td>\n",
       "      <td>3.62</td>\n",
       "      <td>3.73</td>\n",
       "      <td>3.62</td>\n",
       "      <td>3.76</td>\n",
       "      <td>3.64</td>\n",
       "      <td>3.68</td>\n",
       "      <td>3.57</td>\n",
       "      <td>3.72</td>\n",
       "      <td>3.58</td>\n",
       "      <td>0</td>\n",
       "      <td>0</td>\n",
       "    </tr>\n",
       "    <tr>\n",
       "      <th>2023-01-11</th>\n",
       "      <td>3.67</td>\n",
       "      <td>3.55</td>\n",
       "      <td>3.67</td>\n",
       "      <td>3.55</td>\n",
       "      <td>3.71</td>\n",
       "      <td>3.60</td>\n",
       "      <td>3.66</td>\n",
       "      <td>3.55</td>\n",
       "      <td>3.69</td>\n",
       "      <td>3.57</td>\n",
       "      <td>0</td>\n",
       "      <td>0</td>\n",
       "    </tr>\n",
       "    <tr>\n",
       "      <th>2023-01-12</th>\n",
       "      <td>3.55</td>\n",
       "      <td>3.45</td>\n",
       "      <td>3.55</td>\n",
       "      <td>3.45</td>\n",
       "      <td>3.73</td>\n",
       "      <td>3.59</td>\n",
       "      <td>3.52</td>\n",
       "      <td>3.43</td>\n",
       "      <td>3.63</td>\n",
       "      <td>3.50</td>\n",
       "      <td>0</td>\n",
       "      <td>0</td>\n",
       "    </tr>\n",
       "    <tr>\n",
       "      <th>2023-01-13</th>\n",
       "      <td>3.61</td>\n",
       "      <td>3.51</td>\n",
       "      <td>3.61</td>\n",
       "      <td>3.51</td>\n",
       "      <td>3.62</td>\n",
       "      <td>3.52</td>\n",
       "      <td>3.53</td>\n",
       "      <td>3.43</td>\n",
       "      <td>3.57</td>\n",
       "      <td>3.49</td>\n",
       "      <td>0</td>\n",
       "      <td>0</td>\n",
       "    </tr>\n",
       "    <tr>\n",
       "      <th>2023-01-17</th>\n",
       "      <td>3.61</td>\n",
       "      <td>3.53</td>\n",
       "      <td>3.61</td>\n",
       "      <td>3.53</td>\n",
       "      <td>3.67</td>\n",
       "      <td>3.58</td>\n",
       "      <td>3.58</td>\n",
       "      <td>3.50</td>\n",
       "      <td>3.66</td>\n",
       "      <td>3.58</td>\n",
       "      <td>0</td>\n",
       "      <td>0</td>\n",
       "    </tr>\n",
       "  </tbody>\n",
       "</table>"
      ],
      "text/plain": [
       "<IPython.core.display.HTML object>"
      ]
     },
     "metadata": {},
     "output_type": "display_data"
    },
    {
     "name": "stdout",
     "output_type": "stream",
     "text": [
      "\n"
     ]
    }
   ],
   "source": [
    "treasury_history = yf.download(treasury_tickers, period = '5y')\n",
    "\n",
    "head_tail_vert(treasury_history, 5, 'US Treasury 5-Year & 10-Year Yields: Historical Data')"
   ]
  },
  {
   "cell_type": "markdown",
   "id": "7c1af19c-e8fe-4071-b3a4-e25d71f64b69",
   "metadata": {},
   "source": [
    "<font size = 4><span style = 'background-color: #ddddff; padding: 5px 5px 3px 5px; line-height: 1.5; color:black;border-radius: 3px;'>Dataframe for Treasury Yields - closing data only"
   ]
  },
  {
   "cell_type": "code",
   "execution_count": 78,
   "id": "2f063fb6-54f5-41bf-9f08-dc6e6eab3bf2",
   "metadata": {},
   "outputs": [
    {
     "name": "stdout",
     "output_type": "stream",
     "text": [
      "[*********************100%***********************]  2 of 2 completed\n"
     ]
    }
   ],
   "source": [
    "treasury_yields = yf.download(treasury_tickers, period = '5y').Close"
   ]
  },
  {
   "cell_type": "markdown",
   "id": "8dd9b4a7-4ed0-461e-890b-0abc194a4cc4",
   "metadata": {},
   "source": [
    "<font size = 4><span style = 'background-color: #ddddff; padding: 5px 5px 3px 5px; line-height: 1.5; color:black;border-radius: 3px;'>**⊛ Understanding Treasury Yields**: If on the first day below, 2018-01-16, an investor invested in the five or ten year bonds, they could expect the listed average percent increase per year."
   ]
  },
  {
   "cell_type": "code",
   "execution_count": 79,
   "id": "1ce59c91-97b8-4d15-9389-0943f2aab6fe",
   "metadata": {},
   "outputs": [
    {
     "data": {
      "text/html": [
       "<span style = 'display: block; width: 320.0px; \t\t\t\t\t\tline-height: 2; background: #333333;\t\t\t\t\t\tmargin-left: auto; margin-right: auto;\t\t\t\t\t\tborder: 1px solid text_color;\t\t\t\t\t\tborder-radius: 3px; text-align: center;\t\t\t\t\t\tpadding: 3px 8px 3px 8px;'>\t\t\t\t\t\t<b><font size=4><text style=color:white>US Treasury Yields: Last 5 Years\t\t\t\t\t\t</text></font></b></style>"
      ],
      "text/plain": [
       "<IPython.core.display.HTML object>"
      ]
     },
     "metadata": {},
     "output_type": "display_data"
    },
    {
     "data": {
      "text/html": [
       "<center><style type=\"text/css\">\n",
       "#T_c0bd2 caption {\n",
       "  background: #333333;\n",
       "  border-radius: 3px;\n",
       "  padding: 5px;\n",
       "  color: white;\n",
       "  font-size: 12px;\n",
       "  font-weight: bold;\n",
       "}\n",
       "</style>\n",
       "<table id=\"T_c0bd2\" style='display:inline-block'>\n",
       "  <caption>head(5)</caption>\n",
       "  <thead>\n",
       "    <tr>\n",
       "      <th class=\"blank level0\" >&nbsp;</th>\n",
       "      <th id=\"T_c0bd2_level0_col0\" class=\"col_heading level0 col0\" >^FVX</th>\n",
       "      <th id=\"T_c0bd2_level0_col1\" class=\"col_heading level0 col1\" >^TNX</th>\n",
       "    </tr>\n",
       "    <tr>\n",
       "      <th class=\"index_name level0\" >Date</th>\n",
       "      <th class=\"blank col0\" >&nbsp;</th>\n",
       "      <th class=\"blank col1\" >&nbsp;</th>\n",
       "    </tr>\n",
       "  </thead>\n",
       "  <tbody>\n",
       "    <tr>\n",
       "      <th id=\"T_c0bd2_level0_row0\" class=\"row_heading level0 row0\" >2018-01-17</th>\n",
       "      <td id=\"T_c0bd2_row0_col0\" class=\"data row0 col0\" >2.39</td>\n",
       "      <td id=\"T_c0bd2_row0_col1\" class=\"data row0 col1\" >2.58</td>\n",
       "    </tr>\n",
       "    <tr>\n",
       "      <th id=\"T_c0bd2_level0_row1\" class=\"row_heading level0 row1\" >2018-01-18</th>\n",
       "      <td id=\"T_c0bd2_row1_col0\" class=\"data row1 col0\" >2.41</td>\n",
       "      <td id=\"T_c0bd2_row1_col1\" class=\"data row1 col1\" >2.61</td>\n",
       "    </tr>\n",
       "    <tr>\n",
       "      <th id=\"T_c0bd2_level0_row2\" class=\"row_heading level0 row2\" >2018-01-19</th>\n",
       "      <td id=\"T_c0bd2_row2_col0\" class=\"data row2 col0\" >2.44</td>\n",
       "      <td id=\"T_c0bd2_row2_col1\" class=\"data row2 col1\" >2.64</td>\n",
       "    </tr>\n",
       "    <tr>\n",
       "      <th id=\"T_c0bd2_level0_row3\" class=\"row_heading level0 row3\" >2018-01-22</th>\n",
       "      <td id=\"T_c0bd2_row3_col0\" class=\"data row3 col0\" >2.46</td>\n",
       "      <td id=\"T_c0bd2_row3_col1\" class=\"data row3 col1\" >2.66</td>\n",
       "    </tr>\n",
       "    <tr>\n",
       "      <th id=\"T_c0bd2_level0_row4\" class=\"row_heading level0 row4\" >2018-01-23</th>\n",
       "      <td id=\"T_c0bd2_row4_col0\" class=\"data row4 col0\" >2.42</td>\n",
       "      <td id=\"T_c0bd2_row4_col1\" class=\"data row4 col1\" >2.62</td>\n",
       "    </tr>\n",
       "  </tbody>\n",
       "</table>\n",
       "&nbsp;&nbsp;&nbsp;<style type=\"text/css\">\n",
       "#T_18492 caption {\n",
       "  background: #333333;\n",
       "  border-radius: 3px;\n",
       "  padding: 5px;\n",
       "  color: white;\n",
       "  font-size: 12px;\n",
       "  font-weight: bold;\n",
       "}\n",
       "</style>\n",
       "<table id=\"T_18492\" style='display:inline-block'>\n",
       "  <caption>tail(5)</caption>\n",
       "  <thead>\n",
       "    <tr>\n",
       "      <th class=\"blank level0\" >&nbsp;</th>\n",
       "      <th id=\"T_18492_level0_col0\" class=\"col_heading level0 col0\" >^FVX</th>\n",
       "      <th id=\"T_18492_level0_col1\" class=\"col_heading level0 col1\" >^TNX</th>\n",
       "    </tr>\n",
       "    <tr>\n",
       "      <th class=\"index_name level0\" >Date</th>\n",
       "      <th class=\"blank col0\" >&nbsp;</th>\n",
       "      <th class=\"blank col1\" >&nbsp;</th>\n",
       "    </tr>\n",
       "  </thead>\n",
       "  <tbody>\n",
       "    <tr>\n",
       "      <th id=\"T_18492_level0_row0\" class=\"row_heading level0 row0\" >2023-01-10</th>\n",
       "      <td id=\"T_18492_row0_col0\" class=\"data row0 col0\" >3.73</td>\n",
       "      <td id=\"T_18492_row0_col1\" class=\"data row0 col1\" >3.62</td>\n",
       "    </tr>\n",
       "    <tr>\n",
       "      <th id=\"T_18492_level0_row1\" class=\"row_heading level0 row1\" >2023-01-11</th>\n",
       "      <td id=\"T_18492_row1_col0\" class=\"data row1 col0\" >3.67</td>\n",
       "      <td id=\"T_18492_row1_col1\" class=\"data row1 col1\" >3.55</td>\n",
       "    </tr>\n",
       "    <tr>\n",
       "      <th id=\"T_18492_level0_row2\" class=\"row_heading level0 row2\" >2023-01-12</th>\n",
       "      <td id=\"T_18492_row2_col0\" class=\"data row2 col0\" >3.55</td>\n",
       "      <td id=\"T_18492_row2_col1\" class=\"data row2 col1\" >3.45</td>\n",
       "    </tr>\n",
       "    <tr>\n",
       "      <th id=\"T_18492_level0_row3\" class=\"row_heading level0 row3\" >2023-01-13</th>\n",
       "      <td id=\"T_18492_row3_col0\" class=\"data row3 col0\" >3.61</td>\n",
       "      <td id=\"T_18492_row3_col1\" class=\"data row3 col1\" >3.51</td>\n",
       "    </tr>\n",
       "    <tr>\n",
       "      <th id=\"T_18492_level0_row4\" class=\"row_heading level0 row4\" >2023-01-17</th>\n",
       "      <td id=\"T_18492_row4_col0\" class=\"data row4 col0\" >3.61</td>\n",
       "      <td id=\"T_18492_row4_col1\" class=\"data row4 col1\" >3.53</td>\n",
       "    </tr>\n",
       "  </tbody>\n",
       "</table>\n",
       "&nbsp;&nbsp;&nbsp;"
      ]
     },
     "metadata": {},
     "output_type": "display_data"
    },
    {
     "name": "stdout",
     "output_type": "stream",
     "text": [
      "\n"
     ]
    }
   ],
   "source": [
    "head_tail_horz(treasury_yields, 5, \"US Treasury Yields: Last 5 Years\")"
   ]
  },
  {
   "cell_type": "code",
   "execution_count": 183,
   "id": "8c45c194-1f39-4a45-bdcf-372007b11150",
   "metadata": {},
   "outputs": [
    {
     "data": {
      "text/html": [
       "<span style = 'display: block; width: 620.0px; \t\t\t\t\t\tline-height: 2; background: #333333;\t\t\t\t\t\tmargin-left: auto; margin-right: auto;\t\t\t\t\t\tborder: 1px solid text_color;\t\t\t\t\t\tborder-radius: 3px; text-align: center;\t\t\t\t\t\tpadding: 3px 8px 3px 8px;'>\t\t\t\t\t\t<b><font size=4><text style=color:white>5 and 10 Year Treasury Bond Yields (13 samples & overall plot)\t\t\t\t\t\t</text></font></b></style>"
      ],
      "text/plain": [
       "<IPython.core.display.HTML object>"
      ]
     },
     "metadata": {},
     "output_type": "display_data"
    },
    {
     "data": {
      "application/vnd.jupyter.widget-view+json": {
       "model_id": "110a97cb8a364eb2b03e88d7fdabef98",
       "version_major": 2,
       "version_minor": 0
      },
      "text/plain": [
       "GridspecLayout(children=(Output(layout=Layout(border='1px solid black', grid_area='widget001')), Output(layout…"
      ]
     },
     "metadata": {},
     "output_type": "display_data"
    }
   ],
   "source": [
    "plot_by_df(treasury_yields, sort_param=\"Date\", num_records=13,\n",
    "\t\t   title = \"5 and 10 Year Treasury Bond Yields\",\n",
    "\t\t  xlabel = \"years\", ylabel = \"yearly percentage profit\", legend_loc = 3,\n",
    "\t\t   cmap = 'spring')"
   ]
  },
  {
   "cell_type": "markdown",
   "id": "5b1d5a24-b20e-4521-a47a-4f1db875f388",
   "metadata": {},
   "source": [
    "<a name = 'ticker_object'></a>\n",
    "\n",
    "---\n",
    "\n",
    "**Sections:**  ●  [Top](#top)  ●  [Download & Import](#downloading_importing)  ●  [Historical Data](#historical_data)  ●  [Setting Date Range](#date_range)  ●  [High Frenquency](#high_frequency)   ●  [Splits & Dividends](#splits_dividends)   ●  [Exporting](#exporting)   ●  [Multiple Stocks](#multiple_stocks)   ●  [Importing Indexes](#importing_indexes)   ●  [Currency Exchange](#currency_exchange)   ●  [Cryptocurrencies](#cryptocurrencies)   ●  [Mutual & Exchange Traded Funds](#mututal_funds)   ●  [Treasury Yields](#treasury_yields)   ●  [Ticker Object & Docs](#ticker_object)   ●  [Stock Fundamentals](#stock_fundamentals)   ●  [Importing Financials](#importing_financials)   ●  [Importing Put & Call](#put_call)   ●  [Streaming Real-Time](#streaming_real_time)   ●\n",
    "\n",
    "---\n",
    "\n",
    "<span style = 'background-color: purple; padding: 5px 5px 3px 5px; line-height: 1.5; color:white;border-radius: 3px;'><font size = 4>**▻ The Ticker Object**</font></span>"
   ]
  },
  {
   "cell_type": "code",
   "execution_count": 81,
   "id": "ef4dbc11-6225-4be5-8d08-797b875e1212",
   "metadata": {},
   "outputs": [],
   "source": [
    "import_all()"
   ]
  },
  {
   "cell_type": "markdown",
   "id": "55b240e7-cb8b-4f17-aec7-2d6dcda4b182",
   "metadata": {},
   "source": [
    "<font size = 4><span style = 'background-color: #ddddff; padding: 5px 5px 3px 5px; line-height: 1.5; color:black;border-radius: 3px;'>Aside from the method of using `yfinance.download()`, it is also possible to get historical stock data using a **ticker object** using `yf.Ticker()`. With this method, it is possible to also retrieve:\n",
    "* <font size = 4>fundamental stock data\n",
    "* <font size = 4>performance metrics\n",
    "* <font size = 4>balance sheets\n",
    "* <font size = 4>profit and loss statements\n",
    "* <font size = 4>cashflow statements\n",
    "\t\n",
    "\t\n",
    "<font size = 4><span style = 'background-color: #ddddff; padding: 5px 5px 3px 5px; line-height: 1.5; color:black;border-radius: 3px;'>Using **Disney** stock for this section: "
   ]
  },
  {
   "cell_type": "code",
   "execution_count": 82,
   "id": "e7e3be1c-9762-4408-84cd-bcd5e567566b",
   "metadata": {},
   "outputs": [
    {
     "data": {
      "text/plain": [
       "yfinance.Ticker object <DIS>"
      ]
     },
     "execution_count": 82,
     "metadata": {},
     "output_type": "execute_result"
    }
   ],
   "source": [
    "ticker = \"DIS\"\n",
    "disney = yf.Ticker(ticker)\n",
    "disney"
   ]
  },
  {
   "cell_type": "markdown",
   "id": "50c196d8-c62c-4ddb-8080-a1eb2766b8b1",
   "metadata": {},
   "source": [
    "<font size = 4><span style = 'background-color: #ddddff; padding: 5px 5px 3px 5px; line-height: 1.5; color:black;border-radius: 3px;'>⊛ `yf.Ticker.history()` does not contain the adjusted close data, because **the close prices are adjusted for dividends and stock splits by default**.<br>`yf.download()` is the better option for getting simple historical price data."
   ]
  },
  {
   "cell_type": "code",
   "execution_count": 83,
   "id": "720450de-a190-42c5-93c3-cc4387202fdd",
   "metadata": {},
   "outputs": [
    {
     "data": {
      "text/html": [
       "<span style = 'display: block; width: 240.0px; \t\t\t\t\t\tline-height: 2; background: #333333;\t\t\t\t\t\tmargin-left: auto; margin-right: auto;\t\t\t\t\t\tborder: 1px solid text_color;\t\t\t\t\t\tborder-radius: 3px; text-align: center;\t\t\t\t\t\tpadding: 3px 8px 3px 8px;'>\t\t\t\t\t\t<b><font size=4><text style=color:white>Historical Disney Prices\t\t\t\t\t\t</text></font></b></style>"
      ],
      "text/plain": [
       "<IPython.core.display.HTML object>"
      ]
     },
     "metadata": {},
     "output_type": "display_data"
    },
    {
     "data": {
      "text/html": [
       "<center><style type=\"text/css\">\n",
       "#T_467c1 caption {\n",
       "  background: #333333;\n",
       "  border-radius: 3px;\n",
       "  padding: 5px;\n",
       "  color: white;\n",
       "  font-size: 12px;\n",
       "  font-weight: bold;\n",
       "}\n",
       "</style>\n",
       "<table id=\"T_467c1\" style='display:inline-block'>\n",
       "  <caption>head(5)</caption>\n",
       "  <thead>\n",
       "    <tr>\n",
       "      <th class=\"blank level0\" >&nbsp;</th>\n",
       "      <th id=\"T_467c1_level0_col0\" class=\"col_heading level0 col0\" >Open</th>\n",
       "      <th id=\"T_467c1_level0_col1\" class=\"col_heading level0 col1\" >High</th>\n",
       "      <th id=\"T_467c1_level0_col2\" class=\"col_heading level0 col2\" >Low</th>\n",
       "      <th id=\"T_467c1_level0_col3\" class=\"col_heading level0 col3\" >Close</th>\n",
       "      <th id=\"T_467c1_level0_col4\" class=\"col_heading level0 col4\" >Volume</th>\n",
       "      <th id=\"T_467c1_level0_col5\" class=\"col_heading level0 col5\" >Dividends</th>\n",
       "      <th id=\"T_467c1_level0_col6\" class=\"col_heading level0 col6\" >Stock Splits</th>\n",
       "    </tr>\n",
       "    <tr>\n",
       "      <th class=\"index_name level0\" >Date</th>\n",
       "      <th class=\"blank col0\" >&nbsp;</th>\n",
       "      <th class=\"blank col1\" >&nbsp;</th>\n",
       "      <th class=\"blank col2\" >&nbsp;</th>\n",
       "      <th class=\"blank col3\" >&nbsp;</th>\n",
       "      <th class=\"blank col4\" >&nbsp;</th>\n",
       "      <th class=\"blank col5\" >&nbsp;</th>\n",
       "      <th class=\"blank col6\" >&nbsp;</th>\n",
       "    </tr>\n",
       "  </thead>\n",
       "  <tbody>\n",
       "    <tr>\n",
       "      <th id=\"T_467c1_level0_row0\" class=\"row_heading level0 row0\" >2022-12-19</th>\n",
       "      <td id=\"T_467c1_row0_col0\" class=\"data row0 col0\" >89.44</td>\n",
       "      <td id=\"T_467c1_row0_col1\" class=\"data row0 col1\" >89.46</td>\n",
       "      <td id=\"T_467c1_row0_col2\" class=\"data row0 col2\" >85.41</td>\n",
       "      <td id=\"T_467c1_row0_col3\" class=\"data row0 col3\" >85.78</td>\n",
       "      <td id=\"T_467c1_row0_col4\" class=\"data row0 col4\" >19,225,300</td>\n",
       "      <td id=\"T_467c1_row0_col5\" class=\"data row0 col5\" >0.00</td>\n",
       "      <td id=\"T_467c1_row0_col6\" class=\"data row0 col6\" >0.00</td>\n",
       "    </tr>\n",
       "    <tr>\n",
       "      <th id=\"T_467c1_level0_row1\" class=\"row_heading level0 row1\" >2022-12-20</th>\n",
       "      <td id=\"T_467c1_row1_col0\" class=\"data row1 col0\" >86.08</td>\n",
       "      <td id=\"T_467c1_row1_col1\" class=\"data row1 col1\" >87.84</td>\n",
       "      <td id=\"T_467c1_row1_col2\" class=\"data row1 col2\" >85.76</td>\n",
       "      <td id=\"T_467c1_row1_col3\" class=\"data row1 col3\" >87.02</td>\n",
       "      <td id=\"T_467c1_row1_col4\" class=\"data row1 col4\" >14,918,400</td>\n",
       "      <td id=\"T_467c1_row1_col5\" class=\"data row1 col5\" >0.00</td>\n",
       "      <td id=\"T_467c1_row1_col6\" class=\"data row1 col6\" >0.00</td>\n",
       "    </tr>\n",
       "    <tr>\n",
       "      <th id=\"T_467c1_level0_row2\" class=\"row_heading level0 row2\" >2022-12-21</th>\n",
       "      <td id=\"T_467c1_row2_col0\" class=\"data row2 col0\" >87.19</td>\n",
       "      <td id=\"T_467c1_row2_col1\" class=\"data row2 col1\" >88.10</td>\n",
       "      <td id=\"T_467c1_row2_col2\" class=\"data row2 col2\" >86.48</td>\n",
       "      <td id=\"T_467c1_row2_col3\" class=\"data row2 col3\" >86.92</td>\n",
       "      <td id=\"T_467c1_row2_col4\" class=\"data row2 col4\" >11,004,800</td>\n",
       "      <td id=\"T_467c1_row2_col5\" class=\"data row2 col5\" >0.00</td>\n",
       "      <td id=\"T_467c1_row2_col6\" class=\"data row2 col6\" >0.00</td>\n",
       "    </tr>\n",
       "    <tr>\n",
       "      <th id=\"T_467c1_level0_row3\" class=\"row_heading level0 row3\" >2022-12-22</th>\n",
       "      <td id=\"T_467c1_row3_col0\" class=\"data row3 col0\" >86.03</td>\n",
       "      <td id=\"T_467c1_row3_col1\" class=\"data row3 col1\" >86.73</td>\n",
       "      <td id=\"T_467c1_row3_col2\" class=\"data row3 col2\" >84.69</td>\n",
       "      <td id=\"T_467c1_row3_col3\" class=\"data row3 col3\" >86.67</td>\n",
       "      <td id=\"T_467c1_row3_col4\" class=\"data row3 col4\" >15,487,400</td>\n",
       "      <td id=\"T_467c1_row3_col5\" class=\"data row3 col5\" >0.00</td>\n",
       "      <td id=\"T_467c1_row3_col6\" class=\"data row3 col6\" >0.00</td>\n",
       "    </tr>\n",
       "    <tr>\n",
       "      <th id=\"T_467c1_level0_row4\" class=\"row_heading level0 row4\" >2022-12-23</th>\n",
       "      <td id=\"T_467c1_row4_col0\" class=\"data row4 col0\" >86.06</td>\n",
       "      <td id=\"T_467c1_row4_col1\" class=\"data row4 col1\" >88.07</td>\n",
       "      <td id=\"T_467c1_row4_col2\" class=\"data row4 col2\" >85.77</td>\n",
       "      <td id=\"T_467c1_row4_col3\" class=\"data row4 col3\" >88.01</td>\n",
       "      <td id=\"T_467c1_row4_col4\" class=\"data row4 col4\" >11,171,600</td>\n",
       "      <td id=\"T_467c1_row4_col5\" class=\"data row4 col5\" >0.00</td>\n",
       "      <td id=\"T_467c1_row4_col6\" class=\"data row4 col6\" >0.00</td>\n",
       "    </tr>\n",
       "  </tbody>\n",
       "</table>\n",
       "&nbsp;&nbsp;&nbsp;<style type=\"text/css\">\n",
       "#T_b7aa6 caption {\n",
       "  background: #333333;\n",
       "  border-radius: 3px;\n",
       "  padding: 5px;\n",
       "  color: white;\n",
       "  font-size: 12px;\n",
       "  font-weight: bold;\n",
       "}\n",
       "</style>\n",
       "<table id=\"T_b7aa6\" style='display:inline-block'>\n",
       "  <caption>tail(5)</caption>\n",
       "  <thead>\n",
       "    <tr>\n",
       "      <th class=\"blank level0\" >&nbsp;</th>\n",
       "      <th id=\"T_b7aa6_level0_col0\" class=\"col_heading level0 col0\" >Open</th>\n",
       "      <th id=\"T_b7aa6_level0_col1\" class=\"col_heading level0 col1\" >High</th>\n",
       "      <th id=\"T_b7aa6_level0_col2\" class=\"col_heading level0 col2\" >Low</th>\n",
       "      <th id=\"T_b7aa6_level0_col3\" class=\"col_heading level0 col3\" >Close</th>\n",
       "      <th id=\"T_b7aa6_level0_col4\" class=\"col_heading level0 col4\" >Volume</th>\n",
       "      <th id=\"T_b7aa6_level0_col5\" class=\"col_heading level0 col5\" >Dividends</th>\n",
       "      <th id=\"T_b7aa6_level0_col6\" class=\"col_heading level0 col6\" >Stock Splits</th>\n",
       "    </tr>\n",
       "    <tr>\n",
       "      <th class=\"index_name level0\" >Date</th>\n",
       "      <th class=\"blank col0\" >&nbsp;</th>\n",
       "      <th class=\"blank col1\" >&nbsp;</th>\n",
       "      <th class=\"blank col2\" >&nbsp;</th>\n",
       "      <th class=\"blank col3\" >&nbsp;</th>\n",
       "      <th class=\"blank col4\" >&nbsp;</th>\n",
       "      <th class=\"blank col5\" >&nbsp;</th>\n",
       "      <th class=\"blank col6\" >&nbsp;</th>\n",
       "    </tr>\n",
       "  </thead>\n",
       "  <tbody>\n",
       "    <tr>\n",
       "      <th id=\"T_b7aa6_level0_row0\" class=\"row_heading level0 row0\" >2023-01-10</th>\n",
       "      <td id=\"T_b7aa6_row0_col0\" class=\"data row0 col0\" >94.28</td>\n",
       "      <td id=\"T_b7aa6_row0_col1\" class=\"data row0 col1\" >95.64</td>\n",
       "      <td id=\"T_b7aa6_row0_col2\" class=\"data row0 col2\" >93.82</td>\n",
       "      <td id=\"T_b7aa6_row0_col3\" class=\"data row0 col3\" >95.56</td>\n",
       "      <td id=\"T_b7aa6_row0_col4\" class=\"data row0 col4\" >6,914,600</td>\n",
       "      <td id=\"T_b7aa6_row0_col5\" class=\"data row0 col5\" >0.00</td>\n",
       "      <td id=\"T_b7aa6_row0_col6\" class=\"data row0 col6\" >0.00</td>\n",
       "    </tr>\n",
       "    <tr>\n",
       "      <th id=\"T_b7aa6_level0_row1\" class=\"row_heading level0 row1\" >2023-01-11</th>\n",
       "      <td id=\"T_b7aa6_row1_col0\" class=\"data row1 col0\" >95.92</td>\n",
       "      <td id=\"T_b7aa6_row1_col1\" class=\"data row1 col1\" >96.55</td>\n",
       "      <td id=\"T_b7aa6_row1_col2\" class=\"data row1 col2\" >95.05</td>\n",
       "      <td id=\"T_b7aa6_row1_col3\" class=\"data row1 col3\" >96.33</td>\n",
       "      <td id=\"T_b7aa6_row1_col4\" class=\"data row1 col4\" >8,757,300</td>\n",
       "      <td id=\"T_b7aa6_row1_col5\" class=\"data row1 col5\" >0.00</td>\n",
       "      <td id=\"T_b7aa6_row1_col6\" class=\"data row1 col6\" >0.00</td>\n",
       "    </tr>\n",
       "    <tr>\n",
       "      <th id=\"T_b7aa6_level0_row2\" class=\"row_heading level0 row2\" >2023-01-12</th>\n",
       "      <td id=\"T_b7aa6_row2_col0\" class=\"data row2 col0\" >98.50</td>\n",
       "      <td id=\"T_b7aa6_row2_col1\" class=\"data row2 col1\" >100.63</td>\n",
       "      <td id=\"T_b7aa6_row2_col2\" class=\"data row2 col2\" >97.57</td>\n",
       "      <td id=\"T_b7aa6_row2_col3\" class=\"data row2 col3\" >99.81</td>\n",
       "      <td id=\"T_b7aa6_row2_col4\" class=\"data row2 col4\" >19,764,300</td>\n",
       "      <td id=\"T_b7aa6_row2_col5\" class=\"data row2 col5\" >0.00</td>\n",
       "      <td id=\"T_b7aa6_row2_col6\" class=\"data row2 col6\" >0.00</td>\n",
       "    </tr>\n",
       "    <tr>\n",
       "      <th id=\"T_b7aa6_level0_row3\" class=\"row_heading level0 row3\" >2023-01-13</th>\n",
       "      <td id=\"T_b7aa6_row3_col0\" class=\"data row3 col0\" >99.38</td>\n",
       "      <td id=\"T_b7aa6_row3_col1\" class=\"data row3 col1\" >99.60</td>\n",
       "      <td id=\"T_b7aa6_row3_col2\" class=\"data row3 col2\" >98.01</td>\n",
       "      <td id=\"T_b7aa6_row3_col3\" class=\"data row3 col3\" >99.40</td>\n",
       "      <td id=\"T_b7aa6_row3_col4\" class=\"data row3 col4\" >12,220,500</td>\n",
       "      <td id=\"T_b7aa6_row3_col5\" class=\"data row3 col5\" >0.00</td>\n",
       "      <td id=\"T_b7aa6_row3_col6\" class=\"data row3 col6\" >0.00</td>\n",
       "    </tr>\n",
       "    <tr>\n",
       "      <th id=\"T_b7aa6_level0_row4\" class=\"row_heading level0 row4\" >2023-01-17</th>\n",
       "      <td id=\"T_b7aa6_row4_col0\" class=\"data row4 col0\" >100.32</td>\n",
       "      <td id=\"T_b7aa6_row4_col1\" class=\"data row4 col1\" >100.99</td>\n",
       "      <td id=\"T_b7aa6_row4_col2\" class=\"data row4 col2\" >99.00</td>\n",
       "      <td id=\"T_b7aa6_row4_col3\" class=\"data row4 col3\" >99.91</td>\n",
       "      <td id=\"T_b7aa6_row4_col4\" class=\"data row4 col4\" >14,846,891</td>\n",
       "      <td id=\"T_b7aa6_row4_col5\" class=\"data row4 col5\" >0.00</td>\n",
       "      <td id=\"T_b7aa6_row4_col6\" class=\"data row4 col6\" >0.00</td>\n",
       "    </tr>\n",
       "  </tbody>\n",
       "</table>\n",
       "&nbsp;&nbsp;&nbsp;"
      ]
     },
     "metadata": {},
     "output_type": "display_data"
    },
    {
     "name": "stdout",
     "output_type": "stream",
     "text": [
      "\n"
     ]
    }
   ],
   "source": [
    "head_tail_horz(disney.history(), 5, \"Historical Disney Prices\")"
   ]
  },
  {
   "cell_type": "markdown",
   "id": "db9003ca-49db-4dbf-aeee-bb0d566d2aa1",
   "metadata": {},
   "source": [
    "<font size = 4><span style = 'background-color: #ddddff; padding: 5px 5px 3px 5px; line-height: 1.5; color:black;border-radius: 3px;'>More `yf.Ticker` functions along with others from documentation:"
   ]
  },
  {
   "cell_type": "code",
   "execution_count": 3,
   "id": "b0118a10-986e-4bc5-b552-8ccd8332717f",
   "metadata": {},
   "outputs": [],
   "source": [
    "msft = yf.Ticker(\"MSFT\")"
   ]
  },
  {
   "cell_type": "markdown",
   "id": "24fc2f2e-a9ed-49b9-b320-3b7862ba7bd4",
   "metadata": {},
   "source": [
    "<font size = 4><span style = 'background-color: #ddddff; padding: 5px 5px 3px 5px; line-height: 1.5; color:black;border-radius: 3px;'>**.history()**"
   ]
  },
  {
   "cell_type": "code",
   "execution_count": 4,
   "id": "9306e535-0d84-4eef-86ef-e891fffe4e9a",
   "metadata": {},
   "outputs": [
    {
     "name": "stdout",
     "output_type": "stream",
     "text": [
      "\n"
     ]
    },
    {
     "data": {
      "text/html": [
       "<span style = 'display: block; width: 260.0px; \t\t\t\t\t\tline-height: 2; background: #333333;\t\t\t\t\t\tmargin-left: auto; margin-right: auto;\t\t\t\t\t\tborder: 1px solid text_color;\t\t\t\t\t\tborder-radius: 3px; text-align: center;\t\t\t\t\t\tpadding: 3px 8px 3px 8px;'>\t\t\t\t\t\t<b><font size=4><text style=color:white>microsoft history: head(5)\t\t\t\t\t\t</text></font></b></style>"
      ],
      "text/plain": [
       "<IPython.core.display.HTML object>"
      ]
     },
     "metadata": {},
     "output_type": "display_data"
    },
    {
     "data": {
      "text/html": [
       "<center><table border=\"1\" class=\"dataframe\">\n",
       "  <thead>\n",
       "    <tr style=\"text-align: right;\">\n",
       "      <th></th>\n",
       "      <th>Open</th>\n",
       "      <th>High</th>\n",
       "      <th>Low</th>\n",
       "      <th>Close</th>\n",
       "      <th>Volume</th>\n",
       "      <th>Dividends</th>\n",
       "      <th>Stock Splits</th>\n",
       "    </tr>\n",
       "    <tr>\n",
       "      <th>Date</th>\n",
       "      <th></th>\n",
       "      <th></th>\n",
       "      <th></th>\n",
       "      <th></th>\n",
       "      <th></th>\n",
       "      <th></th>\n",
       "      <th></th>\n",
       "    </tr>\n",
       "  </thead>\n",
       "  <tbody>\n",
       "    <tr>\n",
       "      <th>1986-03-13</th>\n",
       "      <td>0.06</td>\n",
       "      <td>0.06</td>\n",
       "      <td>0.06</td>\n",
       "      <td>0.06</td>\n",
       "      <td>1031788800</td>\n",
       "      <td>0.00</td>\n",
       "      <td>0.00</td>\n",
       "    </tr>\n",
       "    <tr>\n",
       "      <th>1986-03-14</th>\n",
       "      <td>0.06</td>\n",
       "      <td>0.06</td>\n",
       "      <td>0.06</td>\n",
       "      <td>0.06</td>\n",
       "      <td>308160000</td>\n",
       "      <td>0.00</td>\n",
       "      <td>0.00</td>\n",
       "    </tr>\n",
       "    <tr>\n",
       "      <th>1986-03-17</th>\n",
       "      <td>0.06</td>\n",
       "      <td>0.06</td>\n",
       "      <td>0.06</td>\n",
       "      <td>0.06</td>\n",
       "      <td>133171200</td>\n",
       "      <td>0.00</td>\n",
       "      <td>0.00</td>\n",
       "    </tr>\n",
       "    <tr>\n",
       "      <th>1986-03-18</th>\n",
       "      <td>0.06</td>\n",
       "      <td>0.06</td>\n",
       "      <td>0.06</td>\n",
       "      <td>0.06</td>\n",
       "      <td>67766400</td>\n",
       "      <td>0.00</td>\n",
       "      <td>0.00</td>\n",
       "    </tr>\n",
       "    <tr>\n",
       "      <th>1986-03-19</th>\n",
       "      <td>0.06</td>\n",
       "      <td>0.06</td>\n",
       "      <td>0.06</td>\n",
       "      <td>0.06</td>\n",
       "      <td>47894400</td>\n",
       "      <td>0.00</td>\n",
       "      <td>0.00</td>\n",
       "    </tr>\n",
       "  </tbody>\n",
       "</table>"
      ],
      "text/plain": [
       "<IPython.core.display.HTML object>"
      ]
     },
     "metadata": {},
     "output_type": "display_data"
    },
    {
     "name": "stdout",
     "output_type": "stream",
     "text": [
      "\n"
     ]
    },
    {
     "data": {
      "text/html": [
       "<span style = 'display: block; width: 260.0px; \t\t\t\t\t\tline-height: 2; background: #333333;\t\t\t\t\t\tmargin-left: auto; margin-right: auto;\t\t\t\t\t\tborder: 1px solid text_color;\t\t\t\t\t\tborder-radius: 3px; text-align: center;\t\t\t\t\t\tpadding: 3px 8px 3px 8px;'>\t\t\t\t\t\t<b><font size=4><text style=color:white>microsoft history: tail(5)\t\t\t\t\t\t</text></font></b></style>"
      ],
      "text/plain": [
       "<IPython.core.display.HTML object>"
      ]
     },
     "metadata": {},
     "output_type": "display_data"
    },
    {
     "data": {
      "text/html": [
       "<center><table border=\"1\" class=\"dataframe\">\n",
       "  <thead>\n",
       "    <tr style=\"text-align: right;\">\n",
       "      <th></th>\n",
       "      <th>Open</th>\n",
       "      <th>High</th>\n",
       "      <th>Low</th>\n",
       "      <th>Close</th>\n",
       "      <th>Volume</th>\n",
       "      <th>Dividends</th>\n",
       "      <th>Stock Splits</th>\n",
       "    </tr>\n",
       "    <tr>\n",
       "      <th>Date</th>\n",
       "      <th></th>\n",
       "      <th></th>\n",
       "      <th></th>\n",
       "      <th></th>\n",
       "      <th></th>\n",
       "      <th></th>\n",
       "      <th></th>\n",
       "    </tr>\n",
       "  </thead>\n",
       "  <tbody>\n",
       "    <tr>\n",
       "      <th>2023-01-11</th>\n",
       "      <td>231.29</td>\n",
       "      <td>235.95</td>\n",
       "      <td>231.11</td>\n",
       "      <td>235.77</td>\n",
       "      <td>28669300</td>\n",
       "      <td>0.00</td>\n",
       "      <td>0.00</td>\n",
       "    </tr>\n",
       "    <tr>\n",
       "      <th>2023-01-12</th>\n",
       "      <td>235.26</td>\n",
       "      <td>239.90</td>\n",
       "      <td>233.56</td>\n",
       "      <td>238.51</td>\n",
       "      <td>27269500</td>\n",
       "      <td>0.00</td>\n",
       "      <td>0.00</td>\n",
       "    </tr>\n",
       "    <tr>\n",
       "      <th>2023-01-13</th>\n",
       "      <td>237.00</td>\n",
       "      <td>239.37</td>\n",
       "      <td>234.92</td>\n",
       "      <td>239.23</td>\n",
       "      <td>21317700</td>\n",
       "      <td>0.00</td>\n",
       "      <td>0.00</td>\n",
       "    </tr>\n",
       "    <tr>\n",
       "      <th>2023-01-17</th>\n",
       "      <td>237.97</td>\n",
       "      <td>240.91</td>\n",
       "      <td>237.09</td>\n",
       "      <td>240.35</td>\n",
       "      <td>29781200</td>\n",
       "      <td>0.00</td>\n",
       "      <td>0.00</td>\n",
       "    </tr>\n",
       "    <tr>\n",
       "      <th>2023-01-18</th>\n",
       "      <td>241.57</td>\n",
       "      <td>242.38</td>\n",
       "      <td>236.26</td>\n",
       "      <td>237.09</td>\n",
       "      <td>17433153</td>\n",
       "      <td>0.00</td>\n",
       "      <td>0.00</td>\n",
       "    </tr>\n",
       "  </tbody>\n",
       "</table>"
      ],
      "text/plain": [
       "<IPython.core.display.HTML object>"
      ]
     },
     "metadata": {},
     "output_type": "display_data"
    },
    {
     "name": "stdout",
     "output_type": "stream",
     "text": [
      "\n"
     ]
    }
   ],
   "source": [
    "# get historical market data\n",
    "hist = msft.history(period=\"max\")\n",
    "head_tail_vert(hist, 5, 'microsoft history')"
   ]
  },
  {
   "cell_type": "markdown",
   "id": "c81860d3-7dba-463f-8e61-391fa456c40f",
   "metadata": {},
   "source": [
    "<font size = 4><span style = 'background-color: #ddddff; padding: 5px 5px 3px 5px; line-height: 1.5; color:black;border-radius: 3px;'>**.history_metadata()**"
   ]
  },
  {
   "cell_type": "code",
   "execution_count": 86,
   "id": "43ba53ca-bec0-4713-a85d-a00e2cc6908d",
   "metadata": {},
   "outputs": [
    {
     "data": {
      "text/plain": [
       "{'currency': 'USD',\n",
       " 'symbol': 'MSFT',\n",
       " 'exchangeName': 'NMS',\n",
       " 'instrumentType': 'EQUITY',\n",
       " 'firstTradeDate': 511108200,\n",
       " 'regularMarketTime': 1673989204,\n",
       " 'gmtoffset': -18000,\n",
       " 'timezone': 'EST',\n",
       " 'exchangeTimezoneName': 'America/New_York',\n",
       " 'regularMarketPrice': 240.35,\n",
       " 'chartPreviousClose': 0.097,\n",
       " 'priceHint': 2,\n",
       " 'currentTradingPeriod': {'pre': {'timezone': 'EST',\n",
       "   'start': 1673946000,\n",
       "   'end': 1673965800,\n",
       "   'gmtoffset': -18000},\n",
       "  'regular': {'timezone': 'EST',\n",
       "   'start': 1673965800,\n",
       "   'end': 1673989200,\n",
       "   'gmtoffset': -18000},\n",
       "  'post': {'timezone': 'EST',\n",
       "   'start': 1673989200,\n",
       "   'end': 1674003600,\n",
       "   'gmtoffset': -18000}},\n",
       " 'dataGranularity': '1d',\n",
       " 'range': '',\n",
       " 'validRanges': ['1d',\n",
       "  '5d',\n",
       "  '1mo',\n",
       "  '3mo',\n",
       "  '6mo',\n",
       "  '1y',\n",
       "  '2y',\n",
       "  '5y',\n",
       "  '10y',\n",
       "  'ytd',\n",
       "  'max']}"
      ]
     },
     "execution_count": 86,
     "metadata": {},
     "output_type": "execute_result"
    }
   ],
   "source": [
    "# show meta information about the history (requires history() to be called first)\n",
    "msft.history_metadata"
   ]
  },
  {
   "cell_type": "markdown",
   "id": "b020d46f-64d6-424a-aeac-9772a3533110",
   "metadata": {},
   "source": [
    "<font size = 4><span style = 'background-color: #ddddff; padding: 5px 5px 3px 5px; line-height: 1.5; color:black;border-radius: 3px;'>**.actions**"
   ]
  },
  {
   "cell_type": "code",
   "execution_count": 87,
   "id": "cfe113ef-d63a-4c2b-a3d3-96ed992ec300",
   "metadata": {},
   "outputs": [
    {
     "data": {
      "text/html": [
       "<span style = 'display: block; width: 430.0px; \t\t\t\t\t\tline-height: 2; background: #333333;\t\t\t\t\t\tmargin-left: auto; margin-right: auto;\t\t\t\t\t\tborder: 1px solid text_color;\t\t\t\t\t\tborder-radius: 3px; text-align: center;\t\t\t\t\t\tpadding: 3px 8px 3px 8px;'>\t\t\t\t\t\t<b><font size=4><text style=color:white>msft.actions.sample(10).sort_values(\"Date\")\t\t\t\t\t\t</text></font></b></style>"
      ],
      "text/plain": [
       "<IPython.core.display.HTML object>"
      ]
     },
     "metadata": {},
     "output_type": "display_data"
    },
    {
     "data": {
      "text/html": [
       "<center><table border=\"1\" class=\"dataframe\">\n",
       "  <thead>\n",
       "    <tr style=\"text-align: right;\">\n",
       "      <th></th>\n",
       "      <th>Dividends</th>\n",
       "      <th>Stock Splits</th>\n",
       "    </tr>\n",
       "    <tr>\n",
       "      <th>Date</th>\n",
       "      <th></th>\n",
       "      <th></th>\n",
       "    </tr>\n",
       "  </thead>\n",
       "  <tbody>\n",
       "    <tr>\n",
       "      <th>1990-04-16</th>\n",
       "      <td>0.00</td>\n",
       "      <td>2.00</td>\n",
       "    </tr>\n",
       "    <tr>\n",
       "      <th>1994-05-23</th>\n",
       "      <td>0.00</td>\n",
       "      <td>2.00</td>\n",
       "    </tr>\n",
       "    <tr>\n",
       "      <th>2003-02-18</th>\n",
       "      <td>0.00</td>\n",
       "      <td>2.00</td>\n",
       "    </tr>\n",
       "    <tr>\n",
       "      <th>2006-05-15</th>\n",
       "      <td>0.09</td>\n",
       "      <td>0.00</td>\n",
       "    </tr>\n",
       "    <tr>\n",
       "      <th>2010-08-17</th>\n",
       "      <td>0.13</td>\n",
       "      <td>0.00</td>\n",
       "    </tr>\n",
       "    <tr>\n",
       "      <th>2011-08-16</th>\n",
       "      <td>0.16</td>\n",
       "      <td>0.00</td>\n",
       "    </tr>\n",
       "    <tr>\n",
       "      <th>2014-11-18</th>\n",
       "      <td>0.31</td>\n",
       "      <td>0.00</td>\n",
       "    </tr>\n",
       "    <tr>\n",
       "      <th>2015-11-17</th>\n",
       "      <td>0.36</td>\n",
       "      <td>0.00</td>\n",
       "    </tr>\n",
       "    <tr>\n",
       "      <th>2018-02-14</th>\n",
       "      <td>0.42</td>\n",
       "      <td>0.00</td>\n",
       "    </tr>\n",
       "    <tr>\n",
       "      <th>2019-05-15</th>\n",
       "      <td>0.46</td>\n",
       "      <td>0.00</td>\n",
       "    </tr>\n",
       "  </tbody>\n",
       "</table>"
      ],
      "text/plain": [
       "<IPython.core.display.HTML object>"
      ]
     },
     "metadata": {},
     "output_type": "display_data"
    },
    {
     "name": "stdout",
     "output_type": "stream",
     "text": [
      "\n"
     ]
    }
   ],
   "source": [
    "# show actions (dividends, splits, capital gains)\n",
    "see(msft.actions.sample(10).sort_values(\"Date\"), 'msft.actions.sample(10).sort_values(\"Date\")')"
   ]
  },
  {
   "cell_type": "markdown",
   "id": "47d4050c-fd8e-46a9-85d8-eb8aa86783f2",
   "metadata": {},
   "source": [
    "<font size = 4><span style = 'background-color: #ddddff; padding: 5px 5px 3px 5px; line-height: 1.5; color:black;border-radius: 3px;'>**.analyst_price_target**"
   ]
  },
  {
   "cell_type": "code",
   "execution_count": 88,
   "id": "3ef9cb25-fb6b-4de1-8ec7-37dff0ab9424",
   "metadata": {},
   "outputs": [
    {
     "data": {
      "text/html": [
       "<span style = 'display: block; width: 250.0px; \t\t\t\t\t\tline-height: 2; background: #333333;\t\t\t\t\t\tmargin-left: auto; margin-right: auto;\t\t\t\t\t\tborder: 1px solid text_color;\t\t\t\t\t\tborder-radius: 3px; text-align: center;\t\t\t\t\t\tpadding: 3px 8px 3px 8px;'>\t\t\t\t\t\t<b><font size=4><text style=color:white>msft.analyst_price_target\t\t\t\t\t\t</text></font></b></style>"
      ],
      "text/plain": [
       "<IPython.core.display.HTML object>"
      ]
     },
     "metadata": {},
     "output_type": "display_data"
    },
    {
     "data": {
      "text/html": [
       "<center><table border=\"1\" class=\"dataframe\">\n",
       "  <thead>\n",
       "    <tr style=\"text-align: right;\">\n",
       "      <th></th>\n",
       "      <th>0</th>\n",
       "    </tr>\n",
       "  </thead>\n",
       "  <tbody>\n",
       "    <tr>\n",
       "      <th>targetLowPrice</th>\n",
       "      <td>234.00</td>\n",
       "    </tr>\n",
       "    <tr>\n",
       "      <th>currentPrice</th>\n",
       "      <td>240.35</td>\n",
       "    </tr>\n",
       "    <tr>\n",
       "      <th>targetMeanPrice</th>\n",
       "      <td>293.77</td>\n",
       "    </tr>\n",
       "    <tr>\n",
       "      <th>targetHighPrice</th>\n",
       "      <td>411.00</td>\n",
       "    </tr>\n",
       "    <tr>\n",
       "      <th>numberOfAnalystOpinions</th>\n",
       "      <td>47.00</td>\n",
       "    </tr>\n",
       "  </tbody>\n",
       "</table>"
      ],
      "text/plain": [
       "<IPython.core.display.HTML object>"
      ]
     },
     "metadata": {},
     "output_type": "display_data"
    },
    {
     "name": "stdout",
     "output_type": "stream",
     "text": [
      "\n"
     ]
    }
   ],
   "source": [
    "see(msft.analyst_price_target, 'msft.analyst_price_target')"
   ]
  },
  {
   "cell_type": "markdown",
   "id": "c619ea64-9e46-4d2f-8d1d-a13afca3c297",
   "metadata": {},
   "source": [
    "<font size = 4><span style = 'background-color: #ddddff; padding: 5px 5px 3px 5px; line-height: 1.5; color:black;border-radius: 3px;'>**.balance_sheet**"
   ]
  },
  {
   "cell_type": "code",
   "execution_count": 89,
   "id": "37d96eee-7f7e-4dac-89de-c7c219c281ac",
   "metadata": {},
   "outputs": [
    {
     "data": {
      "text/html": [
       "<span style = 'display: block; width: 270.0px; \t\t\t\t\t\tline-height: 2; background: #333333;\t\t\t\t\t\tmargin-left: auto; margin-right: auto;\t\t\t\t\t\tborder: 1px solid text_color;\t\t\t\t\t\tborder-radius: 3px; text-align: center;\t\t\t\t\t\tpadding: 3px 8px 3px 8px;'>\t\t\t\t\t\t<b><font size=4><text style=color:white>msft.balance_sheet.head(10)\t\t\t\t\t\t</text></font></b></style>"
      ],
      "text/plain": [
       "<IPython.core.display.HTML object>"
      ]
     },
     "metadata": {},
     "output_type": "display_data"
    },
    {
     "data": {
      "text/html": [
       "<center><table border=\"1\" class=\"dataframe\">\n",
       "  <thead>\n",
       "    <tr style=\"text-align: right;\">\n",
       "      <th></th>\n",
       "      <th>2022-06-30 00:00:00</th>\n",
       "      <th>2021-06-30 00:00:00</th>\n",
       "      <th>2020-06-30 00:00:00</th>\n",
       "      <th>2019-06-30 00:00:00</th>\n",
       "    </tr>\n",
       "  </thead>\n",
       "  <tbody>\n",
       "    <tr>\n",
       "      <th>Total Assets</th>\n",
       "      <td>364,840,000,000.00</td>\n",
       "      <td>333,779,000,000.00</td>\n",
       "      <td>301,311,000,000.00</td>\n",
       "      <td>286,556,000,000.00</td>\n",
       "    </tr>\n",
       "    <tr>\n",
       "      <th>Current Assets</th>\n",
       "      <td>169,684,000,000.00</td>\n",
       "      <td>184,406,000,000.00</td>\n",
       "      <td>181,915,000,000.00</td>\n",
       "      <td>175,552,000,000.00</td>\n",
       "    </tr>\n",
       "    <tr>\n",
       "      <th>Cash Cash Equivalents And Short Term Investments</th>\n",
       "      <td>104,749,000,000.00</td>\n",
       "      <td>130,334,000,000.00</td>\n",
       "      <td>136,527,000,000.00</td>\n",
       "      <td>133,819,000,000.00</td>\n",
       "    </tr>\n",
       "    <tr>\n",
       "      <th>Cash And Cash Equivalents</th>\n",
       "      <td>13,931,000,000.00</td>\n",
       "      <td>14,224,000,000.00</td>\n",
       "      <td>13,576,000,000.00</td>\n",
       "      <td>11,356,000,000.00</td>\n",
       "    </tr>\n",
       "    <tr>\n",
       "      <th>Cash Financial</th>\n",
       "      <td>8,258,000,000.00</td>\n",
       "      <td>7,272,000,000.00</td>\n",
       "      <td>NaN</td>\n",
       "      <td>NaN</td>\n",
       "    </tr>\n",
       "    <tr>\n",
       "      <th>Cash Equivalents</th>\n",
       "      <td>5,673,000,000.00</td>\n",
       "      <td>6,952,000,000.00</td>\n",
       "      <td>NaN</td>\n",
       "      <td>NaN</td>\n",
       "    </tr>\n",
       "    <tr>\n",
       "      <th>Other Short Term Investments</th>\n",
       "      <td>90,818,000,000.00</td>\n",
       "      <td>116,110,000,000.00</td>\n",
       "      <td>122,951,000,000.00</td>\n",
       "      <td>122,463,000,000.00</td>\n",
       "    </tr>\n",
       "    <tr>\n",
       "      <th>Receivables</th>\n",
       "      <td>44,261,000,000.00</td>\n",
       "      <td>38,043,000,000.00</td>\n",
       "      <td>32,011,000,000.00</td>\n",
       "      <td>29,524,000,000.00</td>\n",
       "    </tr>\n",
       "    <tr>\n",
       "      <th>Accounts Receivable</th>\n",
       "      <td>44,261,000,000.00</td>\n",
       "      <td>38,043,000,000.00</td>\n",
       "      <td>32,011,000,000.00</td>\n",
       "      <td>29,524,000,000.00</td>\n",
       "    </tr>\n",
       "    <tr>\n",
       "      <th>Gross Accounts Receivable</th>\n",
       "      <td>44,894,000,000.00</td>\n",
       "      <td>38,794,000,000.00</td>\n",
       "      <td>32,799,000,000.00</td>\n",
       "      <td>29,935,000,000.00</td>\n",
       "    </tr>\n",
       "  </tbody>\n",
       "</table>"
      ],
      "text/plain": [
       "<IPython.core.display.HTML object>"
      ]
     },
     "metadata": {},
     "output_type": "display_data"
    },
    {
     "name": "stdout",
     "output_type": "stream",
     "text": [
      "\n"
     ]
    }
   ],
   "source": [
    "see(msft.balance_sheet.head(10), 'msft.balance_sheet.head(10)')"
   ]
  },
  {
   "cell_type": "markdown",
   "id": "a1c6337f-1bd6-40d1-a0dc-8ce43b9d1bb0",
   "metadata": {},
   "source": [
    "<font size = 4><span style = 'background-color: #ddddff; padding: 5px 5px 3px 5px; line-height: 1.5; color:black;border-radius: 3px;'>**.calendar**"
   ]
  },
  {
   "cell_type": "code",
   "execution_count": 90,
   "id": "2c614c70-098c-45fe-8ae0-ebdcc873dde3",
   "metadata": {
    "tags": []
   },
   "outputs": [
    {
     "data": {
      "text/html": [
       "<span style = 'display: block; width: 130.0px; \t\t\t\t\t\tline-height: 2; background: #333333;\t\t\t\t\t\tmargin-left: auto; margin-right: auto;\t\t\t\t\t\tborder: 1px solid text_color;\t\t\t\t\t\tborder-radius: 3px; text-align: center;\t\t\t\t\t\tpadding: 3px 8px 3px 8px;'>\t\t\t\t\t\t<b><font size=4><text style=color:white>msft.calendar\t\t\t\t\t\t</text></font></b></style>"
      ],
      "text/plain": [
       "<IPython.core.display.HTML object>"
      ]
     },
     "metadata": {},
     "output_type": "display_data"
    },
    {
     "data": {
      "text/html": [
       "<center><table border=\"1\" class=\"dataframe\">\n",
       "  <thead>\n",
       "    <tr style=\"text-align: right;\">\n",
       "      <th></th>\n",
       "      <th>Value</th>\n",
       "    </tr>\n",
       "  </thead>\n",
       "  <tbody>\n",
       "    <tr>\n",
       "      <th>Earnings Date</th>\n",
       "      <td>2023-01-24 21:00:00</td>\n",
       "    </tr>\n",
       "    <tr>\n",
       "      <th>Earnings Average</th>\n",
       "      <td>2.31</td>\n",
       "    </tr>\n",
       "    <tr>\n",
       "      <th>Earnings Low</th>\n",
       "      <td>2.23</td>\n",
       "    </tr>\n",
       "    <tr>\n",
       "      <th>Earnings High</th>\n",
       "      <td>2.91</td>\n",
       "    </tr>\n",
       "    <tr>\n",
       "      <th>Revenue Average</th>\n",
       "      <td>52986600000</td>\n",
       "    </tr>\n",
       "    <tr>\n",
       "      <th>Revenue Low</th>\n",
       "      <td>52389000000</td>\n",
       "    </tr>\n",
       "    <tr>\n",
       "      <th>Revenue High</th>\n",
       "      <td>53871800000</td>\n",
       "    </tr>\n",
       "  </tbody>\n",
       "</table>"
      ],
      "text/plain": [
       "<IPython.core.display.HTML object>"
      ]
     },
     "metadata": {},
     "output_type": "display_data"
    },
    {
     "name": "stdout",
     "output_type": "stream",
     "text": [
      "\n"
     ]
    }
   ],
   "source": [
    "see(msft.calendar, 'msft.calendar')"
   ]
  },
  {
   "cell_type": "markdown",
   "id": "17224e39-60a9-4ab8-bbf0-a2a9f8959038",
   "metadata": {},
   "source": [
    "<font size = 4><span style = 'background-color: #ddddff; padding: 5px 5px 3px 5px; line-height: 1.5; color:black;border-radius: 3px;'>**.cash_flow**"
   ]
  },
  {
   "cell_type": "code",
   "execution_count": 91,
   "id": "c9b5ec5a-61ec-4f37-a7c0-04c462a5086b",
   "metadata": {},
   "outputs": [
    {
     "data": {
      "text/html": [
       "<span style = 'display: block; width: 220.0px; \t\t\t\t\t\tline-height: 2; background: #333333;\t\t\t\t\t\tmargin-left: auto; margin-right: auto;\t\t\t\t\t\tborder: 1px solid text_color;\t\t\t\t\t\tborder-radius: 3px; text-align: center;\t\t\t\t\t\tpadding: 3px 8px 3px 8px;'>\t\t\t\t\t\t<b><font size=4><text style=color:white>msft.cash_flow.head(5)\t\t\t\t\t\t</text></font></b></style>"
      ],
      "text/plain": [
       "<IPython.core.display.HTML object>"
      ]
     },
     "metadata": {},
     "output_type": "display_data"
    },
    {
     "data": {
      "text/html": [
       "<center><table border=\"1\" class=\"dataframe\">\n",
       "  <thead>\n",
       "    <tr style=\"text-align: right;\">\n",
       "      <th></th>\n",
       "      <th>2022-06-30 00:00:00</th>\n",
       "      <th>2021-06-30 00:00:00</th>\n",
       "      <th>2020-06-30 00:00:00</th>\n",
       "      <th>2019-06-30 00:00:00</th>\n",
       "    </tr>\n",
       "  </thead>\n",
       "  <tbody>\n",
       "    <tr>\n",
       "      <th>Operating Cash Flow</th>\n",
       "      <td>89,035,000,000.00</td>\n",
       "      <td>76,740,000,000.00</td>\n",
       "      <td>60,675,000,000.00</td>\n",
       "      <td>52,185,000,000.00</td>\n",
       "    </tr>\n",
       "    <tr>\n",
       "      <th>Cash Flow From Continuing Operating Activities</th>\n",
       "      <td>89,035,000,000.00</td>\n",
       "      <td>76,740,000,000.00</td>\n",
       "      <td>60,675,000,000.00</td>\n",
       "      <td>52,185,000,000.00</td>\n",
       "    </tr>\n",
       "    <tr>\n",
       "      <th>Net Income From Continuing Operations</th>\n",
       "      <td>72,738,000,000.00</td>\n",
       "      <td>61,271,000,000.00</td>\n",
       "      <td>44,281,000,000.00</td>\n",
       "      <td>39,240,000,000.00</td>\n",
       "    </tr>\n",
       "    <tr>\n",
       "      <th>Operating Gains Losses</th>\n",
       "      <td>-409,000,000.00</td>\n",
       "      <td>-1,249,000,000.00</td>\n",
       "      <td>-219,000,000.00</td>\n",
       "      <td>-792,000,000.00</td>\n",
       "    </tr>\n",
       "    <tr>\n",
       "      <th>Gain Loss On Investment Securities</th>\n",
       "      <td>NaN</td>\n",
       "      <td>NaN</td>\n",
       "      <td>-219,000,000.00</td>\n",
       "      <td>-792,000,000.00</td>\n",
       "    </tr>\n",
       "  </tbody>\n",
       "</table>"
      ],
      "text/plain": [
       "<IPython.core.display.HTML object>"
      ]
     },
     "metadata": {},
     "output_type": "display_data"
    },
    {
     "name": "stdout",
     "output_type": "stream",
     "text": [
      "\n"
     ]
    }
   ],
   "source": [
    "see(msft.cash_flow.head(5),'msft.cash_flow.head(5)')"
   ]
  },
  {
   "cell_type": "markdown",
   "id": "da643248-3ae5-4abf-be72-962f8ef08988",
   "metadata": {},
   "source": [
    "<font size = 4><span style = 'background-color: #ddddff; padding: 5px 5px 3px 5px; line-height: 1.5; color:black;border-radius: 3px;'>**.dividends**"
   ]
  },
  {
   "cell_type": "code",
   "execution_count": 6,
   "id": "5fd0ce4c-5c7c-4c0e-95fe-f3edd19c7be9",
   "metadata": {},
   "outputs": [
    {
     "name": "stdout",
     "output_type": "stream",
     "text": [
      "\n"
     ]
    },
    {
     "data": {
      "text/html": [
       "<span style = 'display: block; width: 230.0px; \t\t\t\t\t\tline-height: 2; background: #333333;\t\t\t\t\t\tmargin-left: auto; margin-right: auto;\t\t\t\t\t\tborder: 1px solid text_color;\t\t\t\t\t\tborder-radius: 3px; text-align: center;\t\t\t\t\t\tpadding: 3px 8px 3px 8px;'>\t\t\t\t\t\t<b><font size=4><text style=color:white>msft.dividends: head(5)\t\t\t\t\t\t</text></font></b></style>"
      ],
      "text/plain": [
       "<IPython.core.display.HTML object>"
      ]
     },
     "metadata": {},
     "output_type": "display_data"
    },
    {
     "data": {
      "text/html": [
       "<center><table border=\"1\" class=\"dataframe\">\n",
       "  <thead>\n",
       "    <tr style=\"text-align: right;\">\n",
       "      <th></th>\n",
       "      <th>Dividends</th>\n",
       "    </tr>\n",
       "    <tr>\n",
       "      <th>Date</th>\n",
       "      <th></th>\n",
       "    </tr>\n",
       "  </thead>\n",
       "  <tbody>\n",
       "    <tr>\n",
       "      <th>2003-02-19</th>\n",
       "      <td>0.08</td>\n",
       "    </tr>\n",
       "    <tr>\n",
       "      <th>2003-10-15</th>\n",
       "      <td>0.16</td>\n",
       "    </tr>\n",
       "    <tr>\n",
       "      <th>2004-08-23</th>\n",
       "      <td>0.08</td>\n",
       "    </tr>\n",
       "    <tr>\n",
       "      <th>2004-11-15</th>\n",
       "      <td>3.08</td>\n",
       "    </tr>\n",
       "    <tr>\n",
       "      <th>2005-02-15</th>\n",
       "      <td>0.08</td>\n",
       "    </tr>\n",
       "  </tbody>\n",
       "</table>"
      ],
      "text/plain": [
       "<IPython.core.display.HTML object>"
      ]
     },
     "metadata": {},
     "output_type": "display_data"
    },
    {
     "name": "stdout",
     "output_type": "stream",
     "text": [
      "\n"
     ]
    },
    {
     "data": {
      "text/html": [
       "<span style = 'display: block; width: 230.0px; \t\t\t\t\t\tline-height: 2; background: #333333;\t\t\t\t\t\tmargin-left: auto; margin-right: auto;\t\t\t\t\t\tborder: 1px solid text_color;\t\t\t\t\t\tborder-radius: 3px; text-align: center;\t\t\t\t\t\tpadding: 3px 8px 3px 8px;'>\t\t\t\t\t\t<b><font size=4><text style=color:white>msft.dividends: tail(5)\t\t\t\t\t\t</text></font></b></style>"
      ],
      "text/plain": [
       "<IPython.core.display.HTML object>"
      ]
     },
     "metadata": {},
     "output_type": "display_data"
    },
    {
     "data": {
      "text/html": [
       "<center><table border=\"1\" class=\"dataframe\">\n",
       "  <thead>\n",
       "    <tr style=\"text-align: right;\">\n",
       "      <th></th>\n",
       "      <th>Dividends</th>\n",
       "    </tr>\n",
       "    <tr>\n",
       "      <th>Date</th>\n",
       "      <th></th>\n",
       "    </tr>\n",
       "  </thead>\n",
       "  <tbody>\n",
       "    <tr>\n",
       "      <th>2021-11-17</th>\n",
       "      <td>0.62</td>\n",
       "    </tr>\n",
       "    <tr>\n",
       "      <th>2022-02-16</th>\n",
       "      <td>0.62</td>\n",
       "    </tr>\n",
       "    <tr>\n",
       "      <th>2022-05-18</th>\n",
       "      <td>0.62</td>\n",
       "    </tr>\n",
       "    <tr>\n",
       "      <th>2022-08-17</th>\n",
       "      <td>0.62</td>\n",
       "    </tr>\n",
       "    <tr>\n",
       "      <th>2022-11-16</th>\n",
       "      <td>0.68</td>\n",
       "    </tr>\n",
       "  </tbody>\n",
       "</table>"
      ],
      "text/plain": [
       "<IPython.core.display.HTML object>"
      ]
     },
     "metadata": {},
     "output_type": "display_data"
    },
    {
     "name": "stdout",
     "output_type": "stream",
     "text": [
      "\n"
     ]
    }
   ],
   "source": [
    "# show dividends\n",
    "head_tail_vert(msft.dividends, 5, 'msft.dividends')"
   ]
  },
  {
   "cell_type": "markdown",
   "id": "a9d4c221-2378-4425-b98c-dfd91e3d7592",
   "metadata": {},
   "source": [
    "<font size = 4><span style = 'background-color: #ddddff; padding: 5px 5px 3px 5px; line-height: 1.5; color:black;border-radius: 3px;'>**.earnings**"
   ]
  },
  {
   "cell_type": "code",
   "execution_count": 93,
   "id": "ae20697c-b6f0-466f-9a3a-35f056bcea3a",
   "metadata": {},
   "outputs": [
    {
     "data": {
      "text/html": [
       "<div>\n",
       "<style scoped>\n",
       "    .dataframe tbody tr th:only-of-type {\n",
       "        vertical-align: middle;\n",
       "    }\n",
       "\n",
       "    .dataframe tbody tr th {\n",
       "        vertical-align: top;\n",
       "    }\n",
       "\n",
       "    .dataframe thead th {\n",
       "        text-align: right;\n",
       "    }\n",
       "</style>\n",
       "<table border=\"1\" class=\"dataframe\">\n",
       "  <thead>\n",
       "    <tr style=\"text-align: right;\">\n",
       "      <th></th>\n",
       "      <th>Revenue</th>\n",
       "      <th>Earnings</th>\n",
       "    </tr>\n",
       "    <tr>\n",
       "      <th>Year</th>\n",
       "      <th></th>\n",
       "      <th></th>\n",
       "    </tr>\n",
       "  </thead>\n",
       "  <tbody>\n",
       "    <tr>\n",
       "      <th>2019</th>\n",
       "      <td>125843000000</td>\n",
       "      <td>39240000000</td>\n",
       "    </tr>\n",
       "    <tr>\n",
       "      <th>2020</th>\n",
       "      <td>143015000000</td>\n",
       "      <td>44281000000</td>\n",
       "    </tr>\n",
       "    <tr>\n",
       "      <th>2021</th>\n",
       "      <td>168088000000</td>\n",
       "      <td>61271000000</td>\n",
       "    </tr>\n",
       "    <tr>\n",
       "      <th>2022</th>\n",
       "      <td>198270000000</td>\n",
       "      <td>72738000000</td>\n",
       "    </tr>\n",
       "  </tbody>\n",
       "</table>\n",
       "</div>"
      ],
      "text/plain": [
       "           Revenue     Earnings\n",
       "Year                           \n",
       "2019  125843000000  39240000000\n",
       "2020  143015000000  44281000000\n",
       "2021  168088000000  61271000000\n",
       "2022  198270000000  72738000000"
      ]
     },
     "execution_count": 93,
     "metadata": {},
     "output_type": "execute_result"
    }
   ],
   "source": [
    "msft.earnings"
   ]
  },
  {
   "cell_type": "markdown",
   "id": "498d3fc7-8194-4132-ba99-5b10dc3a730f",
   "metadata": {},
   "source": [
    "<font size = 4><span style = 'background-color: #ddddff; padding: 5px 5px 3px 5px; line-height: 1.5; color:black;border-radius: 3px;'>**.earnings_dates**"
   ]
  },
  {
   "cell_type": "code",
   "execution_count": 94,
   "id": "22a0008f-232e-4779-b48d-a9c50d1a97c6",
   "metadata": {},
   "outputs": [
    {
     "data": {
      "text/html": [
       "<span style = 'display: block; width: 190.0px; \t\t\t\t\t\tline-height: 2; background: #333333;\t\t\t\t\t\tmargin-left: auto; margin-right: auto;\t\t\t\t\t\tborder: 1px solid text_color;\t\t\t\t\t\tborder-radius: 3px; text-align: center;\t\t\t\t\t\tpadding: 3px 8px 3px 8px;'>\t\t\t\t\t\t<b><font size=4><text style=color:white>msft.earnings_dates\t\t\t\t\t\t</text></font></b></style>"
      ],
      "text/plain": [
       "<IPython.core.display.HTML object>"
      ]
     },
     "metadata": {},
     "output_type": "display_data"
    },
    {
     "data": {
      "text/html": [
       "<center><table border=\"1\" class=\"dataframe\">\n",
       "  <thead>\n",
       "    <tr style=\"text-align: right;\">\n",
       "      <th></th>\n",
       "      <th>EPS Estimate</th>\n",
       "      <th>Reported EPS</th>\n",
       "      <th>Surprise(%)</th>\n",
       "    </tr>\n",
       "    <tr>\n",
       "      <th>Earnings Date</th>\n",
       "      <th></th>\n",
       "      <th></th>\n",
       "      <th></th>\n",
       "    </tr>\n",
       "  </thead>\n",
       "  <tbody>\n",
       "    <tr>\n",
       "      <th>2023-10-23 06:00:00-04:00</th>\n",
       "      <td>NaN</td>\n",
       "      <td>NaN</td>\n",
       "      <td>NaN</td>\n",
       "    </tr>\n",
       "    <tr>\n",
       "      <th>2023-07-24 06:00:00-04:00</th>\n",
       "      <td>NaN</td>\n",
       "      <td>NaN</td>\n",
       "      <td>NaN</td>\n",
       "    </tr>\n",
       "    <tr>\n",
       "      <th>2023-04-24 06:00:00-04:00</th>\n",
       "      <td>NaN</td>\n",
       "      <td>NaN</td>\n",
       "      <td>NaN</td>\n",
       "    </tr>\n",
       "    <tr>\n",
       "      <th>2023-01-24 17:00:00-05:00</th>\n",
       "      <td>2.31</td>\n",
       "      <td>NaN</td>\n",
       "      <td>NaN</td>\n",
       "    </tr>\n",
       "    <tr>\n",
       "      <th>2023-01-24 16:00:00-05:00</th>\n",
       "      <td>2.31</td>\n",
       "      <td>NaN</td>\n",
       "      <td>NaN</td>\n",
       "    </tr>\n",
       "    <tr>\n",
       "      <th>2022-10-25 12:00:00-04:00</th>\n",
       "      <td>2.30</td>\n",
       "      <td>2.35</td>\n",
       "      <td>0.02</td>\n",
       "    </tr>\n",
       "    <tr>\n",
       "      <th>2022-07-26 12:00:00-04:00</th>\n",
       "      <td>2.29</td>\n",
       "      <td>2.23</td>\n",
       "      <td>-0.03</td>\n",
       "    </tr>\n",
       "    <tr>\n",
       "      <th>2022-04-26 12:00:00-04:00</th>\n",
       "      <td>2.19</td>\n",
       "      <td>2.22</td>\n",
       "      <td>0.02</td>\n",
       "    </tr>\n",
       "    <tr>\n",
       "      <th>2022-01-25 11:00:00-05:00</th>\n",
       "      <td>2.31</td>\n",
       "      <td>2.48</td>\n",
       "      <td>0.07</td>\n",
       "    </tr>\n",
       "    <tr>\n",
       "      <th>2021-10-26 12:00:00-04:00</th>\n",
       "      <td>2.08</td>\n",
       "      <td>2.27</td>\n",
       "      <td>0.09</td>\n",
       "    </tr>\n",
       "    <tr>\n",
       "      <th>2021-07-27 12:00:00-04:00</th>\n",
       "      <td>1.92</td>\n",
       "      <td>2.17</td>\n",
       "      <td>0.13</td>\n",
       "    </tr>\n",
       "    <tr>\n",
       "      <th>2021-04-27 12:00:00-04:00</th>\n",
       "      <td>1.78</td>\n",
       "      <td>2.03</td>\n",
       "      <td>0.14</td>\n",
       "    </tr>\n",
       "  </tbody>\n",
       "</table>"
      ],
      "text/plain": [
       "<IPython.core.display.HTML object>"
      ]
     },
     "metadata": {},
     "output_type": "display_data"
    },
    {
     "name": "stdout",
     "output_type": "stream",
     "text": [
      "\n"
     ]
    }
   ],
   "source": [
    "see(msft.earnings_dates, intraday=True, title=\"msft.earnings_dates\")"
   ]
  },
  {
   "cell_type": "markdown",
   "id": "1b979a49-d4c4-42ad-9af3-5cf1ac5bf39e",
   "metadata": {},
   "source": [
    "<font size = 4><span style = 'background-color: #ddddff; padding: 5px 5px 3px 5px; line-height: 1.5; color:black;border-radius: 3px;'>**.earnings_forecasts**"
   ]
  },
  {
   "cell_type": "code",
   "execution_count": 95,
   "id": "1424ec77-193f-47cc-a337-bf835d4228e1",
   "metadata": {},
   "outputs": [
    {
     "data": {
      "text/html": [
       "<span style = 'display: block; width: 230.0px; \t\t\t\t\t\tline-height: 2; background: #333333;\t\t\t\t\t\tmargin-left: auto; margin-right: auto;\t\t\t\t\t\tborder: 1px solid text_color;\t\t\t\t\t\tborder-radius: 3px; text-align: center;\t\t\t\t\t\tpadding: 3px 8px 3px 8px;'>\t\t\t\t\t\t<b><font size=4><text style=color:white>msft.earnings_forecasts\t\t\t\t\t\t</text></font></b></style>"
      ],
      "text/plain": [
       "<IPython.core.display.HTML object>"
      ]
     },
     "metadata": {},
     "output_type": "display_data"
    },
    {
     "data": {
      "text/html": [
       "<center><table border=\"1\" class=\"dataframe\">\n",
       "  <thead>\n",
       "    <tr style=\"text-align: right;\">\n",
       "      <th></th>\n",
       "      <th>avg</th>\n",
       "      <th>low</th>\n",
       "      <th>high</th>\n",
       "      <th>yearAgoEps</th>\n",
       "      <th>numberOfAnalysts</th>\n",
       "      <th>growth</th>\n",
       "      <th>period</th>\n",
       "      <th>endDate</th>\n",
       "    </tr>\n",
       "  </thead>\n",
       "  <tbody>\n",
       "    <tr>\n",
       "      <th>0</th>\n",
       "      <td>2.31</td>\n",
       "      <td>2.23</td>\n",
       "      <td>2.91</td>\n",
       "      <td>2.48</td>\n",
       "      <td>35.00</td>\n",
       "      <td>-0.07</td>\n",
       "      <td>0q</td>\n",
       "      <td>2022-12-31</td>\n",
       "    </tr>\n",
       "    <tr>\n",
       "      <th>1</th>\n",
       "      <td>2.33</td>\n",
       "      <td>1.95</td>\n",
       "      <td>2.50</td>\n",
       "      <td>2.22</td>\n",
       "      <td>34.00</td>\n",
       "      <td>0.05</td>\n",
       "      <td>+1q</td>\n",
       "      <td>2023-03-31</td>\n",
       "    </tr>\n",
       "    <tr>\n",
       "      <th>2</th>\n",
       "      <td>9.60</td>\n",
       "      <td>9.26</td>\n",
       "      <td>11.21</td>\n",
       "      <td>9.21</td>\n",
       "      <td>46.00</td>\n",
       "      <td>0.04</td>\n",
       "      <td>0y</td>\n",
       "      <td>2023-06-30</td>\n",
       "    </tr>\n",
       "    <tr>\n",
       "      <th>3</th>\n",
       "      <td>11.16</td>\n",
       "      <td>10.21</td>\n",
       "      <td>12.48</td>\n",
       "      <td>9.60</td>\n",
       "      <td>45.00</td>\n",
       "      <td>0.16</td>\n",
       "      <td>+1y</td>\n",
       "      <td>2024-06-30</td>\n",
       "    </tr>\n",
       "    <tr>\n",
       "      <th>4</th>\n",
       "      <td>NaN</td>\n",
       "      <td>NaN</td>\n",
       "      <td>NaN</td>\n",
       "      <td>NaN</td>\n",
       "      <td>NaN</td>\n",
       "      <td>NaN</td>\n",
       "      <td>+5y</td>\n",
       "      <td>None</td>\n",
       "    </tr>\n",
       "    <tr>\n",
       "      <th>5</th>\n",
       "      <td>NaN</td>\n",
       "      <td>NaN</td>\n",
       "      <td>NaN</td>\n",
       "      <td>NaN</td>\n",
       "      <td>NaN</td>\n",
       "      <td>NaN</td>\n",
       "      <td>-5y</td>\n",
       "      <td>None</td>\n",
       "    </tr>\n",
       "  </tbody>\n",
       "</table>"
      ],
      "text/plain": [
       "<IPython.core.display.HTML object>"
      ]
     },
     "metadata": {},
     "output_type": "display_data"
    },
    {
     "name": "stdout",
     "output_type": "stream",
     "text": [
      "\n"
     ]
    }
   ],
   "source": [
    "see(msft.earnings_forecasts, \"msft.earnings_forecasts\")"
   ]
  },
  {
   "cell_type": "markdown",
   "id": "5a6f3a3a-53bb-4d06-a23b-0ab800aa4cf9",
   "metadata": {},
   "source": [
    "<font size = 4><span style = 'background-color: #ddddff; padding: 5px 5px 3px 5px; line-height: 1.5; color:black;border-radius: 3px;'>**.earnings_trend**"
   ]
  },
  {
   "cell_type": "code",
   "execution_count": 96,
   "id": "162d8a91-0cb6-48ce-ae37-ee2169348b91",
   "metadata": {},
   "outputs": [
    {
     "data": {
      "text/html": [
       "<div>\n",
       "<style scoped>\n",
       "    .dataframe tbody tr th:only-of-type {\n",
       "        vertical-align: middle;\n",
       "    }\n",
       "\n",
       "    .dataframe tbody tr th {\n",
       "        vertical-align: top;\n",
       "    }\n",
       "\n",
       "    .dataframe thead th {\n",
       "        text-align: right;\n",
       "    }\n",
       "</style>\n",
       "<table border=\"1\" class=\"dataframe\">\n",
       "  <thead>\n",
       "    <tr style=\"text-align: right;\">\n",
       "      <th></th>\n",
       "      <th>Max Age</th>\n",
       "      <th>End Date</th>\n",
       "      <th>Growth</th>\n",
       "      <th>Earnings Estimate Avg</th>\n",
       "      <th>Earnings Estimate Low</th>\n",
       "      <th>Earnings Estimate High</th>\n",
       "      <th>Earnings Estimate Year Ago Eps</th>\n",
       "      <th>Earnings Estimate Number Of Analysts</th>\n",
       "      <th>Earnings Estimate Growth</th>\n",
       "      <th>Revenue Estimate Avg</th>\n",
       "      <th>...</th>\n",
       "      <th>Revenue Estimate Growth</th>\n",
       "      <th>Eps Trend Current</th>\n",
       "      <th>Eps Trend 7Days Ago</th>\n",
       "      <th>Eps Trend 30Days Ago</th>\n",
       "      <th>Eps Trend 60Days Ago</th>\n",
       "      <th>Eps Trend 90Days Ago</th>\n",
       "      <th>Eps Revisions Up Last7Days</th>\n",
       "      <th>Eps Revisions Up Last30Days</th>\n",
       "      <th>Eps Revisions Down Last30Days</th>\n",
       "      <th>Eps Revisions Down Last90Days</th>\n",
       "    </tr>\n",
       "    <tr>\n",
       "      <th>Period</th>\n",
       "      <th></th>\n",
       "      <th></th>\n",
       "      <th></th>\n",
       "      <th></th>\n",
       "      <th></th>\n",
       "      <th></th>\n",
       "      <th></th>\n",
       "      <th></th>\n",
       "      <th></th>\n",
       "      <th></th>\n",
       "      <th></th>\n",
       "      <th></th>\n",
       "      <th></th>\n",
       "      <th></th>\n",
       "      <th></th>\n",
       "      <th></th>\n",
       "      <th></th>\n",
       "      <th></th>\n",
       "      <th></th>\n",
       "      <th></th>\n",
       "      <th></th>\n",
       "    </tr>\n",
       "  </thead>\n",
       "  <tbody>\n",
       "    <tr>\n",
       "      <th>0Q</th>\n",
       "      <td>1</td>\n",
       "      <td>2022-12-31</td>\n",
       "      <td>-0.07</td>\n",
       "      <td>2.31</td>\n",
       "      <td>2.23</td>\n",
       "      <td>2.91</td>\n",
       "      <td>2.48</td>\n",
       "      <td>35.00</td>\n",
       "      <td>-0.07</td>\n",
       "      <td>52,986,600,000.00</td>\n",
       "      <td>...</td>\n",
       "      <td>0.02</td>\n",
       "      <td>2.31</td>\n",
       "      <td>2.30</td>\n",
       "      <td>2.29</td>\n",
       "      <td>2.29</td>\n",
       "      <td>2.57</td>\n",
       "      <td>2.00</td>\n",
       "      <td>3.00</td>\n",
       "      <td>1.00</td>\n",
       "      <td>NaN</td>\n",
       "    </tr>\n",
       "    <tr>\n",
       "      <th>+1Q</th>\n",
       "      <td>1</td>\n",
       "      <td>2023-03-31</td>\n",
       "      <td>0.05</td>\n",
       "      <td>2.33</td>\n",
       "      <td>1.95</td>\n",
       "      <td>2.50</td>\n",
       "      <td>2.22</td>\n",
       "      <td>34.00</td>\n",
       "      <td>0.05</td>\n",
       "      <td>52,516,800,000.00</td>\n",
       "      <td>...</td>\n",
       "      <td>0.06</td>\n",
       "      <td>2.33</td>\n",
       "      <td>2.33</td>\n",
       "      <td>2.33</td>\n",
       "      <td>2.33</td>\n",
       "      <td>2.50</td>\n",
       "      <td>0.00</td>\n",
       "      <td>1.00</td>\n",
       "      <td>2.00</td>\n",
       "      <td>NaN</td>\n",
       "    </tr>\n",
       "    <tr>\n",
       "      <th>0Y</th>\n",
       "      <td>1</td>\n",
       "      <td>2023-06-30</td>\n",
       "      <td>0.04</td>\n",
       "      <td>9.60</td>\n",
       "      <td>9.26</td>\n",
       "      <td>11.21</td>\n",
       "      <td>9.21</td>\n",
       "      <td>46.00</td>\n",
       "      <td>0.04</td>\n",
       "      <td>212,964,000,000.00</td>\n",
       "      <td>...</td>\n",
       "      <td>0.07</td>\n",
       "      <td>9.60</td>\n",
       "      <td>9.55</td>\n",
       "      <td>9.55</td>\n",
       "      <td>9.55</td>\n",
       "      <td>10.06</td>\n",
       "      <td>0.00</td>\n",
       "      <td>3.00</td>\n",
       "      <td>0.00</td>\n",
       "      <td>NaN</td>\n",
       "    </tr>\n",
       "    <tr>\n",
       "      <th>+1Y</th>\n",
       "      <td>1</td>\n",
       "      <td>2024-06-30</td>\n",
       "      <td>0.16</td>\n",
       "      <td>11.16</td>\n",
       "      <td>10.21</td>\n",
       "      <td>12.48</td>\n",
       "      <td>9.60</td>\n",
       "      <td>45.00</td>\n",
       "      <td>0.16</td>\n",
       "      <td>239,627,000,000.00</td>\n",
       "      <td>...</td>\n",
       "      <td>0.12</td>\n",
       "      <td>11.16</td>\n",
       "      <td>11.17</td>\n",
       "      <td>11.18</td>\n",
       "      <td>11.18</td>\n",
       "      <td>11.87</td>\n",
       "      <td>0.00</td>\n",
       "      <td>2.00</td>\n",
       "      <td>0.00</td>\n",
       "      <td>NaN</td>\n",
       "    </tr>\n",
       "    <tr>\n",
       "      <th>+5Y</th>\n",
       "      <td>1</td>\n",
       "      <td>NaT</td>\n",
       "      <td>0.13</td>\n",
       "      <td>NaN</td>\n",
       "      <td>NaN</td>\n",
       "      <td>NaN</td>\n",
       "      <td>NaN</td>\n",
       "      <td>NaN</td>\n",
       "      <td>NaN</td>\n",
       "      <td>NaN</td>\n",
       "      <td>...</td>\n",
       "      <td>NaN</td>\n",
       "      <td>NaN</td>\n",
       "      <td>NaN</td>\n",
       "      <td>NaN</td>\n",
       "      <td>NaN</td>\n",
       "      <td>NaN</td>\n",
       "      <td>NaN</td>\n",
       "      <td>NaN</td>\n",
       "      <td>NaN</td>\n",
       "      <td>NaN</td>\n",
       "    </tr>\n",
       "    <tr>\n",
       "      <th>-5Y</th>\n",
       "      <td>1</td>\n",
       "      <td>NaT</td>\n",
       "      <td>0.24</td>\n",
       "      <td>NaN</td>\n",
       "      <td>NaN</td>\n",
       "      <td>NaN</td>\n",
       "      <td>NaN</td>\n",
       "      <td>NaN</td>\n",
       "      <td>NaN</td>\n",
       "      <td>NaN</td>\n",
       "      <td>...</td>\n",
       "      <td>NaN</td>\n",
       "      <td>NaN</td>\n",
       "      <td>NaN</td>\n",
       "      <td>NaN</td>\n",
       "      <td>NaN</td>\n",
       "      <td>NaN</td>\n",
       "      <td>NaN</td>\n",
       "      <td>NaN</td>\n",
       "      <td>NaN</td>\n",
       "      <td>NaN</td>\n",
       "    </tr>\n",
       "  </tbody>\n",
       "</table>\n",
       "<p>6 rows × 24 columns</p>\n",
       "</div>"
      ],
      "text/plain": [
       "        Max Age   End Date  Growth  Earnings Estimate Avg  \\\n",
       "Period                                                      \n",
       "0Q            1 2022-12-31   -0.07                   2.31   \n",
       "+1Q           1 2023-03-31    0.05                   2.33   \n",
       "0Y            1 2023-06-30    0.04                   9.60   \n",
       "+1Y           1 2024-06-30    0.16                  11.16   \n",
       "+5Y           1        NaT    0.13                    NaN   \n",
       "-5Y           1        NaT    0.24                    NaN   \n",
       "\n",
       "        Earnings Estimate Low  Earnings Estimate High  \\\n",
       "Period                                                  \n",
       "0Q                       2.23                    2.91   \n",
       "+1Q                      1.95                    2.50   \n",
       "0Y                       9.26                   11.21   \n",
       "+1Y                     10.21                   12.48   \n",
       "+5Y                       NaN                     NaN   \n",
       "-5Y                       NaN                     NaN   \n",
       "\n",
       "        Earnings Estimate Year Ago Eps  Earnings Estimate Number Of Analysts  \\\n",
       "Period                                                                         \n",
       "0Q                                2.48                                 35.00   \n",
       "+1Q                               2.22                                 34.00   \n",
       "0Y                                9.21                                 46.00   \n",
       "+1Y                               9.60                                 45.00   \n",
       "+5Y                                NaN                                   NaN   \n",
       "-5Y                                NaN                                   NaN   \n",
       "\n",
       "        Earnings Estimate Growth  Revenue Estimate Avg  ...  \\\n",
       "Period                                                  ...   \n",
       "0Q                         -0.07     52,986,600,000.00  ...   \n",
       "+1Q                         0.05     52,516,800,000.00  ...   \n",
       "0Y                          0.04    212,964,000,000.00  ...   \n",
       "+1Y                         0.16    239,627,000,000.00  ...   \n",
       "+5Y                          NaN                   NaN  ...   \n",
       "-5Y                          NaN                   NaN  ...   \n",
       "\n",
       "        Revenue Estimate Growth  Eps Trend Current  Eps Trend 7Days Ago  \\\n",
       "Period                                                                    \n",
       "0Q                         0.02               2.31                 2.30   \n",
       "+1Q                        0.06               2.33                 2.33   \n",
       "0Y                         0.07               9.60                 9.55   \n",
       "+1Y                        0.12              11.16                11.17   \n",
       "+5Y                         NaN                NaN                  NaN   \n",
       "-5Y                         NaN                NaN                  NaN   \n",
       "\n",
       "        Eps Trend 30Days Ago  Eps Trend 60Days Ago  Eps Trend 90Days Ago  \\\n",
       "Period                                                                     \n",
       "0Q                      2.29                  2.29                  2.57   \n",
       "+1Q                     2.33                  2.33                  2.50   \n",
       "0Y                      9.55                  9.55                 10.06   \n",
       "+1Y                    11.18                 11.18                 11.87   \n",
       "+5Y                      NaN                   NaN                   NaN   \n",
       "-5Y                      NaN                   NaN                   NaN   \n",
       "\n",
       "        Eps Revisions Up Last7Days  Eps Revisions Up Last30Days  \\\n",
       "Period                                                            \n",
       "0Q                            2.00                         3.00   \n",
       "+1Q                           0.00                         1.00   \n",
       "0Y                            0.00                         3.00   \n",
       "+1Y                           0.00                         2.00   \n",
       "+5Y                            NaN                          NaN   \n",
       "-5Y                            NaN                          NaN   \n",
       "\n",
       "        Eps Revisions Down Last30Days  Eps Revisions Down Last90Days  \n",
       "Period                                                                \n",
       "0Q                               1.00                            NaN  \n",
       "+1Q                              2.00                            NaN  \n",
       "0Y                               0.00                            NaN  \n",
       "+1Y                              0.00                            NaN  \n",
       "+5Y                               NaN                            NaN  \n",
       "-5Y                               NaN                            NaN  \n",
       "\n",
       "[6 rows x 24 columns]"
      ]
     },
     "execution_count": 96,
     "metadata": {},
     "output_type": "execute_result"
    }
   ],
   "source": [
    "msft.earnings_trend"
   ]
  },
  {
   "cell_type": "markdown",
   "id": "9f4b1637-8374-4a3d-a613-ff2aa447c103",
   "metadata": {},
   "source": [
    "<font size = 4><span style = 'background-color: #ddddff; padding: 5px 5px 3px 5px; line-height: 1.5; color:black;border-radius: 3px;'>**.financials**"
   ]
  },
  {
   "cell_type": "code",
   "execution_count": 97,
   "id": "126ddf41-6461-49e0-9451-e38f7fb12b5d",
   "metadata": {},
   "outputs": [
    {
     "data": {
      "text/html": [
       "<span style = 'display: block; width: 230.0px; \t\t\t\t\t\tline-height: 2; background: #333333;\t\t\t\t\t\tmargin-left: auto; margin-right: auto;\t\t\t\t\t\tborder: 1px solid text_color;\t\t\t\t\t\tborder-radius: 3px; text-align: center;\t\t\t\t\t\tpadding: 3px 8px 3px 8px;'>\t\t\t\t\t\t<b><font size=4><text style=color:white>msft.financials.head(5)\t\t\t\t\t\t</text></font></b></style>"
      ],
      "text/plain": [
       "<IPython.core.display.HTML object>"
      ]
     },
     "metadata": {},
     "output_type": "display_data"
    },
    {
     "data": {
      "text/html": [
       "<center><table border=\"1\" class=\"dataframe\">\n",
       "  <thead>\n",
       "    <tr style=\"text-align: right;\">\n",
       "      <th></th>\n",
       "      <th>2022-06-30 00:00:00</th>\n",
       "      <th>2021-06-30 00:00:00</th>\n",
       "      <th>2020-06-30 00:00:00</th>\n",
       "      <th>2019-06-30 00:00:00</th>\n",
       "    </tr>\n",
       "  </thead>\n",
       "  <tbody>\n",
       "    <tr>\n",
       "      <th>Total Revenue</th>\n",
       "      <td>198,270,000,000.00</td>\n",
       "      <td>168,088,000,000.00</td>\n",
       "      <td>143,015,000,000.00</td>\n",
       "      <td>125,843,000,000.00</td>\n",
       "    </tr>\n",
       "    <tr>\n",
       "      <th>Operating Revenue</th>\n",
       "      <td>198,270,000,000.00</td>\n",
       "      <td>168,088,000,000.00</td>\n",
       "      <td>143,015,000,000.00</td>\n",
       "      <td>125,843,000,000.00</td>\n",
       "    </tr>\n",
       "    <tr>\n",
       "      <th>Cost Of Revenue</th>\n",
       "      <td>62,650,000,000.00</td>\n",
       "      <td>52,232,000,000.00</td>\n",
       "      <td>46,078,000,000.00</td>\n",
       "      <td>42,910,000,000.00</td>\n",
       "    </tr>\n",
       "    <tr>\n",
       "      <th>Gross Profit</th>\n",
       "      <td>135,620,000,000.00</td>\n",
       "      <td>115,856,000,000.00</td>\n",
       "      <td>96,937,000,000.00</td>\n",
       "      <td>82,933,000,000.00</td>\n",
       "    </tr>\n",
       "    <tr>\n",
       "      <th>Operating Expense</th>\n",
       "      <td>52,237,000,000.00</td>\n",
       "      <td>45,940,000,000.00</td>\n",
       "      <td>43,978,000,000.00</td>\n",
       "      <td>39,974,000,000.00</td>\n",
       "    </tr>\n",
       "  </tbody>\n",
       "</table>"
      ],
      "text/plain": [
       "<IPython.core.display.HTML object>"
      ]
     },
     "metadata": {},
     "output_type": "display_data"
    },
    {
     "name": "stdout",
     "output_type": "stream",
     "text": [
      "\n"
     ]
    }
   ],
   "source": [
    "see(msft.financials.head(5), 'msft.financials.head(5)')"
   ]
  },
  {
   "cell_type": "markdown",
   "id": "96b80176-2d5d-40a4-a917-e03aa0258455",
   "metadata": {},
   "source": [
    "<font size = 4><span style = 'background-color: #ddddff; padding: 5px 5px 3px 5px; line-height: 1.5; color:black;border-radius: 3px;'>**.income_stmt**"
   ]
  },
  {
   "cell_type": "code",
   "execution_count": 98,
   "id": "b01c6e5d-0045-4613-95b1-8fa0613fde97",
   "metadata": {},
   "outputs": [
    {
     "data": {
      "text/html": [
       "<span style = 'display: block; width: 240.0px; \t\t\t\t\t\tline-height: 2; background: #333333;\t\t\t\t\t\tmargin-left: auto; margin-right: auto;\t\t\t\t\t\tborder: 1px solid text_color;\t\t\t\t\t\tborder-radius: 3px; text-align: center;\t\t\t\t\t\tpadding: 3px 8px 3px 8px;'>\t\t\t\t\t\t<b><font size=4><text style=color:white>msft.income_stmt.head(5)\t\t\t\t\t\t</text></font></b></style>"
      ],
      "text/plain": [
       "<IPython.core.display.HTML object>"
      ]
     },
     "metadata": {},
     "output_type": "display_data"
    },
    {
     "data": {
      "text/html": [
       "<center><table border=\"1\" class=\"dataframe\">\n",
       "  <thead>\n",
       "    <tr style=\"text-align: right;\">\n",
       "      <th></th>\n",
       "      <th>2022-06-30 00:00:00</th>\n",
       "      <th>2021-06-30 00:00:00</th>\n",
       "      <th>2020-06-30 00:00:00</th>\n",
       "      <th>2019-06-30 00:00:00</th>\n",
       "    </tr>\n",
       "  </thead>\n",
       "  <tbody>\n",
       "    <tr>\n",
       "      <th>Total Revenue</th>\n",
       "      <td>198,270,000,000.00</td>\n",
       "      <td>168,088,000,000.00</td>\n",
       "      <td>143,015,000,000.00</td>\n",
       "      <td>125,843,000,000.00</td>\n",
       "    </tr>\n",
       "    <tr>\n",
       "      <th>Operating Revenue</th>\n",
       "      <td>198,270,000,000.00</td>\n",
       "      <td>168,088,000,000.00</td>\n",
       "      <td>143,015,000,000.00</td>\n",
       "      <td>125,843,000,000.00</td>\n",
       "    </tr>\n",
       "    <tr>\n",
       "      <th>Cost Of Revenue</th>\n",
       "      <td>62,650,000,000.00</td>\n",
       "      <td>52,232,000,000.00</td>\n",
       "      <td>46,078,000,000.00</td>\n",
       "      <td>42,910,000,000.00</td>\n",
       "    </tr>\n",
       "    <tr>\n",
       "      <th>Gross Profit</th>\n",
       "      <td>135,620,000,000.00</td>\n",
       "      <td>115,856,000,000.00</td>\n",
       "      <td>96,937,000,000.00</td>\n",
       "      <td>82,933,000,000.00</td>\n",
       "    </tr>\n",
       "    <tr>\n",
       "      <th>Operating Expense</th>\n",
       "      <td>52,237,000,000.00</td>\n",
       "      <td>45,940,000,000.00</td>\n",
       "      <td>43,978,000,000.00</td>\n",
       "      <td>39,974,000,000.00</td>\n",
       "    </tr>\n",
       "  </tbody>\n",
       "</table>"
      ],
      "text/plain": [
       "<IPython.core.display.HTML object>"
      ]
     },
     "metadata": {},
     "output_type": "display_data"
    },
    {
     "name": "stdout",
     "output_type": "stream",
     "text": [
      "\n"
     ]
    }
   ],
   "source": [
    "see(msft.income_stmt.head(5), 'msft.income_stmt.head(5)')"
   ]
  },
  {
   "cell_type": "markdown",
   "id": "0ba6b358-b793-461e-8fed-5ea8d5393ad0",
   "metadata": {},
   "source": [
    "<font size = 4><span style = 'background-color: #ddddff; padding: 5px 5px 3px 5px; line-height: 1.5; color:black;border-radius: 3px;'>**.quarterly_balance_sheet**"
   ]
  },
  {
   "cell_type": "code",
   "execution_count": 99,
   "id": "766fdc56-0877-4f1b-8cb4-771f3cab30c0",
   "metadata": {},
   "outputs": [
    {
     "data": {
      "text/html": [
       "<span style = 'display: block; width: 360.0px; \t\t\t\t\t\tline-height: 2; background: #333333;\t\t\t\t\t\tmargin-left: auto; margin-right: auto;\t\t\t\t\t\tborder: 1px solid text_color;\t\t\t\t\t\tborder-radius: 3px; text-align: center;\t\t\t\t\t\tpadding: 3px 8px 3px 8px;'>\t\t\t\t\t\t<b><font size=4><text style=color:white>msft.quarterly_balance_sheet.head(5)\t\t\t\t\t\t</text></font></b></style>"
      ],
      "text/plain": [
       "<IPython.core.display.HTML object>"
      ]
     },
     "metadata": {},
     "output_type": "display_data"
    },
    {
     "data": {
      "text/html": [
       "<center><table border=\"1\" class=\"dataframe\">\n",
       "  <thead>\n",
       "    <tr style=\"text-align: right;\">\n",
       "      <th></th>\n",
       "      <th>2022-09-30 00:00:00</th>\n",
       "      <th>2022-06-30 00:00:00</th>\n",
       "      <th>2022-03-31 00:00:00</th>\n",
       "      <th>2021-12-31 00:00:00</th>\n",
       "    </tr>\n",
       "  </thead>\n",
       "  <tbody>\n",
       "    <tr>\n",
       "      <th>Total Assets</th>\n",
       "      <td>359,784,000,000.00</td>\n",
       "      <td>364,840,000,000.00</td>\n",
       "      <td>344,607,000,000.00</td>\n",
       "      <td>340,389,000,000.00</td>\n",
       "    </tr>\n",
       "    <tr>\n",
       "      <th>Current Assets</th>\n",
       "      <td>160,812,000,000.00</td>\n",
       "      <td>169,684,000,000.00</td>\n",
       "      <td>153,922,000,000.00</td>\n",
       "      <td>174,188,000,000.00</td>\n",
       "    </tr>\n",
       "    <tr>\n",
       "      <th>Cash Cash Equivalents And Short Term Investments</th>\n",
       "      <td>107,244,000,000.00</td>\n",
       "      <td>104,749,000,000.00</td>\n",
       "      <td>104,660,000,000.00</td>\n",
       "      <td>125,348,000,000.00</td>\n",
       "    </tr>\n",
       "    <tr>\n",
       "      <th>Cash And Cash Equivalents</th>\n",
       "      <td>22,884,000,000.00</td>\n",
       "      <td>13,931,000,000.00</td>\n",
       "      <td>12,498,000,000.00</td>\n",
       "      <td>20,604,000,000.00</td>\n",
       "    </tr>\n",
       "    <tr>\n",
       "      <th>Cash Financial</th>\n",
       "      <td>7,237,000,000.00</td>\n",
       "      <td>8,258,000,000.00</td>\n",
       "      <td>7,456,000,000.00</td>\n",
       "      <td>6,255,000,000.00</td>\n",
       "    </tr>\n",
       "  </tbody>\n",
       "</table>"
      ],
      "text/plain": [
       "<IPython.core.display.HTML object>"
      ]
     },
     "metadata": {},
     "output_type": "display_data"
    },
    {
     "name": "stdout",
     "output_type": "stream",
     "text": [
      "\n"
     ]
    }
   ],
   "source": [
    "see(msft.quarterly_balance_sheet.head(5),\"msft.quarterly_balance_sheet.head(5)\")"
   ]
  },
  {
   "cell_type": "markdown",
   "id": "248e40c3-e38e-4f1a-a286-ae1cc9944504",
   "metadata": {},
   "source": [
    "<font size = 4><span style = 'background-color: #ddddff; padding: 5px 5px 3px 5px; line-height: 1.5; color:black;border-radius: 3px;'>**.quarterly_cash_flow**"
   ]
  },
  {
   "cell_type": "code",
   "execution_count": 100,
   "id": "f8fcb3de-c8fd-4151-9096-5d6c34cfb05e",
   "metadata": {},
   "outputs": [
    {
     "data": {
      "text/html": [
       "<span style = 'display: block; width: 320.0px; \t\t\t\t\t\tline-height: 2; background: #333333;\t\t\t\t\t\tmargin-left: auto; margin-right: auto;\t\t\t\t\t\tborder: 1px solid text_color;\t\t\t\t\t\tborder-radius: 3px; text-align: center;\t\t\t\t\t\tpadding: 3px 8px 3px 8px;'>\t\t\t\t\t\t<b><font size=4><text style=color:white>msft.quarterly_cash_flow.head(5)\t\t\t\t\t\t</text></font></b></style>"
      ],
      "text/plain": [
       "<IPython.core.display.HTML object>"
      ]
     },
     "metadata": {},
     "output_type": "display_data"
    },
    {
     "data": {
      "text/html": [
       "<center><table border=\"1\" class=\"dataframe\">\n",
       "  <thead>\n",
       "    <tr style=\"text-align: right;\">\n",
       "      <th></th>\n",
       "      <th>2022-09-30 00:00:00</th>\n",
       "      <th>2022-06-30 00:00:00</th>\n",
       "      <th>2022-03-31 00:00:00</th>\n",
       "      <th>2021-12-31 00:00:00</th>\n",
       "    </tr>\n",
       "  </thead>\n",
       "  <tbody>\n",
       "    <tr>\n",
       "      <th>Operating Cash Flow</th>\n",
       "      <td>23,198,000,000.00</td>\n",
       "      <td>24,629,000,000.00</td>\n",
       "      <td>25,386,000,000.00</td>\n",
       "      <td>14,480,000,000.00</td>\n",
       "    </tr>\n",
       "    <tr>\n",
       "      <th>Cash Flow From Continuing Operating Activities</th>\n",
       "      <td>23,198,000,000.00</td>\n",
       "      <td>24,629,000,000.00</td>\n",
       "      <td>25,386,000,000.00</td>\n",
       "      <td>14,480,000,000.00</td>\n",
       "    </tr>\n",
       "    <tr>\n",
       "      <th>Net Income From Continuing Operations</th>\n",
       "      <td>17,556,000,000.00</td>\n",
       "      <td>16,740,000,000.00</td>\n",
       "      <td>16,728,000,000.00</td>\n",
       "      <td>18,765,000,000.00</td>\n",
       "    </tr>\n",
       "    <tr>\n",
       "      <th>Operating Gains Losses</th>\n",
       "      <td>-22,000,000.00</td>\n",
       "      <td>157,000,000.00</td>\n",
       "      <td>105,000,000.00</td>\n",
       "      <td>-307,000,000.00</td>\n",
       "    </tr>\n",
       "    <tr>\n",
       "      <th>Depreciation Amortization Depletion</th>\n",
       "      <td>2,790,000,000.00</td>\n",
       "      <td>3,979,000,000.00</td>\n",
       "      <td>3,773,000,000.00</td>\n",
       "      <td>3,496,000,000.00</td>\n",
       "    </tr>\n",
       "  </tbody>\n",
       "</table>"
      ],
      "text/plain": [
       "<IPython.core.display.HTML object>"
      ]
     },
     "metadata": {},
     "output_type": "display_data"
    },
    {
     "name": "stdout",
     "output_type": "stream",
     "text": [
      "\n"
     ]
    }
   ],
   "source": [
    "see(msft.quarterly_cash_flow.head(5),\"msft.quarterly_cash_flow.head(5)\")"
   ]
  },
  {
   "cell_type": "markdown",
   "id": "e864d255-1180-4f60-b0cf-4ffc5221f879",
   "metadata": {},
   "source": [
    "<font size = 4><span style = 'background-color: #ddddff; padding: 5px 5px 3px 5px; line-height: 1.5; color:black;border-radius: 3px;'>**.quarterly_earnings**"
   ]
  },
  {
   "cell_type": "code",
   "execution_count": 101,
   "id": "e1a1b488-f428-4e8d-8009-1049e6349e5a",
   "metadata": {},
   "outputs": [
    {
     "data": {
      "text/html": [
       "<span style = 'display: block; width: 230.0px; \t\t\t\t\t\tline-height: 2; background: #333333;\t\t\t\t\t\tmargin-left: auto; margin-right: auto;\t\t\t\t\t\tborder: 1px solid text_color;\t\t\t\t\t\tborder-radius: 3px; text-align: center;\t\t\t\t\t\tpadding: 3px 8px 3px 8px;'>\t\t\t\t\t\t<b><font size=4><text style=color:white>msft.quarterly_earnings\t\t\t\t\t\t</text></font></b></style>"
      ],
      "text/plain": [
       "<IPython.core.display.HTML object>"
      ]
     },
     "metadata": {},
     "output_type": "display_data"
    },
    {
     "data": {
      "text/html": [
       "<center><table border=\"1\" class=\"dataframe\">\n",
       "  <thead>\n",
       "    <tr style=\"text-align: right;\">\n",
       "      <th></th>\n",
       "      <th>Revenue</th>\n",
       "      <th>Earnings</th>\n",
       "    </tr>\n",
       "    <tr>\n",
       "      <th>Quarter</th>\n",
       "      <th></th>\n",
       "      <th></th>\n",
       "    </tr>\n",
       "  </thead>\n",
       "  <tbody>\n",
       "    <tr>\n",
       "      <th>4Q2021</th>\n",
       "      <td>51728000000</td>\n",
       "      <td>18765000000</td>\n",
       "    </tr>\n",
       "    <tr>\n",
       "      <th>1Q2022</th>\n",
       "      <td>49360000000</td>\n",
       "      <td>16728000000</td>\n",
       "    </tr>\n",
       "    <tr>\n",
       "      <th>2Q2022</th>\n",
       "      <td>51865000000</td>\n",
       "      <td>16740000000</td>\n",
       "    </tr>\n",
       "    <tr>\n",
       "      <th>3Q2022</th>\n",
       "      <td>50122000000</td>\n",
       "      <td>17556000000</td>\n",
       "    </tr>\n",
       "  </tbody>\n",
       "</table>"
      ],
      "text/plain": [
       "<IPython.core.display.HTML object>"
      ]
     },
     "metadata": {},
     "output_type": "display_data"
    },
    {
     "name": "stdout",
     "output_type": "stream",
     "text": [
      "\n"
     ]
    }
   ],
   "source": [
    "see(msft.quarterly_earnings,\"msft.quarterly_earnings\")"
   ]
  },
  {
   "cell_type": "markdown",
   "id": "334710d7-9d33-4373-b888-9144e35049c2",
   "metadata": {},
   "source": [
    "<font size = 4><span style = 'background-color: #ddddff; padding: 5px 5px 3px 5px; line-height: 1.5; color:black;border-radius: 3px;'>**.quarterly_financials**"
   ]
  },
  {
   "cell_type": "code",
   "execution_count": 102,
   "id": "3adde22d-88a8-40a5-8a07-268a6a235d65",
   "metadata": {},
   "outputs": [
    {
     "data": {
      "text/html": [
       "<span style = 'display: block; width: 330.0px; \t\t\t\t\t\tline-height: 2; background: #333333;\t\t\t\t\t\tmargin-left: auto; margin-right: auto;\t\t\t\t\t\tborder: 1px solid text_color;\t\t\t\t\t\tborder-radius: 3px; text-align: center;\t\t\t\t\t\tpadding: 3px 8px 3px 8px;'>\t\t\t\t\t\t<b><font size=4><text style=color:white>msft.quarterly_financials.head(5)\t\t\t\t\t\t</text></font></b></style>"
      ],
      "text/plain": [
       "<IPython.core.display.HTML object>"
      ]
     },
     "metadata": {},
     "output_type": "display_data"
    },
    {
     "data": {
      "text/html": [
       "<center><table border=\"1\" class=\"dataframe\">\n",
       "  <thead>\n",
       "    <tr style=\"text-align: right;\">\n",
       "      <th></th>\n",
       "      <th>2022-09-30 00:00:00</th>\n",
       "      <th>2022-06-30 00:00:00</th>\n",
       "      <th>2022-03-31 00:00:00</th>\n",
       "      <th>2021-12-31 00:00:00</th>\n",
       "    </tr>\n",
       "  </thead>\n",
       "  <tbody>\n",
       "    <tr>\n",
       "      <th>Total Revenue</th>\n",
       "      <td>50,122,000,000.00</td>\n",
       "      <td>51,865,000,000.00</td>\n",
       "      <td>49,360,000,000.00</td>\n",
       "      <td>51,728,000,000.00</td>\n",
       "    </tr>\n",
       "    <tr>\n",
       "      <th>Operating Revenue</th>\n",
       "      <td>50,122,000,000.00</td>\n",
       "      <td>51,865,000,000.00</td>\n",
       "      <td>49,360,000,000.00</td>\n",
       "      <td>51,728,000,000.00</td>\n",
       "    </tr>\n",
       "    <tr>\n",
       "      <th>Cost Of Revenue</th>\n",
       "      <td>15,452,000,000.00</td>\n",
       "      <td>16,429,000,000.00</td>\n",
       "      <td>15,615,000,000.00</td>\n",
       "      <td>16,960,000,000.00</td>\n",
       "    </tr>\n",
       "    <tr>\n",
       "      <th>Gross Profit</th>\n",
       "      <td>34,670,000,000.00</td>\n",
       "      <td>35,436,000,000.00</td>\n",
       "      <td>33,745,000,000.00</td>\n",
       "      <td>34,768,000,000.00</td>\n",
       "    </tr>\n",
       "    <tr>\n",
       "      <th>Operating Expense</th>\n",
       "      <td>13,152,000,000.00</td>\n",
       "      <td>14,902,000,000.00</td>\n",
       "      <td>13,381,000,000.00</td>\n",
       "      <td>12,521,000,000.00</td>\n",
       "    </tr>\n",
       "  </tbody>\n",
       "</table>"
      ],
      "text/plain": [
       "<IPython.core.display.HTML object>"
      ]
     },
     "metadata": {},
     "output_type": "display_data"
    },
    {
     "name": "stdout",
     "output_type": "stream",
     "text": [
      "\n"
     ]
    }
   ],
   "source": [
    "see(msft.quarterly_financials.head(5),\"msft.quarterly_financials.head(5)\")"
   ]
  },
  {
   "cell_type": "markdown",
   "id": "541ca11c-621a-4f41-91cf-532f827afe4e",
   "metadata": {},
   "source": [
    "<font size = 4><span style = 'background-color: #ddddff; padding: 5px 5px 3px 5px; line-height: 1.5; color:black;border-radius: 3px;'>**.quarterly_income_stmt**"
   ]
  },
  {
   "cell_type": "code",
   "execution_count": 103,
   "id": "574137b9-6eec-4b99-ab83-4ca510d2e109",
   "metadata": {},
   "outputs": [
    {
     "data": {
      "text/html": [
       "<span style = 'display: block; width: 340.0px; \t\t\t\t\t\tline-height: 2; background: #333333;\t\t\t\t\t\tmargin-left: auto; margin-right: auto;\t\t\t\t\t\tborder: 1px solid text_color;\t\t\t\t\t\tborder-radius: 3px; text-align: center;\t\t\t\t\t\tpadding: 3px 8px 3px 8px;'>\t\t\t\t\t\t<b><font size=4><text style=color:white>msft.quarterly_income_stmt.head(5)\t\t\t\t\t\t</text></font></b></style>"
      ],
      "text/plain": [
       "<IPython.core.display.HTML object>"
      ]
     },
     "metadata": {},
     "output_type": "display_data"
    },
    {
     "data": {
      "text/html": [
       "<center><table border=\"1\" class=\"dataframe\">\n",
       "  <thead>\n",
       "    <tr style=\"text-align: right;\">\n",
       "      <th></th>\n",
       "      <th>2022-09-30 00:00:00</th>\n",
       "      <th>2022-06-30 00:00:00</th>\n",
       "      <th>2022-03-31 00:00:00</th>\n",
       "      <th>2021-12-31 00:00:00</th>\n",
       "    </tr>\n",
       "  </thead>\n",
       "  <tbody>\n",
       "    <tr>\n",
       "      <th>Total Revenue</th>\n",
       "      <td>50,122,000,000.00</td>\n",
       "      <td>51,865,000,000.00</td>\n",
       "      <td>49,360,000,000.00</td>\n",
       "      <td>51,728,000,000.00</td>\n",
       "    </tr>\n",
       "    <tr>\n",
       "      <th>Operating Revenue</th>\n",
       "      <td>50,122,000,000.00</td>\n",
       "      <td>51,865,000,000.00</td>\n",
       "      <td>49,360,000,000.00</td>\n",
       "      <td>51,728,000,000.00</td>\n",
       "    </tr>\n",
       "    <tr>\n",
       "      <th>Cost Of Revenue</th>\n",
       "      <td>15,452,000,000.00</td>\n",
       "      <td>16,429,000,000.00</td>\n",
       "      <td>15,615,000,000.00</td>\n",
       "      <td>16,960,000,000.00</td>\n",
       "    </tr>\n",
       "    <tr>\n",
       "      <th>Gross Profit</th>\n",
       "      <td>34,670,000,000.00</td>\n",
       "      <td>35,436,000,000.00</td>\n",
       "      <td>33,745,000,000.00</td>\n",
       "      <td>34,768,000,000.00</td>\n",
       "    </tr>\n",
       "    <tr>\n",
       "      <th>Operating Expense</th>\n",
       "      <td>13,152,000,000.00</td>\n",
       "      <td>14,902,000,000.00</td>\n",
       "      <td>13,381,000,000.00</td>\n",
       "      <td>12,521,000,000.00</td>\n",
       "    </tr>\n",
       "  </tbody>\n",
       "</table>"
      ],
      "text/plain": [
       "<IPython.core.display.HTML object>"
      ]
     },
     "metadata": {},
     "output_type": "display_data"
    },
    {
     "name": "stdout",
     "output_type": "stream",
     "text": [
      "\n"
     ]
    }
   ],
   "source": [
    "see(msft.quarterly_income_stmt.head(5),\"msft.quarterly_income_stmt.head(5)\")"
   ]
  },
  {
   "cell_type": "markdown",
   "id": "6effdde2-a598-4733-9f13-d2ec8aa9f172",
   "metadata": {},
   "source": [
    "<font size = 4><span style = 'background-color: #ddddff; padding: 5px 5px 3px 5px; line-height: 1.5; color:black;border-radius: 3px;'>**.recommendations**"
   ]
  },
  {
   "cell_type": "code",
   "execution_count": 104,
   "id": "6de45615-bbf8-4170-9b52-07208e77f47b",
   "metadata": {},
   "outputs": [
    {
     "data": {
      "text/html": [
       "<span style = 'display: block; width: 280.0px; \t\t\t\t\t\tline-height: 2; background: #333333;\t\t\t\t\t\tmargin-left: auto; margin-right: auto;\t\t\t\t\t\tborder: 1px solid text_color;\t\t\t\t\t\tborder-radius: 3px; text-align: center;\t\t\t\t\t\tpadding: 3px 8px 3px 8px;'>\t\t\t\t\t\t<b><font size=4><text style=color:white>msft.recommendations.head(5)\t\t\t\t\t\t</text></font></b></style>"
      ],
      "text/plain": [
       "<IPython.core.display.HTML object>"
      ]
     },
     "metadata": {},
     "output_type": "display_data"
    },
    {
     "data": {
      "text/html": [
       "<center><table border=\"1\" class=\"dataframe\">\n",
       "  <thead>\n",
       "    <tr style=\"text-align: right;\">\n",
       "      <th></th>\n",
       "      <th>Firm</th>\n",
       "      <th>To Grade</th>\n",
       "      <th>From Grade</th>\n",
       "      <th>Action</th>\n",
       "    </tr>\n",
       "    <tr>\n",
       "      <th>Date</th>\n",
       "      <th></th>\n",
       "      <th></th>\n",
       "      <th></th>\n",
       "      <th></th>\n",
       "    </tr>\n",
       "  </thead>\n",
       "  <tbody>\n",
       "    <tr>\n",
       "      <th>2012-03-16</th>\n",
       "      <td>Argus Research</td>\n",
       "      <td>Buy</td>\n",
       "      <td></td>\n",
       "      <td>up</td>\n",
       "    </tr>\n",
       "    <tr>\n",
       "      <th>2012-03-19</th>\n",
       "      <td>Hilliard Lyons</td>\n",
       "      <td>Long-Term Buy</td>\n",
       "      <td></td>\n",
       "      <td>main</td>\n",
       "    </tr>\n",
       "    <tr>\n",
       "      <th>2012-03-22</th>\n",
       "      <td>Morgan Stanley</td>\n",
       "      <td>Overweight</td>\n",
       "      <td></td>\n",
       "      <td>main</td>\n",
       "    </tr>\n",
       "    <tr>\n",
       "      <th>2012-04-03</th>\n",
       "      <td>UBS</td>\n",
       "      <td>Buy</td>\n",
       "      <td></td>\n",
       "      <td>main</td>\n",
       "    </tr>\n",
       "    <tr>\n",
       "      <th>2012-04-20</th>\n",
       "      <td>Deutsche Bank</td>\n",
       "      <td>Buy</td>\n",
       "      <td></td>\n",
       "      <td>main</td>\n",
       "    </tr>\n",
       "  </tbody>\n",
       "</table>"
      ],
      "text/plain": [
       "<IPython.core.display.HTML object>"
      ]
     },
     "metadata": {},
     "output_type": "display_data"
    },
    {
     "name": "stdout",
     "output_type": "stream",
     "text": [
      "\n"
     ]
    }
   ],
   "source": [
    "see(msft.recommendations.head(5),\"msft.recommendations.head(5)\")"
   ]
  },
  {
   "cell_type": "markdown",
   "id": "5bebf0da-3b94-471f-87bd-5bc5008bf03e",
   "metadata": {},
   "source": [
    "<font size = 4><span style = 'background-color: #ddddff; padding: 5px 5px 3px 5px; line-height: 1.5; color:black;border-radius: 3px;'>**.recommendations_summary**"
   ]
  },
  {
   "cell_type": "code",
   "execution_count": 105,
   "id": "47405ec5-889e-4170-8881-af04d171ee8a",
   "metadata": {},
   "outputs": [
    {
     "data": {
      "text/html": [
       "<span style = 'display: block; width: 360.0px; \t\t\t\t\t\tline-height: 2; background: #333333;\t\t\t\t\t\tmargin-left: auto; margin-right: auto;\t\t\t\t\t\tborder: 1px solid text_color;\t\t\t\t\t\tborder-radius: 3px; text-align: center;\t\t\t\t\t\tpadding: 3px 8px 3px 8px;'>\t\t\t\t\t\t<b><font size=4><text style=color:white>msft.recommendations_summary.head(5)\t\t\t\t\t\t</text></font></b></style>"
      ],
      "text/plain": [
       "<IPython.core.display.HTML object>"
      ]
     },
     "metadata": {},
     "output_type": "display_data"
    },
    {
     "data": {
      "text/html": [
       "<center><table border=\"1\" class=\"dataframe\">\n",
       "  <thead>\n",
       "    <tr style=\"text-align: right;\">\n",
       "      <th></th>\n",
       "      <th>Firm</th>\n",
       "      <th>To Grade</th>\n",
       "      <th>From Grade</th>\n",
       "      <th>Action</th>\n",
       "    </tr>\n",
       "    <tr>\n",
       "      <th>Date</th>\n",
       "      <th></th>\n",
       "      <th></th>\n",
       "      <th></th>\n",
       "      <th></th>\n",
       "    </tr>\n",
       "  </thead>\n",
       "  <tbody>\n",
       "    <tr>\n",
       "      <th>2012-03-16</th>\n",
       "      <td>Argus Research</td>\n",
       "      <td>Buy</td>\n",
       "      <td></td>\n",
       "      <td>up</td>\n",
       "    </tr>\n",
       "    <tr>\n",
       "      <th>2012-03-19</th>\n",
       "      <td>Hilliard Lyons</td>\n",
       "      <td>Long-Term Buy</td>\n",
       "      <td></td>\n",
       "      <td>main</td>\n",
       "    </tr>\n",
       "    <tr>\n",
       "      <th>2012-03-22</th>\n",
       "      <td>Morgan Stanley</td>\n",
       "      <td>Overweight</td>\n",
       "      <td></td>\n",
       "      <td>main</td>\n",
       "    </tr>\n",
       "    <tr>\n",
       "      <th>2012-04-03</th>\n",
       "      <td>UBS</td>\n",
       "      <td>Buy</td>\n",
       "      <td></td>\n",
       "      <td>main</td>\n",
       "    </tr>\n",
       "    <tr>\n",
       "      <th>2012-04-20</th>\n",
       "      <td>Deutsche Bank</td>\n",
       "      <td>Buy</td>\n",
       "      <td></td>\n",
       "      <td>main</td>\n",
       "    </tr>\n",
       "  </tbody>\n",
       "</table>"
      ],
      "text/plain": [
       "<IPython.core.display.HTML object>"
      ]
     },
     "metadata": {},
     "output_type": "display_data"
    },
    {
     "name": "stdout",
     "output_type": "stream",
     "text": [
      "\n"
     ]
    }
   ],
   "source": [
    "see(msft.recommendations_summary.head(5),\"msft.recommendations_summary.head(5)\")"
   ]
  },
  {
   "cell_type": "markdown",
   "id": "1d104444-668f-4040-8b14-71a3ff8785dd",
   "metadata": {},
   "source": [
    "<font size = 4><span style = 'background-color: #ddddff; padding: 5px 5px 3px 5px; line-height: 1.5; color:black;border-radius: 3px;'>**.revenue_forecasts**"
   ]
  },
  {
   "cell_type": "code",
   "execution_count": 106,
   "id": "1cb51bc9-af7e-40c5-b657-a3cacef80b05",
   "metadata": {},
   "outputs": [
    {
     "data": {
      "text/html": [
       "<span style = 'display: block; width: 220.0px; \t\t\t\t\t\tline-height: 2; background: #333333;\t\t\t\t\t\tmargin-left: auto; margin-right: auto;\t\t\t\t\t\tborder: 1px solid text_color;\t\t\t\t\t\tborder-radius: 3px; text-align: center;\t\t\t\t\t\tpadding: 3px 8px 3px 8px;'>\t\t\t\t\t\t<b><font size=4><text style=color:white>msft.revenue_forecasts\t\t\t\t\t\t</text></font></b></style>"
      ],
      "text/plain": [
       "<IPython.core.display.HTML object>"
      ]
     },
     "metadata": {},
     "output_type": "display_data"
    },
    {
     "data": {
      "text/html": [
       "<center><table border=\"1\" class=\"dataframe\">\n",
       "  <thead>\n",
       "    <tr style=\"text-align: right;\">\n",
       "      <th></th>\n",
       "      <th>avg</th>\n",
       "      <th>low</th>\n",
       "      <th>high</th>\n",
       "      <th>numberOfAnalysts</th>\n",
       "      <th>yearAgoRevenue</th>\n",
       "      <th>growth</th>\n",
       "      <th>period</th>\n",
       "      <th>endDate</th>\n",
       "    </tr>\n",
       "  </thead>\n",
       "  <tbody>\n",
       "    <tr>\n",
       "      <th>0</th>\n",
       "      <td>52,986,600,000.00</td>\n",
       "      <td>52,389,000,000.00</td>\n",
       "      <td>53,871,800,000.00</td>\n",
       "      <td>33.00</td>\n",
       "      <td>51,728,000,000.00</td>\n",
       "      <td>0.02</td>\n",
       "      <td>0q</td>\n",
       "      <td>2022-12-31</td>\n",
       "    </tr>\n",
       "    <tr>\n",
       "      <th>1</th>\n",
       "      <td>52,516,800,000.00</td>\n",
       "      <td>49,186,000,000.00</td>\n",
       "      <td>54,999,400,000.00</td>\n",
       "      <td>32.00</td>\n",
       "      <td>49,360,000,000.00</td>\n",
       "      <td>0.06</td>\n",
       "      <td>+1q</td>\n",
       "      <td>2023-03-31</td>\n",
       "    </tr>\n",
       "    <tr>\n",
       "      <th>2</th>\n",
       "      <td>212,964,000,000.00</td>\n",
       "      <td>205,383,000,000.00</td>\n",
       "      <td>241,257,000,000.00</td>\n",
       "      <td>47.00</td>\n",
       "      <td>198,270,000,000.00</td>\n",
       "      <td>0.07</td>\n",
       "      <td>0y</td>\n",
       "      <td>2023-06-30</td>\n",
       "    </tr>\n",
       "    <tr>\n",
       "      <th>3</th>\n",
       "      <td>239,627,000,000.00</td>\n",
       "      <td>215,371,000,000.00</td>\n",
       "      <td>259,099,000,000.00</td>\n",
       "      <td>46.00</td>\n",
       "      <td>212,964,000,000.00</td>\n",
       "      <td>0.12</td>\n",
       "      <td>+1y</td>\n",
       "      <td>2024-06-30</td>\n",
       "    </tr>\n",
       "    <tr>\n",
       "      <th>4</th>\n",
       "      <td>NaN</td>\n",
       "      <td>NaN</td>\n",
       "      <td>NaN</td>\n",
       "      <td>NaN</td>\n",
       "      <td>NaN</td>\n",
       "      <td>NaN</td>\n",
       "      <td>+5y</td>\n",
       "      <td>None</td>\n",
       "    </tr>\n",
       "    <tr>\n",
       "      <th>5</th>\n",
       "      <td>NaN</td>\n",
       "      <td>NaN</td>\n",
       "      <td>NaN</td>\n",
       "      <td>NaN</td>\n",
       "      <td>NaN</td>\n",
       "      <td>NaN</td>\n",
       "      <td>-5y</td>\n",
       "      <td>None</td>\n",
       "    </tr>\n",
       "  </tbody>\n",
       "</table>"
      ],
      "text/plain": [
       "<IPython.core.display.HTML object>"
      ]
     },
     "metadata": {},
     "output_type": "display_data"
    },
    {
     "name": "stdout",
     "output_type": "stream",
     "text": [
      "\n"
     ]
    }
   ],
   "source": [
    "see(msft.revenue_forecasts,\"msft.revenue_forecasts\")"
   ]
  },
  {
   "cell_type": "markdown",
   "id": "e1901b35-a68b-4fd7-9188-c1e5e9699f4b",
   "metadata": {},
   "source": [
    "<font size = 4><span style = 'background-color: #ddddff; padding: 5px 5px 3px 5px; line-height: 1.5; color:black;border-radius: 3px;'>**.shares**"
   ]
  },
  {
   "cell_type": "code",
   "execution_count": 107,
   "id": "d75cd5e2-a6a8-4d4f-bc68-508736be3a50",
   "metadata": {},
   "outputs": [
    {
     "data": {
      "text/html": [
       "<span style = 'display: block; width: 110.0px; \t\t\t\t\t\tline-height: 2; background: #333333;\t\t\t\t\t\tmargin-left: auto; margin-right: auto;\t\t\t\t\t\tborder: 1px solid text_color;\t\t\t\t\t\tborder-radius: 3px; text-align: center;\t\t\t\t\t\tpadding: 3px 8px 3px 8px;'>\t\t\t\t\t\t<b><font size=4><text style=color:white>msft.shares\t\t\t\t\t\t</text></font></b></style>"
      ],
      "text/plain": [
       "<IPython.core.display.HTML object>"
      ]
     },
     "metadata": {},
     "output_type": "display_data"
    },
    {
     "data": {
      "text/html": [
       "<center><table border=\"1\" class=\"dataframe\">\n",
       "  <thead>\n",
       "    <tr style=\"text-align: right;\">\n",
       "      <th></th>\n",
       "      <th>BasicShares</th>\n",
       "    </tr>\n",
       "    <tr>\n",
       "      <th>Year</th>\n",
       "      <th></th>\n",
       "    </tr>\n",
       "  </thead>\n",
       "  <tbody>\n",
       "    <tr>\n",
       "      <th>2019</th>\n",
       "      <td>7673000000</td>\n",
       "    </tr>\n",
       "    <tr>\n",
       "      <th>2020</th>\n",
       "      <td>7610000000</td>\n",
       "    </tr>\n",
       "    <tr>\n",
       "      <th>2021</th>\n",
       "      <td>7547000000</td>\n",
       "    </tr>\n",
       "    <tr>\n",
       "      <th>2022</th>\n",
       "      <td>7496000000</td>\n",
       "    </tr>\n",
       "  </tbody>\n",
       "</table>"
      ],
      "text/plain": [
       "<IPython.core.display.HTML object>"
      ]
     },
     "metadata": {},
     "output_type": "display_data"
    },
    {
     "name": "stdout",
     "output_type": "stream",
     "text": [
      "\n"
     ]
    }
   ],
   "source": [
    "see(msft.shares,\"msft.shares\")"
   ]
  },
  {
   "cell_type": "markdown",
   "id": "f6991714-763d-49ae-aee3-15abbd784055",
   "metadata": {},
   "source": [
    "<font size = 4><span style = 'background-color: #ddddff; padding: 5px 5px 3px 5px; line-height: 1.5; color:black;border-radius: 3px;'>**.sustainability**"
   ]
  },
  {
   "cell_type": "code",
   "execution_count": 108,
   "id": "14147af1-8df8-4918-9905-0c9b8fe5753c",
   "metadata": {},
   "outputs": [
    {
     "data": {
      "text/html": [
       "<span style = 'display: block; width: 190.0px; \t\t\t\t\t\tline-height: 2; background: #333333;\t\t\t\t\t\tmargin-left: auto; margin-right: auto;\t\t\t\t\t\tborder: 1px solid text_color;\t\t\t\t\t\tborder-radius: 3px; text-align: center;\t\t\t\t\t\tpadding: 3px 8px 3px 8px;'>\t\t\t\t\t\t<b><font size=4><text style=color:white>msft.sustainability\t\t\t\t\t\t</text></font></b></style>"
      ],
      "text/plain": [
       "<IPython.core.display.HTML object>"
      ]
     },
     "metadata": {},
     "output_type": "display_data"
    },
    {
     "data": {
      "text/html": [
       "<center><table border=\"1\" class=\"dataframe\">\n",
       "  <thead>\n",
       "    <tr style=\"text-align: right;\">\n",
       "      <th></th>\n",
       "      <th>Value</th>\n",
       "    </tr>\n",
       "    <tr>\n",
       "      <th>2022-8</th>\n",
       "      <th></th>\n",
       "    </tr>\n",
       "  </thead>\n",
       "  <tbody>\n",
       "    <tr>\n",
       "      <th>palmOil</th>\n",
       "      <td>False</td>\n",
       "    </tr>\n",
       "    <tr>\n",
       "      <th>controversialWeapons</th>\n",
       "      <td>False</td>\n",
       "    </tr>\n",
       "    <tr>\n",
       "      <th>gambling</th>\n",
       "      <td>False</td>\n",
       "    </tr>\n",
       "    <tr>\n",
       "      <th>socialScore</th>\n",
       "      <td>8.39</td>\n",
       "    </tr>\n",
       "    <tr>\n",
       "      <th>nuclear</th>\n",
       "      <td>False</td>\n",
       "    </tr>\n",
       "    <tr>\n",
       "      <th>furLeather</th>\n",
       "      <td>False</td>\n",
       "    </tr>\n",
       "    <tr>\n",
       "      <th>alcoholic</th>\n",
       "      <td>False</td>\n",
       "    </tr>\n",
       "    <tr>\n",
       "      <th>gmo</th>\n",
       "      <td>False</td>\n",
       "    </tr>\n",
       "    <tr>\n",
       "      <th>catholic</th>\n",
       "      <td>False</td>\n",
       "    </tr>\n",
       "    <tr>\n",
       "      <th>socialPercentile</th>\n",
       "      <td>None</td>\n",
       "    </tr>\n",
       "    <tr>\n",
       "      <th>peerCount</th>\n",
       "      <td>105</td>\n",
       "    </tr>\n",
       "    <tr>\n",
       "      <th>governanceScore</th>\n",
       "      <td>5.33</td>\n",
       "    </tr>\n",
       "    <tr>\n",
       "      <th>environmentPercentile</th>\n",
       "      <td>None</td>\n",
       "    </tr>\n",
       "    <tr>\n",
       "      <th>animalTesting</th>\n",
       "      <td>False</td>\n",
       "    </tr>\n",
       "    <tr>\n",
       "      <th>tobacco</th>\n",
       "      <td>False</td>\n",
       "    </tr>\n",
       "    <tr>\n",
       "      <th>totalEsg</th>\n",
       "      <td>15.24</td>\n",
       "    </tr>\n",
       "    <tr>\n",
       "      <th>highestControversy</th>\n",
       "      <td>3</td>\n",
       "    </tr>\n",
       "    <tr>\n",
       "      <th>esgPerformance</th>\n",
       "      <td>UNDER_PERF</td>\n",
       "    </tr>\n",
       "    <tr>\n",
       "      <th>coal</th>\n",
       "      <td>False</td>\n",
       "    </tr>\n",
       "    <tr>\n",
       "      <th>pesticides</th>\n",
       "      <td>False</td>\n",
       "    </tr>\n",
       "    <tr>\n",
       "      <th>adult</th>\n",
       "      <td>False</td>\n",
       "    </tr>\n",
       "    <tr>\n",
       "      <th>percentile</th>\n",
       "      <td>10.73</td>\n",
       "    </tr>\n",
       "    <tr>\n",
       "      <th>peerGroup</th>\n",
       "      <td>Software &amp; Services</td>\n",
       "    </tr>\n",
       "    <tr>\n",
       "      <th>smallArms</th>\n",
       "      <td>False</td>\n",
       "    </tr>\n",
       "    <tr>\n",
       "      <th>environmentScore</th>\n",
       "      <td>1.53</td>\n",
       "    </tr>\n",
       "    <tr>\n",
       "      <th>governancePercentile</th>\n",
       "      <td>None</td>\n",
       "    </tr>\n",
       "    <tr>\n",
       "      <th>militaryContract</th>\n",
       "      <td>False</td>\n",
       "    </tr>\n",
       "  </tbody>\n",
       "</table>"
      ],
      "text/plain": [
       "<IPython.core.display.HTML object>"
      ]
     },
     "metadata": {},
     "output_type": "display_data"
    },
    {
     "name": "stdout",
     "output_type": "stream",
     "text": [
      "\n"
     ]
    }
   ],
   "source": [
    "see(msft.sustainability,\"msft.sustainability\")"
   ]
  },
  {
   "cell_type": "markdown",
   "id": "159fb6c2-2bc8-4b31-825c-f1bffb005c73",
   "metadata": {},
   "source": [
    "<font size = 4><span style = 'background-color: #ddddff; padding: 5px 5px 3px 5px; line-height: 1.5; color:black;border-radius: 3px;'>**.splits**"
   ]
  },
  {
   "cell_type": "code",
   "execution_count": 109,
   "id": "4f9b710a-a8e8-470e-9ee2-dfdc8b018c07",
   "metadata": {},
   "outputs": [
    {
     "data": {
      "text/html": [
       "<span style = 'display: block; width: 110.0px; \t\t\t\t\t\tline-height: 2; background: #333333;\t\t\t\t\t\tmargin-left: auto; margin-right: auto;\t\t\t\t\t\tborder: 1px solid text_color;\t\t\t\t\t\tborder-radius: 3px; text-align: center;\t\t\t\t\t\tpadding: 3px 8px 3px 8px;'>\t\t\t\t\t\t<b><font size=4><text style=color:white>msft.splits\t\t\t\t\t\t</text></font></b></style>"
      ],
      "text/plain": [
       "<IPython.core.display.HTML object>"
      ]
     },
     "metadata": {},
     "output_type": "display_data"
    },
    {
     "data": {
      "text/html": [
       "<center><table border=\"1\" class=\"dataframe\">\n",
       "  <thead>\n",
       "    <tr style=\"text-align: right;\">\n",
       "      <th></th>\n",
       "      <th>Stock Splits</th>\n",
       "    </tr>\n",
       "    <tr>\n",
       "      <th>Date</th>\n",
       "      <th></th>\n",
       "    </tr>\n",
       "  </thead>\n",
       "  <tbody>\n",
       "    <tr>\n",
       "      <th>1987-09-21</th>\n",
       "      <td>2.00</td>\n",
       "    </tr>\n",
       "    <tr>\n",
       "      <th>1990-04-16</th>\n",
       "      <td>2.00</td>\n",
       "    </tr>\n",
       "    <tr>\n",
       "      <th>1991-06-27</th>\n",
       "      <td>1.50</td>\n",
       "    </tr>\n",
       "    <tr>\n",
       "      <th>1992-06-15</th>\n",
       "      <td>1.50</td>\n",
       "    </tr>\n",
       "    <tr>\n",
       "      <th>1994-05-23</th>\n",
       "      <td>2.00</td>\n",
       "    </tr>\n",
       "    <tr>\n",
       "      <th>1996-12-09</th>\n",
       "      <td>2.00</td>\n",
       "    </tr>\n",
       "    <tr>\n",
       "      <th>1998-02-23</th>\n",
       "      <td>2.00</td>\n",
       "    </tr>\n",
       "    <tr>\n",
       "      <th>1999-03-29</th>\n",
       "      <td>2.00</td>\n",
       "    </tr>\n",
       "    <tr>\n",
       "      <th>2003-02-18</th>\n",
       "      <td>2.00</td>\n",
       "    </tr>\n",
       "  </tbody>\n",
       "</table>"
      ],
      "text/plain": [
       "<IPython.core.display.HTML object>"
      ]
     },
     "metadata": {},
     "output_type": "display_data"
    },
    {
     "name": "stdout",
     "output_type": "stream",
     "text": [
      "\n"
     ]
    }
   ],
   "source": [
    "# show splits\n",
    "see(msft.splits,\"msft.splits\")"
   ]
  },
  {
   "cell_type": "markdown",
   "id": "79a8e57f-c734-404e-9a74-394cea97e9ec",
   "metadata": {},
   "source": [
    "<font size = 4><span style = 'background-color: #ddddff; padding: 5px 5px 3px 5px; line-height: 1.5; color:black;border-radius: 3px;'>**.major_holders**"
   ]
  },
  {
   "cell_type": "code",
   "execution_count": 110,
   "id": "a968db6e-414d-4f6a-9c55-9ffcd8818a19",
   "metadata": {},
   "outputs": [
    {
     "data": {
      "text/html": [
       "<span style = 'display: block; width: 180.0px; \t\t\t\t\t\tline-height: 2; background: #333333;\t\t\t\t\t\tmargin-left: auto; margin-right: auto;\t\t\t\t\t\tborder: 1px solid text_color;\t\t\t\t\t\tborder-radius: 3px; text-align: center;\t\t\t\t\t\tpadding: 3px 8px 3px 8px;'>\t\t\t\t\t\t<b><font size=4><text style=color:white>msft.major_holders\t\t\t\t\t\t</text></font></b></style>"
      ],
      "text/plain": [
       "<IPython.core.display.HTML object>"
      ]
     },
     "metadata": {},
     "output_type": "display_data"
    },
    {
     "data": {
      "text/html": [
       "<center><table border=\"1\" class=\"dataframe\">\n",
       "  <thead>\n",
       "    <tr style=\"text-align: right;\">\n",
       "      <th></th>\n",
       "      <th>0</th>\n",
       "      <th>1</th>\n",
       "    </tr>\n",
       "  </thead>\n",
       "  <tbody>\n",
       "    <tr>\n",
       "      <th>0</th>\n",
       "      <td>0.06%</td>\n",
       "      <td>% of Shares Held by All Insider</td>\n",
       "    </tr>\n",
       "    <tr>\n",
       "      <th>1</th>\n",
       "      <td>73.35%</td>\n",
       "      <td>% of Shares Held by Institutions</td>\n",
       "    </tr>\n",
       "    <tr>\n",
       "      <th>2</th>\n",
       "      <td>73.39%</td>\n",
       "      <td>% of Float Held by Institutions</td>\n",
       "    </tr>\n",
       "    <tr>\n",
       "      <th>3</th>\n",
       "      <td>5960</td>\n",
       "      <td>Number of Institutions Holding Shares</td>\n",
       "    </tr>\n",
       "  </tbody>\n",
       "</table>"
      ],
      "text/plain": [
       "<IPython.core.display.HTML object>"
      ]
     },
     "metadata": {},
     "output_type": "display_data"
    },
    {
     "name": "stdout",
     "output_type": "stream",
     "text": [
      "\n"
     ]
    }
   ],
   "source": [
    "# show major holders\n",
    "see(msft.major_holders,\"msft.major_holders\")"
   ]
  },
  {
   "cell_type": "markdown",
   "id": "c5f6d676-a468-46f7-93a9-c32f3eb99a5b",
   "metadata": {},
   "source": [
    "<font size = 4><span style = 'background-color: #ddddff; padding: 5px 5px 3px 5px; line-height: 1.5; color:black;border-radius: 3px;'>**.institutional_holders**"
   ]
  },
  {
   "cell_type": "code",
   "execution_count": 111,
   "id": "5823095d-e543-4eba-8cee-58f612545d32",
   "metadata": {},
   "outputs": [
    {
     "data": {
      "text/plain": [
       "0    2022-09-29\n",
       "1    2022-09-29\n",
       "2    2022-09-29\n",
       "3    2022-09-29\n",
       "4    2022-09-29\n",
       "5    2022-09-29\n",
       "6    2022-09-29\n",
       "7    2022-09-29\n",
       "8    2022-09-29\n",
       "9    2022-09-29\n",
       "Name: Date Reported, dtype: object"
      ]
     },
     "execution_count": 111,
     "metadata": {},
     "output_type": "execute_result"
    }
   ],
   "source": [
    "# show institutional holders\n",
    "msft.institutional_holders['Date Reported'].dt.strftime('%Y-%m-%d')"
   ]
  },
  {
   "cell_type": "markdown",
   "id": "47b83063-d864-44e9-98a9-81c616c2f83d",
   "metadata": {},
   "source": [
    "<font size = 4><span style = 'background-color: #ddddff; padding: 5px 5px 3px 5px; line-height: 1.5; color:black;border-radius: 3px;'>**.mutualfundholders**"
   ]
  },
  {
   "cell_type": "code",
   "execution_count": 112,
   "id": "5437a461-4990-4d98-9a4a-02ee0024ab7f",
   "metadata": {},
   "outputs": [
    {
     "data": {
      "text/html": [
       "<span style = 'display: block; width: 230.0px; \t\t\t\t\t\tline-height: 2; background: #333333;\t\t\t\t\t\tmargin-left: auto; margin-right: auto;\t\t\t\t\t\tborder: 1px solid text_color;\t\t\t\t\t\tborder-radius: 3px; text-align: center;\t\t\t\t\t\tpadding: 3px 8px 3px 8px;'>\t\t\t\t\t\t<b><font size=4><text style=color:white>msft.mutualfund_holders\t\t\t\t\t\t</text></font></b></style>"
      ],
      "text/plain": [
       "<IPython.core.display.HTML object>"
      ]
     },
     "metadata": {},
     "output_type": "display_data"
    },
    {
     "data": {
      "text/html": [
       "<center><table border=\"1\" class=\"dataframe\">\n",
       "  <thead>\n",
       "    <tr style=\"text-align: right;\">\n",
       "      <th></th>\n",
       "      <th>Holder</th>\n",
       "      <th>Shares</th>\n",
       "      <th>Date Reported</th>\n",
       "      <th>% Out</th>\n",
       "      <th>Value</th>\n",
       "    </tr>\n",
       "  </thead>\n",
       "  <tbody>\n",
       "    <tr>\n",
       "      <th>0</th>\n",
       "      <td>Vanguard Total Stock Market Index Fund</td>\n",
       "      <td>222313847</td>\n",
       "      <td>2022-09-29</td>\n",
       "      <td>0.03</td>\n",
       "      <td>53433134483</td>\n",
       "    </tr>\n",
       "    <tr>\n",
       "      <th>1</th>\n",
       "      <td>Vanguard 500 Index Fund</td>\n",
       "      <td>169062762</td>\n",
       "      <td>2022-09-29</td>\n",
       "      <td>0.02</td>\n",
       "      <td>40634235878</td>\n",
       "    </tr>\n",
       "    <tr>\n",
       "      <th>2</th>\n",
       "      <td>SPDR S&amp;P 500 ETF Trust</td>\n",
       "      <td>82389656</td>\n",
       "      <td>2022-11-29</td>\n",
       "      <td>0.01</td>\n",
       "      <td>19802354322</td>\n",
       "    </tr>\n",
       "    <tr>\n",
       "      <th>3</th>\n",
       "      <td>Fidelity 500 Index Fund</td>\n",
       "      <td>80870977</td>\n",
       "      <td>2022-11-29</td>\n",
       "      <td>0.01</td>\n",
       "      <td>19437339815</td>\n",
       "    </tr>\n",
       "    <tr>\n",
       "      <th>4</th>\n",
       "      <td>iShares Core S&amp;P 500 ETF</td>\n",
       "      <td>66940817</td>\n",
       "      <td>2022-12-30</td>\n",
       "      <td>0.01</td>\n",
       "      <td>16089225774</td>\n",
       "    </tr>\n",
       "    <tr>\n",
       "      <th>5</th>\n",
       "      <td>Invesco ETF Tr-Invesco QQQ Tr, Series 1 ETF</td>\n",
       "      <td>65747097</td>\n",
       "      <td>2022-11-29</td>\n",
       "      <td>0.01</td>\n",
       "      <td>15802315165</td>\n",
       "    </tr>\n",
       "    <tr>\n",
       "      <th>6</th>\n",
       "      <td>Vanguard Growth Index Fund</td>\n",
       "      <td>61426549</td>\n",
       "      <td>2022-09-29</td>\n",
       "      <td>0.01</td>\n",
       "      <td>14763871427</td>\n",
       "    </tr>\n",
       "    <tr>\n",
       "      <th>7</th>\n",
       "      <td>Vanguard Institutional Index Fund-Institutional Index Fund</td>\n",
       "      <td>54149972</td>\n",
       "      <td>2022-09-29</td>\n",
       "      <td>0.01</td>\n",
       "      <td>13014946100</td>\n",
       "    </tr>\n",
       "    <tr>\n",
       "      <th>8</th>\n",
       "      <td>Growth Fund Of America Inc</td>\n",
       "      <td>49038474</td>\n",
       "      <td>2022-09-29</td>\n",
       "      <td>0.01</td>\n",
       "      <td>11786397525</td>\n",
       "    </tr>\n",
       "    <tr>\n",
       "      <th>9</th>\n",
       "      <td>Select Sector SPDR Fund-Technology</td>\n",
       "      <td>35233656</td>\n",
       "      <td>2022-11-29</td>\n",
       "      <td>0.00</td>\n",
       "      <td>8468409434</td>\n",
       "    </tr>\n",
       "  </tbody>\n",
       "</table>"
      ],
      "text/plain": [
       "<IPython.core.display.HTML object>"
      ]
     },
     "metadata": {},
     "output_type": "display_data"
    },
    {
     "name": "stdout",
     "output_type": "stream",
     "text": [
      "\n"
     ]
    }
   ],
   "source": [
    "# show mutualfund holders\n",
    "see(msft.mutualfund_holders,\"msft.mutualfund_holders\")"
   ]
  },
  {
   "cell_type": "markdown",
   "id": "50634384-eb2e-4a8d-a0ac-93ae2ba88e99",
   "metadata": {},
   "source": [
    "<font size = 4><span style = 'background-color: #ddddff; padding: 5px 5px 3px 5px; line-height: 1.5; color:black;border-radius: 3px;'>**.options**"
   ]
  },
  {
   "cell_type": "code",
   "execution_count": 113,
   "id": "33b02cbb-24b3-49e1-b965-909459b51fb9",
   "metadata": {},
   "outputs": [
    {
     "data": {
      "text/plain": [
       "('2023-01-20',\n",
       " '2023-01-27',\n",
       " '2023-02-03',\n",
       " '2023-02-10',\n",
       " '2023-02-17',\n",
       " '2023-02-24',\n",
       " '2023-03-03',\n",
       " '2023-03-17',\n",
       " '2023-04-21',\n",
       " '2023-06-16',\n",
       " '2023-07-21',\n",
       " '2023-08-18',\n",
       " '2023-09-15',\n",
       " '2024-01-19',\n",
       " '2024-06-21',\n",
       " '2025-01-17',\n",
       " '2025-06-20')"
      ]
     },
     "execution_count": 113,
     "metadata": {},
     "output_type": "execute_result"
    }
   ],
   "source": [
    "# show options expirations\n",
    "msft.options"
   ]
  },
  {
   "cell_type": "markdown",
   "id": "1ce48057-10ff-4b96-9265-659a8f04d5f3",
   "metadata": {},
   "source": [
    "<font size = 4><span style = 'background-color: #ddddff; padding: 5px 5px 3px 5px; line-height: 1.5; color:black;border-radius: 3px;'>**.news**"
   ]
  },
  {
   "cell_type": "code",
   "execution_count": 114,
   "id": "6ea90f2d-d1c4-4456-b2b5-cb9e722b7498",
   "metadata": {},
   "outputs": [
    {
     "data": {
      "text/plain": [
       "{'uuid': 'b914a73e-e1f9-388a-a649-ba4f8b2574c0',\n",
       " 'title': 'Market Rally Pauses, Tesla Jumps, Moderna Pops Late; What Investors Need Now',\n",
       " 'publisher': \"Investor's Business Daily\",\n",
       " 'link': 'https://finance.yahoo.com/m/b914a73e-e1f9-388a-a649-ba4f8b2574c0/market-rally-pauses%2C-tesla.html',\n",
       " 'providerPublishTime': 1674001056,\n",
       " 'type': 'STORY',\n",
       " 'thumbnail': {'resolutions': [{'url': 'https://s.yimg.com/uu/api/res/1.2/meY_pPOZbC99Sio9Ig38Vw--~B/aD01NjM7dz0xMDAwO2FwcGlkPXl0YWNoeW9u/https://media.zenfs.com/en/ibd.com/9080cd15e60edbdf44f41f3d46db3472',\n",
       "    'width': 1000,\n",
       "    'height': 563,\n",
       "    'tag': 'original'},\n",
       "   {'url': 'https://s.yimg.com/uu/api/res/1.2/IFQnoqX1cTefxkf8VyAxTA--~B/Zmk9ZmlsbDtoPTE0MDtweW9mZj0wO3c9MTQwO2FwcGlkPXl0YWNoeW9u/https://media.zenfs.com/en/ibd.com/9080cd15e60edbdf44f41f3d46db3472',\n",
       "    'width': 140,\n",
       "    'height': 140,\n",
       "    'tag': '140x140'}]},\n",
       " 'relatedTickers': ['UAL',\n",
       "  '^GSPC',\n",
       "  'TSLA',\n",
       "  'MSFT',\n",
       "  '^DJI',\n",
       "  'COMP',\n",
       "  '^RUT',\n",
       "  'VRTX',\n",
       "  'MRNA']}"
      ]
     },
     "execution_count": 114,
     "metadata": {},
     "output_type": "execute_result"
    }
   ],
   "source": [
    "# show news\n",
    "msft.news[0]"
   ]
  },
  {
   "cell_type": "markdown",
   "id": "c2f37adf-3194-4ddb-a0b9-7a7d8d702edf",
   "metadata": {},
   "source": [
    "<font size = 4><span style = 'background-color: #ddddff; padding: 5px 5px 3px 5px; line-height: 1.5; color:black;border-radius: 3px;'>**.option_chain()**"
   ]
  },
  {
   "cell_type": "code",
   "execution_count": 115,
   "id": "68d95c3a-aef0-47ce-83fc-f15e37bf5002",
   "metadata": {},
   "outputs": [
    {
     "data": {
      "text/plain": [
       "yfinance.ticker.Options"
      ]
     },
     "execution_count": 115,
     "metadata": {},
     "output_type": "execute_result"
    }
   ],
   "source": [
    "# get option chain for specific expiration\n",
    "opt = msft.option_chain('2025-06-20')\n",
    "type(opt)"
   ]
  },
  {
   "cell_type": "markdown",
   "id": "cea4bcad-562e-4554-aaa2-1ce0c6efe089",
   "metadata": {},
   "source": [
    "<font size = 4><span style = 'background-color: #ddddff; padding: 5px 5px 3px 5px; line-height: 1.5; color:black;border-radius: 3px;'>**Cached Session**"
   ]
  },
  {
   "cell_type": "code",
   "execution_count": 116,
   "id": "b6a1d2cd-bc99-4395-a367-eb3626cc90b7",
   "metadata": {},
   "outputs": [
    {
     "data": {
      "text/html": [
       "<div>\n",
       "<style scoped>\n",
       "    .dataframe tbody tr th:only-of-type {\n",
       "        vertical-align: middle;\n",
       "    }\n",
       "\n",
       "    .dataframe tbody tr th {\n",
       "        vertical-align: top;\n",
       "    }\n",
       "\n",
       "    .dataframe thead th {\n",
       "        text-align: right;\n",
       "    }\n",
       "</style>\n",
       "<table border=\"1\" class=\"dataframe\">\n",
       "  <thead>\n",
       "    <tr style=\"text-align: right;\">\n",
       "      <th></th>\n",
       "      <th>Dividends</th>\n",
       "      <th>Stock Splits</th>\n",
       "    </tr>\n",
       "    <tr>\n",
       "      <th>Date</th>\n",
       "      <th></th>\n",
       "      <th></th>\n",
       "    </tr>\n",
       "  </thead>\n",
       "  <tbody>\n",
       "    <tr>\n",
       "      <th>1987-09-21 00:00:00-04:00</th>\n",
       "      <td>0.00</td>\n",
       "      <td>2.00</td>\n",
       "    </tr>\n",
       "    <tr>\n",
       "      <th>1990-04-16 00:00:00-04:00</th>\n",
       "      <td>0.00</td>\n",
       "      <td>2.00</td>\n",
       "    </tr>\n",
       "    <tr>\n",
       "      <th>1991-06-27 00:00:00-04:00</th>\n",
       "      <td>0.00</td>\n",
       "      <td>1.50</td>\n",
       "    </tr>\n",
       "    <tr>\n",
       "      <th>1992-06-15 00:00:00-04:00</th>\n",
       "      <td>0.00</td>\n",
       "      <td>1.50</td>\n",
       "    </tr>\n",
       "    <tr>\n",
       "      <th>1994-05-23 00:00:00-04:00</th>\n",
       "      <td>0.00</td>\n",
       "      <td>2.00</td>\n",
       "    </tr>\n",
       "    <tr>\n",
       "      <th>...</th>\n",
       "      <td>...</td>\n",
       "      <td>...</td>\n",
       "    </tr>\n",
       "    <tr>\n",
       "      <th>2021-11-17 00:00:00-05:00</th>\n",
       "      <td>0.62</td>\n",
       "      <td>0.00</td>\n",
       "    </tr>\n",
       "    <tr>\n",
       "      <th>2022-02-16 00:00:00-05:00</th>\n",
       "      <td>0.62</td>\n",
       "      <td>0.00</td>\n",
       "    </tr>\n",
       "    <tr>\n",
       "      <th>2022-05-18 00:00:00-04:00</th>\n",
       "      <td>0.62</td>\n",
       "      <td>0.00</td>\n",
       "    </tr>\n",
       "    <tr>\n",
       "      <th>2022-08-17 00:00:00-04:00</th>\n",
       "      <td>0.62</td>\n",
       "      <td>0.00</td>\n",
       "    </tr>\n",
       "    <tr>\n",
       "      <th>2022-11-16 00:00:00-05:00</th>\n",
       "      <td>0.68</td>\n",
       "      <td>0.00</td>\n",
       "    </tr>\n",
       "  </tbody>\n",
       "</table>\n",
       "<p>85 rows × 2 columns</p>\n",
       "</div>"
      ],
      "text/plain": [
       "                           Dividends  Stock Splits\n",
       "Date                                              \n",
       "1987-09-21 00:00:00-04:00       0.00          2.00\n",
       "1990-04-16 00:00:00-04:00       0.00          2.00\n",
       "1991-06-27 00:00:00-04:00       0.00          1.50\n",
       "1992-06-15 00:00:00-04:00       0.00          1.50\n",
       "1994-05-23 00:00:00-04:00       0.00          2.00\n",
       "...                              ...           ...\n",
       "2021-11-17 00:00:00-05:00       0.62          0.00\n",
       "2022-02-16 00:00:00-05:00       0.62          0.00\n",
       "2022-05-18 00:00:00-04:00       0.62          0.00\n",
       "2022-08-17 00:00:00-04:00       0.62          0.00\n",
       "2022-11-16 00:00:00-05:00       0.68          0.00\n",
       "\n",
       "[85 rows x 2 columns]"
      ]
     },
     "execution_count": 116,
     "metadata": {},
     "output_type": "execute_result"
    }
   ],
   "source": [
    "import requests_cache\n",
    "session = requests_cache.CachedSession('yfinance.cache')\n",
    "session.headers['User-agent'] = 'my-program/1.0'\n",
    "ticker = yf.Ticker('msft', session=session)\n",
    "# The scraped response will be stored in the cache\n",
    "ticker.actions"
   ]
  },
  {
   "cell_type": "markdown",
   "id": "ba3b2d5d-3302-4f0d-a2a4-3a57c64f1c08",
   "metadata": {},
   "source": [
    "<font size = 4><span style = 'background-color: #ddddff; padding: 5px 5px 3px 5px; line-height: 1.5; color:black;border-radius: 3px;'>**yf.download() parameters**"
   ]
  },
  {
   "cell_type": "code",
   "execution_count": 117,
   "id": "c25cf48f-6a92-4d03-9c70-eb109609e82d",
   "metadata": {},
   "outputs": [
    {
     "name": "stdout",
     "output_type": "stream",
     "text": [
      "[*********************100%***********************]  3 of 3 completed\n"
     ]
    }
   ],
   "source": [
    "data = yf.download(  # or pdr.get_data_yahoo(...\n",
    "        # tickers list or string as well\n",
    "        tickers = \"SPY AAPL MSFT\",\n",
    "\n",
    "        # use \"period\" instead of start/end\n",
    "        # valid periods: 1d,5d,1mo,3mo,6mo,1y,2y,5y,10y,ytd,max\n",
    "        # (optional, default is '1mo')\n",
    "        period = \"ytd\",\n",
    "\n",
    "        # fetch data by interval (including intraday if period < 60 days)\n",
    "        # valid intervals: 1m,2m,5m,15m,30m,60m,90m,1h,1d,5d,1wk,1mo,3mo\n",
    "        # (optional, default is '1d')\n",
    "        interval = \"5d\",\n",
    "\n",
    "        # Whether to ignore timezone when aligning ticker data from \n",
    "        # different timezones. Default is False.\n",
    "        ignore_tz = False,\n",
    "\n",
    "        # group by ticker (to access via data['SPY'])\n",
    "        # (optional, default is 'column')\n",
    "        group_by = 'ticker',\n",
    "\n",
    "        # adjust all OHLC automatically\n",
    "        # (optional, default is False)\n",
    "        auto_adjust = True,\n",
    "\n",
    "        # attempt repair of missing data or currency mixups e.g. $/cents\n",
    "        repair = False,\n",
    "\n",
    "        # download pre/post regular market hours data\n",
    "        # (optional, default is False)\n",
    "        prepost = True,\n",
    "\n",
    "        # use threads for mass downloading? (True/False/Integer)\n",
    "        # (optional, default is True)\n",
    "        threads = True,\n",
    "\n",
    "        # proxy URL scheme use use when downloading?\n",
    "        # (optional, default is None)\n",
    "        proxy = None\n",
    "    )"
   ]
  },
  {
   "cell_type": "code",
   "execution_count": 118,
   "id": "d35f588f-f47a-4348-85c0-b2bd302c8b42",
   "metadata": {},
   "outputs": [
    {
     "name": "stdout",
     "output_type": "stream",
     "text": [
      "\n"
     ]
    },
    {
     "data": {
      "text/html": [
       "<span style = 'display: block; width: 210.0px; \t\t\t\t\t\tline-height: 2; background: #333333;\t\t\t\t\t\tmargin-left: auto; margin-right: auto;\t\t\t\t\t\tborder: 1px solid text_color;\t\t\t\t\t\tborder-radius: 3px; text-align: center;\t\t\t\t\t\tpadding: 3px 8px 3px 8px;'>\t\t\t\t\t\t<b><font size=4><text style=color:white>Example Data: head(5)\t\t\t\t\t\t</text></font></b></style>"
      ],
      "text/plain": [
       "<IPython.core.display.HTML object>"
      ]
     },
     "metadata": {},
     "output_type": "display_data"
    },
    {
     "data": {
      "text/html": [
       "<center><table border=\"1\" class=\"dataframe\">\n",
       "  <thead>\n",
       "    <tr>\n",
       "      <th></th>\n",
       "      <th colspan=\"5\" halign=\"left\">MSFT</th>\n",
       "      <th colspan=\"5\" halign=\"left\">AAPL</th>\n",
       "      <th colspan=\"5\" halign=\"left\">SPY</th>\n",
       "    </tr>\n",
       "    <tr>\n",
       "      <th></th>\n",
       "      <th>Open</th>\n",
       "      <th>High</th>\n",
       "      <th>Low</th>\n",
       "      <th>Close</th>\n",
       "      <th>Volume</th>\n",
       "      <th>Open</th>\n",
       "      <th>High</th>\n",
       "      <th>Low</th>\n",
       "      <th>Close</th>\n",
       "      <th>Volume</th>\n",
       "      <th>Open</th>\n",
       "      <th>High</th>\n",
       "      <th>Low</th>\n",
       "      <th>Close</th>\n",
       "      <th>Volume</th>\n",
       "    </tr>\n",
       "    <tr>\n",
       "      <th>Date</th>\n",
       "      <th></th>\n",
       "      <th></th>\n",
       "      <th></th>\n",
       "      <th></th>\n",
       "      <th></th>\n",
       "      <th></th>\n",
       "      <th></th>\n",
       "      <th></th>\n",
       "      <th></th>\n",
       "      <th></th>\n",
       "      <th></th>\n",
       "      <th></th>\n",
       "      <th></th>\n",
       "      <th></th>\n",
       "      <th></th>\n",
       "    </tr>\n",
       "  </thead>\n",
       "  <tbody>\n",
       "    <tr>\n",
       "      <th>2023-01-03</th>\n",
       "      <td>243.08</td>\n",
       "      <td>245.75</td>\n",
       "      <td>237.40</td>\n",
       "      <td>239.58</td>\n",
       "      <td>25740000</td>\n",
       "      <td>130.28</td>\n",
       "      <td>130.90</td>\n",
       "      <td>124.17</td>\n",
       "      <td>125.07</td>\n",
       "      <td>112117500</td>\n",
       "      <td>384.37</td>\n",
       "      <td>386.43</td>\n",
       "      <td>377.83</td>\n",
       "      <td>380.82</td>\n",
       "      <td>74850700</td>\n",
       "    </tr>\n",
       "    <tr>\n",
       "      <th>2023-01-13</th>\n",
       "      <td>237.00</td>\n",
       "      <td>240.91</td>\n",
       "      <td>234.92</td>\n",
       "      <td>240.35</td>\n",
       "      <td>51054626</td>\n",
       "      <td>132.03</td>\n",
       "      <td>137.29</td>\n",
       "      <td>131.66</td>\n",
       "      <td>135.94</td>\n",
       "      <td>121211444</td>\n",
       "      <td>393.62</td>\n",
       "      <td>400.23</td>\n",
       "      <td>393.34</td>\n",
       "      <td>397.77</td>\n",
       "      <td>125557011</td>\n",
       "    </tr>\n",
       "  </tbody>\n",
       "</table>"
      ],
      "text/plain": [
       "<IPython.core.display.HTML object>"
      ]
     },
     "metadata": {},
     "output_type": "display_data"
    },
    {
     "name": "stdout",
     "output_type": "stream",
     "text": [
      "\n"
     ]
    },
    {
     "data": {
      "text/html": [
       "<span style = 'display: block; width: 210.0px; \t\t\t\t\t\tline-height: 2; background: #333333;\t\t\t\t\t\tmargin-left: auto; margin-right: auto;\t\t\t\t\t\tborder: 1px solid text_color;\t\t\t\t\t\tborder-radius: 3px; text-align: center;\t\t\t\t\t\tpadding: 3px 8px 3px 8px;'>\t\t\t\t\t\t<b><font size=4><text style=color:white>Example Data: tail(5)\t\t\t\t\t\t</text></font></b></style>"
      ],
      "text/plain": [
       "<IPython.core.display.HTML object>"
      ]
     },
     "metadata": {},
     "output_type": "display_data"
    },
    {
     "data": {
      "text/html": [
       "<center><table border=\"1\" class=\"dataframe\">\n",
       "  <thead>\n",
       "    <tr>\n",
       "      <th></th>\n",
       "      <th colspan=\"5\" halign=\"left\">MSFT</th>\n",
       "      <th colspan=\"5\" halign=\"left\">AAPL</th>\n",
       "      <th colspan=\"5\" halign=\"left\">SPY</th>\n",
       "    </tr>\n",
       "    <tr>\n",
       "      <th></th>\n",
       "      <th>Open</th>\n",
       "      <th>High</th>\n",
       "      <th>Low</th>\n",
       "      <th>Close</th>\n",
       "      <th>Volume</th>\n",
       "      <th>Open</th>\n",
       "      <th>High</th>\n",
       "      <th>Low</th>\n",
       "      <th>Close</th>\n",
       "      <th>Volume</th>\n",
       "      <th>Open</th>\n",
       "      <th>High</th>\n",
       "      <th>Low</th>\n",
       "      <th>Close</th>\n",
       "      <th>Volume</th>\n",
       "    </tr>\n",
       "    <tr>\n",
       "      <th>Date</th>\n",
       "      <th></th>\n",
       "      <th></th>\n",
       "      <th></th>\n",
       "      <th></th>\n",
       "      <th></th>\n",
       "      <th></th>\n",
       "      <th></th>\n",
       "      <th></th>\n",
       "      <th></th>\n",
       "      <th></th>\n",
       "      <th></th>\n",
       "      <th></th>\n",
       "      <th></th>\n",
       "      <th></th>\n",
       "      <th></th>\n",
       "    </tr>\n",
       "  </thead>\n",
       "  <tbody>\n",
       "    <tr>\n",
       "      <th>2023-01-03</th>\n",
       "      <td>243.08</td>\n",
       "      <td>245.75</td>\n",
       "      <td>237.40</td>\n",
       "      <td>239.58</td>\n",
       "      <td>25740000</td>\n",
       "      <td>130.28</td>\n",
       "      <td>130.90</td>\n",
       "      <td>124.17</td>\n",
       "      <td>125.07</td>\n",
       "      <td>112117500</td>\n",
       "      <td>384.37</td>\n",
       "      <td>386.43</td>\n",
       "      <td>377.83</td>\n",
       "      <td>380.82</td>\n",
       "      <td>74850700</td>\n",
       "    </tr>\n",
       "    <tr>\n",
       "      <th>2023-01-13</th>\n",
       "      <td>237.00</td>\n",
       "      <td>240.91</td>\n",
       "      <td>234.92</td>\n",
       "      <td>240.35</td>\n",
       "      <td>51054626</td>\n",
       "      <td>132.03</td>\n",
       "      <td>137.29</td>\n",
       "      <td>131.66</td>\n",
       "      <td>135.94</td>\n",
       "      <td>121211444</td>\n",
       "      <td>393.62</td>\n",
       "      <td>400.23</td>\n",
       "      <td>393.34</td>\n",
       "      <td>397.77</td>\n",
       "      <td>125557011</td>\n",
       "    </tr>\n",
       "  </tbody>\n",
       "</table>"
      ],
      "text/plain": [
       "<IPython.core.display.HTML object>"
      ]
     },
     "metadata": {},
     "output_type": "display_data"
    },
    {
     "name": "stdout",
     "output_type": "stream",
     "text": [
      "\n"
     ]
    }
   ],
   "source": [
    "head_tail_vert(data, 5, 'Example Data')"
   ]
  },
  {
   "cell_type": "markdown",
   "id": "adc0e962-0744-4fcd-8d5d-578204f165d4",
   "metadata": {},
   "source": [
    "<a name = 'stock_fundamentals'></a>\n",
    "\n",
    "---\n",
    "\n",
    "**Sections:**  ●  [Top](#top)  ●  [Download & Import](#downloading_importing)  ●  [Historical Data](#historical_data)  ●  [Setting Date Range](#date_range)  ●  [High Frenquency](#high_frequency)   ●  [Splits & Dividends](#splits_dividends)   ●  [Exporting](#exporting)   ●  [Multiple Stocks](#multiple_stocks)   ●  [Importing Indexes](#importing_indexes)   ●  [Currency Exchange](#currency_exchange)   ●  [Cryptocurrencies](#cryptocurrencies)   ●  [Mutual & Exchange Traded Funds](#mututal_funds)   ●  [Treasury Yields](#treasury_yields)   ●  [Ticker Object & Docs](#ticker_object)   ●  [Stock Fundamentals](#stock_fundamentals)   ●  [Importing Financials](#importing_financials)   ●  [Importing Put & Call](#put_call)   ●  [Streaming Real-Time](#streaming_real_time)   ●\n",
    "\n",
    "---\n",
    "\n",
    "<span style = 'background-color: purple; padding: 5px 5px 3px 5px; line-height: 1.5; color:white;border-radius: 3px;'><font size = 4>**▻ Stock Fundamentals, Metadata, Performance Tricks**</font></span>"
   ]
  },
  {
   "cell_type": "code",
   "execution_count": 119,
   "id": "0e92769e-5b9f-47a9-a957-37830cc94e4e",
   "metadata": {},
   "outputs": [],
   "source": [
    "import_all()"
   ]
  },
  {
   "cell_type": "markdown",
   "id": "68cf6430-9d85-4cf9-bb18-5298b0405f7f",
   "metadata": {},
   "source": [
    "<font size = 4><span style = 'background-color: #ddddff; padding: 5px 5px 3px 5px; line-height: 1.5; color:black;border-radius: 3px;'>**⊛ info**: This shows all the fields available with the `info` method"
   ]
  },
  {
   "cell_type": "markdown",
   "id": "90094222-c445-44c9-bb0b-73c7bb8c74b0",
   "metadata": {},
   "source": [
    "<font size = 4><span style = 'background-color: #ddddff; padding: 5px 5px 3px 5px; line-height: 1.5; color:black;border-radius: 3px;'>Example of one of the fields in the info"
   ]
  },
  {
   "cell_type": "code",
   "execution_count": 120,
   "id": "c4c94f3e-2040-4af5-bafb-57a419c87489",
   "metadata": {},
   "outputs": [
    {
     "data": {
      "text/plain": [
       "'The Walt Disney Company, together with its subsidiaries, operates as an entertainment company worldwide. It operates through two segments, Disney Media and Entertainment Distribution; and Disney Parks, Experiences and Products. The company engages in the film and episodic television content production and distribution activities, as well as operates television networks under the ABC, Disney, ESPN, Freeform, FX, Fox, National Geographic, and Star brands; and studios that produces films under the Walt Disney Pictures, Twentieth Century Studios, Marvel, Lucasfilm, Pixar, and Searchlight Pictures banners. It also offers direct-to-consumer streaming services through Disney+, Disney+ Hotstar, ESPN+, Hulu, and Star+; sale/licensing of film and television content to third-party television and subscription video-on-demand services; theatrical, home entertainment, and music distribution services; staging and licensing of live entertainment events; and post-production services by Industrial Light & Magic and Skywalker Sound. In addition, the company operates theme parks and resorts, such as Walt Disney World Resort in Florida; Disneyland Resort in California; Disneyland Paris; Hong Kong Disneyland Resort; and Shanghai Disney Resort; Disney Cruise Line, Disney Vacation Club, National Geographic Expeditions, and Adventures by Disney, as well as Aulani, a Disney resort and spa in Hawaii. Further, it licenses its intellectual property to a third party for the operations of the Tokyo Disney Resort; provides consumer products, including licensing of trade names, characters, visual, literary, and other IP for use on merchandise, published materials, and games; operates a direct-to-home satellite distribution platform; sells branded merchandise through retail, online, and wholesale businesses; and develops and publishes books, comic books, and magazines. The Walt Disney Company was founded in 1923 and is based in Burbank, California.'"
      ]
     },
     "execution_count": 120,
     "metadata": {},
     "output_type": "execute_result"
    }
   ],
   "source": [
    "disney.info['longBusinessSummary']"
   ]
  },
  {
   "cell_type": "markdown",
   "id": "26a133c9-45ef-46d5-ace7-847b5b4e3d0e",
   "metadata": {},
   "source": [
    "<font size = 4><span style = 'background-color: #ddddff; padding: 5px 5px 3px 5px; line-height: 1.5; color:black;border-radius: 3px;'>Another field"
   ]
  },
  {
   "cell_type": "code",
   "execution_count": 121,
   "id": "754fdc90-8f1b-45de-967d-c7444b084e62",
   "metadata": {},
   "outputs": [
    {
     "data": {
      "text/plain": [
       "104.43735"
      ]
     },
     "execution_count": 121,
     "metadata": {},
     "output_type": "execute_result"
    }
   ],
   "source": [
    "disney.info['twoHundredDayAverage']"
   ]
  },
  {
   "cell_type": "markdown",
   "id": "01ef5c03-2efa-4538-bc29-416fd5265a87",
   "metadata": {},
   "source": [
    "<font size = 4><span style = 'background-color: #ddddff; padding: 5px 5px 3px 5px; line-height: 1.5; color:black;border-radius: 3px;'>Converting the info to a Series"
   ]
  },
  {
   "cell_type": "code",
   "execution_count": 122,
   "id": "1151e1a0-fdd6-4725-91df-3668c4fee178",
   "metadata": {},
   "outputs": [
    {
     "data": {
      "text/plain": [
       "zip                                                                91521\n",
       "sector                                            Communication Services\n",
       "fullTimeEmployees                                                 171600\n",
       "longBusinessSummary    The Walt Disney Company, together with its sub...\n",
       "city                                                             Burbank\n",
       "                                             ...                        \n",
       "coinMarketCapLink                                                   None\n",
       "regularMarketPrice                                                 99.91\n",
       "preMarketPrice                                                    100.37\n",
       "logo_url               https://logo.clearbit.com/thewaltdisneycompany...\n",
       "trailingPegRatio                                                    0.80\n",
       "Length: 154, dtype: object"
      ]
     },
     "execution_count": 122,
     "metadata": {},
     "output_type": "execute_result"
    }
   ],
   "source": [
    "pd.Series(disney.info)"
   ]
  },
  {
   "cell_type": "markdown",
   "id": "e7c112a6-eeed-4b11-8411-2a4586665f57",
   "metadata": {},
   "source": [
    "<font size = 4><span style = 'background-color: #ddddff; padding: 5px 5px 3px 5px; line-height: 1.5; color:black;border-radius: 3px;'>for-loop to add Microsoft and Facebook to the df:"
   ]
  },
  {
   "cell_type": "code",
   "execution_count": 123,
   "id": "65d42552-de23-4ead-92ad-ec3ed4836cac",
   "metadata": {},
   "outputs": [
    {
     "data": {
      "text/html": [
       "<div>\n",
       "<style scoped>\n",
       "    .dataframe tbody tr th:only-of-type {\n",
       "        vertical-align: middle;\n",
       "    }\n",
       "\n",
       "    .dataframe tbody tr th {\n",
       "        vertical-align: top;\n",
       "    }\n",
       "\n",
       "    .dataframe thead th {\n",
       "        text-align: right;\n",
       "    }\n",
       "</style>\n",
       "<table border=\"1\" class=\"dataframe\">\n",
       "  <thead>\n",
       "    <tr style=\"text-align: right;\">\n",
       "      <th></th>\n",
       "      <th>zip</th>\n",
       "      <th>sector</th>\n",
       "      <th>fullTimeEmployees</th>\n",
       "      <th>longBusinessSummary</th>\n",
       "      <th>city</th>\n",
       "      <th>phone</th>\n",
       "      <th>state</th>\n",
       "      <th>country</th>\n",
       "      <th>companyOfficers</th>\n",
       "      <th>website</th>\n",
       "      <th>...</th>\n",
       "      <th>bid</th>\n",
       "      <th>tradeable</th>\n",
       "      <th>dividendYield</th>\n",
       "      <th>bidSize</th>\n",
       "      <th>dayHigh</th>\n",
       "      <th>coinMarketCapLink</th>\n",
       "      <th>regularMarketPrice</th>\n",
       "      <th>preMarketPrice</th>\n",
       "      <th>logo_url</th>\n",
       "      <th>trailingPegRatio</th>\n",
       "    </tr>\n",
       "  </thead>\n",
       "  <tbody>\n",
       "    <tr>\n",
       "      <th>DIS</th>\n",
       "      <td>91521</td>\n",
       "      <td>Communication Services</td>\n",
       "      <td>171600</td>\n",
       "      <td>The Walt Disney Company, together with its sub...</td>\n",
       "      <td>Burbank</td>\n",
       "      <td>818 560 1000</td>\n",
       "      <td>CA</td>\n",
       "      <td>United States</td>\n",
       "      <td>[]</td>\n",
       "      <td>https://www.thewaltdisneycompany.com</td>\n",
       "      <td>...</td>\n",
       "      <td>99.61</td>\n",
       "      <td>False</td>\n",
       "      <td>NaN</td>\n",
       "      <td>900</td>\n",
       "      <td>100.99</td>\n",
       "      <td>None</td>\n",
       "      <td>99.91</td>\n",
       "      <td>100.37</td>\n",
       "      <td>https://logo.clearbit.com/thewaltdisneycompany...</td>\n",
       "      <td>0.80</td>\n",
       "    </tr>\n",
       "    <tr>\n",
       "      <th>MSFT</th>\n",
       "      <td>98052-6399</td>\n",
       "      <td>Technology</td>\n",
       "      <td>221000</td>\n",
       "      <td>Microsoft Corporation develops, licenses, and ...</td>\n",
       "      <td>Redmond</td>\n",
       "      <td>425 882 8080</td>\n",
       "      <td>WA</td>\n",
       "      <td>United States</td>\n",
       "      <td>[]</td>\n",
       "      <td>https://www.microsoft.com</td>\n",
       "      <td>...</td>\n",
       "      <td>239.37</td>\n",
       "      <td>False</td>\n",
       "      <td>0.01</td>\n",
       "      <td>800</td>\n",
       "      <td>240.91</td>\n",
       "      <td>None</td>\n",
       "      <td>240.35</td>\n",
       "      <td>237.98</td>\n",
       "      <td>https://logo.clearbit.com/microsoft.com</td>\n",
       "      <td>2.04</td>\n",
       "    </tr>\n",
       "    <tr>\n",
       "      <th>META</th>\n",
       "      <td>94025</td>\n",
       "      <td>Communication Services</td>\n",
       "      <td>87314</td>\n",
       "      <td>Meta Platforms, Inc. develops products that en...</td>\n",
       "      <td>Menlo Park</td>\n",
       "      <td>650 543 4800</td>\n",
       "      <td>CA</td>\n",
       "      <td>United States</td>\n",
       "      <td>[]</td>\n",
       "      <td>https://investor.fb.com</td>\n",
       "      <td>...</td>\n",
       "      <td>134.81</td>\n",
       "      <td>False</td>\n",
       "      <td>None</td>\n",
       "      <td>900</td>\n",
       "      <td>136.75</td>\n",
       "      <td>None</td>\n",
       "      <td>135.36</td>\n",
       "      <td>136.50</td>\n",
       "      <td>https://logo.clearbit.com/investor.fb.com</td>\n",
       "      <td>3.02</td>\n",
       "    </tr>\n",
       "  </tbody>\n",
       "</table>\n",
       "<p>3 rows × 154 columns</p>\n",
       "</div>"
      ],
      "text/plain": [
       "             zip                  sector fullTimeEmployees  \\\n",
       "DIS        91521  Communication Services            171600   \n",
       "MSFT  98052-6399              Technology            221000   \n",
       "META       94025  Communication Services             87314   \n",
       "\n",
       "                                    longBusinessSummary        city  \\\n",
       "DIS   The Walt Disney Company, together with its sub...     Burbank   \n",
       "MSFT  Microsoft Corporation develops, licenses, and ...     Redmond   \n",
       "META  Meta Platforms, Inc. develops products that en...  Menlo Park   \n",
       "\n",
       "             phone state        country companyOfficers  \\\n",
       "DIS   818 560 1000    CA  United States              []   \n",
       "MSFT  425 882 8080    WA  United States              []   \n",
       "META  650 543 4800    CA  United States              []   \n",
       "\n",
       "                                   website  ...    bid tradeable  \\\n",
       "DIS   https://www.thewaltdisneycompany.com  ...  99.61     False   \n",
       "MSFT             https://www.microsoft.com  ... 239.37     False   \n",
       "META               https://investor.fb.com  ... 134.81     False   \n",
       "\n",
       "     dividendYield bidSize dayHigh coinMarketCapLink regularMarketPrice  \\\n",
       "DIS            NaN     900  100.99              None              99.91   \n",
       "MSFT          0.01     800  240.91              None             240.35   \n",
       "META          None     900  136.75              None             135.36   \n",
       "\n",
       "     preMarketPrice                                           logo_url  \\\n",
       "DIS          100.37  https://logo.clearbit.com/thewaltdisneycompany...   \n",
       "MSFT         237.98            https://logo.clearbit.com/microsoft.com   \n",
       "META         136.50          https://logo.clearbit.com/investor.fb.com   \n",
       "\n",
       "     trailingPegRatio  \n",
       "DIS              0.80  \n",
       "MSFT             2.04  \n",
       "META             3.02  \n",
       "\n",
       "[3 rows x 154 columns]"
      ]
     },
     "execution_count": 123,
     "metadata": {},
     "output_type": "execute_result"
    }
   ],
   "source": [
    "df = pd.Series(disney.info, name = 'DIS').to_frame().T\n",
    "\n",
    "tickers = ['MSFT', 'META']\n",
    "\n",
    "for company in tickers:\n",
    "\tdf.loc[f'{company}'] = pd.Series(yf.Ticker(company).info)\n",
    "\n",
    "df"
   ]
  },
  {
   "cell_type": "markdown",
   "id": "ea48face-0ee2-4b8e-bf9d-1dc69a6bb43d",
   "metadata": {},
   "source": [
    "<font size = 4><span style = 'background-color: #ddddff; padding: 5px 5px 3px 5px; line-height: 1.5; color:black;border-radius: 3px;'>**⊛ Create a dataframe of info for any ticker list**:"
   ]
  },
  {
   "cell_type": "code",
   "execution_count": 124,
   "id": "ab8030c6-0749-41cf-8d9c-82ed4f617c7b",
   "metadata": {},
   "outputs": [],
   "source": [
    "def company_info_dataframer(ticker_list):\n",
    "\tdf = pd.DataFrame(columns = list(yf.Ticker(ticker_list[0]).info.keys()))\n",
    "\tfor company in ticker_list:\n",
    "\t\tdf.loc[f'{company}'] = pd.Series(yf.Ticker(company).info)\n",
    "\t\n",
    "\treturn df"
   ]
  },
  {
   "cell_type": "markdown",
   "id": "5523a35c-c007-4bfa-a566-933106c6f010",
   "metadata": {},
   "source": [
    "<font size = 4><span style = 'background-color: #ddddff; padding: 5px 5px 3px 5px; line-height: 1.5; color:black;border-radius: 3px;'>⊛ Getting **\"trending tickers\"** from the YFinance site:\n",
    "* Changing the `% Change` column to float so that the table can be sorted descending by the % change\n",
    "* The **top ten positive percent change companies** will be added to the dataframe\n",
    "* Removing the indexes from the possible stocks to get info about"
   ]
  },
  {
   "cell_type": "code",
   "execution_count": 125,
   "id": "51834e03-43be-45eb-b959-077e2bb38d5c",
   "metadata": {},
   "outputs": [
    {
     "data": {
      "text/html": [
       "<span style = 'display: block; width: 330.0px; \t\t\t\t\t\tline-height: 2; background: #333333;\t\t\t\t\t\tmargin-left: auto; margin-right: auto;\t\t\t\t\t\tborder: 1px solid text_color;\t\t\t\t\t\tborder-radius: 3px; text-align: center;\t\t\t\t\t\tpadding: 3px 8px 3px 8px;'>\t\t\t\t\t\t<b><font size=4><text style=color:white>Yahoo Finance: 30 Trending Stocks\t\t\t\t\t\t</text></font></b></style>"
      ],
      "text/plain": [
       "<IPython.core.display.HTML object>"
      ]
     },
     "metadata": {},
     "output_type": "display_data"
    },
    {
     "data": {
      "text/html": [
       "<center><table border=\"1\" class=\"dataframe\">\n",
       "  <thead>\n",
       "    <tr style=\"text-align: right;\">\n",
       "      <th></th>\n",
       "      <th>Symbol</th>\n",
       "      <th>Name</th>\n",
       "      <th>Last Price</th>\n",
       "      <th>Change</th>\n",
       "      <th>% Change</th>\n",
       "    </tr>\n",
       "  </thead>\n",
       "  <tbody>\n",
       "    <tr>\n",
       "      <th>0</th>\n",
       "      <td>TSLA</td>\n",
       "      <td>Tesla, Inc.</td>\n",
       "      <td>131.49</td>\n",
       "      <td>9.09</td>\n",
       "      <td>7.43</td>\n",
       "    </tr>\n",
       "    <tr>\n",
       "      <th>1</th>\n",
       "      <td>UAL</td>\n",
       "      <td>United Airlines Holdings, Inc.</td>\n",
       "      <td>51.20</td>\n",
       "      <td>-0.45</td>\n",
       "      <td>-0.87</td>\n",
       "    </tr>\n",
       "    <tr>\n",
       "      <th>2</th>\n",
       "      <td>AMC</td>\n",
       "      <td>AMC Entertainment Holdings, Inc.</td>\n",
       "      <td>6.07</td>\n",
       "      <td>1.01</td>\n",
       "      <td>19.96</td>\n",
       "    </tr>\n",
       "    <tr>\n",
       "      <th>3</th>\n",
       "      <td>MRNA</td>\n",
       "      <td>Moderna, Inc.</td>\n",
       "      <td>190.69</td>\n",
       "      <td>-1.31</td>\n",
       "      <td>-0.68</td>\n",
       "    </tr>\n",
       "    <tr>\n",
       "      <th>4</th>\n",
       "      <td>NVDA</td>\n",
       "      <td>NVIDIA Corporation</td>\n",
       "      <td>177.02</td>\n",
       "      <td>8.03</td>\n",
       "      <td>4.75</td>\n",
       "    </tr>\n",
       "    <tr>\n",
       "      <th>5</th>\n",
       "      <td>GS</td>\n",
       "      <td>The Goldman Sachs Group, Inc.</td>\n",
       "      <td>349.92</td>\n",
       "      <td>-24.08</td>\n",
       "      <td>-6.44</td>\n",
       "    </tr>\n",
       "    <tr>\n",
       "      <th>6</th>\n",
       "      <td>RBLX</td>\n",
       "      <td>Roblox Corporation</td>\n",
       "      <td>37.12</td>\n",
       "      <td>3.91</td>\n",
       "      <td>11.77</td>\n",
       "    </tr>\n",
       "    <tr>\n",
       "      <th>7</th>\n",
       "      <td>BBBY</td>\n",
       "      <td>Bed Bath &amp; Beyond Inc.</td>\n",
       "      <td>4.14</td>\n",
       "      <td>0.48</td>\n",
       "      <td>13.11</td>\n",
       "    </tr>\n",
       "    <tr>\n",
       "      <th>8</th>\n",
       "      <td>MS</td>\n",
       "      <td>Morgan Stanley</td>\n",
       "      <td>97.08</td>\n",
       "      <td>5.42</td>\n",
       "      <td>5.91</td>\n",
       "    </tr>\n",
       "    <tr>\n",
       "      <th>9</th>\n",
       "      <td>APE</td>\n",
       "      <td>AMC Entertainment Holdings, Inc.</td>\n",
       "      <td>1.70</td>\n",
       "      <td>0.18</td>\n",
       "      <td>11.84</td>\n",
       "    </tr>\n",
       "    <tr>\n",
       "      <th>10</th>\n",
       "      <td>GME</td>\n",
       "      <td>GameStop Corp.</td>\n",
       "      <td>21.80</td>\n",
       "      <td>1.31</td>\n",
       "      <td>6.39</td>\n",
       "    </tr>\n",
       "    <tr>\n",
       "      <th>11</th>\n",
       "      <td>XELA</td>\n",
       "      <td>Exela Technologies, Inc.</td>\n",
       "      <td>0.09</td>\n",
       "      <td>0.02</td>\n",
       "      <td>29.59</td>\n",
       "    </tr>\n",
       "    <tr>\n",
       "      <th>12</th>\n",
       "      <td>ATXI</td>\n",
       "      <td>Avenue Therapeutics, Inc.</td>\n",
       "      <td>1.99</td>\n",
       "      <td>0.75</td>\n",
       "      <td>60.48</td>\n",
       "    </tr>\n",
       "    <tr>\n",
       "      <th>13</th>\n",
       "      <td>ZOM</td>\n",
       "      <td>Zomedica Corp.</td>\n",
       "      <td>0.29</td>\n",
       "      <td>0.04</td>\n",
       "      <td>17.01</td>\n",
       "    </tr>\n",
       "    <tr>\n",
       "      <th>14</th>\n",
       "      <td>MSFT</td>\n",
       "      <td>Microsoft Corporation</td>\n",
       "      <td>240.35</td>\n",
       "      <td>1.12</td>\n",
       "      <td>0.47</td>\n",
       "    </tr>\n",
       "    <tr>\n",
       "      <th>15</th>\n",
       "      <td>IBKR</td>\n",
       "      <td>Interactive Brokers Group, Inc.</td>\n",
       "      <td>77.19</td>\n",
       "      <td>-0.02</td>\n",
       "      <td>-0.03</td>\n",
       "    </tr>\n",
       "    <tr>\n",
       "      <th>16</th>\n",
       "      <td>AAL</td>\n",
       "      <td>American Airlines Group Inc.</td>\n",
       "      <td>17.08</td>\n",
       "      <td>0.06</td>\n",
       "      <td>0.35</td>\n",
       "    </tr>\n",
       "    <tr>\n",
       "      <th>17</th>\n",
       "      <td>PFE</td>\n",
       "      <td>Pfizer Inc.</td>\n",
       "      <td>46.08</td>\n",
       "      <td>-1.77</td>\n",
       "      <td>-3.70</td>\n",
       "    </tr>\n",
       "    <tr>\n",
       "      <th>18</th>\n",
       "      <td>FUV</td>\n",
       "      <td>Arcimoto, Inc.</td>\n",
       "      <td>6.12</td>\n",
       "      <td>1.46</td>\n",
       "      <td>31.33</td>\n",
       "    </tr>\n",
       "    <tr>\n",
       "      <th>19</th>\n",
       "      <td>DAL</td>\n",
       "      <td>Delta Air Lines, Inc.</td>\n",
       "      <td>38.26</td>\n",
       "      <td>0.06</td>\n",
       "      <td>0.16</td>\n",
       "    </tr>\n",
       "    <tr>\n",
       "      <th>20</th>\n",
       "      <td>ATER</td>\n",
       "      <td>Aterian, Inc.</td>\n",
       "      <td>1.33</td>\n",
       "      <td>0.36</td>\n",
       "      <td>37.35</td>\n",
       "    </tr>\n",
       "    <tr>\n",
       "      <th>21</th>\n",
       "      <td>RIG</td>\n",
       "      <td>Transocean Ltd.</td>\n",
       "      <td>6.07</td>\n",
       "      <td>0.41</td>\n",
       "      <td>7.24</td>\n",
       "    </tr>\n",
       "    <tr>\n",
       "      <th>22</th>\n",
       "      <td>SQQQ</td>\n",
       "      <td>ProShares UltraPro Short QQQ</td>\n",
       "      <td>45.62</td>\n",
       "      <td>-0.19</td>\n",
       "      <td>-0.41</td>\n",
       "    </tr>\n",
       "    <tr>\n",
       "      <th>23</th>\n",
       "      <td>MULN</td>\n",
       "      <td>Mullen Automotive, Inc.</td>\n",
       "      <td>0.30</td>\n",
       "      <td>-0.06</td>\n",
       "      <td>-15.97</td>\n",
       "    </tr>\n",
       "    <tr>\n",
       "      <th>24</th>\n",
       "      <td>SPY</td>\n",
       "      <td>SPDR S&amp;P 500 ETF Trust</td>\n",
       "      <td>397.77</td>\n",
       "      <td>-0.73</td>\n",
       "      <td>-0.18</td>\n",
       "    </tr>\n",
       "    <tr>\n",
       "      <th>25</th>\n",
       "      <td>IQ</td>\n",
       "      <td>iQIYI, Inc.</td>\n",
       "      <td>5.59</td>\n",
       "      <td>-1.10</td>\n",
       "      <td>-16.44</td>\n",
       "    </tr>\n",
       "    <tr>\n",
       "      <th>26</th>\n",
       "      <td>EMR</td>\n",
       "      <td>Emerson Electric Co.</td>\n",
       "      <td>91.24</td>\n",
       "      <td>-6.68</td>\n",
       "      <td>-6.82</td>\n",
       "    </tr>\n",
       "    <tr>\n",
       "      <th>27</th>\n",
       "      <td>XPEV</td>\n",
       "      <td>XPeng Inc.</td>\n",
       "      <td>9.36</td>\n",
       "      <td>-0.63</td>\n",
       "      <td>-6.31</td>\n",
       "    </tr>\n",
       "    <tr>\n",
       "      <th>28</th>\n",
       "      <td>SOFI</td>\n",
       "      <td>SoFi Technologies, Inc.</td>\n",
       "      <td>5.64</td>\n",
       "      <td>0.20</td>\n",
       "      <td>3.68</td>\n",
       "    </tr>\n",
       "    <tr>\n",
       "      <th>29</th>\n",
       "      <td>LAND</td>\n",
       "      <td>Gladstone Land Corporation</td>\n",
       "      <td>20.10</td>\n",
       "      <td>0.18</td>\n",
       "      <td>0.90</td>\n",
       "    </tr>\n",
       "  </tbody>\n",
       "</table>"
      ],
      "text/plain": [
       "<IPython.core.display.HTML object>"
      ]
     },
     "metadata": {},
     "output_type": "display_data"
    },
    {
     "name": "stdout",
     "output_type": "stream",
     "text": [
      "\n"
     ]
    }
   ],
   "source": [
    "ticker_table = pd.read_html(\"https://finance.yahoo.com/lookup/\")[0]\n",
    "ticker_table[\"% Change\"] = pd.Series([float(x[:-1]) for x in ticker_table['% Change']])\n",
    "see(ticker_table, \"Yahoo Finance: 30 Trending Stocks\")"
   ]
  },
  {
   "cell_type": "markdown",
   "id": "37d7c524-e6a2-456b-be54-d85c592da45a",
   "metadata": {},
   "source": [
    "<font size = 4><span style = 'background-color: #ddddff; padding: 5px 5px 3px 5px; line-height: 1.5; color:black;border-radius: 3px;'>Creating list of the trending tickers and passing to the dataframe making function:"
   ]
  },
  {
   "cell_type": "code",
   "execution_count": 126,
   "id": "d506e13d-29d0-41f9-880e-e90f1130f131",
   "metadata": {},
   "outputs": [],
   "source": [
    "trending_tickers = ticker_table[~ticker_table.Symbol.str.contains('\\^')]\\\n",
    "\t\t\t\t\t\t\t\t.sort_values(\"% Change\", ascending = False).head(10)\n",
    "\n",
    "trending_tickers = list(trending_tickers.Symbol)\n",
    "trending_tickers_info = company_info_dataframer(trending_tickers)"
   ]
  },
  {
   "cell_type": "markdown",
   "id": "809806f6-7eec-4976-ae85-86db8c237823",
   "metadata": {},
   "source": [
    "<font size = 4><span style = 'background-color: #ddddff; padding: 5px 5px 3px 5px; line-height: 1.5; color:black;border-radius: 3px;'>Choosing a few main columns to display:"
   ]
  },
  {
   "cell_type": "code",
   "execution_count": 127,
   "id": "f1e25555-7643-430d-9dd5-fb60d17a9385",
   "metadata": {},
   "outputs": [
    {
     "data": {
      "text/html": [
       "<span style = 'display: block; width: 490.0px; \t\t\t\t\t\tline-height: 2; background: #333333;\t\t\t\t\t\tmargin-left: auto; margin-right: auto;\t\t\t\t\t\tborder: 1px solid text_color;\t\t\t\t\t\tborder-radius: 3px; text-align: center;\t\t\t\t\t\tpadding: 3px 8px 3px 8px;'>\t\t\t\t\t\t<b><font size=4><text style=color:white>Top 10 Daily Trending Stocks: Company Information\t\t\t\t\t\t</text></font></b></style>"
      ],
      "text/plain": [
       "<IPython.core.display.HTML object>"
      ]
     },
     "metadata": {},
     "output_type": "display_data"
    },
    {
     "data": {
      "text/html": [
       "<center><table border=\"1\" class=\"dataframe\">\n",
       "  <thead>\n",
       "    <tr style=\"text-align: right;\">\n",
       "      <th></th>\n",
       "      <th>shortName</th>\n",
       "      <th>sector</th>\n",
       "      <th>market</th>\n",
       "      <th>fullTimeEmployees</th>\n",
       "      <th>city</th>\n",
       "      <th>country</th>\n",
       "      <th>currentPrice</th>\n",
       "    </tr>\n",
       "  </thead>\n",
       "  <tbody>\n",
       "    <tr>\n",
       "      <th>TSLA</th>\n",
       "      <td>Tesla, Inc.</td>\n",
       "      <td>Consumer Cyclical</td>\n",
       "      <td>us_market</td>\n",
       "      <td>99290</td>\n",
       "      <td>Austin</td>\n",
       "      <td>United States</td>\n",
       "      <td>131.49</td>\n",
       "    </tr>\n",
       "    <tr>\n",
       "      <th>RBLX</th>\n",
       "      <td>Roblox Corporation</td>\n",
       "      <td>Communication Services</td>\n",
       "      <td>us_market</td>\n",
       "      <td>1600</td>\n",
       "      <td>San Mateo</td>\n",
       "      <td>United States</td>\n",
       "      <td>37.12</td>\n",
       "    </tr>\n",
       "    <tr>\n",
       "      <th>FUV</th>\n",
       "      <td>Arcimoto, Inc.</td>\n",
       "      <td>Consumer Cyclical</td>\n",
       "      <td>us_market</td>\n",
       "      <td>325</td>\n",
       "      <td>Eugene</td>\n",
       "      <td>United States</td>\n",
       "      <td>6.12</td>\n",
       "    </tr>\n",
       "    <tr>\n",
       "      <th>AMC</th>\n",
       "      <td>AMC Entertainment Holdings, Inc</td>\n",
       "      <td>Communication Services</td>\n",
       "      <td>us_market</td>\n",
       "      <td>3046</td>\n",
       "      <td>Leawood</td>\n",
       "      <td>United States</td>\n",
       "      <td>6.07</td>\n",
       "    </tr>\n",
       "    <tr>\n",
       "      <th>BBBY</th>\n",
       "      <td>Bed Bath &amp; Beyond Inc.</td>\n",
       "      <td>Consumer Cyclical</td>\n",
       "      <td>us_market</td>\n",
       "      <td>32000</td>\n",
       "      <td>Union</td>\n",
       "      <td>United States</td>\n",
       "      <td>4.14</td>\n",
       "    </tr>\n",
       "    <tr>\n",
       "      <th>ATXI</th>\n",
       "      <td>Avenue Therapeutics, Inc.</td>\n",
       "      <td>Healthcare</td>\n",
       "      <td>us_market</td>\n",
       "      <td>4</td>\n",
       "      <td>New York</td>\n",
       "      <td>United States</td>\n",
       "      <td>1.99</td>\n",
       "    </tr>\n",
       "    <tr>\n",
       "      <th>APE</th>\n",
       "      <td>AMC Entertainment Holdings, Inc</td>\n",
       "      <td>Communication Services</td>\n",
       "      <td>us_market</td>\n",
       "      <td>3046</td>\n",
       "      <td>Leawood</td>\n",
       "      <td>United States</td>\n",
       "      <td>1.70</td>\n",
       "    </tr>\n",
       "    <tr>\n",
       "      <th>ATER</th>\n",
       "      <td>Aterian, Inc.</td>\n",
       "      <td>Consumer Cyclical</td>\n",
       "      <td>us_market</td>\n",
       "      <td>156</td>\n",
       "      <td>New York</td>\n",
       "      <td>United States</td>\n",
       "      <td>1.33</td>\n",
       "    </tr>\n",
       "    <tr>\n",
       "      <th>ZOM</th>\n",
       "      <td>Zomedica Corp.</td>\n",
       "      <td>Healthcare</td>\n",
       "      <td>us_market</td>\n",
       "      <td>47</td>\n",
       "      <td>Ann Arbor</td>\n",
       "      <td>United States</td>\n",
       "      <td>0.29</td>\n",
       "    </tr>\n",
       "    <tr>\n",
       "      <th>XELA</th>\n",
       "      <td>Exela Technologies, Inc.</td>\n",
       "      <td>Technology</td>\n",
       "      <td>us_market</td>\n",
       "      <td>16500</td>\n",
       "      <td>Irving</td>\n",
       "      <td>United States</td>\n",
       "      <td>0.09</td>\n",
       "    </tr>\n",
       "  </tbody>\n",
       "</table>"
      ],
      "text/plain": [
       "<IPython.core.display.HTML object>"
      ]
     },
     "metadata": {},
     "output_type": "display_data"
    },
    {
     "name": "stdout",
     "output_type": "stream",
     "text": [
      "\n"
     ]
    }
   ],
   "source": [
    "current_cols = ['shortName', 'sector', 'market', 'fullTimeEmployees', \n",
    "\t\t\t\t'city', 'country', 'currentPrice']\n",
    "see(trending_tickers_info[current_cols].sort_values(\"currentPrice\", ascending=False), \n",
    "\t\"Top 10 Daily Trending Stocks: Company Information\")"
   ]
  },
  {
   "cell_type": "markdown",
   "id": "420f0538-8473-4ff7-928a-4f14dcb9a673",
   "metadata": {},
   "source": [
    "<a name = 'importing_financials'></a>\n",
    "\n",
    "---\n",
    "\n",
    "**Sections:**  ●  [Top](#top)  ●  [Download & Import](#downloading_importing)  ●  [Historical Data](#historical_data)  ●  [Setting Date Range](#date_range)  ●  [High Frenquency](#high_frequency)   ●  [Splits & Dividends](#splits_dividends)   ●  [Exporting](#exporting)   ●  [Multiple Stocks](#multiple_stocks)   ●  [Importing Indexes](#importing_indexes)   ●  [Currency Exchange](#currency_exchange)   ●  [Cryptocurrencies](#cryptocurrencies)   ●  [Mutual & Exchange Traded Funds](#mututal_funds)   ●  [Treasury Yields](#treasury_yields)   ●  [Ticker Object & Docs](#ticker_object)   ●  [Stock Fundamentals](#stock_fundamentals)   ●  [Importing Financials](#importing_financials)   ●  [Importing Put & Call](#put_call)   ●  [Streaming Real-Time](#streaming_real_time)   ●\n",
    "\n",
    "---\n",
    "\n",
    "<span style = 'background-color: purple; padding: 5px 5px 3px 5px; line-height: 1.5; color:white;border-radius: 3px;'><font size = 4>**▻ Importing Financials: Balance Sheets, Profit and Loss, Cashflow**</font></span>\n"
   ]
  },
  {
   "cell_type": "code",
   "execution_count": 128,
   "id": "3193d62a-da63-45c7-9ed6-718ec68437ff",
   "metadata": {},
   "outputs": [],
   "source": [
    "import_all()"
   ]
  },
  {
   "cell_type": "markdown",
   "id": "71879eca-fb35-42e8-80d5-81a90cbb8326",
   "metadata": {},
   "source": [
    "<font size = 4><span style = 'background-color: #ddddff; padding: 5px 5px 3px 5px; line-height: 1.5; color:black;border-radius: 3px;'>Must start with a ticker object:"
   ]
  },
  {
   "cell_type": "code",
   "execution_count": 129,
   "id": "74975b42-c25f-42a8-945a-858cbecd5287",
   "metadata": {},
   "outputs": [
    {
     "data": {
      "text/plain": [
       "yfinance.Ticker object <DIS>"
      ]
     },
     "execution_count": 129,
     "metadata": {},
     "output_type": "execute_result"
    }
   ],
   "source": [
    "disney"
   ]
  },
  {
   "cell_type": "markdown",
   "id": "dbb4de25-32ce-4bf2-8810-042957b1b1ea",
   "metadata": {},
   "source": [
    "<font size = 4><span style = 'background-color: #ddddff; padding: 5px 5px 3px 5px; line-height: 1.5; color:black;border-radius: 3px;'>**⊛ Balance Sheets**"
   ]
  },
  {
   "cell_type": "code",
   "execution_count": 130,
   "id": "73c8db9b-a972-48ed-9c2c-1d56998216ef",
   "metadata": {},
   "outputs": [
    {
     "data": {
      "text/html": [
       "<span style = 'display: block; width: 290.0px; \t\t\t\t\t\tline-height: 2; background: #333333;\t\t\t\t\t\tmargin-left: auto; margin-right: auto;\t\t\t\t\t\tborder: 1px solid text_color;\t\t\t\t\t\tborder-radius: 3px; text-align: center;\t\t\t\t\t\tpadding: 3px 8px 3px 8px;'>\t\t\t\t\t\t<b><font size=4><text style=color:white>disney.balance_sheet.head(10)\t\t\t\t\t\t</text></font></b></style>"
      ],
      "text/plain": [
       "<IPython.core.display.HTML object>"
      ]
     },
     "metadata": {},
     "output_type": "display_data"
    },
    {
     "data": {
      "text/html": [
       "<center><table border=\"1\" class=\"dataframe\">\n",
       "  <thead>\n",
       "    <tr style=\"text-align: right;\">\n",
       "      <th></th>\n",
       "      <th>2022-09-30 00:00:00</th>\n",
       "      <th>2021-09-30 00:00:00</th>\n",
       "      <th>2020-09-30 00:00:00</th>\n",
       "      <th>2019-09-30 00:00:00</th>\n",
       "    </tr>\n",
       "  </thead>\n",
       "  <tbody>\n",
       "    <tr>\n",
       "      <th>Total Assets</th>\n",
       "      <td>203,631,000,000.00</td>\n",
       "      <td>203,609,000,000.00</td>\n",
       "      <td>201,549,000,000.00</td>\n",
       "      <td>193,984,000,000.00</td>\n",
       "    </tr>\n",
       "    <tr>\n",
       "      <th>Current Assets</th>\n",
       "      <td>29,098,000,000.00</td>\n",
       "      <td>33,657,000,000.00</td>\n",
       "      <td>35,251,000,000.00</td>\n",
       "      <td>28,124,000,000.00</td>\n",
       "    </tr>\n",
       "    <tr>\n",
       "      <th>Cash Cash Equivalents And Short Term Investments</th>\n",
       "      <td>11,615,000,000.00</td>\n",
       "      <td>15,959,000,000.00</td>\n",
       "      <td>17,914,000,000.00</td>\n",
       "      <td>5,418,000,000.00</td>\n",
       "    </tr>\n",
       "    <tr>\n",
       "      <th>Cash And Cash Equivalents</th>\n",
       "      <td>11,615,000,000.00</td>\n",
       "      <td>15,959,000,000.00</td>\n",
       "      <td>17,914,000,000.00</td>\n",
       "      <td>5,418,000,000.00</td>\n",
       "    </tr>\n",
       "    <tr>\n",
       "      <th>Receivables</th>\n",
       "      <td>12,652,000,000.00</td>\n",
       "      <td>13,367,000,000.00</td>\n",
       "      <td>12,708,000,000.00</td>\n",
       "      <td>15,481,000,000.00</td>\n",
       "    </tr>\n",
       "    <tr>\n",
       "      <th>Accounts Receivable</th>\n",
       "      <td>10,811,000,000.00</td>\n",
       "      <td>11,177,000,000.00</td>\n",
       "      <td>11,299,000,000.00</td>\n",
       "      <td>12,882,000,000.00</td>\n",
       "    </tr>\n",
       "    <tr>\n",
       "      <th>Other Receivables</th>\n",
       "      <td>1,999,000,000.00</td>\n",
       "      <td>2,360,000,000.00</td>\n",
       "      <td>1,835,000,000.00</td>\n",
       "      <td>2,894,000,000.00</td>\n",
       "    </tr>\n",
       "    <tr>\n",
       "      <th>Receivables Adjustments Allowances</th>\n",
       "      <td>-158,000,000.00</td>\n",
       "      <td>-170,000,000.00</td>\n",
       "      <td>-426,000,000.00</td>\n",
       "      <td>-295,000,000.00</td>\n",
       "    </tr>\n",
       "    <tr>\n",
       "      <th>Inventory</th>\n",
       "      <td>1,742,000,000.00</td>\n",
       "      <td>1,331,000,000.00</td>\n",
       "      <td>1,583,000,000.00</td>\n",
       "      <td>1,649,000,000.00</td>\n",
       "    </tr>\n",
       "    <tr>\n",
       "      <th>Prepaid Assets</th>\n",
       "      <td>1,890,000,000.00</td>\n",
       "      <td>2,183,000,000.00</td>\n",
       "      <td>2,171,000,000.00</td>\n",
       "      <td>4,597,000,000.00</td>\n",
       "    </tr>\n",
       "  </tbody>\n",
       "</table>"
      ],
      "text/plain": [
       "<IPython.core.display.HTML object>"
      ]
     },
     "metadata": {},
     "output_type": "display_data"
    },
    {
     "name": "stdout",
     "output_type": "stream",
     "text": [
      "\n"
     ]
    }
   ],
   "source": [
    "see(disney.balance_sheet.head(10), 'disney.balance_sheet.head(10)')"
   ]
  },
  {
   "cell_type": "markdown",
   "id": "79c56041-e87a-4a29-b919-2cd17c8899fd",
   "metadata": {},
   "source": [
    "<font size = 4><span style = 'background-color: #ddddff; padding: 5px 5px 3px 5px; line-height: 1.5; color:black;border-radius: 3px;'>**⊛ Financials: Profit and Loss Statement**"
   ]
  },
  {
   "cell_type": "code",
   "execution_count": 131,
   "id": "fd6fb116-f9de-48f8-b6fa-f41855ac73b2",
   "metadata": {},
   "outputs": [
    {
     "data": {
      "text/html": [
       "<span style = 'display: block; width: 260.0px; \t\t\t\t\t\tline-height: 2; background: #333333;\t\t\t\t\t\tmargin-left: auto; margin-right: auto;\t\t\t\t\t\tborder: 1px solid text_color;\t\t\t\t\t\tborder-radius: 3px; text-align: center;\t\t\t\t\t\tpadding: 3px 8px 3px 8px;'>\t\t\t\t\t\t<b><font size=4><text style=color:white>disney.financials.head(10)\t\t\t\t\t\t</text></font></b></style>"
      ],
      "text/plain": [
       "<IPython.core.display.HTML object>"
      ]
     },
     "metadata": {},
     "output_type": "display_data"
    },
    {
     "data": {
      "text/html": [
       "<center><table border=\"1\" class=\"dataframe\">\n",
       "  <thead>\n",
       "    <tr style=\"text-align: right;\">\n",
       "      <th></th>\n",
       "      <th>2022-09-30 00:00:00</th>\n",
       "      <th>2021-09-30 00:00:00</th>\n",
       "      <th>2020-09-30 00:00:00</th>\n",
       "      <th>2019-09-30 00:00:00</th>\n",
       "    </tr>\n",
       "  </thead>\n",
       "  <tbody>\n",
       "    <tr>\n",
       "      <th>Total Revenue</th>\n",
       "      <td>82,722,000,000.00</td>\n",
       "      <td>67,418,000,000.00</td>\n",
       "      <td>65,388,000,000.00</td>\n",
       "      <td>69,570,000,000.00</td>\n",
       "    </tr>\n",
       "    <tr>\n",
       "      <th>Operating Revenue</th>\n",
       "      <td>82,722,000,000.00</td>\n",
       "      <td>67,418,000,000.00</td>\n",
       "      <td>65,388,000,000.00</td>\n",
       "      <td>69,570,000,000.00</td>\n",
       "    </tr>\n",
       "    <tr>\n",
       "      <th>Cost Of Revenue</th>\n",
       "      <td>54,401,000,000.00</td>\n",
       "      <td>45,131,000,000.00</td>\n",
       "      <td>43,880,000,000.00</td>\n",
       "      <td>42,018,000,000.00</td>\n",
       "    </tr>\n",
       "    <tr>\n",
       "      <th>Gross Profit</th>\n",
       "      <td>28,321,000,000.00</td>\n",
       "      <td>22,287,000,000.00</td>\n",
       "      <td>21,508,000,000.00</td>\n",
       "      <td>27,552,000,000.00</td>\n",
       "    </tr>\n",
       "    <tr>\n",
       "      <th>Operating Expense</th>\n",
       "      <td>21,551,000,000.00</td>\n",
       "      <td>18,628,000,000.00</td>\n",
       "      <td>17,714,000,000.00</td>\n",
       "      <td>15,701,000,000.00</td>\n",
       "    </tr>\n",
       "    <tr>\n",
       "      <th>Selling General And Administration</th>\n",
       "      <td>16,388,000,000.00</td>\n",
       "      <td>13,517,000,000.00</td>\n",
       "      <td>12,369,000,000.00</td>\n",
       "      <td>11,541,000,000.00</td>\n",
       "    </tr>\n",
       "    <tr>\n",
       "      <th>Depreciation Amortization Depletion Income Statement</th>\n",
       "      <td>5,163,000,000.00</td>\n",
       "      <td>5,111,000,000.00</td>\n",
       "      <td>5,345,000,000.00</td>\n",
       "      <td>4,160,000,000.00</td>\n",
       "    </tr>\n",
       "    <tr>\n",
       "      <th>Depreciation And Amortization In Income Statement</th>\n",
       "      <td>5,163,000,000.00</td>\n",
       "      <td>5,111,000,000.00</td>\n",
       "      <td>5,345,000,000.00</td>\n",
       "      <td>4,160,000,000.00</td>\n",
       "    </tr>\n",
       "    <tr>\n",
       "      <th>Operating Income</th>\n",
       "      <td>6,770,000,000.00</td>\n",
       "      <td>3,659,000,000.00</td>\n",
       "      <td>3,794,000,000.00</td>\n",
       "      <td>11,851,000,000.00</td>\n",
       "    </tr>\n",
       "    <tr>\n",
       "      <th>Net Non Operating Interest Income Expense</th>\n",
       "      <td>-1,397,000,000.00</td>\n",
       "      <td>-1,406,000,000.00</td>\n",
       "      <td>-1,491,000,000.00</td>\n",
       "      <td>-978,000,000.00</td>\n",
       "    </tr>\n",
       "  </tbody>\n",
       "</table>"
      ],
      "text/plain": [
       "<IPython.core.display.HTML object>"
      ]
     },
     "metadata": {},
     "output_type": "display_data"
    },
    {
     "name": "stdout",
     "output_type": "stream",
     "text": [
      "\n"
     ]
    }
   ],
   "source": [
    "see(disney.financials.head(10), 'disney.financials.head(10)')"
   ]
  },
  {
   "cell_type": "markdown",
   "id": "e705fdec-2791-48c8-b3e2-3984c2aa122f",
   "metadata": {},
   "source": [
    "<font size = 4><span style = 'background-color: #ddddff; padding: 5px 5px 3px 5px; line-height: 1.5; color:black;border-radius: 3px;'>**⊛ Cashflow Statement**"
   ]
  },
  {
   "cell_type": "code",
   "execution_count": 132,
   "id": "a086af39-49bb-4e24-8a50-bfa02fd2636f",
   "metadata": {},
   "outputs": [
    {
     "data": {
      "text/html": [
       "<span style = 'display: block; width: 240.0px; \t\t\t\t\t\tline-height: 2; background: #333333;\t\t\t\t\t\tmargin-left: auto; margin-right: auto;\t\t\t\t\t\tborder: 1px solid text_color;\t\t\t\t\t\tborder-radius: 3px; text-align: center;\t\t\t\t\t\tpadding: 3px 8px 3px 8px;'>\t\t\t\t\t\t<b><font size=4><text style=color:white>disney.cashflow.head(10)\t\t\t\t\t\t</text></font></b></style>"
      ],
      "text/plain": [
       "<IPython.core.display.HTML object>"
      ]
     },
     "metadata": {},
     "output_type": "display_data"
    },
    {
     "data": {
      "text/html": [
       "<center><table border=\"1\" class=\"dataframe\">\n",
       "  <thead>\n",
       "    <tr style=\"text-align: right;\">\n",
       "      <th></th>\n",
       "      <th>2022-09-30 00:00:00</th>\n",
       "      <th>2021-09-30 00:00:00</th>\n",
       "      <th>2020-09-30 00:00:00</th>\n",
       "      <th>2019-09-30 00:00:00</th>\n",
       "    </tr>\n",
       "  </thead>\n",
       "  <tbody>\n",
       "    <tr>\n",
       "      <th>Operating Cash Flow</th>\n",
       "      <td>6,010,000,000.00</td>\n",
       "      <td>5,567,000,000.00</td>\n",
       "      <td>7,618,000,000.00</td>\n",
       "      <td>6,606,000,000.00</td>\n",
       "    </tr>\n",
       "    <tr>\n",
       "      <th>Cash Flow From Continuing Operating Activities</th>\n",
       "      <td>6,002,000,000.00</td>\n",
       "      <td>5,566,000,000.00</td>\n",
       "      <td>7,616,000,000.00</td>\n",
       "      <td>5,984,000,000.00</td>\n",
       "    </tr>\n",
       "    <tr>\n",
       "      <th>Net Income From Continuing Operations</th>\n",
       "      <td>3,553,000,000.00</td>\n",
       "      <td>2,536,000,000.00</td>\n",
       "      <td>-2,442,000,000.00</td>\n",
       "      <td>10,913,000,000.00</td>\n",
       "    </tr>\n",
       "    <tr>\n",
       "      <th>Operating Gains Losses</th>\n",
       "      <td>518,000,000.00</td>\n",
       "      <td>-277,000,000.00</td>\n",
       "      <td>-1,571,000,000.00</td>\n",
       "      <td>-4,691,000,000.00</td>\n",
       "    </tr>\n",
       "    <tr>\n",
       "      <th>Gain Loss On Sale Of Business</th>\n",
       "      <td>NaN</td>\n",
       "      <td>NaN</td>\n",
       "      <td>NaN</td>\n",
       "      <td>-4,794,000,000.00</td>\n",
       "    </tr>\n",
       "    <tr>\n",
       "      <th>Gain Loss On Investment Securities</th>\n",
       "      <td>714,000,000.00</td>\n",
       "      <td>-332,000,000.00</td>\n",
       "      <td>-920,000,000.00</td>\n",
       "      <td>NaN</td>\n",
       "    </tr>\n",
       "    <tr>\n",
       "      <th>Earnings Losses From Equity Investments</th>\n",
       "      <td>-816,000,000.00</td>\n",
       "      <td>-761,000,000.00</td>\n",
       "      <td>-651,000,000.00</td>\n",
       "      <td>103,000,000.00</td>\n",
       "    </tr>\n",
       "    <tr>\n",
       "      <th>Pension And Employee Benefit Expense</th>\n",
       "      <td>620,000,000.00</td>\n",
       "      <td>816,000,000.00</td>\n",
       "      <td>NaN</td>\n",
       "      <td>NaN</td>\n",
       "    </tr>\n",
       "    <tr>\n",
       "      <th>Depreciation Amortization Depletion</th>\n",
       "      <td>5,163,000,000.00</td>\n",
       "      <td>5,111,000,000.00</td>\n",
       "      <td>5,345,000,000.00</td>\n",
       "      <td>4,160,000,000.00</td>\n",
       "    </tr>\n",
       "    <tr>\n",
       "      <th>Depreciation And Amortization</th>\n",
       "      <td>5,163,000,000.00</td>\n",
       "      <td>5,111,000,000.00</td>\n",
       "      <td>5,345,000,000.00</td>\n",
       "      <td>4,160,000,000.00</td>\n",
       "    </tr>\n",
       "  </tbody>\n",
       "</table>"
      ],
      "text/plain": [
       "<IPython.core.display.HTML object>"
      ]
     },
     "metadata": {},
     "output_type": "display_data"
    },
    {
     "name": "stdout",
     "output_type": "stream",
     "text": [
      "\n"
     ]
    }
   ],
   "source": [
    "see(disney.cashflow.head(10), 'disney.cashflow.head(10)')"
   ]
  },
  {
   "cell_type": "markdown",
   "id": "319c611f-05ad-4ecb-a35b-a28e4565c309",
   "metadata": {},
   "source": [
    "<font size = 4><span style = 'background-color: #ddddff; padding: 5px 5px 3px 5px; line-height: 1.5; color:black;border-radius: 3px;'>Creating CSV files of **financials** (profits and losses) from a list of tickers:"
   ]
  },
  {
   "cell_type": "code",
   "execution_count": 133,
   "id": "58aba9fa-6918-481b-bb25-8960771a17fa",
   "metadata": {},
   "outputs": [
    {
     "data": {
      "text/plain": [
       "['ATXI', 'ATER', 'FUV', 'XELA', 'AMC', 'ZOM', 'BBBY', 'APE', 'RBLX', 'TSLA']"
      ]
     },
     "execution_count": 133,
     "metadata": {},
     "output_type": "execute_result"
    }
   ],
   "source": [
    "trending_tickers"
   ]
  },
  {
   "cell_type": "code",
   "execution_count": 134,
   "id": "7b8560b2-78d2-41b8-89a0-a490aa483fff",
   "metadata": {},
   "outputs": [],
   "source": [
    "for ticker in trending_tickers[0:2]:\n",
    "\tyf.Ticker(ticker).financials.to_csv(f\"{ticker}.csv\")"
   ]
  },
  {
   "cell_type": "markdown",
   "id": "ed0d69e5-8c02-402e-a062-0fd600c93467",
   "metadata": {},
   "source": [
    "<font size = 4><span style = 'background-color: #ddddff; padding: 5px 5px 3px 5px; line-height: 1.5; color:black;border-radius: 3px;'>⊛ Creating a combined **most recent financials** dataframe from a list of tickers:"
   ]
  },
  {
   "cell_type": "code",
   "execution_count": 135,
   "id": "a9918797-55a2-4deb-aeeb-340d56365099",
   "metadata": {},
   "outputs": [],
   "source": [
    "def create_financials_df(ticker_list):\n",
    "\trecent_financials = pd.DataFrame(columns = ticker_list)\n",
    "\t\n",
    "\tfor ticker in ticker_list:\n",
    "\t\tticker_df = yf.Ticker(ticker).financials\n",
    "\t\tcolumn_name = str(ticker_df.columns[0])\n",
    "\t\trecent_financials[f\"{ticker}\"] = ticker_df[column_name]\n",
    "\t\t\n",
    "\treturn recent_financials"
   ]
  },
  {
   "cell_type": "markdown",
   "id": "3a2b52c6-c99c-419d-8d74-b01f194455a8",
   "metadata": {},
   "source": [
    "<font size = 4><span style = 'background-color: #ddddff; padding: 5px 5px 3px 5px; line-height: 1.5; color:black;border-radius: 3px;'>Using the function above on the first tickers in the trending list:"
   ]
  },
  {
   "cell_type": "code",
   "execution_count": 136,
   "id": "0909584e-5764-475a-a990-143926d65716",
   "metadata": {},
   "outputs": [],
   "source": [
    "trending_financials_df = create_financials_df(trending_tickers[0:3])"
   ]
  },
  {
   "cell_type": "code",
   "execution_count": 137,
   "id": "4a001874-fab4-4110-b520-45b33331cfa7",
   "metadata": {},
   "outputs": [
    {
     "data": {
      "text/html": [
       "<span style = 'display: block; width: 300.0px; \t\t\t\t\t\tline-height: 2; background: #333333;\t\t\t\t\t\tmargin-left: auto; margin-right: auto;\t\t\t\t\t\tborder: 1px solid text_color;\t\t\t\t\t\tborder-radius: 3px; text-align: center;\t\t\t\t\t\tpadding: 3px 8px 3px 8px;'>\t\t\t\t\t\t<b><font size=4><text style=color:white>trending_financials_df.head(5)\t\t\t\t\t\t</text></font></b></style>"
      ],
      "text/plain": [
       "<IPython.core.display.HTML object>"
      ]
     },
     "metadata": {},
     "output_type": "display_data"
    },
    {
     "data": {
      "text/html": [
       "<center><table border=\"1\" class=\"dataframe\">\n",
       "  <thead>\n",
       "    <tr style=\"text-align: right;\">\n",
       "      <th></th>\n",
       "      <th>ATXI</th>\n",
       "      <th>ATER</th>\n",
       "      <th>FUV</th>\n",
       "    </tr>\n",
       "  </thead>\n",
       "  <tbody>\n",
       "    <tr>\n",
       "      <th>Total Revenue</th>\n",
       "      <td>0.00</td>\n",
       "      <td>247,767,000.00</td>\n",
       "      <td>4,386,222.00</td>\n",
       "    </tr>\n",
       "    <tr>\n",
       "      <th>Operating Revenue</th>\n",
       "      <td>0.00</td>\n",
       "      <td>247,767,000.00</td>\n",
       "      <td>4,386,222.00</td>\n",
       "    </tr>\n",
       "    <tr>\n",
       "      <th>Operating Expense</th>\n",
       "      <td>3,738,000.00</td>\n",
       "      <td>182,305,000.00</td>\n",
       "      <td>32,054,635.00</td>\n",
       "    </tr>\n",
       "    <tr>\n",
       "      <th>Selling General And Administration</th>\n",
       "      <td>2,484,000.00</td>\n",
       "      <td>172,468,000.00</td>\n",
       "      <td>19,948,146.00</td>\n",
       "    </tr>\n",
       "    <tr>\n",
       "      <th>General And Administrative Expense</th>\n",
       "      <td>2,484,000.00</td>\n",
       "      <td>45,099,000.00</td>\n",
       "      <td>12,948,147.00</td>\n",
       "    </tr>\n",
       "  </tbody>\n",
       "</table>"
      ],
      "text/plain": [
       "<IPython.core.display.HTML object>"
      ]
     },
     "metadata": {},
     "output_type": "display_data"
    },
    {
     "name": "stdout",
     "output_type": "stream",
     "text": [
      "\n"
     ]
    }
   ],
   "source": [
    "see(trending_financials_df.head(5), 'trending_financials_df.head(5)')"
   ]
  },
  {
   "cell_type": "markdown",
   "id": "d5a39f35-304f-43fa-84cc-e99796181b9b",
   "metadata": {},
   "source": [
    "<a name = 'put_call'></a>\n",
    "\n",
    "---\n",
    "\n",
    "**Sections:**  ●  [Top](#top)  ●  [Download & Import](#downloading_importing)  ●  [Historical Data](#historical_data)  ●  [Setting Date Range](#date_range)  ●  [High Frenquency](#high_frequency)   ●  [Splits & Dividends](#splits_dividends)   ●  [Exporting](#exporting)   ●  [Multiple Stocks](#multiple_stocks)   ●  [Importing Indexes](#importing_indexes)   ●  [Currency Exchange](#currency_exchange)   ●  [Cryptocurrencies](#cryptocurrencies)   ●  [Mutual & Exchange Traded Funds](#mututal_funds)   ●  [Treasury Yields](#treasury_yields)   ●  [Ticker Object & Docs](#ticker_object)   ●  [Stock Fundamentals](#stock_fundamentals)   ●  [Importing Financials](#importing_financials)   ●  [Importing Put & Call](#put_call)   ●  [Streaming Real-Time](#streaming_real_time)   ●\n",
    "\n",
    "---\n",
    "\n",
    "<span style = 'background-color: purple; padding: 5px 5px 3px 5px; line-height: 1.5; color:white;border-radius: 3px;'><font size = 4>**▻ Importing Put & Call Options (Stocks)**</font></span>\n",
    "* These are complicated financial derivatives"
   ]
  },
  {
   "cell_type": "code",
   "execution_count": 138,
   "id": "95c0ae9b-2b34-4241-a540-ab8494394222",
   "metadata": {},
   "outputs": [],
   "source": [
    "import_all()"
   ]
  },
  {
   "cell_type": "markdown",
   "id": "d42d0560-1a66-4896-9bb8-e519b2391a33",
   "metadata": {},
   "source": [
    "<font size = 4><span style = 'background-color: #ddddff; padding: 5px 5px 3px 5px; line-height: 1.5; color:black;border-radius: 3px;'>Must start with a ticker object:"
   ]
  },
  {
   "cell_type": "code",
   "execution_count": 139,
   "id": "4f466ddd-2bd7-4c43-ab0c-991deb2c0d41",
   "metadata": {},
   "outputs": [
    {
     "data": {
      "text/plain": [
       "yfinance.Ticker object <DIS>"
      ]
     },
     "execution_count": 139,
     "metadata": {},
     "output_type": "execute_result"
    }
   ],
   "source": [
    "disney"
   ]
  },
  {
   "cell_type": "markdown",
   "id": "226e3719-8499-4bd1-a85a-6b75fe30e3bf",
   "metadata": {},
   "source": [
    "<font size = 4><span style = 'background-color: #ddddff; padding: 5px 5px 3px 5px; line-height: 1.5; color:black;border-radius: 3px;'>**⊛ .option_chain()** returns a tuple with two dataframes, to first being call and second put options"
   ]
  },
  {
   "cell_type": "markdown",
   "id": "92ed910a-dec1-4677-9df8-e936a037f807",
   "metadata": {},
   "source": [
    "<font size = 4><span style = 'background-color: #ddddff; padding: 5px 5px 3px 5px; line-height: 1.5; color:black;border-radius: 3px;'>**⊛ Disney Call Options**:"
   ]
  },
  {
   "cell_type": "code",
   "execution_count": 140,
   "id": "71b79643-c821-48a0-94e8-b571ee15bd0b",
   "metadata": {},
   "outputs": [
    {
     "name": "stdout",
     "output_type": "stream",
     "text": [
      "\n"
     ]
    },
    {
     "data": {
      "text/html": [
       "<span style = 'display: block; width: 280.0px; \t\t\t\t\t\tline-height: 2; background: #333333;\t\t\t\t\t\tmargin-left: auto; margin-right: auto;\t\t\t\t\t\tborder: 1px solid text_color;\t\t\t\t\t\tborder-radius: 3px; text-align: center;\t\t\t\t\t\tpadding: 3px 8px 3px 8px;'>\t\t\t\t\t\t<b><font size=4><text style=color:white>Disney Call Options: head(5)\t\t\t\t\t\t</text></font></b></style>"
      ],
      "text/plain": [
       "<IPython.core.display.HTML object>"
      ]
     },
     "metadata": {},
     "output_type": "display_data"
    },
    {
     "data": {
      "text/html": [
       "<center><table border=\"1\" class=\"dataframe\">\n",
       "  <thead>\n",
       "    <tr style=\"text-align: right;\">\n",
       "      <th></th>\n",
       "      <th>contractSymbol</th>\n",
       "      <th>lastTradeDate</th>\n",
       "      <th>strike</th>\n",
       "      <th>lastPrice</th>\n",
       "      <th>bid</th>\n",
       "      <th>ask</th>\n",
       "      <th>change</th>\n",
       "      <th>percentChange</th>\n",
       "      <th>volume</th>\n",
       "      <th>openInterest</th>\n",
       "      <th>impliedVolatility</th>\n",
       "      <th>inTheMoney</th>\n",
       "      <th>contractSize</th>\n",
       "      <th>currency</th>\n",
       "    </tr>\n",
       "  </thead>\n",
       "  <tbody>\n",
       "    <tr>\n",
       "      <th>0</th>\n",
       "      <td>DIS230120C00050000</td>\n",
       "      <td>2023-01-17</td>\n",
       "      <td>50.00</td>\n",
       "      <td>50.25</td>\n",
       "      <td>49.70</td>\n",
       "      <td>50.15</td>\n",
       "      <td>12.90</td>\n",
       "      <td>34.54</td>\n",
       "      <td>1.00</td>\n",
       "      <td>128</td>\n",
       "      <td>2.75</td>\n",
       "      <td>True</td>\n",
       "      <td>REGULAR</td>\n",
       "      <td>USD</td>\n",
       "    </tr>\n",
       "    <tr>\n",
       "      <th>1</th>\n",
       "      <td>DIS230120C00055000</td>\n",
       "      <td>2022-12-12</td>\n",
       "      <td>55.00</td>\n",
       "      <td>39.30</td>\n",
       "      <td>41.10</td>\n",
       "      <td>41.65</td>\n",
       "      <td>0.00</td>\n",
       "      <td>0.00</td>\n",
       "      <td>4.00</td>\n",
       "      <td>36</td>\n",
       "      <td>0.00</td>\n",
       "      <td>True</td>\n",
       "      <td>REGULAR</td>\n",
       "      <td>USD</td>\n",
       "    </tr>\n",
       "    <tr>\n",
       "      <th>2</th>\n",
       "      <td>DIS230120C00060000</td>\n",
       "      <td>2023-01-17</td>\n",
       "      <td>60.00</td>\n",
       "      <td>39.85</td>\n",
       "      <td>39.80</td>\n",
       "      <td>40.60</td>\n",
       "      <td>0.05</td>\n",
       "      <td>0.13</td>\n",
       "      <td>2.00</td>\n",
       "      <td>425</td>\n",
       "      <td>3.09</td>\n",
       "      <td>True</td>\n",
       "      <td>REGULAR</td>\n",
       "      <td>USD</td>\n",
       "    </tr>\n",
       "    <tr>\n",
       "      <th>3</th>\n",
       "      <td>DIS230120C00065000</td>\n",
       "      <td>2023-01-10</td>\n",
       "      <td>65.00</td>\n",
       "      <td>30.15</td>\n",
       "      <td>34.75</td>\n",
       "      <td>35.25</td>\n",
       "      <td>0.00</td>\n",
       "      <td>0.00</td>\n",
       "      <td>2.00</td>\n",
       "      <td>291</td>\n",
       "      <td>2.20</td>\n",
       "      <td>True</td>\n",
       "      <td>REGULAR</td>\n",
       "      <td>USD</td>\n",
       "    </tr>\n",
       "    <tr>\n",
       "      <th>4</th>\n",
       "      <td>DIS230120C00070000</td>\n",
       "      <td>2023-01-17</td>\n",
       "      <td>70.00</td>\n",
       "      <td>30.00</td>\n",
       "      <td>29.80</td>\n",
       "      <td>30.25</td>\n",
       "      <td>0.95</td>\n",
       "      <td>3.27</td>\n",
       "      <td>9.00</td>\n",
       "      <td>503</td>\n",
       "      <td>1.93</td>\n",
       "      <td>True</td>\n",
       "      <td>REGULAR</td>\n",
       "      <td>USD</td>\n",
       "    </tr>\n",
       "  </tbody>\n",
       "</table>"
      ],
      "text/plain": [
       "<IPython.core.display.HTML object>"
      ]
     },
     "metadata": {},
     "output_type": "display_data"
    },
    {
     "name": "stdout",
     "output_type": "stream",
     "text": [
      "\n"
     ]
    },
    {
     "data": {
      "text/html": [
       "<span style = 'display: block; width: 280.0px; \t\t\t\t\t\tline-height: 2; background: #333333;\t\t\t\t\t\tmargin-left: auto; margin-right: auto;\t\t\t\t\t\tborder: 1px solid text_color;\t\t\t\t\t\tborder-radius: 3px; text-align: center;\t\t\t\t\t\tpadding: 3px 8px 3px 8px;'>\t\t\t\t\t\t<b><font size=4><text style=color:white>Disney Call Options: tail(5)\t\t\t\t\t\t</text></font></b></style>"
      ],
      "text/plain": [
       "<IPython.core.display.HTML object>"
      ]
     },
     "metadata": {},
     "output_type": "display_data"
    },
    {
     "data": {
      "text/html": [
       "<center><table border=\"1\" class=\"dataframe\">\n",
       "  <thead>\n",
       "    <tr style=\"text-align: right;\">\n",
       "      <th></th>\n",
       "      <th>contractSymbol</th>\n",
       "      <th>lastTradeDate</th>\n",
       "      <th>strike</th>\n",
       "      <th>lastPrice</th>\n",
       "      <th>bid</th>\n",
       "      <th>ask</th>\n",
       "      <th>change</th>\n",
       "      <th>percentChange</th>\n",
       "      <th>volume</th>\n",
       "      <th>openInterest</th>\n",
       "      <th>impliedVolatility</th>\n",
       "      <th>inTheMoney</th>\n",
       "      <th>contractSize</th>\n",
       "      <th>currency</th>\n",
       "    </tr>\n",
       "  </thead>\n",
       "  <tbody>\n",
       "    <tr>\n",
       "      <th>67</th>\n",
       "      <td>DIS230120C00250000</td>\n",
       "      <td>2023-01-17</td>\n",
       "      <td>250.00</td>\n",
       "      <td>0.01</td>\n",
       "      <td>0.00</td>\n",
       "      <td>0.01</td>\n",
       "      <td>0.00</td>\n",
       "      <td>0.00</td>\n",
       "      <td>10.00</td>\n",
       "      <td>7351</td>\n",
       "      <td>3.00</td>\n",
       "      <td>False</td>\n",
       "      <td>REGULAR</td>\n",
       "      <td>USD</td>\n",
       "    </tr>\n",
       "    <tr>\n",
       "      <th>68</th>\n",
       "      <td>DIS230120C00260000</td>\n",
       "      <td>2023-01-17</td>\n",
       "      <td>260.00</td>\n",
       "      <td>0.01</td>\n",
       "      <td>0.00</td>\n",
       "      <td>0.01</td>\n",
       "      <td>0.00</td>\n",
       "      <td>0.00</td>\n",
       "      <td>8.00</td>\n",
       "      <td>2405</td>\n",
       "      <td>3.13</td>\n",
       "      <td>False</td>\n",
       "      <td>REGULAR</td>\n",
       "      <td>USD</td>\n",
       "    </tr>\n",
       "    <tr>\n",
       "      <th>69</th>\n",
       "      <td>DIS230120C00270000</td>\n",
       "      <td>2022-11-03</td>\n",
       "      <td>270.00</td>\n",
       "      <td>0.01</td>\n",
       "      <td>0.00</td>\n",
       "      <td>0.01</td>\n",
       "      <td>0.00</td>\n",
       "      <td>0.00</td>\n",
       "      <td>100.00</td>\n",
       "      <td>1742</td>\n",
       "      <td>3.25</td>\n",
       "      <td>False</td>\n",
       "      <td>REGULAR</td>\n",
       "      <td>USD</td>\n",
       "    </tr>\n",
       "    <tr>\n",
       "      <th>70</th>\n",
       "      <td>DIS230120C00280000</td>\n",
       "      <td>2023-01-17</td>\n",
       "      <td>280.00</td>\n",
       "      <td>0.01</td>\n",
       "      <td>0.00</td>\n",
       "      <td>0.01</td>\n",
       "      <td>0.00</td>\n",
       "      <td>0.00</td>\n",
       "      <td>20.00</td>\n",
       "      <td>2972</td>\n",
       "      <td>3.38</td>\n",
       "      <td>False</td>\n",
       "      <td>REGULAR</td>\n",
       "      <td>USD</td>\n",
       "    </tr>\n",
       "    <tr>\n",
       "      <th>71</th>\n",
       "      <td>DIS230120C00290000</td>\n",
       "      <td>2023-01-17</td>\n",
       "      <td>290.00</td>\n",
       "      <td>0.01</td>\n",
       "      <td>0.00</td>\n",
       "      <td>0.00</td>\n",
       "      <td>0.00</td>\n",
       "      <td>0.00</td>\n",
       "      <td>1.00</td>\n",
       "      <td>9007</td>\n",
       "      <td>0.50</td>\n",
       "      <td>False</td>\n",
       "      <td>REGULAR</td>\n",
       "      <td>USD</td>\n",
       "    </tr>\n",
       "  </tbody>\n",
       "</table>"
      ],
      "text/plain": [
       "<IPython.core.display.HTML object>"
      ]
     },
     "metadata": {},
     "output_type": "display_data"
    },
    {
     "name": "stdout",
     "output_type": "stream",
     "text": [
      "\n"
     ]
    }
   ],
   "source": [
    "disney_calls = disney.option_chain()[0]\n",
    "head_tail_vert(disney_calls, 5, \"Disney Call Options\")"
   ]
  },
  {
   "cell_type": "markdown",
   "id": "e6e1dffc-c58c-48bf-9a25-6855646d1707",
   "metadata": {},
   "source": [
    "<font size = 4><span style = 'background-color: #ddddff; padding: 5px 5px 3px 5px; line-height: 1.5; color:black;border-radius: 3px;'>**⊛ Disney Put Options**:"
   ]
  },
  {
   "cell_type": "code",
   "execution_count": 141,
   "id": "6c8db5e1-37d4-4899-9f85-2cc00f79f64e",
   "metadata": {},
   "outputs": [
    {
     "name": "stdout",
     "output_type": "stream",
     "text": [
      "\n"
     ]
    },
    {
     "data": {
      "text/html": [
       "<span style = 'display: block; width: 270.0px; \t\t\t\t\t\tline-height: 2; background: #333333;\t\t\t\t\t\tmargin-left: auto; margin-right: auto;\t\t\t\t\t\tborder: 1px solid text_color;\t\t\t\t\t\tborder-radius: 3px; text-align: center;\t\t\t\t\t\tpadding: 3px 8px 3px 8px;'>\t\t\t\t\t\t<b><font size=4><text style=color:white>Disney Put Options: head(5)\t\t\t\t\t\t</text></font></b></style>"
      ],
      "text/plain": [
       "<IPython.core.display.HTML object>"
      ]
     },
     "metadata": {},
     "output_type": "display_data"
    },
    {
     "data": {
      "text/html": [
       "<center><table border=\"1\" class=\"dataframe\">\n",
       "  <thead>\n",
       "    <tr style=\"text-align: right;\">\n",
       "      <th></th>\n",
       "      <th>contractSymbol</th>\n",
       "      <th>lastTradeDate</th>\n",
       "      <th>strike</th>\n",
       "      <th>lastPrice</th>\n",
       "      <th>bid</th>\n",
       "      <th>ask</th>\n",
       "      <th>change</th>\n",
       "      <th>percentChange</th>\n",
       "      <th>volume</th>\n",
       "      <th>openInterest</th>\n",
       "      <th>impliedVolatility</th>\n",
       "      <th>inTheMoney</th>\n",
       "      <th>contractSize</th>\n",
       "      <th>currency</th>\n",
       "    </tr>\n",
       "  </thead>\n",
       "  <tbody>\n",
       "    <tr>\n",
       "      <th>0</th>\n",
       "      <td>DIS230120P00050000</td>\n",
       "      <td>2023-01-11</td>\n",
       "      <td>50.00</td>\n",
       "      <td>0.01</td>\n",
       "      <td>0.00</td>\n",
       "      <td>0.01</td>\n",
       "      <td>0.00</td>\n",
       "      <td>0.00</td>\n",
       "      <td>14</td>\n",
       "      <td>4204</td>\n",
       "      <td>2.50</td>\n",
       "      <td>False</td>\n",
       "      <td>REGULAR</td>\n",
       "      <td>USD</td>\n",
       "    </tr>\n",
       "    <tr>\n",
       "      <th>1</th>\n",
       "      <td>DIS230120P00055000</td>\n",
       "      <td>2023-01-04</td>\n",
       "      <td>55.00</td>\n",
       "      <td>0.01</td>\n",
       "      <td>0.00</td>\n",
       "      <td>0.01</td>\n",
       "      <td>0.00</td>\n",
       "      <td>0.00</td>\n",
       "      <td>10</td>\n",
       "      <td>1133</td>\n",
       "      <td>2.19</td>\n",
       "      <td>False</td>\n",
       "      <td>REGULAR</td>\n",
       "      <td>USD</td>\n",
       "    </tr>\n",
       "    <tr>\n",
       "      <th>2</th>\n",
       "      <td>DIS230120P00060000</td>\n",
       "      <td>2023-01-11</td>\n",
       "      <td>60.00</td>\n",
       "      <td>0.01</td>\n",
       "      <td>0.00</td>\n",
       "      <td>0.01</td>\n",
       "      <td>0.00</td>\n",
       "      <td>0.00</td>\n",
       "      <td>2</td>\n",
       "      <td>2617</td>\n",
       "      <td>1.88</td>\n",
       "      <td>False</td>\n",
       "      <td>REGULAR</td>\n",
       "      <td>USD</td>\n",
       "    </tr>\n",
       "    <tr>\n",
       "      <th>3</th>\n",
       "      <td>DIS230120P00065000</td>\n",
       "      <td>2023-01-13</td>\n",
       "      <td>65.00</td>\n",
       "      <td>0.01</td>\n",
       "      <td>0.00</td>\n",
       "      <td>0.01</td>\n",
       "      <td>0.00</td>\n",
       "      <td>0.00</td>\n",
       "      <td>417</td>\n",
       "      <td>9615</td>\n",
       "      <td>1.59</td>\n",
       "      <td>False</td>\n",
       "      <td>REGULAR</td>\n",
       "      <td>USD</td>\n",
       "    </tr>\n",
       "    <tr>\n",
       "      <th>4</th>\n",
       "      <td>DIS230120P00070000</td>\n",
       "      <td>2023-01-17</td>\n",
       "      <td>70.00</td>\n",
       "      <td>0.01</td>\n",
       "      <td>0.00</td>\n",
       "      <td>0.01</td>\n",
       "      <td>0.00</td>\n",
       "      <td>0.00</td>\n",
       "      <td>1</td>\n",
       "      <td>8822</td>\n",
       "      <td>1.34</td>\n",
       "      <td>False</td>\n",
       "      <td>REGULAR</td>\n",
       "      <td>USD</td>\n",
       "    </tr>\n",
       "  </tbody>\n",
       "</table>"
      ],
      "text/plain": [
       "<IPython.core.display.HTML object>"
      ]
     },
     "metadata": {},
     "output_type": "display_data"
    },
    {
     "name": "stdout",
     "output_type": "stream",
     "text": [
      "\n"
     ]
    },
    {
     "data": {
      "text/html": [
       "<span style = 'display: block; width: 270.0px; \t\t\t\t\t\tline-height: 2; background: #333333;\t\t\t\t\t\tmargin-left: auto; margin-right: auto;\t\t\t\t\t\tborder: 1px solid text_color;\t\t\t\t\t\tborder-radius: 3px; text-align: center;\t\t\t\t\t\tpadding: 3px 8px 3px 8px;'>\t\t\t\t\t\t<b><font size=4><text style=color:white>Disney Put Options: tail(5)\t\t\t\t\t\t</text></font></b></style>"
      ],
      "text/plain": [
       "<IPython.core.display.HTML object>"
      ]
     },
     "metadata": {},
     "output_type": "display_data"
    },
    {
     "data": {
      "text/html": [
       "<center><table border=\"1\" class=\"dataframe\">\n",
       "  <thead>\n",
       "    <tr style=\"text-align: right;\">\n",
       "      <th></th>\n",
       "      <th>contractSymbol</th>\n",
       "      <th>lastTradeDate</th>\n",
       "      <th>strike</th>\n",
       "      <th>lastPrice</th>\n",
       "      <th>bid</th>\n",
       "      <th>ask</th>\n",
       "      <th>change</th>\n",
       "      <th>percentChange</th>\n",
       "      <th>volume</th>\n",
       "      <th>openInterest</th>\n",
       "      <th>impliedVolatility</th>\n",
       "      <th>inTheMoney</th>\n",
       "      <th>contractSize</th>\n",
       "      <th>currency</th>\n",
       "    </tr>\n",
       "  </thead>\n",
       "  <tbody>\n",
       "    <tr>\n",
       "      <th>61</th>\n",
       "      <td>DIS230120P00250000</td>\n",
       "      <td>2022-12-01</td>\n",
       "      <td>250.00</td>\n",
       "      <td>153.10</td>\n",
       "      <td>162.70</td>\n",
       "      <td>163.55</td>\n",
       "      <td>0.00</td>\n",
       "      <td>0.00</td>\n",
       "      <td>2</td>\n",
       "      <td>0</td>\n",
       "      <td>10.66</td>\n",
       "      <td>True</td>\n",
       "      <td>REGULAR</td>\n",
       "      <td>USD</td>\n",
       "    </tr>\n",
       "    <tr>\n",
       "      <th>62</th>\n",
       "      <td>DIS230120P00260000</td>\n",
       "      <td>2022-09-14</td>\n",
       "      <td>260.00</td>\n",
       "      <td>148.15</td>\n",
       "      <td>164.85</td>\n",
       "      <td>165.55</td>\n",
       "      <td>0.00</td>\n",
       "      <td>0.00</td>\n",
       "      <td>125</td>\n",
       "      <td>0</td>\n",
       "      <td>8.10</td>\n",
       "      <td>True</td>\n",
       "      <td>REGULAR</td>\n",
       "      <td>USD</td>\n",
       "    </tr>\n",
       "    <tr>\n",
       "      <th>63</th>\n",
       "      <td>DIS230120P00270000</td>\n",
       "      <td>2022-12-01</td>\n",
       "      <td>270.00</td>\n",
       "      <td>173.10</td>\n",
       "      <td>182.55</td>\n",
       "      <td>183.60</td>\n",
       "      <td>0.00</td>\n",
       "      <td>0.00</td>\n",
       "      <td>15</td>\n",
       "      <td>0</td>\n",
       "      <td>11.09</td>\n",
       "      <td>True</td>\n",
       "      <td>REGULAR</td>\n",
       "      <td>USD</td>\n",
       "    </tr>\n",
       "    <tr>\n",
       "      <th>64</th>\n",
       "      <td>DIS230120P00280000</td>\n",
       "      <td>2022-11-17</td>\n",
       "      <td>280.00</td>\n",
       "      <td>188.80</td>\n",
       "      <td>189.10</td>\n",
       "      <td>190.35</td>\n",
       "      <td>0.00</td>\n",
       "      <td>0.00</td>\n",
       "      <td>34</td>\n",
       "      <td>0</td>\n",
       "      <td>10.21</td>\n",
       "      <td>True</td>\n",
       "      <td>REGULAR</td>\n",
       "      <td>USD</td>\n",
       "    </tr>\n",
       "    <tr>\n",
       "      <th>65</th>\n",
       "      <td>DIS230120P00290000</td>\n",
       "      <td>2023-01-13</td>\n",
       "      <td>290.00</td>\n",
       "      <td>190.85</td>\n",
       "      <td>189.15</td>\n",
       "      <td>191.05</td>\n",
       "      <td>0.00</td>\n",
       "      <td>0.00</td>\n",
       "      <td>2</td>\n",
       "      <td>1</td>\n",
       "      <td>3.69</td>\n",
       "      <td>True</td>\n",
       "      <td>REGULAR</td>\n",
       "      <td>USD</td>\n",
       "    </tr>\n",
       "  </tbody>\n",
       "</table>"
      ],
      "text/plain": [
       "<IPython.core.display.HTML object>"
      ]
     },
     "metadata": {},
     "output_type": "display_data"
    },
    {
     "name": "stdout",
     "output_type": "stream",
     "text": [
      "\n"
     ]
    }
   ],
   "source": [
    "disney_puts = disney.option_chain()[1]\n",
    "head_tail_vert(disney_puts, 5, \"Disney Put Options\")"
   ]
  },
  {
   "cell_type": "markdown",
   "id": "d084ef34-fc96-4966-a2fa-7f60980ed3e8",
   "metadata": {},
   "source": [
    "<a name = 'streaming_real_time'></a>\n",
    "\n",
    "---\n",
    "\n",
    "**Sections:**  ●  [Top](#top)  ●  [Download & Import](#downloading_importing)  ●  [Historical Data](#historical_data)  ●  [Setting Date Range](#date_range)  ●  [High Frenquency](#high_frequency)   ●  [Splits & Dividends](#splits_dividends)   ●  [Exporting](#exporting)   ●  [Multiple Stocks](#multiple_stocks)   ●  [Importing Indexes](#importing_indexes)   ●  [Currency Exchange](#currency_exchange)   ●  [Cryptocurrencies](#cryptocurrencies)   ●  [Mutual Funds & Exchange Traded Funds](#mututal_funds)   ●  [Treasury Yields](#treasury_yields)   ●  [Ticker Object & Docs](#ticker_object)   ●  [Stock Fundamentals](#stock_fundamentals)   ●  [Importing Financials](#importing_financials)   ●  [Importing Put & Call](#put_call)   ●  [Streaming Real-Time](#streaming_real_time)\n",
    "\n",
    "---\n",
    "\n",
    "<span style = 'background-color: purple; padding: 5px 5px 3px 5px; line-height: 1.5; color:white;border-radius: 3px;'><font size = 4>**▻ Streaming Real-Time Data**</font></span>"
   ]
  },
  {
   "cell_type": "code",
   "execution_count": 9,
   "id": "7faacf1d-3f89-449a-96f4-361c2ce7a1ba",
   "metadata": {},
   "outputs": [],
   "source": [
    "import_all()\n",
    "import time"
   ]
  },
  {
   "cell_type": "markdown",
   "id": "6d85894f-ecc5-4540-98a7-42c2bd8fcfc6",
   "metadata": {},
   "source": [
    "<font size = 4><span style = 'background-color: #ddddff; padding: 5px 5px 3px 5px; line-height: 1.5; color:black;border-radius: 3px;'>⊛ Creating a simple **live-stream for Euro-USD**"
   ]
  },
  {
   "cell_type": "code",
   "execution_count": 10,
   "id": "b383f0ed-4618-4a62-97e2-efe7c6a2715f",
   "metadata": {},
   "outputs": [
    {
     "name": "stdout",
     "output_type": "stream",
     "text": [
      "[*********************100%***********************]  1 of 1 completed\n"
     ]
    },
    {
     "data": {
      "text/html": [
       "<div>\n",
       "<style scoped>\n",
       "    .dataframe tbody tr th:only-of-type {\n",
       "        vertical-align: middle;\n",
       "    }\n",
       "\n",
       "    .dataframe tbody tr th {\n",
       "        vertical-align: top;\n",
       "    }\n",
       "\n",
       "    .dataframe thead th {\n",
       "        text-align: right;\n",
       "    }\n",
       "</style>\n",
       "<table border=\"1\" class=\"dataframe\">\n",
       "  <thead>\n",
       "    <tr style=\"text-align: right;\">\n",
       "      <th></th>\n",
       "      <th>Open</th>\n",
       "      <th>High</th>\n",
       "      <th>Low</th>\n",
       "      <th>Close</th>\n",
       "      <th>Adj Close</th>\n",
       "      <th>Volume</th>\n",
       "    </tr>\n",
       "    <tr>\n",
       "      <th>Datetime</th>\n",
       "      <th></th>\n",
       "      <th></th>\n",
       "      <th></th>\n",
       "      <th></th>\n",
       "      <th></th>\n",
       "      <th></th>\n",
       "    </tr>\n",
       "  </thead>\n",
       "  <tbody>\n",
       "    <tr>\n",
       "      <th>2023-01-18 20:37:00+00:00</th>\n",
       "      <td>1.08</td>\n",
       "      <td>1.08</td>\n",
       "      <td>1.08</td>\n",
       "      <td>1.08</td>\n",
       "      <td>1.08</td>\n",
       "      <td>0</td>\n",
       "    </tr>\n",
       "    <tr>\n",
       "      <th>2023-01-18 20:38:00+00:00</th>\n",
       "      <td>1.08</td>\n",
       "      <td>1.08</td>\n",
       "      <td>1.08</td>\n",
       "      <td>1.08</td>\n",
       "      <td>1.08</td>\n",
       "      <td>0</td>\n",
       "    </tr>\n",
       "    <tr>\n",
       "      <th>2023-01-18 20:39:00+00:00</th>\n",
       "      <td>1.08</td>\n",
       "      <td>1.08</td>\n",
       "      <td>1.08</td>\n",
       "      <td>1.08</td>\n",
       "      <td>1.08</td>\n",
       "      <td>0</td>\n",
       "    </tr>\n",
       "    <tr>\n",
       "      <th>2023-01-18 20:40:00+00:00</th>\n",
       "      <td>1.08</td>\n",
       "      <td>1.08</td>\n",
       "      <td>1.08</td>\n",
       "      <td>1.08</td>\n",
       "      <td>1.08</td>\n",
       "      <td>0</td>\n",
       "    </tr>\n",
       "    <tr>\n",
       "      <th>2023-01-18 20:41:00+00:00</th>\n",
       "      <td>1.08</td>\n",
       "      <td>1.08</td>\n",
       "      <td>1.08</td>\n",
       "      <td>1.08</td>\n",
       "      <td>1.08</td>\n",
       "      <td>0</td>\n",
       "    </tr>\n",
       "  </tbody>\n",
       "</table>\n",
       "</div>"
      ],
      "text/plain": [
       "                           Open  High  Low  Close  Adj Close  Volume\n",
       "Datetime                                                            \n",
       "2023-01-18 20:37:00+00:00  1.08  1.08 1.08   1.08       1.08       0\n",
       "2023-01-18 20:38:00+00:00  1.08  1.08 1.08   1.08       1.08       0\n",
       "2023-01-18 20:39:00+00:00  1.08  1.08 1.08   1.08       1.08       0\n",
       "2023-01-18 20:40:00+00:00  1.08  1.08 1.08   1.08       1.08       0\n",
       "2023-01-18 20:41:00+00:00  1.08  1.08 1.08   1.08       1.08       0"
      ]
     },
     "execution_count": 10,
     "metadata": {},
     "output_type": "execute_result"
    }
   ],
   "source": [
    "yf.download(\"EURUSD=X\", interval = \"1m\", period = \"1d\").tail(5)"
   ]
  },
  {
   "cell_type": "code",
   "execution_count": 11,
   "id": "9cf8b847-dc19-45bb-96e6-3e8c49b0b9d7",
   "metadata": {},
   "outputs": [
    {
     "name": "stdout",
     "output_type": "stream",
     "text": [
      "[*********************100%***********************]  1 of 1 completed\n"
     ]
    }
   ],
   "source": [
    "stream_eurusd = yf.download(\"EURUSD=X\", interval = \"1m\", period = \"1d\")"
   ]
  },
  {
   "cell_type": "markdown",
   "id": "0953ec2b-8029-442a-80d3-52e8cf5378e0",
   "metadata": {},
   "source": [
    "<font size = 4><span style = 'background-color: #ddddff; padding: 5px 5px 3px 5px; line-height: 1.5; color:black;border-radius: 3px;'>Getting the most recent data:\n",
    "* last row of data, close column"
   ]
  },
  {
   "cell_type": "markdown",
   "id": "3840223c-9c21-4752-b66f-1dcc69564877",
   "metadata": {},
   "source": [
    "<font size = 4><span style = 'background-color: #ddddff; padding: 5px 5px 3px 5px; line-height: 1.5; color:black;border-radius: 3px;'>**⊛ Automating** with a while-loop\n",
    "* the `5` passed to `time()` denotes how many seconds to wait before running the code again"
   ]
  },
  {
   "cell_type": "code",
   "execution_count": 12,
   "id": "f53a2370-beae-43c9-803b-5dd034c1cd87",
   "metadata": {},
   "outputs": [],
   "source": [
    "# while True:\n",
    "# \ttime.sleep(5)\n",
    "# \tstream_eurusd = yf.download(\"EURUSD=X\", interval = \"1m\", period = \"1d\")\n",
    "# \tsee((stream_eurusd.index[-1],stream_eurusd.iloc[-1, 3]))"
   ]
  },
  {
   "cell_type": "markdown",
   "id": "45cc48fd-a8ce-4e3d-b2d7-5ac4c37063bd",
   "metadata": {},
   "source": [
    "<font size = 4><span style = 'background-color: #ddddff; padding: 5px 5px 3px 5px; line-height: 1.5; color:black;border-radius: 3px;'>**⊛ Function to get live-stream any ticker**: "
   ]
  },
  {
   "cell_type": "code",
   "execution_count": 13,
   "id": "ba5fdcb2-090f-423d-a372-fb125c3e97d8",
   "metadata": {},
   "outputs": [],
   "source": [
    "def live_stream(ticker, delay=60, iterations=10, \n",
    "\t\t\t\tcurrency=\"dollars\", month=\"name\"):\n",
    "\t\n",
    "\tdef timestamp_to_local(timestamp):\n",
    "\t\ttimestamp = pd.to_datetime(timestamp, utc=True).tz_convert('US/Eastern')\n",
    "\t\treturn timestamp\n",
    "\n",
    "\tsee(f\"The following is the data for {ticker} every {delay} seconds for {delay * iterations:,} seconds.\")\n",
    "\n",
    "\tfor iteration in range(iterations):\n",
    "\t\ttime.sleep(delay)\n",
    "\t\tstream = yf.download(ticker, interval = \"1m\", period = \"1d\")\n",
    "\t\t\n",
    "\t\ttime_stamp = timestamp_to_local(stream.index[-1])\n",
    "\n",
    "\t\tif currency == \"dollars\":\n",
    "\t\t\tprice = f\"${stream.iloc[-1, 3]:.4f}\"\n",
    "\t\telse:\n",
    "\t\t\tprice = f\"{stream.iloc[-1, 3]:.4f}\"\n",
    "\n",
    "\t\tif month == \"name\":\n",
    "\t\t\tsee(f\"{ticker}: {price} {currency} at\\\n",
    "\t\t\t{time_stamp.strftime('%-H:%M')} on {time_stamp.strftime('%B %d, %Y')}.\")\n",
    "\n",
    "\n",
    "\t\telse:\n",
    "\t\t\tsee(f\"{ticker}: {price} {currency} at\\\n",
    "\t\t\t{time_stamp.strftime('%-H:%M')} on {time_stamp.strftime('%-m/%d/%Y')}.\")"
   ]
  },
  {
   "cell_type": "code",
   "execution_count": 15,
   "id": "7ade98a7-5496-40ad-ad40-20a82fb52fbd",
   "metadata": {},
   "outputs": [
    {
     "data": {
      "text/html": [
       "<span style = 'line-height: 1.5;                                 background: #444444; width: None;                                 border: 1px solid text_color;                                border-radius: 0px; text-align: center;                                padding: 5px;'>                                <b><font size=3><text style=color:white>The following is the data for NVDA every 10 seconds for 100 seconds.                                </text></font></b></style>"
      ],
      "text/plain": [
       "<IPython.core.display.HTML object>"
      ]
     },
     "metadata": {},
     "output_type": "display_data"
    },
    {
     "name": "stdout",
     "output_type": "stream",
     "text": [
      "\n",
      "[*********************100%***********************]  1 of 1 completed\n"
     ]
    },
    {
     "data": {
      "text/html": [
       "<span style = 'line-height: 1.5;                                 background: #444444; width: None;                                 border: 1px solid text_color;                                border-radius: 0px; text-align: center;                                padding: 5px;'>                                <b><font size=3><text style=color:white>NVDA: $174.5500 dollars at\t\t\t15:44 on January 18, 2023.                                </text></font></b></style>"
      ],
      "text/plain": [
       "<IPython.core.display.HTML object>"
      ]
     },
     "metadata": {},
     "output_type": "display_data"
    },
    {
     "name": "stdout",
     "output_type": "stream",
     "text": [
      "\n",
      "[*********************100%***********************]  1 of 1 completed\n"
     ]
    },
    {
     "data": {
      "text/html": [
       "<span style = 'line-height: 1.5;                                 background: #444444; width: None;                                 border: 1px solid text_color;                                border-radius: 0px; text-align: center;                                padding: 5px;'>                                <b><font size=3><text style=color:white>NVDA: $174.6200 dollars at\t\t\t15:44 on January 18, 2023.                                </text></font></b></style>"
      ],
      "text/plain": [
       "<IPython.core.display.HTML object>"
      ]
     },
     "metadata": {},
     "output_type": "display_data"
    },
    {
     "name": "stdout",
     "output_type": "stream",
     "text": [
      "\n",
      "[*********************100%***********************]  1 of 1 completed\n"
     ]
    },
    {
     "data": {
      "text/html": [
       "<span style = 'line-height: 1.5;                                 background: #444444; width: None;                                 border: 1px solid text_color;                                border-radius: 0px; text-align: center;                                padding: 5px;'>                                <b><font size=3><text style=color:white>NVDA: $174.7300 dollars at\t\t\t15:44 on January 18, 2023.                                </text></font></b></style>"
      ],
      "text/plain": [
       "<IPython.core.display.HTML object>"
      ]
     },
     "metadata": {},
     "output_type": "display_data"
    },
    {
     "name": "stdout",
     "output_type": "stream",
     "text": [
      "\n",
      "[*********************100%***********************]  1 of 1 completed\n"
     ]
    },
    {
     "data": {
      "text/html": [
       "<span style = 'line-height: 1.5;                                 background: #444444; width: None;                                 border: 1px solid text_color;                                border-radius: 0px; text-align: center;                                padding: 5px;'>                                <b><font size=3><text style=color:white>NVDA: $174.5700 dollars at\t\t\t15:44 on January 18, 2023.                                </text></font></b></style>"
      ],
      "text/plain": [
       "<IPython.core.display.HTML object>"
      ]
     },
     "metadata": {},
     "output_type": "display_data"
    },
    {
     "name": "stdout",
     "output_type": "stream",
     "text": [
      "\n",
      "[*********************100%***********************]  1 of 1 completed\n"
     ]
    },
    {
     "data": {
      "text/html": [
       "<span style = 'line-height: 1.5;                                 background: #444444; width: None;                                 border: 1px solid text_color;                                border-radius: 0px; text-align: center;                                padding: 5px;'>                                <b><font size=3><text style=color:white>NVDA: $174.5500 dollars at\t\t\t15:44 on January 18, 2023.                                </text></font></b></style>"
      ],
      "text/plain": [
       "<IPython.core.display.HTML object>"
      ]
     },
     "metadata": {},
     "output_type": "display_data"
    },
    {
     "name": "stdout",
     "output_type": "stream",
     "text": [
      "\n",
      "[*********************100%***********************]  1 of 1 completed\n"
     ]
    },
    {
     "data": {
      "text/html": [
       "<span style = 'line-height: 1.5;                                 background: #444444; width: None;                                 border: 1px solid text_color;                                border-radius: 0px; text-align: center;                                padding: 5px;'>                                <b><font size=3><text style=color:white>NVDA: $174.5800 dollars at\t\t\t15:44 on January 18, 2023.                                </text></font></b></style>"
      ],
      "text/plain": [
       "<IPython.core.display.HTML object>"
      ]
     },
     "metadata": {},
     "output_type": "display_data"
    },
    {
     "name": "stdout",
     "output_type": "stream",
     "text": [
      "\n",
      "[*********************100%***********************]  1 of 1 completed\n"
     ]
    },
    {
     "data": {
      "text/html": [
       "<span style = 'line-height: 1.5;                                 background: #444444; width: None;                                 border: 1px solid text_color;                                border-radius: 0px; text-align: center;                                padding: 5px;'>                                <b><font size=3><text style=color:white>NVDA: $174.5800 dollars at\t\t\t15:44 on January 18, 2023.                                </text></font></b></style>"
      ],
      "text/plain": [
       "<IPython.core.display.HTML object>"
      ]
     },
     "metadata": {},
     "output_type": "display_data"
    },
    {
     "name": "stdout",
     "output_type": "stream",
     "text": [
      "\n",
      "[*********************100%***********************]  1 of 1 completed\n"
     ]
    },
    {
     "data": {
      "text/html": [
       "<span style = 'line-height: 1.5;                                 background: #444444; width: None;                                 border: 1px solid text_color;                                border-radius: 0px; text-align: center;                                padding: 5px;'>                                <b><font size=3><text style=color:white>NVDA: $174.8740 dollars at\t\t\t15:45 on January 18, 2023.                                </text></font></b></style>"
      ],
      "text/plain": [
       "<IPython.core.display.HTML object>"
      ]
     },
     "metadata": {},
     "output_type": "display_data"
    },
    {
     "name": "stdout",
     "output_type": "stream",
     "text": [
      "\n",
      "[*********************100%***********************]  1 of 1 completed\n"
     ]
    },
    {
     "data": {
      "text/html": [
       "<span style = 'line-height: 1.5;                                 background: #444444; width: None;                                 border: 1px solid text_color;                                border-radius: 0px; text-align: center;                                padding: 5px;'>                                <b><font size=3><text style=color:white>NVDA: $174.9380 dollars at\t\t\t15:45 on January 18, 2023.                                </text></font></b></style>"
      ],
      "text/plain": [
       "<IPython.core.display.HTML object>"
      ]
     },
     "metadata": {},
     "output_type": "display_data"
    },
    {
     "name": "stdout",
     "output_type": "stream",
     "text": [
      "\n",
      "[*********************100%***********************]  1 of 1 completed\n"
     ]
    },
    {
     "data": {
      "text/html": [
       "<span style = 'line-height: 1.5;                                 background: #444444; width: None;                                 border: 1px solid text_color;                                border-radius: 0px; text-align: center;                                padding: 5px;'>                                <b><font size=3><text style=color:white>NVDA: $174.9200 dollars at\t\t\t15:45 on January 18, 2023.                                </text></font></b></style>"
      ],
      "text/plain": [
       "<IPython.core.display.HTML object>"
      ]
     },
     "metadata": {},
     "output_type": "display_data"
    },
    {
     "name": "stdout",
     "output_type": "stream",
     "text": [
      "\n"
     ]
    }
   ],
   "source": [
    "live_stream(\"NVDA\", 10, 10)"
   ]
  },
  {
   "cell_type": "markdown",
   "id": "5d06f31b-74b5-42ac-9119-03fc73a7f553",
   "metadata": {},
   "source": [
    "---\n",
    "\n",
    "**Sections:**  ●  [Top](#top)  ●  [Download & Import](#downloading_importing)  ●  [Historical Data](#historical_data)  ●  [Setting Date Range](#date_range)  ●  [High Frenquency](#high_frequency)   ●  [Splits & Dividends](#splits_dividends)   ●  [Exporting](#exporting)   ●  [Multiple Stocks](#multiple_stocks)   ●  [Importing Indexes](#importing_indexes)   ●  [Currency Exchange](#currency_exchange)   ●  [Cryptocurrencies](#cryptocurrencies)   ●  [Mutual Funds & Exchange Traded Funds](#mututal_funds)   ●  [Treasury Yields](#treasury_yields)   ●  [Ticker Object & Docs](#ticker_object)   ●  [Stock Fundamentals](#stock_fundamentals)   ●  [Importing Financials](#importing_financials)   ●  [Importing Put & Call](#put_call)   ●  [Streaming Real-Time](#streaming_real_time)\n",
    "\n",
    "---"
   ]
  }
 ],
 "metadata": {
  "kernelspec": {
   "display_name": "Python 3 (ipykernel)",
   "language": "python",
   "name": "python3"
  },
  "language_info": {
   "codemirror_mode": {
    "name": "ipython",
    "version": 3
   },
   "file_extension": ".py",
   "mimetype": "text/x-python",
   "name": "python",
   "nbconvert_exporter": "python",
   "pygments_lexer": "ipython3",
   "version": "3.10.4"
  }
 },
 "nbformat": 4,
 "nbformat_minor": 5
}
